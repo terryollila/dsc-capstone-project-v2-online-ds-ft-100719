{
 "cells": [
  {
   "cell_type": "code",
   "execution_count": 44,
   "metadata": {},
   "outputs": [],
   "source": [
    "import pandas as pd\n",
    "import requests\n",
    "import time\n",
    "import re\n",
    "\n",
    "from bs4 import BeautifulSoup"
   ]
  },
  {
   "cell_type": "code",
   "execution_count": 37,
   "metadata": {},
   "outputs": [],
   "source": [
    "import functions as fun"
   ]
  },
  {
   "cell_type": "markdown",
   "metadata": {},
   "source": [
    "# Obtaining Data"
   ]
  },
  {
   "cell_type": "markdown",
   "metadata": {},
   "source": [
    "**Note that much of the following code will be commented out to reduce runtime. DataFrames will be saved as .csv files accordingly.**"
   ]
  },
  {
   "cell_type": "markdown",
   "metadata": {},
   "source": [
    "## Rating Data"
   ]
  },
  {
   "cell_type": "markdown",
   "metadata": {},
   "source": [
    "This is actually my third attempt at pulling in the movie info and modeling it. Previously, I had used rottentomatoes.com and imdb.com for best and worst movie info, but they both had their problems. I had gotten all the way through modeling through neural networds before moving on the below strategy, which worked out well."
   ]
  },
  {
   "cell_type": "markdown",
   "metadata": {},
   "source": [
    "### Sraping metacritic.com"
   ]
  },
  {
   "cell_type": "markdown",
   "metadata": {},
   "source": [
    "Metacritic data will be used for classification."
   ]
  },
  {
   "cell_type": "code",
   "execution_count": 10,
   "metadata": {},
   "outputs": [],
   "source": [
    "goods_titles = []\n",
    "\n",
    "for i in range(0,20):\n",
    "    # There are 10 pages to flip through of 100 movies each.\n",
    "    page = requests.get(\n",
    "        'https://www.metacritic.com/browse/movies/score/metascore/all/filtered?page={}'.format(i),\n",
    "        headers={'User-Agent': 'Chrome/80.0.3987.116'})\n",
    "    soup = BeautifulSoup(page.content, 'html.parser')\n",
    "    \n",
    "    # Now that we've gotten the content from the page, we need to loop through each element.\n",
    "    for i in range(0,100,1):\n",
    "        title = soup.find_all('span', class_=\"title numbered\")[i]\\\n",
    "            .next_sibling.next_sibling.contents[1].contents[0]\n",
    "        goods_titles.append(title)\n",
    "    \n",
    "    # We're only pinging 10 times but might as well be safe since it costs like\n",
    "    # nothing.\n",
    "    time.sleep(1)"
   ]
  },
  {
   "cell_type": "code",
   "execution_count": 11,
   "metadata": {},
   "outputs": [
    {
     "data": {
      "text/plain": [
       "2000"
      ]
     },
     "execution_count": 11,
     "metadata": {},
     "output_type": "execute_result"
    }
   ],
   "source": [
    "len(goods_titles)"
   ]
  },
  {
   "cell_type": "code",
   "execution_count": 12,
   "metadata": {},
   "outputs": [
    {
     "data": {
      "text/plain": [
       "'Calibre'"
      ]
     },
     "execution_count": 12,
     "metadata": {},
     "output_type": "execute_result"
    }
   ],
   "source": [
    "goods_titles[-1]"
   ]
  },
  {
   "cell_type": "code",
   "execution_count": 13,
   "metadata": {
    "scrolled": true
   },
   "outputs": [
    {
     "data": {
      "text/plain": [
       "['Citizen Kane', 'The Godfather', 'Rear Window', 'Casablanca', 'Boyhood']"
      ]
     },
     "execution_count": 13,
     "metadata": {},
     "output_type": "execute_result"
    }
   ],
   "source": [
    "goods_titles[:5]"
   ]
  },
  {
   "cell_type": "code",
   "execution_count": 14,
   "metadata": {},
   "outputs": [],
   "source": [
    "bads_titles = []\n",
    "\n",
    "for i in range(110, 130):\n",
    "    # There are 10 pages to flip through of 100 movies each.\n",
    "    page = requests.get(\n",
    "        'https://www.metacritic.com/browse/movies/score/metascore/all/filtered?page={}'.format(i),\n",
    "        headers={'User-Agent': 'Chrome/80.0.3987.116'})\n",
    "    soup = BeautifulSoup(page.content, 'html.parser')\n",
    "    \n",
    "    # Now that we've gotten the content from the page, we need to loop through each element.\n",
    "    for i in range(0,100,1):\n",
    "        try:\n",
    "            title = soup.find_all('span', class_=\"title numbered\")[i]\\\n",
    "            .next_sibling.next_sibling.contents[1].contents[0]\n",
    "            bads_titles.append(title)\n",
    "        except:\n",
    "            pass\n",
    "    # We're only pinging 10 times but might as well be safe since it costs like\n",
    "    # nothing.\n",
    "    time.sleep(1)"
   ]
  },
  {
   "cell_type": "code",
   "execution_count": 15,
   "metadata": {},
   "outputs": [
    {
     "data": {
      "text/plain": [
       "2000"
      ]
     },
     "execution_count": 15,
     "metadata": {},
     "output_type": "execute_result"
    }
   ],
   "source": [
    "len(bads_titles)"
   ]
  },
  {
   "cell_type": "code",
   "execution_count": 20,
   "metadata": {},
   "outputs": [],
   "source": [
    "goods_formatted = fun.format_titles(goods_titles)\n",
    "bads_formatted = fun.format_titles(bads_titles)"
   ]
  },
  {
   "cell_type": "markdown",
   "metadata": {},
   "source": [
    "### Scraping rottentomatoes.com"
   ]
  },
  {
   "cell_type": "markdown",
   "metadata": {},
   "source": [
    "The rottentomatoes.com information will be used for linear regression."
   ]
  },
  {
   "cell_type": "code",
   "execution_count": 25,
   "metadata": {
    "scrolled": true
   },
   "outputs": [
    {
     "name": "stdout",
     "output_type": "stream",
     "text": [
      "0\n",
      "['get_gone', 'breaking_and_exiting', 'the_gallows_act_ii', 'the_murder_of_nicole_brown_simpson', 'black_water_2018', 'mob_town_2019', 'maximum_impact_2018', 'enter_the_anime', '10_minutes_gone', 'dark_crimes', 'the_after_party_2018', 'london_fields', 'air_strike_2018', 'polaroid_2019', 'saving_zoe', 'hallowed_ground_2019', 'imprisoned_2019', 'the_poison_rose', 'drive_2019', 'gotti_2018', 'dead_water', 'the_influence_2019', 'speed_kills', 'solis', 'portals', 'radioflash', 'welcome_to_curiosity', 'john_henry_2020', 'the_child_remains', 'trading_paint', 'killers_anonymous', 'american_dresser']\n",
      "1\n",
      "['disaster_movie', 'twisted', 'mortal_kombat_annihilation', 'daddy_day_camp', 'strange_wilderness', 'one_for_the_money', 'meet_the_spartans', 'alone_in_the_dark', 'getaway', 'left_behind_2014', 'kings_ransom', 'epic_movie', 'crossover', 'master_of_disguise', 'baby_geniuses']\n",
      "2\n",
      "['mod_squad', 'strange_wilderness', 'getaway', 'epic_movie', 'crossover', 'bless_the_child', 'the_apparition', 'mortal_kombat_annihilation', 'rollerball_2002', 'zoom_2006', 'haunting_of_molly_hartley', 'meet_the_spartans', 'robocop_3', 'feardotcom_2002', 'the_darkness', 'arsenal_2017', 'getting_even_with_dad', 'passion_play', 'jack_and_jill_2011', 'down_to_you', 'battlefield_earth', 'deuces_wild', 'half_past_dead', 'one_for_the_money', 'kings_ransom', 'baby_geniuses']\n",
      "3\n",
      "['a_little_bit_of_heaven_2011', 'the_cold_light_of_day', 'mary_2019', 'vampires_suck', 'shanghai', 'vice_2015', 'the_roommate', 'witless_protection', 'the_apparition', 'code_name_the_cleaner', 'flatliners_2017', 'zoom_2006', 'haunting_of_molly_hartley', 'reach_me', 'the_garden_of_eden_2008', 'happily_never_after', 'atlas_shrugged_part_ii', 'playing_for_keeps_2012', 'the_darkness', 'arsenal_2017', 'passion_play', 'jack_and_jill_2011', 'scary_movie_5', '6_souls', 'the_legend_of_hercules', 'tyler_perrys_boo_2_a_madea_halloween', 'because_i_said_so', 'hillarys_america_the_secret_history_of_the_democratic_party', 'beneath_the_darkness']\n",
      "4\n",
      "['just_getting_started', 'nature_calls', 'a_little_bit_of_heaven_2011', 'the_cold_light_of_day', 'mary_2019', 'shanghai', 'vice_2015', '30_beats', 'get_a_job_2016', 'flatliners_2017', 'movie_43', 'i_frankenstein', 'reach_me', '211', 'abduction_2011', 'atlas_shrugged_part_ii', 'playing_for_keeps_2012', 'paul_blart_mall_cop_2', 'hillarys_america_the_secret_history_of_the_democratic_party', 'hangman_2017', 'the_color_of_time', 'jacobs_ladder_2019', '6_souls', 'scary_movie_5', 'the_legend_of_hercules', 'outcast_2015', 'tyler_perrys_boo_2_a_madea_halloween', 'the_outsider_2014', 'home_sweet_hell', 'hick_2012', 'big_mommas_like_father_like_son', 'beneath_the_darkness']\n",
      "5\n",
      "['just_getting_started', 'nature_calls', 'nitro_circus_the_movie_3d_2012', 'battle_of_the_year', 'american_renegades', 'evidence_2013', 'slender_man', '30_beats', 'get_a_job_2016', 'the_last_thing_he_wanted', 'im_in_love_with_a_church_girl', 'the_devil_inside', 'the_courier_2019', 'the_crucifixion_2017', 'the_identical', 'movie_43', 'i_frankenstein', 'mothers_day_2016', '211', 'some_kind_of_beautiful', 'paul_blart_mall_cop_2', 'hangman_2017', 'the_tortured', 'so_undercover', 'the_color_of_time', 'extraction_2015', 'jacobs_ladder_2019', 'outcast_2015', 'ouija_2014', 'the_outsider_2014', 'home_sweet_hell', 'hick_2012']\n",
      "6\n",
      "['the_snowman_2017', 'fifty_shades_of_black', 'battle_of_the_year', 'authors_anonymous', 'american_renegades', 'addicted_2014', 'the_amityville_murders', 'the_big_wedding_2013', 'evidence_2013', 'slender_man', 'the_emoji_movie', 'im_in_love_with_a_church_girl', 'cbgb', 'the_courier_2019', 'the_crucifixion_2017', 'the_identical', 'paranoia_2013', 'no_stranger_than_love', 'mothers_day_2016', 'don_peyote', 'java_heat', 'tomorrow_youre_gone', 'dont_mess_with_texas_2014', 'some_kind_of_beautiful', 'fallen_2016', 'extraction_2015', '7_guardians_of_the_tomb', 'billionaire_boys_club', 'ouija_2014', 'misconduct', 'grown_ups_2', 'the_last_thing_he_wanted']\n",
      "7\n",
      "['survivor_2015', 'dying_of_the_light', 'isabelle_2019', 'all_nighter_2017', 'the_snowman_2017', 'fifty_shades_of_black', 'the_book_of_love', 'addicted_2014', 'the_amityville_murders', 'the_emoji_movie', 'i_still_see_you', 'after_2014', 'escape_plan_2_hades', 'the_lovers_2015', 'no_stranger_than_love', 'gods_not_dead_2', 'reprisal_2018', 'dont_mess_with_texas_2014', 'america_imagine_the_world_without_her_2014', 'the_last_face_2017', 'fallen_2016', 'drive_hard', '7_guardians_of_the_tomb', 'a_haunted_house_2', 'rings_2017', 'billionaire_boys_club', 'rock_the_kasbah', 'always_woodstock', 'misconduct', 'are_you_here', 'the_damned_2014', 'exposed_2016']\n",
      "8\n",
      "['norm_of_the_north', 'survivor_2015', 'dying_of_the_light', 'isabelle_2019', 'run_the_tide_2016', 'all_nighter_2017', 'the_book_of_love', 'it_2016', 'the_forger_2014', 'sundown_2016', 'despite_the_falling_snow', 'i_still_see_you', 'the_cobbler_2015', 'fantastic_four_2015', 'escape_plan_2_hades', 'the_lovers_2015', 'hitman_agent_47', 'cherry_tree', 'accidental_love', 'gods_not_dead_2', 'dont_sleep_2017', 'replicas_2019', 'shut_in', 'reprisal_2018', 'a_violent_separation', 'the_last_face_2017', 'rings_2017', 'rock_the_kasbah', 'clowntown_2016', 'always_woodstock', 'the_damned_2014', 'exposed_2016']\n",
      "9\n",
      "['norm_of_the_north', 'tulip_fever', 'run_the_tide_2016', 'it_2016', 'the_forest_2016', 'the_haunting_of_briar_house', 'the_forger_2014', 'all_relative_2014', 'the_professor_2019', 'sundown_2016', 'despite_the_falling_snow', 'holmes_and_watson_2018', 'the_cobbler_2015', 'unfinished_business_2015', 'fantastic_four_2015', 'dixieland', 'hitman_agent_47', 'monster_family', 'cherry_tree', 'accidental_love', 'dont_sleep_2017', 'shut_in', 'a_violent_separation', 'faith_of_our_fathers_2015', 'stonewall_2015', 'the_best_of_me', 'just_before_i_go', 'clowntown_2016', 'krystal', 'joe_dirt_2_beautiful_loser', 'kill_switch_2017', 'replicas_2019']\n",
      "10\n",
      "['the_great_alaskan_race', 'tulip_fever', 'the_forest_2016', 'the_haunting_of_briar_house', 'eloise', 'lucky_day_2019', '911_2017', 'change_in_the_air_2018', 'backtrace', 'holmes_and_watson_2018', 'cell_2016', 'basmati_blues', 'berlin_i_love_you', 'dixieland', 'ghost_team_2016', 'gods_not_dead_a_light_in_darkness', 'monster_family', 'the_basement_2018', 'siberia_2018', 'the_vanishing_of_sidney_hall', 'fifty_shades_darker', 'i_am_wrath', 'the_choice', 'the_last_heist', 'welcome_home_2018', 'dirty_grandpa', 'krystal', 'the_divergent_series_allegiant', 'the_gracefield_incident_2017', 'the_professor_2019', 'kill_switch_2017', 'search_party']\n",
      "11\n",
      "['the_great_alaskan_race', 'eloise', 'the_gracefield_incident_2017', 'lucky_day_2019', '911_2017', 'aardvark_2018', 'change_in_the_air_2018', 'backtrace', 'cell_2016', 'basmati_blues', 'berlin_i_love_you', 'ghost_team_2016', 'gods_not_dead_a_light_in_darkness', 'fifty_shades_freed', 'the_preppie_connection_2016', 'the_basement_2018', 'siberia_2018', 'the_vanishing_of_sidney_hall', 'fifty_shades_darker', 'point_break_2013', 'peppermint_2018', 'tyler_perrys_a_madea_family_funeral', 'first_kill_2017', 'i_am_wrath', 'the_last_heist', 'welcome_home_2018', 'papa_hemingway_in_cuba', 'kingsglaive_final_fantasy_xv_2016', 'dirty_grandpa', 'the_divergent_series_allegiant', 'the_choice', 'search_party']\n",
      "12\n",
      "['american_heist', 'love_ranch', 'day_of_the_dead_bloodline_2018', 'intrigo_death_of_an_author', 'hot_tub_time_machine_2', 'brain_on_fire', 'no_manches_frida_2', 'sword_of_vengeance', 'aardvark_2018', 'no_manches_frida', 'black_rose_2017', 'fifty_shades_freed', 'josie', 'viking_destiny', 'spin_out', 'mortdecai', 'kings_2017', 'winchester', 'peppermint_2018', 'tyler_perrys_a_madea_family_funeral', 'first_kill_2017', 'last_knights', 'an_acceptable_loss', 'prey_2018', 'papa_hemingway_in_cuba', 'kingsglaive_final_fantasy_xv_2016', 'no_good_deed_2013', 'when_the_bough_breaks_2016', 'taken_3', 'action_point', 'carter_and_june', 'woody_woodpecker_2017']\n",
      "13\n",
      "['the_adventurers_2017', 'love_ranch', 'day_of_the_dead_bloodline_2018', 'living_among_us', 'the_circle_2017', 'intrigo_death_of_an_author', 'damascus_cover', 'brain_on_fire', 'no_manches_frida_2', 'sextuplets', 'cook_off', 'the_hustle_2019', 'kill_order', 'black_rose_2017', 'correspondence_2016', 'josie', 'viking_destiny', 'spark_a_space_tail', 'awake_2019', 'kings_2017', 'winchester', 'an_acceptable_loss', 'the_nut_job_2_nutty_by_nature', 'prey_2018', 'night_hunter_2019', 'the_little_vampire_3d', 'action_point', 'blood_honey', 'carter_and_june', 'woody_woodpecker_2017', 'jexi']\n"
     ]
    },
    {
     "name": "stdout",
     "output_type": "stream",
     "text": [
      "14\n",
      "['the_adventurers_2017', 'living_among_us', 'the_circle_2017', 'bitter_harvest_2017', 'collateral_beauty', 'damascus_cover', 'sextuplets', 'cook_off', 'transformers_the_last_knight_2017', 'the_hustle_2019', 'vigilante_diaries', 'kill_order', 'correspondence_2016', 'sharknado_the_4th_awakens', 'spark_a_space_tail', 'autumn_lights', 'nine_lives_2016', 'a_score_to_settle', 'regression', 'the_curse_of_sleeping_beauty', 'the_nut_job_2_nutty_by_nature', 'night_hunter_2019', 'the_sea_of_trees', 'the_little_vampire_3d', 'man_down', 'robin_hood_2018', 'the_open_house_2018', 'blood_honey', 'lets_be_evil', 'awake_2019', 'jexi']\n",
      "15\n",
      "['pixels', 'kill_me_three_times', 'the_kindness_of_strangers_2019', 'the_darkest_minds', 'the_fanatic_2019', 'sinister_2', 'the_fifth_wave', 'bitter_harvest_2017', 'the_transporter_refueled', 'transformers_the_last_knight_2017', 'alvin_and_the_chipmunks_the_road_chip', 'the_dark_tower_2017', 'dear_dictator_2018', 'the_mummy_2017', 'a_score_to_settle', 'pound_of_flesh_2015', 'the_gallows', 'regression', 'gods_of_egypt', 'the_curse_of_sleeping_beauty', 'little_italy_2018', 'serena_2015', 'friend_request', 'the_sea_of_trees', 'aloft', 'geostorm', 'man_down', 'robin_hood_2018', 'blumhouses_truth_or_dare', 'the_open_house_2018', 'show_dogs', 'lets_be_evil']\n",
      "16\n",
      "['the_kindness_of_strangers_2019', 'the_darkest_minds', 'the_fanatic_2019', 'the_kissing_booth', 'the_great_war_2019', 'hell_house_llc_iii_lake_of_fire', 'supercon', 'how_it_ends', 'disturbing_the_peace_2020', 'the_last_summer_2019', 'crypto', 'tyler_perrys_acrimony', 'patient_zero_2016', 'the_competition_2018', 'perfect_2019', 'after_2019', 'dear_dictator_2018', 'the_healer_2018', 'swiped_2018', 'trafficked_2017', 'playmobil_the_movie', 'father_figures_2017', 'little_italy_2018', 'friend_request', 'look_away', 'the_outsider_2018', 'looking_glass_2017', 'geostorm', 'blumhouses_truth_or_dare', 'show_dogs', 'hellboy_2019', 'blood_brother_2018']\n",
      "17\n",
      "['the_kissing_booth', 'the_great_war_2019', 'hell_house_llc_iii_lake_of_fire', 'supercon', 'how_it_ends', 'disturbing_the_peace_2020', 'the_hatton_garden_job', 'death_wish_2018', 'the_last_summer_2019', 'crypto', 'tyler_perrys_acrimony', 'patient_zero_2016', 'the_competition_2018', 'the_houses_october_built_2', 'perfect_2019', 'after_2019', 'the_healer_2018', 'god_bless_the_broken_road', 'swiped_2018', 'trafficked_2017', 'distorted', 'playmobil_the_movie', 'father_figures_2017', 'the_titan', 'all_i_wish', 'look_away', 'the_outsider_2018', 'jeepers_creepers_3', 'looking_glass_2017', 'hot_air_2019', 'hellboy_2019', 'blood_brother_2018']\n",
      "18\n",
      "['incarnate_2016', 'once_upon_a_time_in_venice', 'chips', 'tyler_perrys_boo_a_madea_halloween', 'underworld_blood_wars_2017', 'ice_age_collision_course', 'the_hatton_garden_job', 'death_wish_2018', 'the_bye_bye_man', 'all_eyez_on_me_2017', 'the_possession_of_hannah_grace', 'polar_2019', 'blind_2017', 'tyler_perrys_a_fall_from_grace', 'semper_fi_2019', 'god_bless_the_broken_road', 'euphoria_2017', 'assassins_creed', 'wish_upon', 'distorted', 'the_aspern_papers', 'the_titan', 'rupture_2017', 'all_i_wish', 'jack_goes_home', 'keeping_up_with_the_joneses', 'diary_of_a_wimpy_kid_the_long_haul', 'absolutely_anything', 'the_haunting_of_sharon_tate', 'hot_air_2019', 'queen_of_the_desert', 'dirty_dancing_2016']\n",
      "19\n",
      "['2050', 'hospitality', 'the_grudge_2020', 'the_mandela_effect', 'beneath_the_leaves', 'a_wizards_tale', 'bob_lazar_area_51_and_flying_saucers', 'the_escape_of_prisoner_614', 'the_possession_of_hannah_grace', 'polar_2019', 'tyler_perrys_a_fall_from_grace', 'wild_honey_pie', 'hover', 'hooked_2018', 'semper_fi_2019', 'euphoria_2017', 'the_house_2017', 'scorched_earth', 'wish_upon', 'the_aspern_papers', 'pretenders', 'game_over_man', 'terminal_2018', 'serenity_2019', 'misfortune', 'chopsticks', 'holiday_hell', 'furlough_2018', 'mute', 'shes_just_a_shadow', 'the_haunting_of_sharon_tate', 'entangled_2019']\n",
      "20\n",
      "['2050', 'hospitality', 'the_grudge_2020', 'the_mandela_effect', 'beneath_the_leaves', 'a_wizards_tale', 'collide_2017', 'bob_lazar_area_51_and_flying_saucers', 'the_escape_of_prisoner_614', 'the_shack', 'wild_honey_pie', 'hover', 'hooked_2018', 'daddys_home_2', 'phil', 'the_house_2017', 'scorched_earth', 'dont_knock_twice', 'blood_ransom', 'pretenders', 'game_over_man', 'terminal_2018', 'serenity_2019', 'misfortune', 'chopsticks', 'holiday_hell', 'furlough_2018', 'the_death_and_life_of_john_f_donovan', 'mute', 'shes_just_a_shadow', 'submergence_2018', 'entangled_2019']\n",
      "21\n",
      "['marguerite_and_julien', 'ratchet_and_clank', 'sgt_will_gardner', 'lucy_in_the_sky', '222_2017', 'the_strongest_man', 'bleeding_steel', 'miss_bala_2019', 'collide_2017', '6_below_miracle_on_the_mountain', 'the_shack', 'step_sisters', 'river_runs_red', 'tell_me_that_you_love_me_junie_moon', 'i_hate_kids_2019', 'zoolander_2', 'the_boss_2016', 'daddys_home_2', 'phil', '14_cameras', 'dont_knock_twice', 'big_kill', 'the_book_of_henry', 'jem_and_the_holograms_2015', 'ithaca', 'midnight_sun_2018', 'marauders_2016', 'the_death_and_life_of_john_f_donovan', 'the_adderall_diaries', 'submergence_2018', 'daughter_of_the_wolf', 'american_pastoral']\n",
      "22\n",
      "['blue_night', 'sgt_will_gardner', 'lucy_in_the_sky', 'bad_santa_2', '222_2017', 'mara_2018', 'all_the_devils_men', 'yoga_hosers', 'bleeding_steel', 'miss_bala_2019', '6_below_miracle_on_the_mountain', 'step_sisters', 'river_runs_red', 'tell_me_that_you_love_me_junie_moon', 'i_hate_kids_2019', 'rim_of_the_world', '14_cameras', 'inferno_2016', 'big_kill', 'the_book_of_henry', 'ithaca', 'midnight_sun_2018', 'nerdland_2016', 'overdrive_2017', 'mile_22', 'the_clapper', 'dark_phoenix', 'daughter_of_the_wolf', 'kill_your_friends', 'the_1517_to_paris', 'american_pastoral', 'men_in_black_international']\n",
      "23\n",
      "['the_comedian_2017', 'birth_of_the_dragon', 'blue_night', 'bad_santa_2', 'mara_2018', 'all_the_devils_men', 'the_happytime_murders_2017', 'mr_church', 'men_in_black_international', '7_days_in_entebbe', '90_minutes_in_heaven', 'forever_my_girl', 'little_boy_2015', 'luis_and_the_aliens', 'null', 'rim_of_the_world', 'the_1517_to_paris', 'the_kitchen', 'inferno_2016', 'overboard_2018', 'nobodys_fool_2018', 'psychopaths_2017', 'the_runner_1999', 'nerdland_2016', 'overdrive_2017', 'mile_22', 'the_clapper', 'dark_phoenix', 'dark_places_2015', 'kill_your_friends', 'yoga_hosers', 'fist_fight_2017']\n",
      "24\n",
      "['tau', 'sleepless_2017', 'the_comedian_2017', 'birth_of_the_dragon', 'open_water_3_cage_dive', 'the_happytime_murders_2017', 'running_with_the_devil_2019', 'rememory', '7_days_in_entebbe', 'solace', 'forever_my_girl', 'the_humanity_bureau', 'voodoo_2017', 'beast_of_burden_2018', 'otherhood', 'making_babies', 'the_host_2020', 'luis_and_the_aliens', 'corporate_animals', 'literally_right_before_aaron', 'the_kitchen', 'ben_hur_2016', 'the_vault_2017', 'woodshock_2017', 'overboard_2018', 'nobodys_fool_2018', 'psychopaths_2017', 'samson_2018', 'la_leyenda_del_chupacabras', 'madness_in_the_method', 'dont_hang_up_2017', 'fist_fight_2017']\n",
      "25\n",
      "['tau', 'countdown_2019', 'sleepless_2017', 'open_water_3_cage_dive', 'unlocked_2017', 'running_with_the_devil_2019', 'rememory', 'solace', 'army_of_one_2016', 'voodoo_2017', 'beast_of_burden_2018', 'the_humanity_bureau', 'otherhood', 'making_babies', 'the_nun_2018', 'the_host_2020', 'unforgettable_2017', 'corporate_animals', 'literally_right_before_aaron', 'gemini_man_2019', 'the_perfect_match_2016', 'ben_hur_2016', 'killerman', 'woodshock_2017', 'the_vault_2017', 'table_19', 'breaking_in_2018', 'samson_2018', 'la_leyenda_del_chupacabras', 'undrafted_2016', 'madness_in_the_method', 'dont_hang_up_2017']\n",
      "26\n",
      "['can_you_keep_a_secret', 'little_women_2018', 'axl', 'escape_plan_the_extractors', 'countdown_2019', 'drone_2017', 'the_week_of', 'unlocked_2017', 'the_duel_2016', 'victor_frankenstein_2015', 'crazy_about_tiffanys', 'sherlock_gnomes', 'colonia', 'the_last_sharknado_its_about_time', 'all_i_see_is_you', 'rambo_last_blood', 'the_nun_2018', 'unforgettable_2017', 'suicide_squad_2016', 'gemini_man_2019', 'killerman', 'table_19', 'breaking_in_2018', 'sandy_wexler', 'mortal_engines', 'the_wilde_wedding', 'the_benefactor', 'night_school_2018', 'uglydolls', 'london_has_fallen', 'a_million_little_pieces', 'proud_mary']\n"
     ]
    },
    {
     "name": "stdout",
     "output_type": "stream",
     "text": [
      "27\n",
      "['can_you_keep_a_secret', 'little_women_2018', 'axl', 'escape_plan_the_extractors', 'drone_2017', 'the_week_of', 'the_aftermath_2019', 'five_nights_in_maine', 'my_big_fat_greek_wedding_2', 'warcraft', 'traffik_2018', 'sherlock_gnomes', 'the_last_sharknado_its_about_time', 'the_rocky_horror_picture_show_lets_do_the_time_warp_again', 'all_i_see_is_you', 'rambo_last_blood', 'fathers_and_daughters', 'rebel_in_the_rye', 'suicide_squad_2016', 'bright', 'batman_v_superman_dawn_of_justice', 'into_the_ashes', 'sandy_wexler', 'mortal_engines', 'the_wilde_wedding', 'night_school_2018', 'uglydolls', 'london_has_fallen', 'a_million_little_pieces', 'proud_mary', 'suburbicon', 'rattlesnake']\n",
      "28\n",
      "['almost_friends', 'sunset_2018', 'new_life_2016', 'the_aftermath_2019', 'iron_sky_the_coming_race', 'five_nights_in_maine', 'my_big_fat_greek_wedding_2', 'warcraft', 'traffik_2018', 'the_rocky_horror_picture_show_lets_do_the_time_warp_again', 'shock_and_awe_2018', 'between_worlds_2018', 'venom_2018', 'fathers_and_daughters', 'rebel_in_the_rye', 'independence_day_resurgence', 'alice_in_wonderland_through_the_looking_glass', 'passage_to_mars', 'trick_2019', 'paradox_2018', 'bright', 'the_curse_of_la_llorona_2019', 'batman_v_superman_dawn_of_justice', 'into_the_ashes', 'the_red_pill_2016', 'outlaws_and_angels', 'the_good_neighbor_2016', 'bethany', 'suburbicon', 'elis', 'rattlesnake', 'ken_jeong_you_complete_me_ho']\n",
      "29\n",
      "['pirates_of_the_caribbean_dead_men_tell_no_tales', 'almost_friends', 'sunset_2018', 'the_legacy_of_a_whitetail_deer_hunter', 'the_midnight_man_2018', 'new_life_2016', 'iron_sky_the_coming_race', 'king_arthur_legend_of_the_sword', 'shock_and_awe_2018', 'the_red_sea_diving_resort', 'between_worlds_2018', 'venom_2018', 'rodin_2018', 'mapplethorpe', 'love_thy_nature', 'sharknado_5_global_swarming', 'passage_to_mars', 'trick_2019', 'paradox_2018', 'amityville_the_awakening', 'the_curse_of_la_llorona_2019', 'outlaws_2019', 'red_joan', 'the_red_pill_2016', 'leatherface_2017', 'pitch_perfect_3', 'let_there_be_light_2017_2', 'bethany', 'ken_jeong_you_complete_me_ho', 'in_dubious_battle', 'the_corrupted_2020', 'elis']\n",
      "30\n",
      "['loving_pablo', 'pirates_of_the_caribbean_dead_men_tell_no_tales', 'the_legacy_of_a_whitetail_deer_hunter', 'the_midnight_man_2018', 'criminal_2016', 'the_queen_of_spain', 'enemy_territory_2016', 'king_arthur_legend_of_the_sword', 'a_boy_called_po', 'the_red_sea_diving_resort', 'rodin_2018', 'secret_obsession_2019', 'mapplethorpe', 'null', 'love_thy_nature', 'io', 'sharknado_5_global_swarming', 'passengers_2016', 'amityville_the_awakening', 'outlaws_2019', 'red_joan', 'the_whole_truth_2016', 'a_bad_moms_christmas', 'the_silence_2019', 'inconceivable_2017', 'leatherface_2017', 'pitch_perfect_3', 'wonder_wheel', 'welcome_to_happiness', 'let_there_be_light_2017_2', 'in_dubious_battle', 'the_corrupted_2020']\n",
      "31\n",
      "['loving_pablo', 'war_room_2015', 'criminal_2016', 'inside_2018', 'mojave_2016', 'the_queen_of_spain', 'monster_trucks_2017', 'enemy_territory_2016', 'a_boy_called_po', 'the_intruder_2019', 'secret_obsession_2019', 'mechanic_resurrection', 'null', 'daddys_home_2014', 'shaft_2019', 'io', 'passengers_2016', 'final_girl', 'the_predator', 'the_catcher_was_a_spy', 'a_bad_moms_christmas', '3_generations', 'the_silence_2019', 'inconceivable_2017', 'being_frank_2019', 'from_the_land_of_the_moon', 'wonder_wheel', 'welcome_to_happiness', 'my_all_american_2015', 'irreplaceable_you', 'camino_2016']\n",
      "32\n",
      "['see_you_soon', 'jigsaw_2017', 'better_start_running', 'a_christmas_prince_the_royal_baby', 'verotika', 'wolves_2016', 'elisa_and_marcela', 'home_again_2017', 'boarding_school_2018', 'inside_2018', 'the_holiday_calendar', 'feral_2018', 'insidious_the_last_key', 'the_nutcracker_and_the_four_realms', 'the_intruder_2019', 'coda_2020', 'dark_signal', 'shaft_2019', 'devils_gate_2018', 'the_predator', 'the_catcher_was_a_spy', 'the_chamber_2018', 'same_kind_of_different_as_me', 'kin_2018', 'being_frank_2019', 'an_actor_prepares', 'from_the_land_of_the_moon', 'the_hunters_prayer', 'the_climbers_2019', 'the_monkey_king_3', 'e_demon_2018', 'irreplaceable_you']\n",
      "33\n",
      "['see_you_soon', 'jigsaw_2017', 'better_start_running', 'domino_2019', 'verotika', 'a_christmas_prince_the_royal_baby', 'the_assignment_2017', 'wolves_2016', 'elisa_and_marcela', 'home_again_2017', 'boarding_school_2018', 'a_fantastic_fear_of_everything', 'the_holiday_calendar', 'feral_2018', 'the_nutcracker_and_the_four_realms', 'insidious_the_last_key', 'coda_2020', 'dark_signal', 'king_of_thieves_2019', 'poms', 'devils_gate_2018', 'the_chamber_2018', 'same_kind_of_different_as_me', 'kin_2018', 'super_troopers_2', 'an_actor_prepares', 'the_hunters_prayer', 'the_climbers_2019', 'the_monkey_king_3', 'wonder_park', 'fun_mom_dinner', 'e_demon_2018']\n",
      "34\n",
      "['domino_2019', 'horrible_bosses_2', 'the_assignment_2017', 'a_teacher_2013', 'the_november_man', 'masterminds_2016', 'a_fantastic_fear_of_everything', 'equals_2016', 'dave_chappelle_sticks_and_stones', 'cub', 'the_other_side_of_the_door', 'firestarter', 'cut_bank', 'mark_felt_the_man_who_brought_down_the_white_house', 'king_of_thieves_2019', 'the_female_brain', 'labor_day_2013', 'live_by_night', 'a_million_ways_to_die_in_the_west', 'welcome_to_marwen', 'poms', 'vhs_viral', 'american_assassin_2017', 'a_dogs_purpose', 'abattoir', 'now_you_see_me_2', '24_exposures', 'wonder_park', 'super_troopers_2', 'the_giver', 'last_weekend', 'by_the_sea_2015']\n",
      "35\n",
      "['sugar_mountain', 'snatched_2017', 'the_hollow_point_2016', 'equals_2016', 'voice_from_the_stone', 'dave_chappelle_sticks_and_stones', 'fantastic_beasts_the_crimes_of_grindelwald', 'the_most_hated_woman_in_america', 'wetlands_2017', 'hunter_killer', 'mark_felt_the_man_who_brought_down_the_white_house', 'patrick_2019', 'the_secret_scripture', 'drifter_2017', 'the_female_brain', 'anna_2019', 'i_feel_pretty_2018', 'beauty_and_the_beast_2014', 'blair_witch', 'welcome_to_marwen', 'the_great_wall_2017', 'honeyglue', 'american_assassin_2017', 'the_divine_fury', 'flock_of_dudes_2016', 'a_dogs_purpose', 'abattoir', 'the_legend_of_tarzan', '6_underground', 'the_bronze', 'state_like_sleep', 'by_the_sea_2015']\n",
      "36\n",
      "['edge_of_love', 'operation_chromite', 'resident_evil_the_final_chapter', 'snatched_2017', 'the_night_clerk_2020', 'the_hollow_point_2016', 'glass_2019', 'voice_from_the_stone', 'blue_iguana_2018', 'fantastic_beasts_the_crimes_of_grindelwald', 'the_most_hated_woman_in_america', 'wetlands_2017', 'johnny_english_strikes_again_2018', 'tone_deaf', 'hunter_killer', 'patrick_2019', 'the_secret_scripture', 'jack_reacher_never_go_back', 'drifter_2017', 'anna_2019', 'i_feel_pretty_2018', 'beauty_and_the_beast_2014', 'blair_witch', 'the_great_wall_2017', 'honeyglue', 'in_the_tall_grass_2019', 'the_divine_fury', 'close_2019', '6_underground', 'the_leisure_seeker', 'out_of_blue', 'state_like_sleep']\n",
      "37\n",
      "['edge_of_love', 'anon', 'i_am_vengeance_2018', 'black_christmas_2019', 'the_remarkable_life_of_john_weld', 'leprechaun_returns', 'the_night_clerk_2020', 'malevolent_2018', 'an_ordinary_man', 'glass_2019', 'el_chicano', 'inside_game', 'blue_iguana_2018', 'johnny_english_strikes_again_2018', 'tone_deaf', 'cruise_2018', 'waiting_for_anya', 'in_the_tall_grass_2019', 'primal', 'along_came_the_devil', 'railroad_tigers_2017', 'social_animals', 'unbroken_path_to_redemption', 'close_2019', 'kidnap_2017', 'cant_stop_wont_stop_a_bad_boy_story', 'the_dirt_2019', 'point_blank_2019', 'the_leisure_seeker', 'backstabbing_for_beginners', 'donnybrook', 'out_of_blue']\n",
      "38\n",
      "['anon', 'i_am_vengeance_2018', 'black_christmas_2019', 'the_remarkable_life_of_john_weld', 'leprechaun_returns', 'life_of_the_party_2018', 'malevolent_2018', 'an_ordinary_man', 'el_chicano', 'inside_game', 'mary_shelley', 'angel_has_fallen', 'whisky_galore_2017', 'spenser_confidential', 'slaughterhouse_rulez', 'cruise_2018', 'the_mountain_between_us', 'waiting_for_anya', 'the_strangers_prey_at_night', 'death_note_2017', 'primal', 'along_came_the_devil', 'extinction_2018', 'social_animals', 'unbroken_path_to_redemption', 'point_blank_2019', 'kidnap_2017', 'the_dirt_2019', 'nostalgia_2018', 'dont_go_2018', 'backstabbing_for_beginners', 'donnybrook']\n",
      "39\n",
      "['revenger', 'the_last_witness_2018', 'maleficent_mistress_of_evil', 'run_the_race', 'only', 'life_of_the_party_2018', 'heartlock', 'unplanned', 'mary_shelley', 'angel_has_fallen', 'something', 'arizona_2018', 'pete_davidson_alive_from_new_york', 'spiral_2018', 'reality_queen', 'spenser_confidential', 'slaughterhouse_rulez', 'blood_paradise', 'the_strangers_prey_at_night', 'the_girl_in_the_spiders_web', 'vita_and_virginia', 'gringo_2018', 'extinction_2018', 'the_night_of_the_virgin', 'the_super', 'hell_on_the_border', 'death_house', 'bramptons_own', 'nekrotronic', 'nostalgia_2018', 'dont_go_2018', 'thriller_2018']\n"
     ]
    },
    {
     "name": "stdout",
     "output_type": "stream",
     "text": [
      "40\n",
      "['revenger', 'the_last_witness_2018', 'maleficent_mistress_of_evil', 'run_the_race', 'dont_let_go_2019', 'only', 'heartlock', 'unplanned', 'tremors_a_cold_day_in_hell', 'hell_fest', 'the_upside', 'something', 'arizona_2018', 'pete_davidson_alive_from_new_york', 'spiral_2018', 'reality_queen', 'blood_paradise', 'gauguin_voyage_to_tahiti', 'the_girl_in_the_spiders_web', 'vita_and_virginia', 'gringo_2018', 'den_of_thieves', 'the_night_of_the_virgin', 'mfkz', 'where_hands_touch', 'the_super', 'under_the_eiffel_tower', 'hell_on_the_border', 'death_house', 'bramptons_own', 'nekrotronic', 'thriller_2018']\n",
      "41\n",
      "['the_prodigy_2019', 'katie_says_goodbye', 'vincent_n_roxxy', 'dont_let_go_2019', 'stuber', 'black_butterfly_2017', 'the_professor_and_the_madman', 'hell_fest', 'the_upside', 'a_wrinkle_in_time_2018', 'godzilla_king_of_the_monsters_2019', 'seeds_2019', 'spinning_man', 'the_song_of_sway_lake', 'the_laundromat', 'let_fury_have_the_hour_2013', 'the_valley_2018', 'goon_last_of_the_enforcers', 'girls_with_balls', 'the_star_2017', 'awakening_the_zodiac', 'gauguin_voyage_to_tahiti', 'a_cure_for_wellness', 'the_package_2018', 'den_of_thieves', 'mfkz', 'where_hands_touch', 'the_tomorrow_man_2019', '47_meters_down_uncaged', 'under_the_eiffel_tower', 'phoenix_forgotten', 'the_good_catholic']\n",
      "42\n",
      "['the_prodigy_2019', 'katie_says_goodbye', '15_minutes_of_war', 'pokemon_the_movie_mewtwo_strikes_back_evolution', 'stuber', 'ghost_stories_2020', 'hot_summer_nights', 'the_professor_and_the_madman', 'white_chamber', 'madame_2018', 'what_men_want_2019', 'a_wrinkle_in_time_2018', 'godzilla_king_of_the_monsters_2019', 'seeds_2019', 'gags_the_clown_2018', 'spinning_man', 'the_song_of_sway_lake', 'ricky_gervais_humanity', 'the_laundromat', 'let_fury_have_the_hour_2013', 'the_valley_2018', 'three_christs', 'girls_with_balls', 'the_addams_family_2019', 'the_package_2018', 'holiday_in_the_wild', 'the_tomorrow_man_2019', 'paris_is_us', '47_meters_down_uncaged', 'maze_runner_the_death_cure', 'the_art_of_racing_in_the_rain', 'the_battle_of_jangsari']\n",
      "43\n",
      "['when_we_first_met', '15_minutes_of_war', 'murder_mystery', 'american_hangman', 'pokemon_the_movie_mewtwo_strikes_back_evolution', 'ghost_stories_2020', 'pacific_rim_uprising', 'hot_summer_nights', 'supervized', 'white_chamber', 'madame_2018', 'what_men_want_2019', 'ready_to_mingle', 'captive_state', 'driverx', 'gags_the_clown_2018', 'ricky_gervais_humanity', 'the_wedding_guest', 'three_christs', 'the_addams_family_2019', 'hampstead', 'a_violent_man', 'critters_attack_2019', 'permanent', 'holiday_in_the_wild', 'the_wedding_year', 'after_the_wedding_2019', 'paris_is_us', 'maze_runner_the_death_cure', 'the_art_of_racing_in_the_rain', 'the_battle_of_jangsari', 'tall_girl']\n",
      "44\n",
      "['murder_mystery', 'inherit_the_viper', 'american_hangman', 'red_sparrow', 'pacific_rim_uprising', 'love_beats_rhymes', 'supervized', 'second_act_2018', 'jackals_2017', 'ready_to_mingle', 'captive_state', 'nails_2017', 'driverx', 'girls_of_the_sun', 'the_yellow_birds', 'night_sweats', 'the_wedding_guest', 'a_violent_man', 'hampstead', 'a_breath_away', 'critters_attack_2019', 'mary_magdalene_2019', 'permanent', 'so_b_it', 'demon_house_2018', 'the_wedding_year', 'after_the_wedding_2019', 'rough_night', 'allure_2018', 'the_kid_2019', 'tall_girl', 'the_hurricane_heist']\n",
      "45\n",
      "['the_meg', 'come_what_may_2016', 'bushwick_2017', 'inherit_the_viper', 'the_discovery_2017', 'red_sparrow', 'batman_and_harley_quinn', 'paul_apostle_of_christ', 'second_act_2018', 'everything_everything_2017', 'message_from_the_king', 'ode_to_joy_2019', 'xxx_return_of_xander_cage', 'girls_of_the_sun', 'bokeh_2017', 'the_yellow_birds', 'night_sweats', 'the_dinner_2017', 'like_father_2018', 'asher', 'a_breath_away', 'mary_magdalene_2019', 'cold_skin', 'so_b_it', 'demon_house_2018', 'the_laws_of_thermodynamics', 'the_blackout_experiments', 'youth_in_oregon', 'allure_2018', 'the_kid_2019', 'walking_with_the_enemy', 'the_hurricane_heist']\n",
      "46\n",
      "['ordinary_world_2016', 'the_bad_batch', 'the_meg', 'bushwick_2017', 'knight_of_cups', 'dumbo_2019', 'paul_apostle_of_christ', 'valerian_and_the_city_of_a_thousand_planets', 'rock_dog', 'x_men_apocalypse', 'curvature', 'the_hollars', '31', 'ode_to_joy_2019', 'brave_new_jersey_2017', 'quartet_1981', 'red_christmas', 'the_dinner_2017', 'like_father_2018', 'free_state_of_jones', 'asher', 'paris_can_wait', 'cold_skin', 'in_darkness_2018', 'the_laws_of_thermodynamics', 'marrowbone', 'sand_castle_2017', 'little_2019', 'clown_2016', 'how_to_talk_to_girls_at_parties', 'the_free_world', 'occupation_2018']\n",
      "47\n",
      "['ordinary_world_2016', 'the_bad_batch', 'killing_gunther', 'eli_2019', 'going_in_style_2017', 'knight_of_cups', 'dumbo_2019', 'valerian_and_the_city_of_a_thousand_planets', 'rock_dog', 'x_men_apocalypse', 'curvature', '31', 'downsizing', 'brave_new_jersey_2017', 'quartet_1981', 'goosebumps_2_haunted_halloween', 'red_christmas', 'war_machine_2016', 'jurassic_world_fallen_kingdom', 'skyscraper_2018', 'kung_fu_yoga', 'paris_can_wait', 'clara_2019', 'in_darkness_2018', 'wilson_2017', 'marrowbone', 'sand_castle_2017', 'little_2019', 'how_to_talk_to_girls_at_parties', 'the_free_world', 'my_little_pony_the_movie_2017', 'occupation_2018']\n",
      "48\n",
      "['freeheld_2015', 'youre_not_you', 'killing_gunther', 'eli_2019', 'whered_you_go_bernadette', 'going_in_style_2017', 'criminal_activities', 'the_33', 'rio_2', 'adult_beginners', 'all_cheerleaders_die', 'downsizing', 'the_spy_who_dumped_me_2018', 'king_cobra_2016', 'goosebumps_2_haunted_halloween', 'war_machine_2016', 'jurassic_world_fallen_kingdom', 'skyscraper_2018', 'almost_christmas_2016', 'the_cartel', 'kung_fu_yoga', 'clara_2019', 'wolf_creek_2', 'wilson_2017', 'intruders_2016', 'cake_2015', 'mascots', 'the_judge_2014', 'churchill_2017', 'capture_the_flag_2016', 'my_little_pony_the_movie_2017', 'a_little_chaos']\n",
      "49\n",
      "['down_a_dark_hall', 'pimp_2018', 'the_sonata', 'whered_you_go_bernadette', 'earthquake_bird', 'the_curse_of_buckout_road', 'a_dogs_journey', 'postcards_from_london', 'lost_child_2018', 'tolkien', 'ghost_killers_vs_bloody_mary', 'live_twice_love_once', 'the_spy_who_dumped_me_2018', 'tell_it_to_the_bees', 'cuck', '55_steps', 'we_are_boats', 'bloodline_2019', 'american_son_2019', 'a_christmas_prince_the_royal_wedding', 'escape_room_2019', 'ashes_in_the_snow', 'overcomer', 'superfly_2018', 'ladyworld', 'impossible_monsters', 'freetown', 'the_things_weve_seen', 'angelfish_2019', 'miss_arizona_2019', 'camp_cold_brook', 'good_sam_2019']\n",
      "50\n",
      "['down_a_dark_hall', 'pimp_2018', 'the_sonata', 'earthquake_bird', 'the_curse_of_buckout_road', 'an_evening_with_beverly_luff_linn_2018', 'postcards_from_london', 'a_dogs_journey', 'lost_child_2018', 'tolkien', 'ghost_killers_vs_bloody_mary', 'live_twice_love_once', 'tell_it_to_the_bees', 'cuck', '55_steps', 'the_sun_is_also_a_star', 'we_are_boats', 'bloodline_2019', 'american_son_2019', 'a_christmas_prince_the_royal_wedding', 'escape_room_2019', 'ashes_in_the_snow', 'overcomer', 'superfly_2018', 'ladyworld', 'impossible_monsters', 'freetown', 'the_things_weve_seen', 'angelfish_2019', 'wounds_2019', 'miss_arizona_2019', 'good_sam_2019']\n",
      "51\n",
      "['complete_unknown', 'finding_steve_mcqueen', 'the_miracle_season', 'ashby', 'the_glass_castle_2017', 'run_this_town', '24_hours_to_live_2017', 'kingsman_the_golden_circle', 'an_evening_with_beverly_luff_linn_2018', 'freak_show', 'a_kid_like_jake', 'england_is_mine', '13_hours_the_secret_soldiers_of_benghazi', 'charlies_angels_2019', 'rampage_2018', 'the_last_movie_star_2018', 'the_sun_is_also_a_star', 'miss_julie_2014', 'equalizer_2', 'dark_was_the_night', 'hardcore_henry', 'tomb_raider_2018', 'boulevard_2014', 'rabid_2019', 'the_accountant_2016', 'the_humbling', 'holidays', 'the_forgiven_2018', 'unbroken_2014', 'wounds_2019', 'the_boss_baby', 'papillon_2018']\n",
      "52\n",
      "['finding_steve_mcqueen', 'the_glass_castle_2017', 'run_this_town', '24_hours_to_live_2017', 'elizabeth_harvest', 'the_lion_king_2019', 'mowgli_legend_of_the_jungle', 'kingsman_the_golden_circle', 'ismaels_ghosts', 'a_kid_like_jake', '3_from_hell', 'england_is_mine', 'person_to_person_2017', 'bad_samaritan', 'the_best_of_enemies_2019', 'charlies_angels_2019', 'the_last_movie_star_2018', 'papillon_2018', 'destination_wedding', 'the_belko_experiment', 'london_town_2016', 'equalizer_2', 'genius_2016', 'woman_walks_ahead', 'rabid_2019', 'the_accountant_2016', 'blood_fest', 'the_last_laugh_2019', 'roman_j_israel_esq', 'american_dreamer_2019', 'the_forgiven_2018', 'the_boss_baby']\n"
     ]
    },
    {
     "name": "stdout",
     "output_type": "stream",
     "text": [
      "53\n",
      "['guns_akimbo', 'this_changes_everything_2015', '47_meters_down', 'once_upon_a_deadpool', 'demolition_2016', 'elizabeth_harvest', 'five_feet_apart', 'the_lion_king_2019', 'mowgli_legend_of_the_jungle', 'jack_of_the_red_hearts', 'at_first_light', 'ismaels_ghosts', '3_from_hell', 'risen_2016', 'person_to_person_2017', 'the_strange_ones_2018', 'bad_samaritan', 'the_best_of_enemies_2019', 'destination_wedding', 'the_belko_experiment', 'jason_bourne', 'london_town_2016', 'genius_2016', 'woman_walks_ahead', 'one_more_time_2016', 'book_club', 'blood_fest', 'the_last_laugh_2019', 'roman_j_israel_esq', 'american_dreamer_2019', 'crash_pad', 'triple_9']\n",
      "54\n",
      "['pali_road_2016', 'guns_akimbo', 'can_we_take_a_joke_2016', 'speech_and_debate_2017', 'summer_night_2019', '47_meters_down', 'once_upon_a_deadpool', 'five_feet_apart', 'rules_dont_apply', 'jack_of_the_red_hearts', 'the_lodgers', 'the_lego_ninjago_movie', 'extremely_wicked_shockingly_evil_and_vile', 'jt_leroy', 'at_first_light', 'ma_2019', 'the_strange_ones_2018', 'jason_bourne', 'the_dead_dont_die_2019', 'the_windmill_2016', 'book_club', 'bleak_street', 'half_magic', 'the_first_purge', 'attack_of_the_lederhosen_zombies', 'farming', 'swimming_with_men', 'acts_of_vengeance', 'house_on_willow_street', 'noma_my_perfect_storm', 'crash_pad', 'mrs_hyde']\n",
      "55\n",
      "['shepherds_and_butchers', 'pali_road_2016', 'keplers_dream', 'speech_and_debate_2017', 'incident_in_a_ghost_land_2018', 'the_beach_bum_2019', 'summer_night_2019', 'maine', 'rules_dont_apply', 'the_lodgers', 'the_lego_ninjago_movie', 'extremely_wicked_shockingly_evil_and_vile', 'jt_leroy', 'ma_2019', 'the_greatest_showman_2017', 'they_remain', 'red_trees', 'the_dead_dont_die_2019', 'bleak_street', 'half_magic', 'the_first_purge', 'the_commuter', 'farming', 'itsy_bitsy_2019', 'swimming_with_men', 'acts_of_vengeance', 'house_on_willow_street', 'copwatch_2017', 'the_silent_war_2019', 'mrs_hyde', 'tag_2018', 'cold_war_2']\n",
      "56\n",
      "['keplers_dream', 'incident_in_a_ghost_land_2018', 'above_the_shadows', 'the_highwaymen', 'the_beach_bum_2019', 'brightburn', 'juggernaut_2018', 'duck_butter_2018', 'maine', 'the_bookshop', 'strange_but_true', 'the_greatest_showman_2017', 'stray_2019', 'they_remain', 'piranhas', 'red_trees', 'lbj', 'aladdin', 'crooked_house', 'ray_romano_right_here_around_the_corner', '154', 'my_son_2019', 'hotel_artemis', 'the_commuter', 'slice_2018', 'itsy_bitsy_2019', '420_massacre', 'the_cannibal_club', 'the_silent_war_2019', 'the_house_that_jack_built_2018', 'the_hummingbird_project', 'tag_2018']\n",
      "57\n",
      "['the_highwaymen', 'the_velocipastor_2019', 'brightburn', 'juggernaut_2018', 'duck_butter_2018', 'the_bookshop', 'strange_but_true', 'the_hummingbird_project', 'burn_2019', 'stray_2019', 'mobile_homes_2018', 'piranhas', 'please_stand_by_2018', 'what_happened_to_monday', 'lbj', 'aladdin', 'crooked_house', 'ray_romano_right_here_around_the_corner', '154', 'pet_sematary_2019', 'under_the_silver_lake', 'my_son_2019', 'hotel_artemis', 'slice_2018', 'the_hippopotamus', 'despicable_me_3', '420_massacre', 'the_cannibal_club', 'the_house_that_jack_built_2018', 'close_enemies_2018', 'the_new_radical_2017', 'above_the_shadows']\n",
      "58\n",
      "['them_that_follow', 'liam_gallagher_as_it_was', 'the_neon_demon', 'the_velocipastor_2019', 'line_of_duty_2019', 'claire_in_motion', 'i_am_the_pretty_thing_that_lives_in_the_house', 'burn_2019', 'mobile_homes_2018', 'charlie_says_2019', 'the_grinch', 'please_stand_by_2018', 'absolutely_fabulous_the_movie', 'the_case_for_christ_2017', 'trespassers_2019', 'journey_to_the_west_the_demons_strike_back_2017', 'a_dogs_way_home', 'bad_moms', 'pet_sematary_2019', 'alone_in_berlin', 'in_the_shadow_of_the_moon_2019', 'under_the_silver_lake', 'white_boy_rick', 'you_might_be_the_killer', 'urban_hymn', 'despicable_me_3', 'astronaut_2019', 'then_came_you', 'close_enemies_2018', 'the_new_radical_2017', 'bullet_head', 'django_2018']\n",
      "59\n",
      "['them_that_follow', 'chain_of_death', 'one_last_night', 'new_money', 'liam_gallagher_as_it_was', 'ophelia_2019', 'greta_2019', 'line_of_duty_2019', 'mrs_lowry_and_son', 'chimera_strain_2019', 'charlie_says_2019', 'the_grinch', 'operation_finale', 'the_front_runner_2018', 'candy_corn', 'scarborough', 'trespassers_2019', 'miss_virginia', '2nd_date_sex', 'a_dogs_way_home', 'high_strung_free_dance', 'in_the_shadow_of_the_moon_2019', 'the_secret_life_of_pets_2', 'white_boy_rick', '21_2020', 'tyrel', 'doom_annihilation', 'astronaut_2019', 'then_came_you', 'you_might_be_the_killer', 'bohemian_rhapsody']\n",
      "60\n",
      "['chain_of_death', 'one_last_night', 'new_money', 'trial_by_fire', 'dilili_in_paris', 'ophelia_2019', 'greta_2019', 'satanic_panic_2019', 'mrs_lowry_and_son', 'chimera_strain_2019', 'operation_finale', 'time_trap', 'the_front_runner_2018', 'candy_corn', 'the_riot_act', 'outlaw_king', 'scarborough', 'miss_virginia', '2nd_date_sex', 'high_strung_free_dance', 'crown_vic', 'the_secret_life_of_pets_2', 'brian_banks', '21_2020', 'tyrel', 'doom_annihilation', 'breakthrough_2019', 'fractured', 'alita_battle_angel', 'vox_lux', 'bohemian_rhapsody']\n",
      "61\n",
      "['mary_queen_of_scots', 'velvet_buzzsaw', 'lying_and_stealing', 'trial_by_fire', 'dilili_in_paris', 'murder_on_the_orient_express_2017', 'kaleidoscope_2017', 'entanglement_2018', 'take_your_pills', 'satanic_panic_2019', 'uncle_drew', 'the_new_romantic', 'burn_your_maps', 'sicario_day_of_the_soldado', 'outlaw_king', 'the_riot_act', 'arctic_tale', 'most_likely_to_murder', 'driven', 'hotel_transylvania_3_summer_vacation', 'crown_vic', 'sierra_burgess_is_a_loser', 'i_can_only_imagine_2018', 'brian_banks', 'edie', 'this_beautiful_fantastic_2017', 'the_shed_2019', 'breakthrough_2019', 'fractured', 'war_on_everyone', 'alita_battle_angel', 'vox_lux']\n",
      "62\n",
      "['yesterday_2019', 'lasso', 'mary_queen_of_scots', 'velvet_buzzsaw', 'lying_and_stealing', 'bird_box', 'marie_curie_the_courage_of_knowledge_2017', 'childs_play_2019', 'the_awakening_of_motti_wolkenbruch', 'take_your_pills', 'changeland', 'head_count', 'every_day_2018', 'uncle_drew', 'i_think_were_alone_now_2018', 'st_agatha', 'the_new_romantic', 'burn_your_maps', 'sicario_day_of_the_soldado', 'paradise_hills', 'dog_days_2018', 'most_likely_to_murder', 'driven', 'us_and_them', 'hotel_transylvania_3_summer_vacation', 'it_chapter_two', 'the_oath_2018', 'edie', 'the_shed_2019', 'ramen_heads', 'dead_night', 'the_man_who_killed_don_quixote']\n",
      "63\n",
      "['yesterday_2019', 'lasso', 'shes_missing', 'bird_box', 'mad_to_be_normal', 'peter_rabbit_2018', 'marie_curie_the_courage_of_knowledge_2017', 'the_tribes_of_palos_verdes', 'childs_play_2019', 'the_awakening_of_motti_wolkenbruch', 'changeland', 'head_count', 'every_day_2018', 'unicorn_store', 'beyond_skyline_2017', 'memoir_of_war', 'i_think_were_alone_now_2018', 'st_agatha', 'paradise_hills', 'dog_days_2018', 'us_and_them', 'the_lullaby_2018', 'it_chapter_two', 'the_oath_2018', 'rockaway', 'goodbye_christopher_robin', 'the_odyssey_2016', 'ill_take_your_dead', 'dead_ant', 'ramen_heads', 'dead_night', 'the_man_who_killed_don_quixote']\n",
      "64\n",
      "['axolotl_overkill', 'resistance_2011', 'sin_alas', 'shes_missing', 'mad_to_be_normal', 'peter_rabbit_2018', 'the_tribes_of_palos_verdes', 'jonathan_2018', 'before_i_fall', 'the_sound_of_silence_2019', 'unicorn_store', 'falling_inn_love', 'the_perfect_date', 'memoir_of_war', 'i_am_michael', 'napping_princess', 'sophie_and_the_rising_sun', 'bitch_2017', 'the_public', 'stellas_last_weekend', 'the_lullaby_2018', 'the_christmas_chronicles', 'rockaway', 'the_wall_2017', 'the_foreigner_2017', 'suspiria_2018', 'the_day_shall_come', 'the_little_stranger_2018', 'ill_take_your_dead', 'dead_ant', 'annabelle_comes_home', 'the_parts_you_lose']\n",
      "65\n",
      "['resistance_2011', 'storks', 'alien_covenant', 'little_joe', 'siren_2016', 'monster_hunt', 'jonathan_2018', 'the_polka_king', 'the_sound_of_silence_2019', 'falling_inn_love', 'victoria_and_abdul', 'the_wave_2020', 'the_perfect_date', 'the_great_gilly_hopkins_2016', 'napping_princess', 'wine_country', 'the_public', 'anthropoid', 'bitch_2017', 'stellas_last_weekend', 'the_christmas_chronicles', 'vice_2018', 'the_wall_2017', 'the_foreigner_2017', 'suspiria_2018', 'the_day_shall_come', 'the_little_stranger_2018', 'the_house_with_a_clock_in_its_walls', 'annabelle_comes_home', 'the_parts_you_lose', 'body_at_brighton_rock', 'lizzie_2018']\n"
     ]
    },
    {
     "name": "stdout",
     "output_type": "stream",
     "text": [
      "66\n",
      "['nancy_drew_and_the_hidden_staircase_2019', 'the_banana_splits', 'another_wolfcop', 'skin_in_the_game_2019', 'little_joe', 'bleach_2018', 'lou_andreas_salome_the_audacity_to_be_free', 'dark_encounter', 'olympic_dreams', 'knives_and_skin', 'long_time_coming_a_1955_baseball_story', 'fast_and_furious_presents_hobbs_and_shaw', 'the_wave_2020', 'welcome_to_mercy', 'wine_country', 'red_letter_day', 'golden_boy_2018', 'vice_2018', 'the_white_crow', 'on_chesil_beach', 'calling_all_earthlings', 'the_house_with_a_clock_in_its_walls', 'beautifully_broken', 'the_quiet_one_2019', '10x10', 'killer_kate', 'the_isle_2019', 'ibiza', 'caught_2018', 'danger_close_2019', 'body_at_brighton_rock', 'lizzie_2018']\n",
      "67\n",
      "['damsel', 'nancy_drew_and_the_hidden_staircase_2019', 'the_banana_splits', 'adopt_a_highway', 'skin_in_the_game_2019', 'puppet_master_the_littlest_reich', 'bleach_2018', 'lou_andreas_salome_the_audacity_to_be_free', 'dark_encounter', 'olympic_dreams', 'knives_and_skin', 'long_time_coming_a_1955_baseball_story', 'fast_and_furious_presents_hobbs_and_shaw', 'welcome_to_mercy', 'jay_and_silent_bob_reboot', 'red_letter_day', 'triple_threat_2019', 'sister_aimee', 'golden_boy_2018', 'zombieland_double_tap', 'the_white_crow', 'joker_2019', 'on_chesil_beach', 'calling_all_earthlings', 'the_seagull_2018', 'the_knight_before_christmas', 'beautifully_broken', 'the_quiet_one_2019', 'killer_kate', 'the_isle_2019', 'the_cured', 'danger_close_2019']\n",
      "68\n",
      "['oceans_8', 'damsel', 'adopt_a_highway', '68_kill', 'puppet_master_the_littlest_reich', 'the_housemaid_2018', 'the_journey_2017', 'the_quest_of_alain_ducasse', 'manolo_the_boy_who_made_shoes_for_lizards', 'pokemon_detective_pikachu', 'finding_your_feet', 'come_sunday', 'disappearance_at_clifton_hill', 'the_changeover', 'jay_and_silent_bob_reboot', 'bottom_of_the_9th_2019', 'stillborn_2018', 'triple_threat_2019', 'sister_aimee', 'final_score_2018', 'super_size_me_2_holy_chicken', 'zombieland_double_tap', 'joker_2019', 'it_happened_in_la', 'the_seagull_2018', 'the_knight_before_christmas', 'cold_pursuit', 'wonderstruck', 'the_cured', 'mother_2017', 'wolf_warrior_ii', 'the_command']\n",
      "69\n",
      "['oceans_8', 'the_kill_team_2019', 'hold_the_dark', 'the_housemaid_2018', 'wrinkles_the_clown', 'the_quest_of_alain_ducasse', 'the_cotton_club_encore', 'pokemon_detective_pikachu', 'cubby', 'isnt_it_romantic_2019', 'darlin', 'disappearance_at_clifton_hill', 'the_changeover', 'double_lover', 'wildling', 'bottom_of_the_9th_2019', 'final_score_2018', 'aniara', 'super_size_me_2_holy_chicken', 'roxanne_roxanne', 'solo_a_star_wars_story', 'paterno_2018', 'adrift_2018', 'cold_pursuit', 'the_mule_2018', 'angel_of_mine_2019', 'bombshell_2019', 'mother_2017', 'happy_death_day_2u', 'wolf_warrior_ii', 'terminator_dark_fate', 'the_command']\n",
      "70\n",
      "['rivers_edge_2019', 'the_kill_team_2019', 'hold_the_dark', 'wrinkles_the_clown', 'horse_girl', 'deadtectives', 'the_cotton_club_encore', 'most_likely_to_succeed_2019', 'cubby', 'isnt_it_romantic_2019', 'darlin', 'narcissister_organ_player', 'teen_spirit_2019', 'the_king_2019', 'escape_from_pretoria', 'the_last_photograph_2017', 'nappily_ever_after', 'black_site_2019', 'haunt_2019', 'the_go_getters', 'aniara', 'the_tribe_2018', 'solo_a_star_wars_story', 'low_tide_2018', 'back_roads_2018', 'paterno_2018', 'adrift_2018', 'the_mule_2018', 'angel_of_mine_2019', 'bombshell_2019', 'happy_death_day_2u', 'terminator_dark_fate']\n",
      "71\n",
      "['rivers_edge_2019', 'horse_girl', 'piercing', 'the_happy_prince_2018', 'deadtectives', 'gwen', 'most_likely_to_succeed_2019', 'ready_player_one', 'all_the_bright_places', 'all_is_true', 'narcissister_organ_player', 'indivisible_2018', 'candy_jar', 'teen_spirit_2019', 'the_king_2019', 'escape_from_pretoria', 'the_last_photograph_2017', 'nappily_ever_after', 'black_site_2019', 'haunt_2019', 'the_go_getters', 'adventures_in_public_school', 'back_to_burgundy', 'triple_frontier', 'the_apparition_2018', 'the_tribe_2018', 'the_rachel_divide', 'low_tide_2018', 'back_roads_2018', 'i_see_you_2019', 'gemini_2018', 'snapshots_2018']\n",
      "72\n",
      "['the_forest_of_the_lost_souls', 'the_long_dumb_road', 'like_me', 'final_portrait', 'piercing', 'the_happy_prince_2018', 'gwen', 'ready_player_one', 'galveston', 'all_the_bright_places', 'all_is_true', 'indivisible_2018', 'the_delinquent_season', 'lost_and_found_2019', 'assassination_nation', 'batman_gotham_by_gaslight', 'the_children_act', 'the_perfection', 'triple_frontier', 'viceroys_house', 'the_apparition_2018', 'christopher_robin', 'the_ritual_2017', 'savage_dog', 'the_rachel_divide', 'chef_flynn', 'abe_and_phils_last_poker_game', 'i_see_you_2019', 'prodigy_2018', 'the_angry_birds_movie_2', 'the_bastards_fig_tree', 'on_the_basis_of_sex']\n",
      "73\n",
      "['the_forest_of_the_lost_souls', 'the_long_dumb_road', 'a_christmas_prince', 'like_me', 'final_portrait', 'lords_of_chaos', 'ghost_light_2018', 'galveston', 'the_delinquent_season', 'lost_and_found_2019', 'assassination_nation', 'claras_ghost', 'batman_gotham_by_gaslight', 'the_children_act', 'the_perfection', 'to_all_the_boys_ps_i_still_love_you', 'bernard_and_huey', 'viceroys_house', 'christopher_robin', 'dont_leave_home', 'the_ritual_2017', 'between_two_ferns_the_movie', 'savage_dog', 'adam_2019', 'chef_flynn', 'abe_and_phils_last_poker_game', 'destroyer', 'prodigy_2018', 'the_mercy', 'the_angry_birds_movie_2', 'the_bastards_fig_tree', 'on_the_basis_of_sex']\n",
      "74\n",
      "['the_dark_red', 'the_gardener_2018', 'longing_2018', 'sobibor', 'lords_of_chaos', 'loopers_the_caddies_long_walk', 'bad_times_at_the_el_royale', 'ghost_light_2018', 'tales_from_the_hood_2', 'scotch_a_golden_dream', 'long_lost', 'armstrong_2019', 'spies_in_disguise', 'the_field_guide_to_evil', 'claras_ghost', 'monster_party_2018', 'spider_in_the_web', 'book_of_monsters', 'i_trapped_the_devil', 'to_all_the_boys_ps_i_still_love_you', 'mirage_2019', 'between_two_ferns_the_movie', 'the_princess_switch', 'after_louie', 'adam_2019', 'alone_2018', 'anchor_and_hope', 'destroyer', 'dragged_across_concrete', 'the_mercy', 'the_death_of_dick_long', 'the_night_sitter']\n",
      "75\n",
      "['pledge_2019', 'lu_over_the_wall', 'the_dark_red', 'longing_2018', 'richard_jewell', 'sobibor', 'loopers_the_caddies_long_walk', 'britt_marie_was_here', 'bad_times_at_the_el_royale', 'wonders_of_the_sea_2019', 'tales_from_the_hood_2', 'scotch_a_golden_dream', 'long_lost', 'armstrong_2019', 'mega_time_squad', 'spies_in_disguise', 'monster_party_2018', 'the_field_guide_to_evil', 'dont_worry_he_wont_get_far_on_foot', 'spider_in_the_web', 'book_of_monsters', 'the_man_who_killed_hitler_and_then_the_bigfoot', 'i_trapped_the_devil', 'mirage_2019', 'the_princess_switch', 'hotel_mumbai', 'alone_2018', 'anchor_and_hope', 'smallfoot', 'dragged_across_concrete', 'the_death_of_dick_long', 'the_night_sitter']\n",
      "76\n",
      "['una_2017', 'pledge_2019', 'lu_over_the_wall', 'anna_and_the_apocalypse', 'richard_jewell', 'britt_marie_was_here', 'i_kill_giants', 'wonders_of_the_sea_2019', 'nightmare_cinema', 'the_standoff_at_sparrow_creek', 'mega_time_squad', 'dont_worry_he_wont_get_far_on_foot', 'skin_2019', 'the_man_who_killed_hitler_and_then_the_bigfoot', 'a_simple_wedding', 'take_every_wave_the_life_of_laird_hamilton', 'the_escape_2018', 'serendipity_2019', 'the_china_hustle', 'braven', 'little_pink_house', 'hotel_mumbai', 'frozen_ii', 'small_town_crime', 'son_of_bigfoot', 'in_the_fade', 'the_clovehitch_killer', 'smallfoot', 'thank_you_for_your_service_2017', 'swinging_safari', 'american_folk', 'jumanji_welcome_to_the_jungle']\n",
      "77\n",
      "['the_legend_of_cocaine_island', 'anna_and_the_apocalypse', 'loro_2019', 'green_book', 'scary_stories_to_tell_in_the_dark', 'i_kill_giants', 'last_flag_flying', 'nightmare_cinema', 'the_standoff_at_sparrow_creek', 'sweet_virginia_2017', 'bad_reputation_2018', 'speed_of_life_2019', 'the_boat_2018', 'the_devils_doorway', 'skin_2019', 'everybody_knows', 'a_simple_wedding', 'discreet_2018', 'the_escape_2018', 'black_47', 'scarred_hearts', 'serendipity_2019', 'braven', 'melody_makers', 'the_china_hustle', 'captain_marvel', 'frozen_ii', 'small_town_crime', 'in_the_fade', 'the_last_suit', 'the_clovehitch_killer', 'swinging_safari']\n",
      "78\n",
      "['the_revival_2018', 'buffalo_boys_2019', 'the_legend_of_cocaine_island', 'marianne_and_leonard_words_of_love', 'the_man_who_invented_christmas', 'loro_2019', 'go_back_to_china', 'green_book', 'the_killing_of_a_sacred_deer', 'scary_stories_to_tell_in_the_dark', 'last_flag_flying', 'dovlatov', 'sweet_virginia_2017', 'bad_reputation_2018', 'speed_of_life_2019', 'the_boat_2018', 'amy_schumer_growing', 'the_devils_doorway', 'everybody_knows', 'the_tiger_hunter', 'an_inconvenient_sequel_truth_to_power', 'discreet_2018', 'black_47', 'scarred_hearts', 'melody_makers', 'captain_marvel', 'the_last_suit', 'halloween_2018', 'all_the_money_in_the_world_2017', 'dark_river_2018', 'the_challenge_2017', 'atomic_blonde_2017']\n"
     ]
    },
    {
     "name": "stdout",
     "output_type": "stream",
     "text": [
      "79\n",
      "['buffalo_boys_2019', 'marianne_and_leonard_words_of_love', 'betty_they_say_im_different', 'cold_brook', 'the_maestro', 'kevin_harts_guide_to_black_history', 'fire_in_paradise', 'auggie', 'go_back_to_china', 'luciferina', 'at_eternitys_gate', 'greenlight', 'sprinter', 'pressing_on_the_letterpress_film', 'a_boy_called_sailboat', 'a_fortunate_man', 'amy_schumer_growing', 'anthony_jeselnik_fire_in_the_maternity_ward', 'escape_and_evasion', 'greener_grass', 'extracurricular', 'st_bernard_syndicate', 'juanita_2019', 'alpha_2018', 'rondo_2018', 'code_8', 'the_bouncer', 'halloween_2018', '30_miles_from_nowhere', 'scary_stories', 'we_are_the_heat', 'good_boys_2019']\n",
      "80\n",
      "['betty_they_say_im_different', 'cold_brook', 'the_maestro', 'kevin_harts_guide_to_black_history', 'fire_in_paradise', 'auggie', 'daniel_isnt_real', 'instant_family', 'at_eternitys_gate', 'greenlight', 'sprinter', 'overlord_2018', 'pressing_on_the_letterpress_film', 'this_is_not_berlin', 'a_fortunate_man', 'abominable', 'anthony_jeselnik_fire_in_the_maternity_ward', 'escape_and_evasion', 'greener_grass', 'extracurricular', 'st_bernard_syndicate', 'juanita_2019', 'let_it_snow_2019', 'the_wind_2019', 'rondo_2018', 'code_8', 'light_of_my_life', '30_miles_from_nowhere', 'scary_stories', 'we_are_the_heat', 'girl_on_the_third_floor', 'good_boys_2019']\n",
      "81\n",
      "['fast_color', 'vfw', 'what_keeps_you_alive', 'daniel_isnt_real', 'instant_family', 'mid90s', 'long_shot_2019', 'avengement', 'overlord_2018', 'seventeen_2019', 'pope_francis_a_man_of_his_word', 'this_is_not_berlin', 'room_for_rent_2019', 'abominable', 'all_these_small_moments', 'in_the_intense_now', 'fahrenheit_119', 'someone_great', 'queen_and_slim', 'level_16', 'let_it_snow_2019', 'the_wind_2019', 'without_name', 'high_life_2019', 'ben_is_back_2018', 'light_of_my_life', 'memory_the_origins_of_alien', 'girl_on_the_third_floor', 'boy_erased', 'the_son_2019', 'judy_2019', 'scaffolding_2018']\n",
      "82\n",
      "['official_secrets', 'fast_color', 'vfw', 'mission_of_honor_2019', 'my_hindu_friend', 'inside_lehman_brothers', 'who_would_you_take_to_a_deserted_island', 'long_shot_2019', 'avengement', 'seventeen_2019', 'crawl_2019', 'room_for_rent_2019', 'in_the_intense_now', 'after_midnight_2020', 'no_alternative_2018', 'someone_great', 'waves_2019', 'queen_and_slim', 'lady_j', 'level_16', 'coyote_lake', 'afterward', 'high_life_2019', 'ben_is_back_2018', 'antrum_the_deadliest_film_ever_made', 'memory_the_origins_of_alien', 'midsommar', 'funny_story', 'four_hands', 'a_reindeers_journey', 'the_son_2019', 'judy_2019']\n",
      "83\n",
      "['letters_from_baghdad', 'official_secrets', 'the_brink_2019', 'socrates_2019', 'dora_and_the_lost_city_of_gold', 'mission_of_honor_2019', 'dragon_ball_super_broly', 'my_hindu_friend', 'inside_lehman_brothers', 'who_would_you_take_to_a_deserted_island', 'the_art_of_self_defense_2019', 'crawl_2019', 'standing_up_falling_down', 'after_midnight_2020', 'the_quake', 'creed_ii', 'no_alternative_2018', 'waves_2019', 'lady_j', 'coyote_lake', 'afterward', 'ad_astra', 'downton_abbey', 'my_dinner_with_herve', 'the_hole_in_the_ground', 'antrum_the_deadliest_film_ever_made', 'midsommar', 'period_end_of_sentence', 'funny_story', 'four_hands', 'a_reindeers_journey', 'rust_creek']\n",
      "84\n",
      "['the_land_of_steady_habits', 'letters_from_baghdad', 'empathy_inc', 'the_brink_2019', 'socrates_2019', 'dora_and_the_lost_city_of_gold', 'god_knows_where_i_am', 'dumplin', 'dragon_ball_super_broly', 'woodstock_three_days_that_defined_a_generation', 'girl', '37_seconds', 'the_weekend_2018', 'once_upon_a_time_in_hollywood', 'the_art_of_self_defense_2019', 'standing_up_falling_down', 'the_quake', 'the_vanishing_2019', 'await_further_instructions', 'creed_ii', 'the_wife_2018', 'ad_astra', 'the_lego_movie_2_the_second_part', 'downton_abbey', 'tater_tot_and_patton', 'as_if_i_am_not_there_2011', 'the_hole_in_the_ground', 'sollers_point', 'untouchable_2019', 'a_simple_favor', 'ghost_stories_2018', 'rust_creek']\n",
      "85\n",
      "['the_witch_subversion', 'empathy_inc', 'color_out_of_space', 'god_knows_where_i_am', 'dumplin', 'i_am_richard_pryor', 'woodstock_three_days_that_defined_a_generation', 'girl', '37_seconds', 'wheres_my_roy_cohn', 'the_weekend_2018', 'once_upon_a_time_in_hollywood', 'bill_burr_paper_tiger', 'the_boy_who_harnessed_the_wind', 'first_man', 'the_vanishing_2019', 'monsters_and_men', 'freaks_2019', 'the_wife_2018', 'use_me', 'the_lego_movie_2_the_second_part', 'the_third_murder', 'tater_tot_and_patton', 'as_if_i_am_not_there_2011', 'aziz_ansari_right_now', 'untouchable_2019', 'the_miseducation_of_cameron_post_2018', 'a_simple_favor', 'lifechanger', 'come_to_daddy', 'braid_2019']\n",
      "86\n",
      "['the_witch_subversion', 'the_sisters_brothers', 'the_12th_man', 'hustlers_2019', 'ne_zha_2019', 'color_out_of_space', 'i_am_richard_pryor', 'colette_2018', 'upgrade_2018', 'what_they_had', 'wheres_my_roy_cohn', 'a_space_program', 'pavarotti', 'bill_burr_paper_tiger', 'soni', 'the_boy_who_harnessed_the_wind', 'depraved', 'whos_watching_oliver', 'first_man', 'monsters_and_men', 'freaks_2019', 'use_me', 'the_third_murder', 'aziz_ansari_right_now', 'the_miseducation_of_cameron_post_2018', 'tully_2018', 'the_most_assassinated_woman_in_the_world', 'lifechanger', 'come_to_daddy', 'braid_2019', 'the_dark_2018']\n",
      "87\n",
      "['ladies_in_black', 'the_sisters_brothers', 'social_animals_2018', 'hustlers_2019', 'the_great_buddha', 'sgt_stubby_an_american_hero', 'ne_zha_2019', 'colette_2018', 'hummus_the_movie', 'what_they_had', 'bloody_marie', 'a_space_program', 'pavarotti', 'life_after_flash', 'soni', 'depraved', 'feast_of_the_seven_fishes', 'frankensteins_monsters_monster_frankenstein', 'madelines_madeline', 'ralph_breaks_the_internet', 'newly_single', 'the_golem_2019', 'mia_and_the_white_lion', 'a_private_war', 'claires_camera', 'plus_one_2019', 'swallow', 'eye_for_an_eye_2019', 'the_great_hack', 'ready_or_not_2019', 'mine_9', 'the_dark_2018']\n",
      "88\n",
      "['wayne', 'ladies_in_black', 'after_class', 'missing_link_2019', 'rocketman_2019', 'arctic_2019', 'the_great_buddha', 'framing_john_delorean', '1917_2019', 'bloody_marie', 'master_z_ip_man_legacy', 'riot_girls', 'linda_ronstadt_the_sound_of_my_voice', 'my_name_is_myeisha', 'feast_of_the_seven_fishes', 'the_two_popes', 'may_it_last_a_portrait_of_the_avett_brothers', 'the_kid_who_would_be_king', 'frankensteins_monsters_monster_frankenstein', 'tel_aviv_on_fire', 'beats', 'always_be_my_maybe_2019', 'top_end_wedding', 'mia_and_the_white_lion', 'blinded_by_the_light', 'in_the_aisles', 'plus_one_2019', 'swallow', 'eye_for_an_eye_2019', 'the_great_hack', 'ready_or_not_2019', 'mine_9']\n",
      "89\n",
      "['bliss_2019', 'wayne', 'after_class', 'missing_link_2019', 'rocketman_2019', 'framing_john_delorean', 'the_souvenir', 'john_wick_chapter_3_parabellum', '1917_2019', 'the_lighthouse_2019', 'dude_bro_party_massacre_iii', 'the_other_side_of_everything', 'master_z_ip_man_legacy', 'riot_girls', 'linda_ronstadt_the_sound_of_my_voice', 'bodied', 'my_name_is_myeisha', 'the_two_popes', 'we_believe_in_dinosaurs', 'may_it_last_a_portrait_of_the_avett_brothers', 'ice_on_fire_2019', 'tel_aviv_on_fire', 'beats', 'shazam', 'tread', 'always_be_my_maybe_2019', 'top_end_wedding', 'blinded_by_the_light', 'i_am_mother', 'in_the_aisles', 'dark_waters_2019', 'leaving_home_coming_home_a_portrait_of_robert_frank']\n",
      "90\n",
      "['bliss_2019', 'qt8_the_first_eight', 'spider_man_far_from_home', 'mirai', 'luce', 'capernaum', 'the_souvenir', 'john_wick_chapter_3_parabellum', 'never_grow_old', 'the_lighthouse_2019', 'dude_bro_party_massacre_iii', 'the_other_side_of_everything', 'possum', 'bodied', 'gloria_bell', 'the_unicorn', 'we_believe_in_dinosaurs', 'in_search_of_greatness', 'ice_on_fire_2019', 'paddleton', 'the_most_dangerous_year', 'shazam', 'tread', 'legend_of_the_demon_cat', 'starfish_2019', 'i_am_mother', 'el_camino_a_breaking_bad_movie', 'give_me_liberty_2019', 'a_star_is_born_2018', 'how_to_train_your_dragon_the_hidden_world', 'dark_waters_2019', 'leaving_home_coming_home_a_portrait_of_robert_frank']\n",
      "91\n",
      "['echo_in_the_canyon', 'qt8_the_first_eight', 'wild_rose_2019', 'bumblebee', 'spider_man_far_from_home', 'mirai', 'luce', 'stay_human', 'sacred', 'the_wolfs_call', 'the_ballad_of_buster_scruggs', 'widows_2018', 'a_vigilante', 'gloria_bell', 'between_the_lines', 'system_crasher', 'rolling_thunder_revue_a_bob_dylan_story_by_martin_scorsese', 'the_unicorn', 'netizens', 'the_grief_of_others', 'eating_animals', 'rockos_modern_life_static_cling', 'the_most_dangerous_year', 'ghostbox_cowboy', 'legend_of_the_demon_cat', 'el_camino_a_breaking_bad_movie', 'give_me_liberty_2019', 'crazy_rich_asians', 'how_to_train_your_dragon_the_hidden_world', 'searching_2018', 'uncut_gems', 'maria_by_callas']\n"
     ]
    },
    {
     "name": "stdout",
     "output_type": "stream",
     "text": [
      "92\n",
      "['echo_in_the_canyon', 'wild_rose_2019', 'anya_2019', 'bumblebee', 'the_great_buster_a_celebration', 'cam', 'in_fabric', 'the_last_black_man_in_san_francisco', 'stay_human', 'if_the_dancer_dances', 'us_2019', 'fighting_with_my_family', 'the_last_race_2018', 'the_old_man_and_the_gun', 'the_wolfs_call', 'the_favourite_2018', 'diane_2019', 'wildlife_2018', 'a_vigilante', 'between_the_lines', 'system_crasher', 'rolling_thunder_revue_a_bob_dylan_story_by_martin_scorsese', 'netizens', 'sword_of_trust', 'the_grief_of_others', 'giant_little_ones', 'high_flying_bird', 'rockos_modern_life_static_cling', 'miss_americana', 'searching_2018', 'uncut_gems', 'maria_by_callas']\n",
      "93\n",
      "['the_dead_center', 'anya_2019', 'sweetheart', 'the_great_buster_a_celebration', 'cam', 'in_fabric', 'the_last_black_man_in_san_francisco', 'if_the_dancer_dances', 'my_days_of_mercy', 'us_2019', 'fighting_with_my_family', 'the_last_race_2018', 'the_old_man_and_the_gun', 'screwball', 'the_favourite_2018', 'the_rape_of_recy_taylor', 'dont_come_back_from_the_moon', 'diane_2019', 'time_for_ilhan', 'the_american_meme', 'wildlife_2018', 'premature_2020', 'blindspotting', 'klaus', 'sword_of_trust', 'avengers_endgame', 'giant_little_ones', 'high_flying_bird', 'transit_2018', 'miss_americana', 'tucked', 'the_mustang']\n",
      "94\n",
      "['the_dead_center', 'roma_2018', 'sweetheart', 'shadow_2018', 'styx_2019', 'burning_2018', 'my_days_of_mercy', 'screwball', 'goldie', 'the_rape_of_recy_taylor', 'dont_come_back_from_the_moon', 'jinn_2018', 'time_for_ilhan', 'the_bill_murray_stories_life_lessons_learned_from_a_mythical_man', 'the_american_meme', 'incredibles_2', '1985_2018', 'rbg', 'premature_2020', 'blindspotting', 'klaus', 'the_world_is_yours_2018', 'avengers_endgame', 'private_life_2018', 'transit_2018', 'blue_note_records_beyond_the_notes', 'tucked', 'blaze_2018', 'the_mustang', 'time_share_2018', 'see_you_yesterday', 'marriage_story_2019']\n",
      "95\n",
      "['thunder_road_2018', 'atlantics', 'roma_2018', 'the_irishman', 'shadow_2018', 'bikram_yogi_guru_predator', 'hagazussa_a_heathens_curse', 'styx_2019', 'burning_2018', 'little_woods', 'be_natural_the_untold_story_of_alice_guy_blache', 'blackkklansman', 'goldie', 'jinn_2018', 'i_lost_my_body', '1985_2018', 'blood_on_her_name', 'the_world_is_yours_2018', 'john_mulaney_and_the_sack_lunch_bunch', 'blue_note_records_beyond_the_notes', 'harpoon_2019', 'blaze_2018', 'by_the_grace_of_god_2019', 'american_factory', 'time_share_2018', 'queen_of_hearts_2019', 'the_peanut_butter_falcon', 'springsteen_on_broadway', 'tell_me_who_i_am', 'becoming_astrid', 'see_you_yesterday', 'marriage_story_2019']\n",
      "96\n",
      "['atlantics', 'the_irishman', 'booksmart', 'the_edge_of_democracy', 'bikram_yogi_guru_predator', 'hagazussa_a_heathens_curse', 'little_woods', 'the_body_remembers_when_the_world_broke_open', 'be_natural_the_untold_story_of_alice_guy_blache', 'the_gangster_the_cop_the_devil', 'a_shaun_the_sheep_movie_farmageddon', 'come_as_you_are_2020', 'border_2018', 'i_lost_my_body', 'blood_on_her_name', 'the_rider', 'hale_county_this_morning_this_evening', 'the_hate_u_give', 'free_solo', 'toy_story_4', 'first_love_2019', 'john_mulaney_and_the_sack_lunch_bunch', 'spider_man_into_the_spider_verse', 'harpoon_2019', 'by_the_grace_of_god_2019', 'dolemite_is_my_name', 'american_factory', 'queen_of_hearts_2019', 'pain_and_glory', 'the_peanut_butter_falcon', 'tell_me_who_i_am', 'becoming_astrid']\n",
      "97\n",
      "['wont_you_be_my_neighbor', 'booksmart', 'the_edge_of_democracy', 'mission_impossible_fallout', 'the_body_remembers_when_the_world_broke_open', 'peoples_republic_of_desire', 'the_gangster_the_cop_the_devil', 'homecoming_a_film_by_beyonce', 'a_shaun_the_sheep_movie_farmageddon', 'the_farewell_2019', 'come_as_you_are_2020', 'court', 'border_2018', 'the_rider', 'coco_2017', 'hale_county_this_morning_this_evening', 'the_hate_u_give', 'free_solo', 'the_guilty_2018', 'maiden', 'toy_story_4', 'three_identical_strangers', 'to_all_the_boys_ive_loved_before', 'first_love_2019', 'tehran_taboo', 'spider_man_into_the_spider_verse', 'dolemite_is_my_name', 'pick_of_the_litter', 'pain_and_glory', 'rodents_of_unusual_size', 'last_men_in_aleppo', 'black_panther_2018']\n",
      "98\n",
      "['lady_bird', 'dont_think_twice', 'long_way_north', 'daughters_of_the_dust', 'moonlight_2016', 'my_life_as_a_zucchini', 'wont_you_be_my_neighbor', 'apollo_11_2019', 'cameraperson', 'faces_places', 'tea_with_the_dames', 'under_the_shadow', 'kedi_2017', 'amazing_grace_2018', 'gods_own_country_2017', 'get_out', 'homecoming_a_film_by_beyonce', 'the_farewell_2019', 'tower_2016', 'court', 'parasite_2019', 'ash_is_purest_white', 'the_guilty_2018', 'maiden', 'things_to_come_2016', 'shoplifters', 'i_am_not_your_negro', 'your_name_2017', 'the_big_sick', 'rodents_of_unusual_size', 'eighth_grade', 'mcqueen']\n",
      "99\n",
      "['the_rest_of_us', 'mike_birbiglia_the_new_one', 'the_black_string', 'toxic_beauty', 'leslie_jones_time_machine', 'olivia_2019', 'jenny_slate_stage_fright', 'making_montgomery_clift', 'to_kid_or_not_to_kid', 'snatchers', '2_in_the_bush_a_love_story_2019', 'barbara_rubin_and_the_exploding_ny_underground', 'michelle_wolf_joke_show', 'gebo_and_the_shadow', 'iron_fists_and_kung_fu_kicks', 'vai', 'the_parting_glass', 'liyana', 'ghosts_of_sugar_land', 'parasite_2019', '5b', 'artik', 'invader_zim_enter_the_florpus', 'foosballers', 'philophobia_or_the_fear_of_falling_in_love', 'the_return_of_martin_guerre', 'a_bread_factory_part_two_walk_with_me_a_while', 'i_am_patrick_swayze_2019', 'apocalypse_now_final_cut', 'after_we_leave', 'the_fare', 'a_bread_factory_part_one_for_the_sake_of_gold']\n",
      "100\n",
      "['the_rest_of_us', 'mike_birbiglia_the_new_one', 'the_black_string', 'toxic_beauty', 'leslie_jones_time_machine', 'olivia_2019', 'jenny_slate_stage_fright', 'making_montgomery_clift', 'to_kid_or_not_to_kid', 'teacher_2019', 'snatchers', '2_in_the_bush_a_love_story_2019', 'barbara_rubin_and_the_exploding_ny_underground', 'michelle_wolf_joke_show', 'gebo_and_the_shadow', 'iron_fists_and_kung_fu_kicks', 'vai', 'the_parting_glass', 'liyana', 'ghosts_of_sugar_land', 'artik', '5b', 'foosballers', 'invader_zim_enter_the_florpus', 'philophobia_or_the_fear_of_falling_in_love', 'the_return_of_martin_guerre', 'a_bread_factory_part_two_walk_with_me_a_while', 'i_am_patrick_swayze_2019', 'apocalypse_now_final_cut', 'after_we_leave', 'the_fare', 'a_bread_factory_part_one_for_the_sake_of_gold']\n"
     ]
    }
   ],
   "source": [
    "all_rotten_movies = []\n",
    "rotten_scores = []\n",
    "for i in range(0, 101):\n",
    "    page = requests.get(\"https://www.rottentomatoes.com/browse/\"\n",
    "                        \"dvd-streaming-all?minTomato={}&maxTomato={}&services\"\n",
    "                        \"=amazon;hbo_go;itunes;netflix_iw;vudu;amazon_prime;\"\n",
    "                        \"fandango_now&genres=1;2;4;5;6;8;9;10;11;13;18;14\"\n",
    "                        \"&sortBy=release\".format(i, i+1))\n",
    "    soup = BeautifulSoup(page.content, 'html.parser')\n",
    "    page = soup.get_text()\n",
    "    comp = re.compile('\"\\/m\\/\\w+\"')\n",
    "    movies = comp.findall(page)\n",
    "    movies_unique = list(set([movie[4:-1] for movie in movies]))\n",
    "    rotten_scores.extend([i for _ in movies_unique])\n",
    "    all_rotten_movies.extend(movies_unique)\n",
    "    print(i)\n",
    "    print(movies_unique)\n",
    "    time.sleep(1)"
   ]
  },
  {
   "cell_type": "code",
   "execution_count": 26,
   "metadata": {},
   "outputs": [],
   "source": [
    "# Chopping off the year for those movies that have it.\n",
    "rotten_movies_noyear = [film[:-5] if film[-4:-2] == '20' else film \n",
    "        for film in all_rotten_movies]"
   ]
  },
  {
   "cell_type": "code",
   "execution_count": 28,
   "metadata": {},
   "outputs": [],
   "source": [
    "rotten_form = fun.format_titles(rotten_movies_noyear)"
   ]
  },
  {
   "cell_type": "markdown",
   "metadata": {},
   "source": [
    "## Scraping in the Screenplays"
   ]
  },
  {
   "cell_type": "code",
   "execution_count": 46,
   "metadata": {},
   "outputs": [
    {
     "data": {
      "text/plain": [
       "<module 'functions' from '/Users/terryollila/flatiron-ds-course/dsc-capstone-project-v2-online-ds-ft-100719/flatirons_capstone_2/functions.py'>"
      ]
     },
     "execution_count": 46,
     "metadata": {},
     "output_type": "execute_result"
    }
   ],
   "source": [
    "import importlib\n",
    "importlib.reload(fun)"
   ]
  },
  {
   "cell_type": "code",
   "execution_count": 55,
   "metadata": {},
   "outputs": [
    {
     "data": {
      "text/plain": [
       "'citizen-kane'"
      ]
     },
     "execution_count": 55,
     "metadata": {},
     "output_type": "execute_result"
    }
   ],
   "source": [
    "goods_formatted.pop(0)"
   ]
  },
  {
   "cell_type": "code",
   "execution_count": 56,
   "metadata": {},
   "outputs": [
    {
     "name": "stdout",
     "output_type": "stream",
     "text": [
      "godfather-the\n"
     ]
    },
    {
     "ename": "ConnectionError",
     "evalue": "HTTPSConnectionPool(host='www.springfieldspringfield.co.uk', port=443): Max retries exceeded with url: /movie_script.php?movie=godfather-the (Caused by NewConnectionError('<urllib3.connection.VerifiedHTTPSConnection object at 0x1581649b0>: Failed to establish a new connection: [Errno 8] nodename nor servname provided, or not known'))",
     "output_type": "error",
     "traceback": [
      "\u001b[0;31m---------------------------------------------------------------------------\u001b[0m",
      "\u001b[0;31mgaierror\u001b[0m                                  Traceback (most recent call last)",
      "\u001b[0;32m//anaconda3/lib/python3.7/site-packages/urllib3/connection.py\u001b[0m in \u001b[0;36m_new_conn\u001b[0;34m(self)\u001b[0m\n\u001b[1;32m    158\u001b[0m             conn = connection.create_connection(\n\u001b[0;32m--> 159\u001b[0;31m                 (self._dns_host, self.port), self.timeout, **extra_kw)\n\u001b[0m\u001b[1;32m    160\u001b[0m \u001b[0;34m\u001b[0m\u001b[0m\n",
      "\u001b[0;32m//anaconda3/lib/python3.7/site-packages/urllib3/util/connection.py\u001b[0m in \u001b[0;36mcreate_connection\u001b[0;34m(address, timeout, source_address, socket_options)\u001b[0m\n\u001b[1;32m     56\u001b[0m \u001b[0;34m\u001b[0m\u001b[0m\n\u001b[0;32m---> 57\u001b[0;31m     \u001b[0;32mfor\u001b[0m \u001b[0mres\u001b[0m \u001b[0;32min\u001b[0m \u001b[0msocket\u001b[0m\u001b[0;34m.\u001b[0m\u001b[0mgetaddrinfo\u001b[0m\u001b[0;34m(\u001b[0m\u001b[0mhost\u001b[0m\u001b[0;34m,\u001b[0m \u001b[0mport\u001b[0m\u001b[0;34m,\u001b[0m \u001b[0mfamily\u001b[0m\u001b[0;34m,\u001b[0m \u001b[0msocket\u001b[0m\u001b[0;34m.\u001b[0m\u001b[0mSOCK_STREAM\u001b[0m\u001b[0;34m)\u001b[0m\u001b[0;34m:\u001b[0m\u001b[0;34m\u001b[0m\u001b[0;34m\u001b[0m\u001b[0m\n\u001b[0m\u001b[1;32m     58\u001b[0m         \u001b[0maf\u001b[0m\u001b[0;34m,\u001b[0m \u001b[0msocktype\u001b[0m\u001b[0;34m,\u001b[0m \u001b[0mproto\u001b[0m\u001b[0;34m,\u001b[0m \u001b[0mcanonname\u001b[0m\u001b[0;34m,\u001b[0m \u001b[0msa\u001b[0m \u001b[0;34m=\u001b[0m \u001b[0mres\u001b[0m\u001b[0;34m\u001b[0m\u001b[0;34m\u001b[0m\u001b[0m\n",
      "\u001b[0;32m//anaconda3/lib/python3.7/socket.py\u001b[0m in \u001b[0;36mgetaddrinfo\u001b[0;34m(host, port, family, type, proto, flags)\u001b[0m\n\u001b[1;32m    747\u001b[0m     \u001b[0maddrlist\u001b[0m \u001b[0;34m=\u001b[0m \u001b[0;34m[\u001b[0m\u001b[0;34m]\u001b[0m\u001b[0;34m\u001b[0m\u001b[0;34m\u001b[0m\u001b[0m\n\u001b[0;32m--> 748\u001b[0;31m     \u001b[0;32mfor\u001b[0m \u001b[0mres\u001b[0m \u001b[0;32min\u001b[0m \u001b[0m_socket\u001b[0m\u001b[0;34m.\u001b[0m\u001b[0mgetaddrinfo\u001b[0m\u001b[0;34m(\u001b[0m\u001b[0mhost\u001b[0m\u001b[0;34m,\u001b[0m \u001b[0mport\u001b[0m\u001b[0;34m,\u001b[0m \u001b[0mfamily\u001b[0m\u001b[0;34m,\u001b[0m \u001b[0mtype\u001b[0m\u001b[0;34m,\u001b[0m \u001b[0mproto\u001b[0m\u001b[0;34m,\u001b[0m \u001b[0mflags\u001b[0m\u001b[0;34m)\u001b[0m\u001b[0;34m:\u001b[0m\u001b[0;34m\u001b[0m\u001b[0;34m\u001b[0m\u001b[0m\n\u001b[0m\u001b[1;32m    749\u001b[0m         \u001b[0maf\u001b[0m\u001b[0;34m,\u001b[0m \u001b[0msocktype\u001b[0m\u001b[0;34m,\u001b[0m \u001b[0mproto\u001b[0m\u001b[0;34m,\u001b[0m \u001b[0mcanonname\u001b[0m\u001b[0;34m,\u001b[0m \u001b[0msa\u001b[0m \u001b[0;34m=\u001b[0m \u001b[0mres\u001b[0m\u001b[0;34m\u001b[0m\u001b[0;34m\u001b[0m\u001b[0m\n",
      "\u001b[0;31mgaierror\u001b[0m: [Errno 8] nodename nor servname provided, or not known",
      "\nDuring handling of the above exception, another exception occurred:\n",
      "\u001b[0;31mNewConnectionError\u001b[0m                        Traceback (most recent call last)",
      "\u001b[0;32m//anaconda3/lib/python3.7/site-packages/urllib3/connectionpool.py\u001b[0m in \u001b[0;36murlopen\u001b[0;34m(self, method, url, body, headers, retries, redirect, assert_same_host, timeout, pool_timeout, release_conn, chunked, body_pos, **response_kw)\u001b[0m\n\u001b[1;32m    599\u001b[0m                                                   \u001b[0mbody\u001b[0m\u001b[0;34m=\u001b[0m\u001b[0mbody\u001b[0m\u001b[0;34m,\u001b[0m \u001b[0mheaders\u001b[0m\u001b[0;34m=\u001b[0m\u001b[0mheaders\u001b[0m\u001b[0;34m,\u001b[0m\u001b[0;34m\u001b[0m\u001b[0;34m\u001b[0m\u001b[0m\n\u001b[0;32m--> 600\u001b[0;31m                                                   chunked=chunked)\n\u001b[0m\u001b[1;32m    601\u001b[0m \u001b[0;34m\u001b[0m\u001b[0m\n",
      "\u001b[0;32m//anaconda3/lib/python3.7/site-packages/urllib3/connectionpool.py\u001b[0m in \u001b[0;36m_make_request\u001b[0;34m(self, conn, method, url, timeout, chunked, **httplib_request_kw)\u001b[0m\n\u001b[1;32m    342\u001b[0m         \u001b[0;32mtry\u001b[0m\u001b[0;34m:\u001b[0m\u001b[0;34m\u001b[0m\u001b[0;34m\u001b[0m\u001b[0m\n\u001b[0;32m--> 343\u001b[0;31m             \u001b[0mself\u001b[0m\u001b[0;34m.\u001b[0m\u001b[0m_validate_conn\u001b[0m\u001b[0;34m(\u001b[0m\u001b[0mconn\u001b[0m\u001b[0;34m)\u001b[0m\u001b[0;34m\u001b[0m\u001b[0;34m\u001b[0m\u001b[0m\n\u001b[0m\u001b[1;32m    344\u001b[0m         \u001b[0;32mexcept\u001b[0m \u001b[0;34m(\u001b[0m\u001b[0mSocketTimeout\u001b[0m\u001b[0;34m,\u001b[0m \u001b[0mBaseSSLError\u001b[0m\u001b[0;34m)\u001b[0m \u001b[0;32mas\u001b[0m \u001b[0me\u001b[0m\u001b[0;34m:\u001b[0m\u001b[0;34m\u001b[0m\u001b[0;34m\u001b[0m\u001b[0m\n",
      "\u001b[0;32m//anaconda3/lib/python3.7/site-packages/urllib3/connectionpool.py\u001b[0m in \u001b[0;36m_validate_conn\u001b[0;34m(self, conn)\u001b[0m\n\u001b[1;32m    838\u001b[0m         \u001b[0;32mif\u001b[0m \u001b[0;32mnot\u001b[0m \u001b[0mgetattr\u001b[0m\u001b[0;34m(\u001b[0m\u001b[0mconn\u001b[0m\u001b[0;34m,\u001b[0m \u001b[0;34m'sock'\u001b[0m\u001b[0;34m,\u001b[0m \u001b[0;32mNone\u001b[0m\u001b[0;34m)\u001b[0m\u001b[0;34m:\u001b[0m  \u001b[0;31m# AppEngine might not have  `.sock`\u001b[0m\u001b[0;34m\u001b[0m\u001b[0;34m\u001b[0m\u001b[0m\n\u001b[0;32m--> 839\u001b[0;31m             \u001b[0mconn\u001b[0m\u001b[0;34m.\u001b[0m\u001b[0mconnect\u001b[0m\u001b[0;34m(\u001b[0m\u001b[0;34m)\u001b[0m\u001b[0;34m\u001b[0m\u001b[0;34m\u001b[0m\u001b[0m\n\u001b[0m\u001b[1;32m    840\u001b[0m \u001b[0;34m\u001b[0m\u001b[0m\n",
      "\u001b[0;32m//anaconda3/lib/python3.7/site-packages/urllib3/connection.py\u001b[0m in \u001b[0;36mconnect\u001b[0;34m(self)\u001b[0m\n\u001b[1;32m    300\u001b[0m         \u001b[0;31m# Add certificate verification\u001b[0m\u001b[0;34m\u001b[0m\u001b[0;34m\u001b[0m\u001b[0;34m\u001b[0m\u001b[0m\n\u001b[0;32m--> 301\u001b[0;31m         \u001b[0mconn\u001b[0m \u001b[0;34m=\u001b[0m \u001b[0mself\u001b[0m\u001b[0;34m.\u001b[0m\u001b[0m_new_conn\u001b[0m\u001b[0;34m(\u001b[0m\u001b[0;34m)\u001b[0m\u001b[0;34m\u001b[0m\u001b[0;34m\u001b[0m\u001b[0m\n\u001b[0m\u001b[1;32m    302\u001b[0m         \u001b[0mhostname\u001b[0m \u001b[0;34m=\u001b[0m \u001b[0mself\u001b[0m\u001b[0;34m.\u001b[0m\u001b[0mhost\u001b[0m\u001b[0;34m\u001b[0m\u001b[0;34m\u001b[0m\u001b[0m\n",
      "\u001b[0;32m//anaconda3/lib/python3.7/site-packages/urllib3/connection.py\u001b[0m in \u001b[0;36m_new_conn\u001b[0;34m(self)\u001b[0m\n\u001b[1;32m    167\u001b[0m             raise NewConnectionError(\n\u001b[0;32m--> 168\u001b[0;31m                 self, \"Failed to establish a new connection: %s\" % e)\n\u001b[0m\u001b[1;32m    169\u001b[0m \u001b[0;34m\u001b[0m\u001b[0m\n",
      "\u001b[0;31mNewConnectionError\u001b[0m: <urllib3.connection.VerifiedHTTPSConnection object at 0x1581649b0>: Failed to establish a new connection: [Errno 8] nodename nor servname provided, or not known",
      "\nDuring handling of the above exception, another exception occurred:\n",
      "\u001b[0;31mMaxRetryError\u001b[0m                             Traceback (most recent call last)",
      "\u001b[0;32m//anaconda3/lib/python3.7/site-packages/requests/adapters.py\u001b[0m in \u001b[0;36msend\u001b[0;34m(self, request, stream, timeout, verify, cert, proxies)\u001b[0m\n\u001b[1;32m    448\u001b[0m                     \u001b[0mretries\u001b[0m\u001b[0;34m=\u001b[0m\u001b[0mself\u001b[0m\u001b[0;34m.\u001b[0m\u001b[0mmax_retries\u001b[0m\u001b[0;34m,\u001b[0m\u001b[0;34m\u001b[0m\u001b[0;34m\u001b[0m\u001b[0m\n\u001b[0;32m--> 449\u001b[0;31m                     \u001b[0mtimeout\u001b[0m\u001b[0;34m=\u001b[0m\u001b[0mtimeout\u001b[0m\u001b[0;34m\u001b[0m\u001b[0;34m\u001b[0m\u001b[0m\n\u001b[0m\u001b[1;32m    450\u001b[0m                 )\n",
      "\u001b[0;32m//anaconda3/lib/python3.7/site-packages/urllib3/connectionpool.py\u001b[0m in \u001b[0;36murlopen\u001b[0;34m(self, method, url, body, headers, retries, redirect, assert_same_host, timeout, pool_timeout, release_conn, chunked, body_pos, **response_kw)\u001b[0m\n\u001b[1;32m    637\u001b[0m             retries = retries.increment(method, url, error=e, _pool=self,\n\u001b[0;32m--> 638\u001b[0;31m                                         _stacktrace=sys.exc_info()[2])\n\u001b[0m\u001b[1;32m    639\u001b[0m             \u001b[0mretries\u001b[0m\u001b[0;34m.\u001b[0m\u001b[0msleep\u001b[0m\u001b[0;34m(\u001b[0m\u001b[0;34m)\u001b[0m\u001b[0;34m\u001b[0m\u001b[0;34m\u001b[0m\u001b[0m\n",
      "\u001b[0;32m//anaconda3/lib/python3.7/site-packages/urllib3/util/retry.py\u001b[0m in \u001b[0;36mincrement\u001b[0;34m(self, method, url, response, error, _pool, _stacktrace)\u001b[0m\n\u001b[1;32m    398\u001b[0m         \u001b[0;32mif\u001b[0m \u001b[0mnew_retry\u001b[0m\u001b[0;34m.\u001b[0m\u001b[0mis_exhausted\u001b[0m\u001b[0;34m(\u001b[0m\u001b[0;34m)\u001b[0m\u001b[0;34m:\u001b[0m\u001b[0;34m\u001b[0m\u001b[0;34m\u001b[0m\u001b[0m\n\u001b[0;32m--> 399\u001b[0;31m             \u001b[0;32mraise\u001b[0m \u001b[0mMaxRetryError\u001b[0m\u001b[0;34m(\u001b[0m\u001b[0m_pool\u001b[0m\u001b[0;34m,\u001b[0m \u001b[0murl\u001b[0m\u001b[0;34m,\u001b[0m \u001b[0merror\u001b[0m \u001b[0;32mor\u001b[0m \u001b[0mResponseError\u001b[0m\u001b[0;34m(\u001b[0m\u001b[0mcause\u001b[0m\u001b[0;34m)\u001b[0m\u001b[0;34m)\u001b[0m\u001b[0;34m\u001b[0m\u001b[0;34m\u001b[0m\u001b[0m\n\u001b[0m\u001b[1;32m    400\u001b[0m \u001b[0;34m\u001b[0m\u001b[0m\n",
      "\u001b[0;31mMaxRetryError\u001b[0m: HTTPSConnectionPool(host='www.springfieldspringfield.co.uk', port=443): Max retries exceeded with url: /movie_script.php?movie=godfather-the (Caused by NewConnectionError('<urllib3.connection.VerifiedHTTPSConnection object at 0x1581649b0>: Failed to establish a new connection: [Errno 8] nodename nor servname provided, or not known'))",
      "\nDuring handling of the above exception, another exception occurred:\n",
      "\u001b[0;31mConnectionError\u001b[0m                           Traceback (most recent call last)",
      "\u001b[0;32m<ipython-input-56-02451a3f8991>\u001b[0m in \u001b[0;36m<module>\u001b[0;34m\u001b[0m\n\u001b[0;32m----> 1\u001b[0;31m \u001b[0mthe_good\u001b[0m\u001b[0;34m,\u001b[0m \u001b[0mgood_errors\u001b[0m \u001b[0;34m=\u001b[0m \u001b[0mfun\u001b[0m\u001b[0;34m.\u001b[0m\u001b[0mgrab_screenplays\u001b[0m\u001b[0;34m(\u001b[0m\u001b[0mgoods_formatted\u001b[0m\u001b[0;34m)\u001b[0m\u001b[0;34m\u001b[0m\u001b[0;34m\u001b[0m\u001b[0m\n\u001b[0m",
      "\u001b[0;32m~/flatiron-ds-course/dsc-capstone-project-v2-online-ds-ft-100719/flatirons_capstone_2/functions.py\u001b[0m in \u001b[0;36mgrab_screenplays\u001b[0;34m(formatted_titles)\u001b[0m\n\u001b[1;32m    101\u001b[0m         \u001b[0;31m# Note the titles are pre-formatted as word-word-word-the (if there is a 'the.'\u001b[0m\u001b[0;34m\u001b[0m\u001b[0;34m\u001b[0m\u001b[0;34m\u001b[0m\u001b[0m\n\u001b[1;32m    102\u001b[0m         html_page = requests.get(\n\u001b[0;32m--> 103\u001b[0;31m             'https://www.springfieldspringfield.co.uk/movie_script.php?movie={}'.format(title))\n\u001b[0m\u001b[1;32m    104\u001b[0m         \u001b[0msoup\u001b[0m \u001b[0;34m=\u001b[0m \u001b[0mBeautifulSoup\u001b[0m\u001b[0;34m(\u001b[0m\u001b[0mhtml_page\u001b[0m\u001b[0;34m.\u001b[0m\u001b[0mcontent\u001b[0m\u001b[0;34m,\u001b[0m \u001b[0;34m'html.parser'\u001b[0m\u001b[0;34m)\u001b[0m\u001b[0;34m\u001b[0m\u001b[0;34m\u001b[0m\u001b[0m\n\u001b[1;32m    105\u001b[0m \u001b[0;34m\u001b[0m\u001b[0m\n",
      "\u001b[0;32m//anaconda3/lib/python3.7/site-packages/requests/api.py\u001b[0m in \u001b[0;36mget\u001b[0;34m(url, params, **kwargs)\u001b[0m\n\u001b[1;32m     73\u001b[0m \u001b[0;34m\u001b[0m\u001b[0m\n\u001b[1;32m     74\u001b[0m     \u001b[0mkwargs\u001b[0m\u001b[0;34m.\u001b[0m\u001b[0msetdefault\u001b[0m\u001b[0;34m(\u001b[0m\u001b[0;34m'allow_redirects'\u001b[0m\u001b[0;34m,\u001b[0m \u001b[0;32mTrue\u001b[0m\u001b[0;34m)\u001b[0m\u001b[0;34m\u001b[0m\u001b[0;34m\u001b[0m\u001b[0m\n\u001b[0;32m---> 75\u001b[0;31m     \u001b[0;32mreturn\u001b[0m \u001b[0mrequest\u001b[0m\u001b[0;34m(\u001b[0m\u001b[0;34m'get'\u001b[0m\u001b[0;34m,\u001b[0m \u001b[0murl\u001b[0m\u001b[0;34m,\u001b[0m \u001b[0mparams\u001b[0m\u001b[0;34m=\u001b[0m\u001b[0mparams\u001b[0m\u001b[0;34m,\u001b[0m \u001b[0;34m**\u001b[0m\u001b[0mkwargs\u001b[0m\u001b[0;34m)\u001b[0m\u001b[0;34m\u001b[0m\u001b[0;34m\u001b[0m\u001b[0m\n\u001b[0m\u001b[1;32m     76\u001b[0m \u001b[0;34m\u001b[0m\u001b[0m\n\u001b[1;32m     77\u001b[0m \u001b[0;34m\u001b[0m\u001b[0m\n",
      "\u001b[0;32m//anaconda3/lib/python3.7/site-packages/requests/api.py\u001b[0m in \u001b[0;36mrequest\u001b[0;34m(method, url, **kwargs)\u001b[0m\n\u001b[1;32m     58\u001b[0m     \u001b[0;31m# cases, and look like a memory leak in others.\u001b[0m\u001b[0;34m\u001b[0m\u001b[0;34m\u001b[0m\u001b[0;34m\u001b[0m\u001b[0m\n\u001b[1;32m     59\u001b[0m     \u001b[0;32mwith\u001b[0m \u001b[0msessions\u001b[0m\u001b[0;34m.\u001b[0m\u001b[0mSession\u001b[0m\u001b[0;34m(\u001b[0m\u001b[0;34m)\u001b[0m \u001b[0;32mas\u001b[0m \u001b[0msession\u001b[0m\u001b[0;34m:\u001b[0m\u001b[0;34m\u001b[0m\u001b[0;34m\u001b[0m\u001b[0m\n\u001b[0;32m---> 60\u001b[0;31m         \u001b[0;32mreturn\u001b[0m \u001b[0msession\u001b[0m\u001b[0;34m.\u001b[0m\u001b[0mrequest\u001b[0m\u001b[0;34m(\u001b[0m\u001b[0mmethod\u001b[0m\u001b[0;34m=\u001b[0m\u001b[0mmethod\u001b[0m\u001b[0;34m,\u001b[0m \u001b[0murl\u001b[0m\u001b[0;34m=\u001b[0m\u001b[0murl\u001b[0m\u001b[0;34m,\u001b[0m \u001b[0;34m**\u001b[0m\u001b[0mkwargs\u001b[0m\u001b[0;34m)\u001b[0m\u001b[0;34m\u001b[0m\u001b[0;34m\u001b[0m\u001b[0m\n\u001b[0m\u001b[1;32m     61\u001b[0m \u001b[0;34m\u001b[0m\u001b[0m\n\u001b[1;32m     62\u001b[0m \u001b[0;34m\u001b[0m\u001b[0m\n",
      "\u001b[0;32m//anaconda3/lib/python3.7/site-packages/requests/sessions.py\u001b[0m in \u001b[0;36mrequest\u001b[0;34m(self, method, url, params, data, headers, cookies, files, auth, timeout, allow_redirects, proxies, hooks, stream, verify, cert, json)\u001b[0m\n\u001b[1;32m    531\u001b[0m         }\n\u001b[1;32m    532\u001b[0m         \u001b[0msend_kwargs\u001b[0m\u001b[0;34m.\u001b[0m\u001b[0mupdate\u001b[0m\u001b[0;34m(\u001b[0m\u001b[0msettings\u001b[0m\u001b[0;34m)\u001b[0m\u001b[0;34m\u001b[0m\u001b[0;34m\u001b[0m\u001b[0m\n\u001b[0;32m--> 533\u001b[0;31m         \u001b[0mresp\u001b[0m \u001b[0;34m=\u001b[0m \u001b[0mself\u001b[0m\u001b[0;34m.\u001b[0m\u001b[0msend\u001b[0m\u001b[0;34m(\u001b[0m\u001b[0mprep\u001b[0m\u001b[0;34m,\u001b[0m \u001b[0;34m**\u001b[0m\u001b[0msend_kwargs\u001b[0m\u001b[0;34m)\u001b[0m\u001b[0;34m\u001b[0m\u001b[0;34m\u001b[0m\u001b[0m\n\u001b[0m\u001b[1;32m    534\u001b[0m \u001b[0;34m\u001b[0m\u001b[0m\n\u001b[1;32m    535\u001b[0m         \u001b[0;32mreturn\u001b[0m \u001b[0mresp\u001b[0m\u001b[0;34m\u001b[0m\u001b[0;34m\u001b[0m\u001b[0m\n",
      "\u001b[0;32m//anaconda3/lib/python3.7/site-packages/requests/sessions.py\u001b[0m in \u001b[0;36msend\u001b[0;34m(self, request, **kwargs)\u001b[0m\n\u001b[1;32m    644\u001b[0m \u001b[0;34m\u001b[0m\u001b[0m\n\u001b[1;32m    645\u001b[0m         \u001b[0;31m# Send the request\u001b[0m\u001b[0;34m\u001b[0m\u001b[0;34m\u001b[0m\u001b[0;34m\u001b[0m\u001b[0m\n\u001b[0;32m--> 646\u001b[0;31m         \u001b[0mr\u001b[0m \u001b[0;34m=\u001b[0m \u001b[0madapter\u001b[0m\u001b[0;34m.\u001b[0m\u001b[0msend\u001b[0m\u001b[0;34m(\u001b[0m\u001b[0mrequest\u001b[0m\u001b[0;34m,\u001b[0m \u001b[0;34m**\u001b[0m\u001b[0mkwargs\u001b[0m\u001b[0;34m)\u001b[0m\u001b[0;34m\u001b[0m\u001b[0;34m\u001b[0m\u001b[0m\n\u001b[0m\u001b[1;32m    647\u001b[0m \u001b[0;34m\u001b[0m\u001b[0m\n\u001b[1;32m    648\u001b[0m         \u001b[0;31m# Total elapsed time of the request (approximately)\u001b[0m\u001b[0;34m\u001b[0m\u001b[0;34m\u001b[0m\u001b[0;34m\u001b[0m\u001b[0m\n",
      "\u001b[0;32m//anaconda3/lib/python3.7/site-packages/requests/adapters.py\u001b[0m in \u001b[0;36msend\u001b[0;34m(self, request, stream, timeout, verify, cert, proxies)\u001b[0m\n\u001b[1;32m    514\u001b[0m                 \u001b[0;32mraise\u001b[0m \u001b[0mSSLError\u001b[0m\u001b[0;34m(\u001b[0m\u001b[0me\u001b[0m\u001b[0;34m,\u001b[0m \u001b[0mrequest\u001b[0m\u001b[0;34m=\u001b[0m\u001b[0mrequest\u001b[0m\u001b[0;34m)\u001b[0m\u001b[0;34m\u001b[0m\u001b[0;34m\u001b[0m\u001b[0m\n\u001b[1;32m    515\u001b[0m \u001b[0;34m\u001b[0m\u001b[0m\n\u001b[0;32m--> 516\u001b[0;31m             \u001b[0;32mraise\u001b[0m \u001b[0mConnectionError\u001b[0m\u001b[0;34m(\u001b[0m\u001b[0me\u001b[0m\u001b[0;34m,\u001b[0m \u001b[0mrequest\u001b[0m\u001b[0;34m=\u001b[0m\u001b[0mrequest\u001b[0m\u001b[0;34m)\u001b[0m\u001b[0;34m\u001b[0m\u001b[0;34m\u001b[0m\u001b[0m\n\u001b[0m\u001b[1;32m    517\u001b[0m \u001b[0;34m\u001b[0m\u001b[0m\n\u001b[1;32m    518\u001b[0m         \u001b[0;32mexcept\u001b[0m \u001b[0mClosedPoolError\u001b[0m \u001b[0;32mas\u001b[0m \u001b[0me\u001b[0m\u001b[0;34m:\u001b[0m\u001b[0;34m\u001b[0m\u001b[0;34m\u001b[0m\u001b[0m\n",
      "\u001b[0;31mConnectionError\u001b[0m: HTTPSConnectionPool(host='www.springfieldspringfield.co.uk', port=443): Max retries exceeded with url: /movie_script.php?movie=godfather-the (Caused by NewConnectionError('<urllib3.connection.VerifiedHTTPSConnection object at 0x1581649b0>: Failed to establish a new connection: [Errno 8] nodename nor servname provided, or not known'))"
     ]
    }
   ],
   "source": [
    "the_good, good_errors = fun.grab_screenplays(goods_formatted)"
   ]
  },
  {
   "cell_type": "code",
   "execution_count": null,
   "metadata": {},
   "outputs": [],
   "source": [
    "len(good_errors)"
   ]
  },
  {
   "cell_type": "code",
   "execution_count": null,
   "metadata": {
    "scrolled": true
   },
   "outputs": [],
   "source": [
    "the_bad, bad_errors = fun.grab_screenplays(bads_formatted)"
   ]
  },
  {
   "cell_type": "code",
   "execution_count": null,
   "metadata": {},
   "outputs": [],
   "source": [
    "len(bad_errors)"
   ]
  },
  {
   "cell_type": "code",
   "execution_count": null,
   "metadata": {},
   "outputs": [],
   "source": [
    "df_good = pd.DataFrame([the_good]).T\n",
    "df_bad = pd.DataFrame([the_bad]).T"
   ]
  },
  {
   "cell_type": "code",
   "execution_count": null,
   "metadata": {},
   "outputs": [],
   "source": [
    "rotten_movies, rotten_errors = fun.grab_screenplays(rotten_form)"
   ]
  },
  {
   "cell_type": "code",
   "execution_count": null,
   "metadata": {},
   "outputs": [],
   "source": [
    "rotten_df = pd.DataFrame(columns=['titles',\n",
    "                                  'titles_formatted',\n",
    "                                  'rotten_scores',\n",
    "                                  'scripts'])"
   ]
  },
  {
   "cell_type": "code",
   "execution_count": null,
   "metadata": {},
   "outputs": [],
   "source": [
    "# rotten_df.titles = rotten_movies_noyear"
   ]
  },
  {
   "cell_type": "code",
   "execution_count": null,
   "metadata": {},
   "outputs": [],
   "source": [
    "# rotten_df.titles_formatted = rotten_form\n",
    "rotten_df.titles = rotten_form\n",
    "rotten_df.RottenScores = rotten_scores"
   ]
  },
  {
   "cell_type": "code",
   "execution_count": null,
   "metadata": {},
   "outputs": [],
   "source": [
    "rotten_df.scripts = rotten_df.titles_formatted.apply(\n",
    "    lambda x: rotten_scripts[0][x])"
   ]
  },
  {
   "cell_type": "code",
   "execution_count": null,
   "metadata": {},
   "outputs": [],
   "source": [
    "df_good.to_csv('df_good_obtain.csv')\n",
    "df_bad.to_csv('df_bad_obtain.csv')\n",
    "rotten_df.to_csv('rotten_df_obtain.csv')"
   ]
  },
  {
   "cell_type": "code",
   "execution_count": null,
   "metadata": {},
   "outputs": [],
   "source": []
  },
  {
   "cell_type": "code",
   "execution_count": null,
   "metadata": {},
   "outputs": [],
   "source": []
  }
 ],
 "metadata": {
  "kernelspec": {
   "display_name": "Python 3",
   "language": "python",
   "name": "python3"
  },
  "language_info": {
   "codemirror_mode": {
    "name": "ipython",
    "version": 3
   },
   "file_extension": ".py",
   "mimetype": "text/x-python",
   "name": "python",
   "nbconvert_exporter": "python",
   "pygments_lexer": "ipython3",
   "version": "3.7.3"
  },
  "toc": {
   "base_numbering": 1,
   "nav_menu": {},
   "number_sections": true,
   "sideBar": true,
   "skip_h1_title": false,
   "title_cell": "Table of Contents",
   "title_sidebar": "Contents",
   "toc_cell": false,
   "toc_position": {
    "height": "calc(100% - 180px)",
    "left": "10px",
    "top": "150px",
    "width": "285px"
   },
   "toc_section_display": true,
   "toc_window_display": true
  }
 },
 "nbformat": 4,
 "nbformat_minor": 2
}
