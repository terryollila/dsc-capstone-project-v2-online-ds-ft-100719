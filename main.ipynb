{
 "cells": [
  {
   "cell_type": "markdown",
   "metadata": {},
   "source": [
    "# Abstract"
   ]
  },
  {
   "cell_type": "markdown",
   "metadata": {},
   "source": [
    "The film industry worldwide does upwards of 50 billion dollars in box office sales, not counting home entertainment revenue, which brings it up closer to 150 billion dollars. Operating within that bundle of cash comes with a tremendous amount of risk, with films from major studios sometimes spending a quarter of a billion dollars or more on a single film. Decisions made at smaller studios are no less important to them, as they might be putting their entire livelihoods on the line in the hopes of a hit. And the value of a movie begins with a script.\n",
    "\n",
    "My premise in creating this project was to ascertain whether a movie's critical rating can be determined to any extent by the text of its screenplay alone. Before attaching a cast and director and crew and all of the other costs associated with creating a cinematic work, having some guidance as to the quality of the script itself can be a benefit in minimizing risk. While an algorithm is no substitute for having a human eye on a screenplay, some level of unbiased machine learning can be leveraged to take a closer look. It is also possible to use this process to vet possible licensing if resources are short and slush piles are large.\n",
    "\n",
    "As there are many factors going into a movie's rating, such as cast, director, editing, music, costuming, set design and so on, it is not necessarily expected that a movies critical rating can be determined solely by the text of its screenplay. However, there is still much value to be had if any measurable predictability can be found. At the completion of my modeling using 4,320 screenplays, I was ultimately able to predict scripts from good movies and bad movies, as rated by metacritic.com, about 65% of the time. Given the other factors in rating, I feel that is a significant enough to create value in the model. Among the various models I tried, some had a better true positive rate, and others had a better false positive rate, so there are some choices there depending on what use cases might be found, such as when it might be more advantageous to find a good movie versus avoiding a bad one.\n",
    "\n",
    "Recommendations to a given filmmaker would be to use modeling to sort potential screenplays into lists of scripts with higher likelihood of success, using modeling to evaluate scripts in process and step back to consider if it needs more work if the model doesn't like it, and for the screenwriters themselves, to check their scripts against the model and if it comes back with a 'bad' rating, potentially rethink their life choices.\n",
    "\n",
    "For further research, I would like to create a text ingestion field in the dashboard that allows a user to insert a body of text and have a prediction returned evaluating the content as a screenplay and assigning a good or bad designation. I would create predictability functionality that would allow a user to choose a 'good' or 'bad' setting and have automatically generated text returned back in the style of either a good or bad screenplay. And I would go deeper into the neural networds when modeling, especially toward regression. They showed promise when using them in this project, but there was insufficient time to build them out using pre-made embedding layers and so on.\n",
    "\n",
    "Also see: [Interactive Dashboard](https://still-plateau-25734.herokuapp.com/)"
   ]
  },
  {
   "cell_type": "markdown",
   "metadata": {},
   "source": [
    "# Imports"
   ]
  },
  {
   "cell_type": "code",
   "execution_count": 2,
   "metadata": {},
   "outputs": [
    {
     "name": "stderr",
     "output_type": "stream",
     "text": [
      "Using TensorFlow backend.\n"
     ]
    }
   ],
   "source": [
    "import matplotlib.pyplot as plt\n",
    "import statsmodels.api as sm\n",
    "import scipy.stats as stats\n",
    "import pandas as pd\n",
    "import numpy as np\n",
    "import importlib\n",
    "import requests\n",
    "import inspect\n",
    "import keras\n",
    "import spacy\n",
    "import time\n",
    "import re\n",
    "\n",
    "from sklearn.feature_extraction.text import TfidfVectorizer\n",
    "from sklearn.feature_extraction.text import CountVectorizer\n",
    "from sklearn.decomposition import LatentDirichletAllocation\n",
    "from nltk.sentiment.vader import SentimentIntensityAnalyzer\n",
    "from sklearn.model_selection import train_test_split\n",
    "from sklearn.metrics import mean_squared_error as mse\n",
    "from sklearn.metrics import r2_score\n",
    "from sklearn.pipeline import Pipeline\n",
    "from sklearn.linear_model import LogisticRegression\n",
    "from sklearn.tree import DecisionTreeClassifier\n",
    "from sklearn.ensemble import RandomForestClassifier\n",
    "from sklearn.model_selection import GridSearchCV\n",
    "from sklearn.neighbors import KNeighborsClassifier\n",
    "from sklearn.naive_bayes import MultinomialNB\n",
    "from sklearn.tree import DecisionTreeRegressor\n",
    "from sklearn.utils import shuffle\n",
    "from sklearn.svm import LinearSVC\n",
    "from sklearn.svm import SVC\n",
    "from sklearn.metrics import confusion_matrix, classification_report\n",
    "from sklearn.metrics import accuracy_score, roc_curve, auc\n",
    "from sklearn.preprocessing import StandardScaler\n",
    "from imblearn.under_sampling import RandomUnderSampler\n",
    "from mlxtend.plotting import plot_confusion_matrix\n",
    "from IPython.display import display,Markdown\n",
    "from xgboost import XGBClassifier\n",
    "from xgboost import XGBRegressor\n",
    "from keras.preprocessing.sequence import pad_sequences\n",
    "from keras.layers import Input, Dense, LSTM, Embedding\n",
    "from keras.layers import Dropout, Activation, Bidirectional, GlobalMaxPool1D\n",
    "from keras.models import Sequential\n",
    "from keras import initializers, regularizers, constraints, optimizers, layers\n",
    "from keras.preprocessing import text, sequence\n",
    "from bs4 import BeautifulSoup\n",
    "from tqdm._tqdm_notebook import tqdm_notebook\n",
    "from tqdm import tqdm\n",
    "from nltk import word_tokenize\n",
    "from ast import literal_eval\n",
    "from importlib import reload\n",
    "\n",
    "# Importing my own functions file.\n",
    "import functions as fun"
   ]
  },
  {
   "cell_type": "code",
   "execution_count": 3,
   "metadata": {},
   "outputs": [],
   "source": [
    "pd.set_option('display.max_columns', None)\n",
    "pd.set_option('display.max_rows', None)"
   ]
  },
  {
   "cell_type": "code",
   "execution_count": 4,
   "metadata": {},
   "outputs": [],
   "source": [
    "tqdm_notebook.pandas()"
   ]
  },
  {
   "cell_type": "code",
   "execution_count": 5,
   "metadata": {},
   "outputs": [],
   "source": [
    "nlp = spacy.load('en_core_web_sm')"
   ]
  },
  {
   "cell_type": "markdown",
   "metadata": {},
   "source": [
    "# Obtaining Data"
   ]
  },
  {
   "cell_type": "markdown",
   "metadata": {},
   "source": [
    "All data for this report will be gathered using web scraping from the following web sites:\n",
    "    \n",
    "- metacritic.com for movie rating information.\n",
    "- rottontomatoes.com for additional movie rating information.\n",
    "- SpringfieldSpringfield.co.uk for gathering the screenplay texts."
   ]
  },
  {
   "cell_type": "markdown",
   "metadata": {},
   "source": [
    "## Rating Data"
   ]
  },
  {
   "cell_type": "markdown",
   "metadata": {},
   "source": [
    "There were a few attempts at scraping data before finding versions that worked well for my purposes. What follows are the final attempts."
   ]
  },
  {
   "cell_type": "markdown",
   "metadata": {},
   "source": [
    "### Sraping metacritic.com"
   ]
  },
  {
   "cell_type": "markdown",
   "metadata": {},
   "source": [
    "I'm taking the most highly rated and most lowly rated films as listed on this site. These extremes will be used for training my classification models to predict if random movies will be highly rated or lowly rated films."
   ]
  },
  {
   "cell_type": "markdown",
   "metadata": {},
   "source": [
    "#### Great Movies"
   ]
  },
  {
   "cell_type": "code",
   "execution_count": 6,
   "metadata": {},
   "outputs": [],
   "source": [
    "goods_titles = []\n",
    "\n",
    "for i in range(0,20):\n",
    "    # There are 10 pages to flip through of 100 movies each.\n",
    "    page = requests.get(\n",
    "        'https://www.metacritic.com/browse/movies/score/metascore/all/filtered?page={}'.format(i),\n",
    "        headers={'User-Agent': 'Chrome/80.0.3987.116'})\n",
    "    soup = BeautifulSoup(page.content, 'html.parser')\n",
    "    \n",
    "    # Now that we've gotten the content from the page, we need to loop through each element.\n",
    "    for i in range(0,100,1):\n",
    "        title = soup.find_all('span', class_=\"title numbered\")[i]\\\n",
    "            .next_sibling.next_sibling.contents[1].contents[0]\n",
    "        goods_titles.append(title)\n",
    "    \n",
    "    # We're only pinging 10 times but might as well be safe since it costs like\n",
    "    # nothing.\n",
    "    time.sleep(1)"
   ]
  },
  {
   "cell_type": "markdown",
   "metadata": {},
   "source": [
    "Knowing that I won't be able to come up with screenplays for every single movie, I'm taking 2000 great and 2000 terrible films, in the hopes of winding up with at least 1000 of each."
   ]
  },
  {
   "cell_type": "code",
   "execution_count": null,
   "metadata": {},
   "outputs": [],
   "source": [
    "len(goods_titles)"
   ]
  },
  {
   "cell_type": "code",
   "execution_count": null,
   "metadata": {
    "scrolled": true
   },
   "outputs": [],
   "source": [
    "goods_titles[:5]"
   ]
  },
  {
   "cell_type": "markdown",
   "metadata": {},
   "source": [
    "#### Terrible Movies"
   ]
  },
  {
   "cell_type": "code",
   "execution_count": null,
   "metadata": {},
   "outputs": [],
   "source": [
    "bads_titles = []\n",
    "\n",
    "for i in range(110, 130):\n",
    "    # There are 10 pages to flip through of 100 movies each.\n",
    "    page = requests.get(\n",
    "        'https://www.metacritic.com/browse/movies/score/metascore/all/filtered?page={}'.format(i),\n",
    "        headers={'User-Agent': 'Chrome/80.0.3987.116'})\n",
    "    soup = BeautifulSoup(page.content, 'html.parser')\n",
    "    \n",
    "    # Now that we've gotten the content from the page, we need to loop through each element.\n",
    "    for i in range(0,100,1):\n",
    "        try:\n",
    "            title = soup.find_all('span', class_=\"title numbered\")[i]\\\n",
    "            .next_sibling.next_sibling.contents[1].contents[0]\n",
    "            bads_titles.append(title)\n",
    "        except:\n",
    "            pass\n",
    "    # We're only pinging 10 times but might as well be safe since it costs like\n",
    "    # nothing.\n",
    "    time.sleep(1)"
   ]
  },
  {
   "cell_type": "code",
   "execution_count": null,
   "metadata": {},
   "outputs": [],
   "source": [
    "len(bads_titles)"
   ]
  },
  {
   "cell_type": "code",
   "execution_count": null,
   "metadata": {},
   "outputs": [],
   "source": [
    "goods_formatted = fun.format_titles(goods_titles)\n",
    "bads_formatted = fun.format_titles(bads_titles)"
   ]
  },
  {
   "cell_type": "markdown",
   "metadata": {},
   "source": [
    "### Scraping rottentomatoes.com"
   ]
  },
  {
   "cell_type": "markdown",
   "metadata": {},
   "source": [
    "The rottentomatoes.com information will be used for linear regression. Whereas with metacritic we were using only the best and worst for classification, here I'm using samples from the entire spectrum for regression analysis."
   ]
  },
  {
   "cell_type": "code",
   "execution_count": null,
   "metadata": {
    "scrolled": true
   },
   "outputs": [],
   "source": [
    "all_rotten_movies = []\n",
    "rotten_scores = []\n",
    "for i in range(0, 101):\n",
    "    page = requests.get(\"https://www.rottentomatoes.com/browse/\"\n",
    "                        \"dvd-streaming-all?minTomato={}&maxTomato={}&services\"\n",
    "                        \"=amazon;hbo_go;itunes;netflix_iw;vudu;amazon_prime;\"\n",
    "                        \"fandango_now&genres=1;2;4;5;6;8;9;10;11;13;18;14\"\n",
    "                        \"&sortBy=release\".format(i, i+1))\n",
    "    soup = BeautifulSoup(page.content, 'html.parser')\n",
    "    page = soup.get_text()\n",
    "    comp = re.compile('\"\\/m\\/\\w+\"')\n",
    "    movies = comp.findall(page)\n",
    "    movies_unique = list(set([movie[4:-1] for movie in movies]))\n",
    "    rotten_scores.extend([i for _ in movies_unique])\n",
    "    all_rotten_movies.extend(movies_unique)\n",
    "    print(i)\n",
    "    print(movies_unique)\n",
    "    time.sleep(1)"
   ]
  },
  {
   "cell_type": "code",
   "execution_count": null,
   "metadata": {},
   "outputs": [],
   "source": [
    "# Chopping off the year for those movies that have it.\n",
    "rotten_movies_noyear = [film[:-5] if film[-4:-2] == '20' else film \n",
    "        for film in all_rotten_movies]"
   ]
  },
  {
   "cell_type": "code",
   "execution_count": null,
   "metadata": {},
   "outputs": [],
   "source": [
    "rotten_form = fun.format_titles(rotten_movies_noyear)"
   ]
  },
  {
   "cell_type": "markdown",
   "metadata": {},
   "source": [
    "## Scraping in the Screenplays"
   ]
  },
  {
   "cell_type": "markdown",
   "metadata": {},
   "source": [
    "As this will be an analysis centered around natural language processing, my primary data source will be the screenplay text from every movie.\n",
    "\n",
    "Unfortunately, I was eventually locked out of SpringfieldSpringfield.co.uk, the site where I retrieved the content from, due to too many 'visits'. As I had hit the site upwards of 10k times in the course of a few days, it was probably a fair call."
   ]
  },
  {
   "cell_type": "code",
   "execution_count": null,
   "metadata": {},
   "outputs": [],
   "source": [
    "# Getting the good screenplays along with a list of titles I couldn't find scripts for.\n",
    "the_good, good_errors = fun.grab_screenplays(goods_formatted)"
   ]
  },
  {
   "cell_type": "code",
   "execution_count": null,
   "metadata": {},
   "outputs": [],
   "source": [
    "len(good_errors)"
   ]
  },
  {
   "cell_type": "code",
   "execution_count": null,
   "metadata": {
    "scrolled": true
   },
   "outputs": [],
   "source": [
    "# Getting the good screenplays along with a list of titles I couldn't find scripts for.\n",
    "the_bad, bad_errors = fun.grab_screenplays(bads_formatted)"
   ]
  },
  {
   "cell_type": "code",
   "execution_count": null,
   "metadata": {},
   "outputs": [],
   "source": [
    "len(bad_errors)"
   ]
  },
  {
   "cell_type": "markdown",
   "metadata": {},
   "source": [
    "Putting them both in a DataFrame to be used as data for the rest of the project."
   ]
  },
  {
   "cell_type": "code",
   "execution_count": null,
   "metadata": {},
   "outputs": [],
   "source": [
    "df_good = pd.DataFrame([the_good]).T\n",
    "df_bad = pd.DataFrame([the_bad]).T"
   ]
  },
  {
   "cell_type": "markdown",
   "metadata": {},
   "source": [
    "Now getting the screenplays for the rottentomatoes titles."
   ]
  },
  {
   "cell_type": "code",
   "execution_count": null,
   "metadata": {},
   "outputs": [],
   "source": [
    "rotten_movies, rotten_errors = fun.grab_screenplays(rotten_form)"
   ]
  },
  {
   "cell_type": "code",
   "execution_count": null,
   "metadata": {},
   "outputs": [],
   "source": [
    "rotten_df = pd.DataFrame(columns=['titles',\n",
    "                                  'titles_formatted',\n",
    "                                  'rotten_scores',\n",
    "                                  'scripts'])"
   ]
  },
  {
   "cell_type": "code",
   "execution_count": null,
   "metadata": {},
   "outputs": [],
   "source": [
    "# Getting the titles and scores loaded into the DataFrame.\n",
    "rotten_df.titles = rotten_form\n",
    "rotten_df.RottenScores = rotten_scores"
   ]
  },
  {
   "cell_type": "code",
   "execution_count": null,
   "metadata": {},
   "outputs": [],
   "source": [
    "# Getting things formatted correctly.\n",
    "rotten_df.scripts = rotten_df.titles_formatted.apply(\n",
    "    lambda x: rotten_scripts[0][x])"
   ]
  },
  {
   "cell_type": "markdown",
   "metadata": {},
   "source": [
    "Loading all of this data into csv files to be saved in case of setbacks."
   ]
  },
  {
   "cell_type": "code",
   "execution_count": null,
   "metadata": {},
   "outputs": [],
   "source": [
    "# df_good.to_csv('project_resources/df_good_obtain.csv')\n",
    "# df_bad.to_csv('project_resources/df_bad_obtain.csv')\n",
    "# rotten_df.to_csv('project_resources/rotten_df_obtain.csv')"
   ]
  },
  {
   "cell_type": "markdown",
   "metadata": {},
   "source": [
    "# Scrubbing Data"
   ]
  },
  {
   "cell_type": "markdown",
   "metadata": {},
   "source": [
    "Reading back in data that was created in 'obtaining' file."
   ]
  },
  {
   "cell_type": "code",
   "execution_count": 6,
   "metadata": {},
   "outputs": [],
   "source": [
    "# I had intended to use files directly from the 'obtain' notebook to be cleaner,\n",
    "# but I can't get back into the screenplay site, so I'll have to improvise.\n",
    "# df_good = pd.read_csv('df_good_obtain.csv')\n",
    "# df_bad = pd.read_csv('df_bad_obtain.csv')\n",
    "# rotten_df = pd.read_csv('rotten_df_obtain.csv')"
   ]
  },
  {
   "cell_type": "code",
   "execution_count": 7,
   "metadata": {},
   "outputs": [],
   "source": [
    "df_good = pd.read_csv('project_resources/df_good.csv', index_col=False)\n",
    "df_bad = pd.read_csv('project_resources/df_bad.csv', index_col=False)\n",
    "rotten_df = pd.read_csv('project_resources/rotten_df.csv', index_col=0)\n",
    "\n",
    "rotten_df.columns = ['titles', 'titles_formatted', 'rotten_scores', \n",
    "                     'scripts']"
   ]
  },
  {
   "cell_type": "markdown",
   "metadata": {},
   "source": [
    "## metacritic"
   ]
  },
  {
   "cell_type": "markdown",
   "metadata": {},
   "source": [
    "### Setting up DataFrame"
   ]
  },
  {
   "cell_type": "code",
   "execution_count": 8,
   "metadata": {},
   "outputs": [
    {
     "data": {
      "text/html": [
       "<div>\n",
       "<style scoped>\n",
       "    .dataframe tbody tr th:only-of-type {\n",
       "        vertical-align: middle;\n",
       "    }\n",
       "\n",
       "    .dataframe tbody tr th {\n",
       "        vertical-align: top;\n",
       "    }\n",
       "\n",
       "    .dataframe thead th {\n",
       "        text-align: right;\n",
       "    }\n",
       "</style>\n",
       "<table border=\"1\" class=\"dataframe\">\n",
       "  <thead>\n",
       "    <tr style=\"text-align: right;\">\n",
       "      <th></th>\n",
       "      <th>Unnamed: 0</th>\n",
       "      <th>0</th>\n",
       "      <th>good_or_bad</th>\n",
       "    </tr>\n",
       "  </thead>\n",
       "  <tbody>\n",
       "    <tr>\n",
       "      <th>0</th>\n",
       "      <td>-shall-not-grow-old-the</td>\n",
       "      <td>NaN</td>\n",
       "      <td>1</td>\n",
       "    </tr>\n",
       "    <tr>\n",
       "      <th>1</th>\n",
       "      <td>101-dalmatians</td>\n",
       "      <td>['\\n\\n                        [ Clock Chiming ...</td>\n",
       "      <td>1</td>\n",
       "    </tr>\n",
       "    <tr>\n",
       "      <th>2</th>\n",
       "      <td>12-angry-men</td>\n",
       "      <td>['\\n\\n                        You did a wonder...</td>\n",
       "      <td>1</td>\n",
       "    </tr>\n",
       "    <tr>\n",
       "      <th>3</th>\n",
       "      <td>12-years-a-slave</td>\n",
       "      <td>['\\n\\n                        All right now.',...</td>\n",
       "      <td>1</td>\n",
       "    </tr>\n",
       "    <tr>\n",
       "      <th>4</th>\n",
       "      <td>1208-east-of-bucharest</td>\n",
       "      <td>NaN</td>\n",
       "      <td>1</td>\n",
       "    </tr>\n",
       "  </tbody>\n",
       "</table>\n",
       "</div>"
      ],
      "text/plain": [
       "                Unnamed: 0                                                  0  \\\n",
       "0  -shall-not-grow-old-the                                                NaN   \n",
       "1           101-dalmatians  ['\\n\\n                        [ Clock Chiming ...   \n",
       "2             12-angry-men  ['\\n\\n                        You did a wonder...   \n",
       "3         12-years-a-slave  ['\\n\\n                        All right now.',...   \n",
       "4   1208-east-of-bucharest                                                NaN   \n",
       "\n",
       "   good_or_bad  \n",
       "0            1  \n",
       "1            1  \n",
       "2            1  \n",
       "3            1  \n",
       "4            1  "
      ]
     },
     "execution_count": 8,
     "metadata": {},
     "output_type": "execute_result"
    }
   ],
   "source": [
    "df_good.head()"
   ]
  },
  {
   "cell_type": "code",
   "execution_count": 9,
   "metadata": {},
   "outputs": [
    {
     "data": {
      "text/html": [
       "<div>\n",
       "<style scoped>\n",
       "    .dataframe tbody tr th:only-of-type {\n",
       "        vertical-align: middle;\n",
       "    }\n",
       "\n",
       "    .dataframe tbody tr th {\n",
       "        vertical-align: top;\n",
       "    }\n",
       "\n",
       "    .dataframe thead th {\n",
       "        text-align: right;\n",
       "    }\n",
       "</style>\n",
       "<table border=\"1\" class=\"dataframe\">\n",
       "  <thead>\n",
       "    <tr style=\"text-align: right;\">\n",
       "      <th></th>\n",
       "      <th>Unnamed: 0</th>\n",
       "      <th>0</th>\n",
       "      <th>good_or_bad</th>\n",
       "    </tr>\n",
       "  </thead>\n",
       "  <tbody>\n",
       "    <tr>\n",
       "      <th>0</th>\n",
       "      <td>-the</td>\n",
       "      <td>NaN</td>\n",
       "      <td>0</td>\n",
       "    </tr>\n",
       "    <tr>\n",
       "      <th>1</th>\n",
       "      <td>10000-bc</td>\n",
       "      <td>NaN</td>\n",
       "      <td>0</td>\n",
       "    </tr>\n",
       "    <tr>\n",
       "      <th>2</th>\n",
       "      <td>102-dalmatians</td>\n",
       "      <td>['\\n\\n                        [music]Digga-dig...</td>\n",
       "      <td>0</td>\n",
       "    </tr>\n",
       "    <tr>\n",
       "      <th>3</th>\n",
       "      <td>10th-wolf</td>\n",
       "      <td>['\\n\\n                        We all grow up l...</td>\n",
       "      <td>0</td>\n",
       "    </tr>\n",
       "    <tr>\n",
       "      <th>4</th>\n",
       "      <td>11th-hour-the</td>\n",
       "      <td>NaN</td>\n",
       "      <td>0</td>\n",
       "    </tr>\n",
       "  </tbody>\n",
       "</table>\n",
       "</div>"
      ],
      "text/plain": [
       "       Unnamed: 0                                                  0  \\\n",
       "0            -the                                                NaN   \n",
       "1        10000-bc                                                NaN   \n",
       "2  102-dalmatians  ['\\n\\n                        [music]Digga-dig...   \n",
       "3       10th-wolf  ['\\n\\n                        We all grow up l...   \n",
       "4   11th-hour-the                                                NaN   \n",
       "\n",
       "   good_or_bad  \n",
       "0            0  \n",
       "1            0  \n",
       "2            0  \n",
       "3            0  \n",
       "4            0  "
      ]
     },
     "execution_count": 9,
     "metadata": {},
     "output_type": "execute_result"
    }
   ],
   "source": [
    "df_bad.head()"
   ]
  },
  {
   "cell_type": "code",
   "execution_count": 10,
   "metadata": {},
   "outputs": [
    {
     "data": {
      "text/html": [
       "<div>\n",
       "<style scoped>\n",
       "    .dataframe tbody tr th:only-of-type {\n",
       "        vertical-align: middle;\n",
       "    }\n",
       "\n",
       "    .dataframe tbody tr th {\n",
       "        vertical-align: top;\n",
       "    }\n",
       "\n",
       "    .dataframe thead th {\n",
       "        text-align: right;\n",
       "    }\n",
       "</style>\n",
       "<table border=\"1\" class=\"dataframe\">\n",
       "  <thead>\n",
       "    <tr style=\"text-align: right;\">\n",
       "      <th></th>\n",
       "      <th>titles</th>\n",
       "      <th>titles_formatted</th>\n",
       "      <th>rotten_scores</th>\n",
       "      <th>scripts</th>\n",
       "    </tr>\n",
       "  </thead>\n",
       "  <tbody>\n",
       "    <tr>\n",
       "      <th>0</th>\n",
       "      <td>the_gallows_act_ii</td>\n",
       "      <td>gallows-act-ii-the</td>\n",
       "      <td>0</td>\n",
       "      <td>['\\n\\n                        1', ' - Do it.',...</td>\n",
       "    </tr>\n",
       "    <tr>\n",
       "      <th>1</th>\n",
       "      <td>portals</td>\n",
       "      <td>portals</td>\n",
       "      <td>0</td>\n",
       "      <td>['\\n\\n                        1', ' [boulderli...</td>\n",
       "    </tr>\n",
       "    <tr>\n",
       "      <th>2</th>\n",
       "      <td>mob_town</td>\n",
       "      <td>mob-town</td>\n",
       "      <td>0</td>\n",
       "      <td>['\\n\\n                        1', ' Police rai...</td>\n",
       "    </tr>\n",
       "    <tr>\n",
       "      <th>3</th>\n",
       "      <td>solis</td>\n",
       "      <td>solis</td>\n",
       "      <td>0</td>\n",
       "      <td>['\\n\\n                        1', ' [EERIE]', ...</td>\n",
       "    </tr>\n",
       "    <tr>\n",
       "      <th>4</th>\n",
       "      <td>welcome_to_curiosity</td>\n",
       "      <td>welcome-to-curiosity</td>\n",
       "      <td>0</td>\n",
       "      <td>['\\n\\n                        Help!', ' Someon...</td>\n",
       "    </tr>\n",
       "  </tbody>\n",
       "</table>\n",
       "</div>"
      ],
      "text/plain": [
       "                 titles      titles_formatted  rotten_scores  \\\n",
       "0    the_gallows_act_ii    gallows-act-ii-the              0   \n",
       "1               portals               portals              0   \n",
       "2              mob_town              mob-town              0   \n",
       "3                 solis                 solis              0   \n",
       "4  welcome_to_curiosity  welcome-to-curiosity              0   \n",
       "\n",
       "                                             scripts  \n",
       "0  ['\\n\\n                        1', ' - Do it.',...  \n",
       "1  ['\\n\\n                        1', ' [boulderli...  \n",
       "2  ['\\n\\n                        1', ' Police rai...  \n",
       "3  ['\\n\\n                        1', ' [EERIE]', ...  \n",
       "4  ['\\n\\n                        Help!', ' Someon...  "
      ]
     },
     "execution_count": 10,
     "metadata": {},
     "output_type": "execute_result"
    }
   ],
   "source": [
    "rotten_df.head()"
   ]
  },
  {
   "cell_type": "code",
   "execution_count": 11,
   "metadata": {},
   "outputs": [],
   "source": [
    "# Re-setting columns and index after re-importing.\n",
    "df_good.columns = ['titles', 'scripts', 'good_or_bad']\n",
    "df_bad.columns = ['titles', 'scripts', 'good_or_bad']\n",
    "\n",
    "# Adding labels, combining good and bad, and dropping missing scripts.\n",
    "df_good['good_or_bad'] = 1\n",
    "df_bad['good_or_bad'] = 0\n",
    "\n",
    "screenplays = pd.concat([df_good, df_bad])\n",
    "screenplays.columns = ['titles', 'scripts', 'good_or_bad']\n",
    "\n",
    "screenplays.dropna(inplace=True)"
   ]
  },
  {
   "cell_type": "code",
   "execution_count": 12,
   "metadata": {},
   "outputs": [
    {
     "name": "stdout",
     "output_type": "stream",
     "text": [
      "# of good screeenplays:  1270\n",
      "# of bad screenplays:  1514\n"
     ]
    }
   ],
   "source": [
    "print('# of good screeenplays: ', len(screenplays[screenplays['good_or_bad'] == 1]))\n",
    "print('# of bad screenplays: ', len(screenplays[screenplays['good_or_bad'] == 0]))"
   ]
  },
  {
   "cell_type": "code",
   "execution_count": 13,
   "metadata": {},
   "outputs": [],
   "source": [
    "# converting imported screenplays back to lists from strings\n",
    "screenplays.scripts = screenplays.scripts.apply(literal_eval)\n",
    "\n",
    "# Series with a list of lines for each screenplay.\n",
    "good_to_count = screenplays[screenplays['good_or_bad'] == 1]\n",
    "bad_to_count = screenplays[screenplays['good_or_bad'] == 0]\n",
    "\n",
    "# Single string of all good words.\n",
    "splice_scripts = ''\n",
    "for script in good_to_count['scripts']:\n",
    "    splice_scripts += ''.join(script)\n",
    "\n",
    "all_good_words = ''.join(splice_scripts)\n",
    "\n",
    "# Single string of all bad words.\n",
    "splice_scripts = ''\n",
    "for script in bad_to_count['scripts']:\n",
    "    splice_scripts += ''.join(script)\n",
    "\n",
    "all_bad_words = ''.join(splice_scripts)\n",
    "\n",
    "# Lists of all words lumped together and tokenized\n",
    "good_data = word_tokenize(all_good_words)\n",
    "bad_data = word_tokenize(all_bad_words)"
   ]
  },
  {
   "cell_type": "markdown",
   "metadata": {},
   "source": [
    "### Script Metrics"
   ]
  },
  {
   "cell_type": "markdown",
   "metadata": {},
   "source": [
    "Creating some simple word metrics. These will be useful for getting a big picture of the scripts' structure."
   ]
  },
  {
   "cell_type": "code",
   "execution_count": 14,
   "metadata": {},
   "outputs": [
    {
     "name": "stdout",
     "output_type": "stream",
     "text": [
      "good words total:  14020073\n",
      "bad words total:  15477699\n",
      "--------------------------------------------------------------------------------\n",
      "good vocabulary:  172220\n",
      "bad vocabulary:  183840\n",
      "--------------------------------------------------------------------------------\n",
      "good % vocab to total:  0.0123\n",
      "bad % vocab to total:  0.0119\n",
      "--------------------------------------------------------------------------------\n",
      "Average Good # Words:  11039.427559055119\n",
      "Average Bad # Words:  10223.050858652576\n",
      "--------------------------------------------------------------------------------\n",
      "Ave difference by words, good vs bad:  0.08\n",
      "--------------------------------------------------------------------------------\n"
     ]
    }
   ],
   "source": [
    "print('good words total: ', len(good_data))\n",
    "print('bad words total: ', len(bad_data))\n",
    "print('----'*20)\n",
    "\n",
    "print('good vocabulary: ', len(set(good_data)))\n",
    "print('bad vocabulary: ', len(set(bad_data)))\n",
    "print('----'*20)\n",
    "\n",
    "print('good % vocab to total: ', round(len(set(good_data)) / len(good_data),4))\n",
    "print('bad % vocab to total: ', round(len(set(bad_data)) / len(bad_data),4))\n",
    "print('----'*20)\n",
    "\n",
    "# Total words divided by total number of sripts.\n",
    "print('Average Good # Words: ', len(good_data) / len(good_to_count))\n",
    "print('Average Bad # Words: ', len(bad_data) / len(bad_to_count))\n",
    "print('----'*20)\n",
    "\n",
    "print('Ave difference by words, good vs bad: ', \n",
    "      round(((len(good_data) / len(good_to_count)) \\\n",
    "       - (len(bad_data) / len(bad_to_count))) / (len(bad_data) \\\n",
    "                                                 / len(bad_to_count)),2))\n",
    "print('----'*20)"
   ]
  },
  {
   "cell_type": "markdown",
   "metadata": {},
   "source": [
    "Counting punctuation and comparing good to bad."
   ]
  },
  {
   "cell_type": "code",
   "execution_count": 15,
   "metadata": {},
   "outputs": [
    {
     "name": "stdout",
     "output_type": "stream",
     "text": [
      "Good ':' ratio:  0.001625\n",
      "Bad ':' ratio:  0.001428\n",
      "Good-Bad % for ':' 0.14\n",
      "--------------------------------------------------\n",
      "Good ';' ratio:  0.000048\n",
      "Bad ';' ratio:  0.000114\n",
      "Good-Bad % for ';' -0.58\n",
      "--------------------------------------------------\n",
      "Good ',' ratio:  0.047181\n",
      "Bad ',' ratio:  0.048443\n",
      "Good-Bad % for ',' -0.03\n",
      "--------------------------------------------------\n",
      "Good '...' ratio:  0.011329\n",
      "Bad '...' ratio:  0.010441\n",
      "Good-Bad % for '...' 0.09\n",
      "--------------------------------------------------\n",
      "Good '!' ratio:  0.010268\n",
      "Bad '!' ratio:  0.014268\n",
      "Good-Bad % for '!' -0.28\n",
      "--------------------------------------------------\n"
     ]
    }
   ],
   "source": [
    "for p in [':', ';', ',', '...', '!']:\n",
    "    good_p = good_data.count(p) / len(good_data)\n",
    "    bad_p = bad_data.count(p) / len(bad_data)\n",
    "    print(f'Good \\'{p}\\' ratio: ', np.format_float_positional(round(good_p, 6)))\n",
    "    print(f'Bad \\'{p}\\' ratio: ', np.format_float_positional(round(bad_p,6)))\n",
    "    print(f'Good-Bad % for \\'{p}\\'', round((good_p - bad_p) / bad_p,2))\n",
    "    print('-----'*10)"
   ]
  },
  {
   "cell_type": "markdown",
   "metadata": {},
   "source": [
    "Bad scripts on average use 28% more exclamation marks and 58% more semicolons. There might be more factors at play here, such as some scripts having formatting differences that are throwing off the numbers."
   ]
  },
  {
   "cell_type": "markdown",
   "metadata": {},
   "source": [
    "Now creating additional columns for scripts in different formats. Right now, each script line is an element of a list. Breaking those apart into one long string."
   ]
  },
  {
   "cell_type": "code",
   "execution_count": 16,
   "metadata": {},
   "outputs": [],
   "source": [
    "splice_scripts = ''\n",
    "for script in screenplays['scripts']:\n",
    "    splice_scripts += ''.join(script)\n",
    "\n",
    "all_words = ''.join(splice_scripts)\n",
    "\n",
    "temp = []\n",
    "for script in screenplays['scripts']:\n",
    "    temp.append(''.join(script))\n",
    "\n",
    "# This has each script as one long string inside of its cell, \n",
    "# as opposed with a list of lines.\n",
    "screenplays['all_together_now'] = temp\n",
    "\n",
    "data = word_tokenize(all_words)"
   ]
  },
  {
   "cell_type": "markdown",
   "metadata": {},
   "source": [
    "Looking for # of unique tokens so I know roughly how many to play with when modeling."
   ]
  },
  {
   "cell_type": "code",
   "execution_count": 17,
   "metadata": {},
   "outputs": [
    {
     "data": {
      "text/plain": [
       "278462"
      ]
     },
     "execution_count": 17,
     "metadata": {},
     "output_type": "execute_result"
    }
   ],
   "source": [
    "len(set(data))"
   ]
  },
  {
   "cell_type": "markdown",
   "metadata": {},
   "source": [
    "The below function will be used in an apply function remove the stop words for purposes further down. One will keep punctuation and one will remove it."
   ]
  },
  {
   "cell_type": "code",
   "execution_count": 18,
   "metadata": {},
   "outputs": [
    {
     "data": {
      "application/vnd.jupyter.widget-view+json": {
       "model_id": "f14b8ce417124b7daee2835f19b13f55",
       "version_major": 2,
       "version_minor": 0
      },
      "text/plain": [
       "HBox(children=(IntProgress(value=0, max=2784), HTML(value='')))"
      ]
     },
     "metadata": {},
     "output_type": "display_data"
    },
    {
     "name": "stdout",
     "output_type": "stream",
     "text": [
      "\n"
     ]
    },
    {
     "data": {
      "application/vnd.jupyter.widget-view+json": {
       "model_id": "52fadfebc6484794937e0d6cd28bec34",
       "version_major": 2,
       "version_minor": 0
      },
      "text/plain": [
       "HBox(children=(IntProgress(value=0, max=2784), HTML(value='')))"
      ]
     },
     "metadata": {},
     "output_type": "display_data"
    },
    {
     "name": "stdout",
     "output_type": "stream",
     "text": [
      "\n"
     ]
    }
   ],
   "source": [
    "screenplays['no_stop'] = screenplays['all_together_now']\\\n",
    "    .progress_apply(fun.stop_it, punct=False)\n",
    "\n",
    "screenplays['just_words'] = screenplays['all_together_now']\\\n",
    "    .progress_apply(fun.stop_it, punct=True)"
   ]
  },
  {
   "cell_type": "markdown",
   "metadata": {},
   "source": [
    "## Rottentomatoes"
   ]
  },
  {
   "cell_type": "markdown",
   "metadata": {},
   "source": [
    "### Setting up DataFrame"
   ]
  },
  {
   "cell_type": "code",
   "execution_count": 19,
   "metadata": {},
   "outputs": [],
   "source": [
    "rotten_df.dropna(inplace=True)"
   ]
  },
  {
   "cell_type": "code",
   "execution_count": 20,
   "metadata": {},
   "outputs": [],
   "source": [
    "temp = []\n",
    "for script in rotten_df.scripts:\n",
    "    temp.append(''.join(script))"
   ]
  },
  {
   "cell_type": "code",
   "execution_count": 21,
   "metadata": {},
   "outputs": [],
   "source": [
    "# This has each script as one long string inside of its cell, \n",
    "# as opposed with a list of lines.\n",
    "rotten_df['all_together_now'] = temp"
   ]
  },
  {
   "cell_type": "markdown",
   "metadata": {},
   "source": [
    "Using this function again for rotten_df this time to remove stop words for one columns of scripts and remove stop words plus punctuation for another."
   ]
  },
  {
   "cell_type": "code",
   "execution_count": 22,
   "metadata": {},
   "outputs": [
    {
     "data": {
      "application/vnd.jupyter.widget-view+json": {
       "model_id": "0e7d6e219f5c4d09992dc7feb289c9cf",
       "version_major": 2,
       "version_minor": 0
      },
      "text/plain": [
       "HBox(children=(IntProgress(value=0, max=1536), HTML(value='')))"
      ]
     },
     "metadata": {},
     "output_type": "display_data"
    },
    {
     "name": "stdout",
     "output_type": "stream",
     "text": [
      "\n"
     ]
    },
    {
     "data": {
      "application/vnd.jupyter.widget-view+json": {
       "model_id": "756ad62656054d6daa511e014c1ccf19",
       "version_major": 2,
       "version_minor": 0
      },
      "text/plain": [
       "HBox(children=(IntProgress(value=0, max=1536), HTML(value='')))"
      ]
     },
     "metadata": {},
     "output_type": "display_data"
    },
    {
     "name": "stdout",
     "output_type": "stream",
     "text": [
      "\n"
     ]
    }
   ],
   "source": [
    "rotten_df['no_stop'] = rotten_df['all_together_now']\\\n",
    "    .progress_apply(fun.stop_it, punct=False)\n",
    "\n",
    "rotten_df['just_words'] = rotten_df['all_together_now']\\\n",
    "    .progress_apply(fun.stop_it, punct=True)"
   ]
  },
  {
   "cell_type": "code",
   "execution_count": 23,
   "metadata": {},
   "outputs": [],
   "source": [
    "# Need to rename the period since it causes problems later on.\n",
    "rotten_df.rename(columns={'.':'PER'}, inplace=True)"
   ]
  },
  {
   "cell_type": "code",
   "execution_count": 24,
   "metadata": {},
   "outputs": [],
   "source": [
    "# rotten_df.dropna(inplace=True)\n",
    "# screenplays.dropna(inplace=True)\n",
    "\n",
    "rotten_df = rotten_df.drop_duplicates(subset=['titles']).copy()\n",
    "screenplays = screenplays.drop_duplicates(['titles']).copy()\n",
    "\n",
    "# screenplays.to_csv('project_resources/screenplays_scrub.csv')\n",
    "# rotten_df.to_csv('project_resources/rotten_df_scrub.csv')"
   ]
  },
  {
   "cell_type": "markdown",
   "metadata": {},
   "source": [
    "# Exploratory Data Analysis"
   ]
  },
  {
   "cell_type": "markdown",
   "metadata": {},
   "source": [
    "## Local Functions"
   ]
  },
  {
   "cell_type": "markdown",
   "metadata": {},
   "source": [
    "The small functions below will be used for the .apply functions applied against the dataframes, when they are too complex for lambda functions."
   ]
  },
  {
   "cell_type": "code",
   "execution_count": 25,
   "metadata": {},
   "outputs": [],
   "source": [
    "# Counting punctuation and parts of speech\n",
    "def count_punct(text, punk):\n",
    "    return text.count(punk) / len(text.split())\n",
    "\n",
    "def count_pos(x):\n",
    "    return x.count_by(spacy.attrs.POS)\n",
    "\n",
    "def count_tag(x):\n",
    "    return x.count_by(spacy.attrs.TAG)\n",
    "\n",
    "# Determining the average sentence length for a given script.\n",
    "def sent_len(str):\n",
    "    doc = nlp(str)\n",
    "    count = 0\n",
    "    \n",
    "    for sent in doc.sents:\n",
    "        count += 1\n",
    "    \n",
    "    return len(str.split()) / count\n",
    "\n",
    "# These two find the acutal POS name for the code number supplied, for\n",
    "# creating the column names.\n",
    "def POS_reverse_lookup_n_ratio(x, code):\n",
    "    try:\n",
    "        return x.POS_counts[code] / x.word_count\n",
    "    except:\n",
    "        pass\n",
    "\n",
    "def TAG_reverse_lookup_n_ratio(x, code):\n",
    "    try:\n",
    "        return x.TAG_counts[code] / x.word_count\n",
    "    except:\n",
    "        return 0"
   ]
  },
  {
   "cell_type": "markdown",
   "metadata": {},
   "source": [
    "## Bringing in the data"
   ]
  },
  {
   "cell_type": "markdown",
   "metadata": {},
   "source": [
    "Reading back in data we scubbed in 'scrubbing'. "
   ]
  },
  {
   "cell_type": "code",
   "execution_count": 26,
   "metadata": {},
   "outputs": [],
   "source": [
    "# screenplays = pd.read_csv('project_resources/screenplays_scrub.csv', index_col=0)\n",
    "# rotten_df = pd.read_csv('project_resources/rotten_df_scrub.csv', index_col=0)\n",
    "\n",
    "screenplays.dropna(inplace=True)"
   ]
  },
  {
   "cell_type": "code",
   "execution_count": 27,
   "metadata": {},
   "outputs": [
    {
     "data": {
      "text/html": [
       "<div>\n",
       "<style scoped>\n",
       "    .dataframe tbody tr th:only-of-type {\n",
       "        vertical-align: middle;\n",
       "    }\n",
       "\n",
       "    .dataframe tbody tr th {\n",
       "        vertical-align: top;\n",
       "    }\n",
       "\n",
       "    .dataframe thead th {\n",
       "        text-align: right;\n",
       "    }\n",
       "</style>\n",
       "<table border=\"1\" class=\"dataframe\">\n",
       "  <thead>\n",
       "    <tr style=\"text-align: right;\">\n",
       "      <th></th>\n",
       "      <th>titles</th>\n",
       "      <th>scripts</th>\n",
       "      <th>good_or_bad</th>\n",
       "      <th>all_together_now</th>\n",
       "      <th>no_stop</th>\n",
       "      <th>just_words</th>\n",
       "    </tr>\n",
       "  </thead>\n",
       "  <tbody>\n",
       "    <tr>\n",
       "      <th>1</th>\n",
       "      <td>101-dalmatians</td>\n",
       "      <td>[\\n\\n                        [ Clock Chiming ]...</td>\n",
       "      <td>1</td>\n",
       "      <td>\\n\\n                        [ Clock Chiming ] ...</td>\n",
       "      <td>[ clock chiming ] [ alarm ] [ groaning ] [ wh...</td>\n",
       "      <td>clock chiming alarm groaning whimpering barki...</td>\n",
       "    </tr>\n",
       "    <tr>\n",
       "      <th>2</th>\n",
       "      <td>12-angry-men</td>\n",
       "      <td>[\\n\\n                        You did a wonderf...</td>\n",
       "      <td>1</td>\n",
       "      <td>\\n\\n                        You did a wonderfu...</td>\n",
       "      <td>wonderful job. wonderful. it. it! continue, y...</td>\n",
       "      <td>wonderful job wonderful continue youve listen...</td>\n",
       "    </tr>\n",
       "    <tr>\n",
       "      <th>3</th>\n",
       "      <td>12-years-a-slave</td>\n",
       "      <td>[\\n\\n                        All right now.,  ...</td>\n",
       "      <td>1</td>\n",
       "      <td>\\n\\n                        All right now. Y'a...</td>\n",
       "      <td>right now. y'all fresh niggers. y'all gonna c...</td>\n",
       "      <td>right yall fresh niggers yall gonna cutting g...</td>\n",
       "    </tr>\n",
       "    <tr>\n",
       "      <th>5</th>\n",
       "      <td>127-hours</td>\n",
       "      <td>[\\n\\n                        Hey. Aron here, l...</td>\n",
       "      <td>1</td>\n",
       "      <td>\\n\\n                        Hey. Aron here, le...</td>\n",
       "      <td>hey. aron here, leave message. hi aron, sonja...</td>\n",
       "      <td>hey aron leave message hi aron sonja hereagai...</td>\n",
       "    </tr>\n",
       "    <tr>\n",
       "      <th>7</th>\n",
       "      <td>13th</td>\n",
       "      <td>[\\n\\n                        So let's look at ...</td>\n",
       "      <td>1</td>\n",
       "      <td>\\n\\n                        So let's look at t...</td>\n",
       "      <td>let's look statistics. united states home 5% ...</td>\n",
       "      <td>lets look statistics united states home 5 wor...</td>\n",
       "    </tr>\n",
       "  </tbody>\n",
       "</table>\n",
       "</div>"
      ],
      "text/plain": [
       "             titles                                            scripts  \\\n",
       "1    101-dalmatians  [\\n\\n                        [ Clock Chiming ]...   \n",
       "2      12-angry-men  [\\n\\n                        You did a wonderf...   \n",
       "3  12-years-a-slave  [\\n\\n                        All right now.,  ...   \n",
       "5         127-hours  [\\n\\n                        Hey. Aron here, l...   \n",
       "7              13th  [\\n\\n                        So let's look at ...   \n",
       "\n",
       "   good_or_bad                                   all_together_now  \\\n",
       "1            1  \\n\\n                        [ Clock Chiming ] ...   \n",
       "2            1  \\n\\n                        You did a wonderfu...   \n",
       "3            1  \\n\\n                        All right now. Y'a...   \n",
       "5            1  \\n\\n                        Hey. Aron here, le...   \n",
       "7            1  \\n\\n                        So let's look at t...   \n",
       "\n",
       "                                             no_stop  \\\n",
       "1   [ clock chiming ] [ alarm ] [ groaning ] [ wh...   \n",
       "2   wonderful job. wonderful. it. it! continue, y...   \n",
       "3   right now. y'all fresh niggers. y'all gonna c...   \n",
       "5   hey. aron here, leave message. hi aron, sonja...   \n",
       "7   let's look statistics. united states home 5% ...   \n",
       "\n",
       "                                          just_words  \n",
       "1   clock chiming alarm groaning whimpering barki...  \n",
       "2   wonderful job wonderful continue youve listen...  \n",
       "3   right yall fresh niggers yall gonna cutting g...  \n",
       "5   hey aron leave message hi aron sonja hereagai...  \n",
       "7   lets look statistics united states home 5 wor...  "
      ]
     },
     "execution_count": 27,
     "metadata": {},
     "output_type": "execute_result"
    }
   ],
   "source": [
    "screenplays.head()"
   ]
  },
  {
   "cell_type": "code",
   "execution_count": 28,
   "metadata": {},
   "outputs": [
    {
     "data": {
      "text/html": [
       "<div>\n",
       "<style scoped>\n",
       "    .dataframe tbody tr th:only-of-type {\n",
       "        vertical-align: middle;\n",
       "    }\n",
       "\n",
       "    .dataframe tbody tr th {\n",
       "        vertical-align: top;\n",
       "    }\n",
       "\n",
       "    .dataframe thead th {\n",
       "        text-align: right;\n",
       "    }\n",
       "</style>\n",
       "<table border=\"1\" class=\"dataframe\">\n",
       "  <thead>\n",
       "    <tr style=\"text-align: right;\">\n",
       "      <th></th>\n",
       "      <th>titles</th>\n",
       "      <th>titles_formatted</th>\n",
       "      <th>rotten_scores</th>\n",
       "      <th>scripts</th>\n",
       "      <th>all_together_now</th>\n",
       "      <th>no_stop</th>\n",
       "      <th>just_words</th>\n",
       "    </tr>\n",
       "  </thead>\n",
       "  <tbody>\n",
       "    <tr>\n",
       "      <th>0</th>\n",
       "      <td>the_gallows_act_ii</td>\n",
       "      <td>gallows-act-ii-the</td>\n",
       "      <td>0</td>\n",
       "      <td>['\\n\\n                        1', ' - Do it.',...</td>\n",
       "      <td>['\\n\\n                        1', ' - Do it.',...</td>\n",
       "      <td>['\\n\\n 1', ' - it.', ' - right.', ' oh, gosh....</td>\n",
       "      <td>nn 1 right oh gosh oh gosh bro charlie mexica...</td>\n",
       "    </tr>\n",
       "    <tr>\n",
       "      <th>1</th>\n",
       "      <td>portals</td>\n",
       "      <td>portals</td>\n",
       "      <td>0</td>\n",
       "      <td>['\\n\\n                        1', ' [boulderli...</td>\n",
       "      <td>['\\n\\n                        1', ' [boulderli...</td>\n",
       "      <td>['\\n\\n 1', ' [boulderlight pictures theme]', ...</td>\n",
       "      <td>nn 1 boulderlight pictures theme bloody disgu...</td>\n",
       "    </tr>\n",
       "    <tr>\n",
       "      <th>2</th>\n",
       "      <td>mob_town</td>\n",
       "      <td>mob-town</td>\n",
       "      <td>0</td>\n",
       "      <td>['\\n\\n                        1', ' Police rai...</td>\n",
       "      <td>['\\n\\n                        1', ' Police rai...</td>\n",
       "      <td>['\\n\\n 1', ' police raid organized crime meet...</td>\n",
       "      <td>nn 1 police raid organized crime meeting home...</td>\n",
       "    </tr>\n",
       "    <tr>\n",
       "      <th>3</th>\n",
       "      <td>solis</td>\n",
       "      <td>solis</td>\n",
       "      <td>0</td>\n",
       "      <td>['\\n\\n                        1', ' [EERIE]', ...</td>\n",
       "      <td>['\\n\\n                        1', ' [EERIE]', ...</td>\n",
       "      <td>['\\n\\n 1', ' [eerie]', ' woman: come in, 2024...</td>\n",
       "      <td>nn 1 eerie woman come 2024 hathor 18 confirmi...</td>\n",
       "    </tr>\n",
       "    <tr>\n",
       "      <th>4</th>\n",
       "      <td>welcome_to_curiosity</td>\n",
       "      <td>welcome-to-curiosity</td>\n",
       "      <td>0</td>\n",
       "      <td>['\\n\\n                        Help!', ' Someon...</td>\n",
       "      <td>['\\n\\n                        Help!', ' Someon...</td>\n",
       "      <td>['\\n\\n help!', ' help!', ' help!', ' paging d...</td>\n",
       "      <td>nn help help help paging dr jones paging dr j...</td>\n",
       "    </tr>\n",
       "  </tbody>\n",
       "</table>\n",
       "</div>"
      ],
      "text/plain": [
       "                 titles      titles_formatted  rotten_scores  \\\n",
       "0    the_gallows_act_ii    gallows-act-ii-the              0   \n",
       "1               portals               portals              0   \n",
       "2              mob_town              mob-town              0   \n",
       "3                 solis                 solis              0   \n",
       "4  welcome_to_curiosity  welcome-to-curiosity              0   \n",
       "\n",
       "                                             scripts  \\\n",
       "0  ['\\n\\n                        1', ' - Do it.',...   \n",
       "1  ['\\n\\n                        1', ' [boulderli...   \n",
       "2  ['\\n\\n                        1', ' Police rai...   \n",
       "3  ['\\n\\n                        1', ' [EERIE]', ...   \n",
       "4  ['\\n\\n                        Help!', ' Someon...   \n",
       "\n",
       "                                    all_together_now  \\\n",
       "0  ['\\n\\n                        1', ' - Do it.',...   \n",
       "1  ['\\n\\n                        1', ' [boulderli...   \n",
       "2  ['\\n\\n                        1', ' Police rai...   \n",
       "3  ['\\n\\n                        1', ' [EERIE]', ...   \n",
       "4  ['\\n\\n                        Help!', ' Someon...   \n",
       "\n",
       "                                             no_stop  \\\n",
       "0   ['\\n\\n 1', ' - it.', ' - right.', ' oh, gosh....   \n",
       "1   ['\\n\\n 1', ' [boulderlight pictures theme]', ...   \n",
       "2   ['\\n\\n 1', ' police raid organized crime meet...   \n",
       "3   ['\\n\\n 1', ' [eerie]', ' woman: come in, 2024...   \n",
       "4   ['\\n\\n help!', ' help!', ' help!', ' paging d...   \n",
       "\n",
       "                                          just_words  \n",
       "0   nn 1 right oh gosh oh gosh bro charlie mexica...  \n",
       "1   nn 1 boulderlight pictures theme bloody disgu...  \n",
       "2   nn 1 police raid organized crime meeting home...  \n",
       "3   nn 1 eerie woman come 2024 hathor 18 confirmi...  \n",
       "4   nn help help help paging dr jones paging dr j...  "
      ]
     },
     "execution_count": 28,
     "metadata": {},
     "output_type": "execute_result"
    }
   ],
   "source": [
    "rotten_df.head()"
   ]
  },
  {
   "cell_type": "code",
   "execution_count": 29,
   "metadata": {},
   "outputs": [],
   "source": [
    "# Adding column showing if a title is above or below a score of 50.\n",
    "rotten_df['good_or_bad'] = rotten_df.rotten_scores.apply(\n",
    "    lambda x: 1 if x >=50 else 0)\n",
    "\n",
    "# Re-ordering columns to line up the two data sources for later use.\n",
    "screen_cols = list(screenplays.columns)\n",
    "screen_cols.remove('good_or_bad')\n",
    "screen_cols.append('good_or_bad')\n",
    "screenplays = screenplays[screen_cols].copy()\n",
    "\n",
    "rotten_cols = list(rotten_df.columns)\n",
    "rotten_cols.remove('rotten_scores')\n",
    "rotten_cols.append('rotten_scores')\n",
    "rotten_df = rotten_df[rotten_cols].copy()\n",
    "rotten_df.drop('titles', axis=1, inplace=True)"
   ]
  },
  {
   "cell_type": "code",
   "execution_count": 30,
   "metadata": {},
   "outputs": [],
   "source": [
    "# rotten_df = rotten_df[sort_cols]\n",
    "rotten_df.rename(columns={'titles_formatted':'titles'}, inplace=True)"
   ]
  },
  {
   "cell_type": "markdown",
   "metadata": {},
   "source": [
    "## Latent Derichlet Allocation"
   ]
  },
  {
   "cell_type": "markdown",
   "metadata": {},
   "source": [
    "Finding the categories inherent in the screenplays by analyzing the words and grouping the screenplays. These could prove useful in grouping the scripts in ways that can identify the 'bad' from the 'good'. \n",
    "\n",
    "They will also come in handy later when presenting discoveries in the visuals."
   ]
  },
  {
   "cell_type": "code",
   "execution_count": 31,
   "metadata": {},
   "outputs": [],
   "source": [
    "combined_df = pd.concat([rotten_df[['titles', 'just_words']],\n",
    "                         screenplays[['titles', 'just_words']]],\n",
    "                         ignore_index=True)\n",
    "\n",
    "combined_df.drop_duplicates(subset='titles', inplace=True)"
   ]
  },
  {
   "cell_type": "code",
   "execution_count": 32,
   "metadata": {},
   "outputs": [],
   "source": [
    "cv = CountVectorizer(min_df=.1, max_df=.6)\n",
    "victor = cv.fit_transform(combined_df.just_words)\n",
    "LDA = LatentDirichletAllocation(n_components=10, random_state=42)\n",
    "combined_df['category'] = LDA.fit_transform(victor).argmax(axis=1)"
   ]
  },
  {
   "cell_type": "markdown",
   "metadata": {},
   "source": [
    "Showing the category word groupings, then creating materiels to be used later."
   ]
  },
  {
   "cell_type": "code",
   "execution_count": 33,
   "metadata": {
    "scrolled": false
   },
   "outputs": [
    {
     "name": "stdout",
     "output_type": "stream",
     "text": [
      "THE TOP 15 WORDS FOR CATEGORY #0\n",
      "['government', 'fight', 'human', 'war', 'body', 'law', 'children', 'power', 'court', 'country', 'state', 'president', 'death', 'police', 'dr']\n",
      "\n",
      "\n",
      "THE TOP 15 WORDS FOR CATEGORY #1\n",
      "['buddy', 'boys', 'cool', 'uh', 'team', 'ball', 'ah', 'ya', 'aint', 'em', 'dog', 'ha', 'game', 'whoa', 'ok']\n",
      "\n",
      "\n",
      "THE TOP 15 WORDS FOR CATEGORY #2\n",
      "['air', 'safe', 'jim', 'ship', 'war', 'jack', 'officer', 'clear', 'shot', 'shoot', 'fire', 'john', 'police', 'captain', 'gun']\n",
      "\n",
      "\n",
      "THE TOP 15 WORDS FOR CATEGORY #3\n",
      "['ooh', 'ah', 'whoa', 'cool', 'christmas', 'bye', 'wow', 'daddy', 'charlie', 'sam', 'honey', 'jack', 'um', 'uh', 'mom']\n",
      "\n",
      "\n",
      "THE TOP 15 WORDS FOR CATEGORY #4\n",
      "['groans', 'radio', 'grunts', 'crowd', 'chatter', 'cheering', 'speaking', 'indistinct', 'continues', 'laughs', 'playing', 'laughing', 'sighs', 'chuckles', 'music']\n",
      "\n",
      "\n",
      "THE TOP 15 WORDS FOR CATEGORY #5\n",
      "['aint', 'poor', 'sister', 'darling', 'war', 'brother', 'child', 'death', 'lady', 'children', 'king', 'lord', 'dear', 'shall', 'mrs']\n",
      "\n",
      "\n",
      "THE TOP 15 WORDS FOR CATEGORY #6\n",
      "['gun', 'brother', 'goddamn', 'motherfucker', 'dude', 'fucked', 'em', 'yo', 'jesus', 'bitch', 'ass', 'fuckin', 'aint', 'fucking', 'fuck']\n",
      "\n",
      "\n",
      "THE TOP 15 WORDS FOR CATEGORY #7\n",
      "['buy', 'parents', 'women', 'bye', 'york', 'perfect', 'dinner', 'book', 'party', 'honey', 'movie', 'girls', 'sex', 'married', 'mom']\n",
      "\n",
      "\n",
      "THE TOP 15 WORDS FOR CATEGORY #8\n",
      "['white', 'women', 'ii', 'mmm', 'sort', 'mm', 'wow', 'alright', 'mmhmm', 'john', 'bob', 'hmm', 'ah', 'um', 'uh']\n",
      "\n",
      "\n",
      "THE TOP 15 WORDS FOR CATEGORY #9\n",
      "['groaning', 'chuckles', 'breathing', 'continues', 'groans', 'music', 'screams', 'panting', 'sighs', 'mary', 'grunting', 'michael', 'grunts', 'gasps', 'screaming']\n",
      "\n",
      "\n"
     ]
    }
   ],
   "source": [
    "# This will house the dictionaries for using in the dashboard.\n",
    "cat_word_dicts = []\n",
    "\n",
    "# Priting out the word gropuings and filling in the cat_word_dicts list.\n",
    "for index,topic in enumerate(LDA.components_):\n",
    "    print(f'THE TOP 15 WORDS FOR CATEGORY #{index}')\n",
    "    print([cv.get_feature_names()[i] for i in topic.argsort()[-15:]])\n",
    "    print('\\n')\n",
    "    cat_word_dicts.append({index:[cv.get_feature_names()[i]\\\n",
    "                                  for i in topic.argsort()[-15:]]})\n",
    "#     cat_word_dicts.append([cv.get_feature_names()[i]\\\n",
    "#                           for i in topic.argsort()[-15:]])\n",
    "\n",
    "cat_word_df = pd.DataFrame()\n",
    "\n",
    "# Creating a dataframe for export to .csv for later use.\n",
    "for i in range(len(cat_word_dicts)):\n",
    "    cat_word_df[i] = cat_word_dicts[i][i]\n",
    "\n",
    "# Creating category mapping for all dataframes to indicate how I see \n",
    "# The groupings. This part is just based on my looking them over.\n",
    "category_map = {0: 'Dark & Political', 1: 'Sports, Comedy, Silly Horror', \n",
    "                2: 'Conflict', 3: 'Holiday, Films I Haven\\'t Seen',\n",
    "                4: 'Light-Hearted', 5: 'Unusual Language or Slang', \n",
    "                6: 'Violence & Gangster', 7: 'Romance & Light Drama', \n",
    "                8: 'Life Stories', 9: 'Straight Up Horror'}\n",
    "combined_df['category_label'] = combined_df.category.map(category_map)"
   ]
  },
  {
   "cell_type": "markdown",
   "metadata": {},
   "source": [
    "I'm going to need the combined dataframes with LDA categories for the dashboard later on."
   ]
  },
  {
   "cell_type": "code",
   "execution_count": 34,
   "metadata": {},
   "outputs": [],
   "source": [
    "screenplays = pd.merge(screenplays, combined_df[['titles','category', 'category_label']],\n",
    "                how='left', on='titles')\n",
    "\n",
    "rotten_df = pd.merge(rotten_df, combined_df[['titles','category', 'category_label']],\n",
    "                how='left', on='titles')\n",
    "\n",
    "# cat_word_df.to_csv('project_resources/cat_word_df.csv', header=True)\n",
    "# combined_df.to_csv('project_resources/combined_df.csv')"
   ]
  },
  {
   "cell_type": "markdown",
   "metadata": {},
   "source": [
    "## Metacritic"
   ]
  },
  {
   "cell_type": "markdown",
   "metadata": {},
   "source": [
    "### Feature Engineering"
   ]
  },
  {
   "cell_type": "markdown",
   "metadata": {},
   "source": [
    "Will be creating quite a few new columns filled with script attributes such as word counts, sentiment, and parts of speech. I'll use these in the models, and they will also be used to describe the scripts in the presentation/dashboard later on."
   ]
  },
  {
   "cell_type": "markdown",
   "metadata": {},
   "source": [
    "Putting in some counts."
   ]
  },
  {
   "cell_type": "code",
   "execution_count": 35,
   "metadata": {},
   "outputs": [],
   "source": [
    "screenplays['word_count'] = screenplays.all_together_now.apply(\n",
    "    lambda x: len(x.split()))\n",
    "screenplays['unique_words'] = screenplays.no_stop.apply(\n",
    "    lambda x: len(x.split()))"
   ]
  },
  {
   "cell_type": "markdown",
   "metadata": {},
   "source": [
    "Creating columns for sentiment scoring: positive, negative, neutral, and compound."
   ]
  },
  {
   "cell_type": "code",
   "execution_count": 36,
   "metadata": {},
   "outputs": [
    {
     "data": {
      "application/vnd.jupyter.widget-view+json": {
       "model_id": "25bb19573f864cac84c4b7c819fae910",
       "version_major": 2,
       "version_minor": 0
      },
      "text/plain": [
       "HBox(children=(IntProgress(value=0, max=2766), HTML(value='')))"
      ]
     },
     "metadata": {},
     "output_type": "display_data"
    },
    {
     "name": "stdout",
     "output_type": "stream",
     "text": [
      "\n"
     ]
    }
   ],
   "source": [
    "sid = SentimentIntensityAnalyzer()\n",
    "\n",
    "screenplays['sentiment_scores'] = screenplays.no_stop.progress_apply(\n",
    "    lambda x: sid.polarity_scores(x))\n",
    "\n",
    "screenplays['sentiment_negative'] = screenplays.sentiment_scores.apply(\n",
    "    lambda x: x['neg'])\n",
    "screenplays['sentiment_neutral'] = screenplays.sentiment_scores.apply(\n",
    "    lambda x: x['neu'])\n",
    "screenplays['sentiment_positive'] = screenplays.sentiment_scores.apply(\n",
    "    lambda x: x['pos'])\n",
    "screenplays['sentiment_compound'] = screenplays.sentiment_scores.apply(\n",
    "    lambda x: x['compound'])"
   ]
  },
  {
   "cell_type": "markdown",
   "metadata": {},
   "source": [
    "Removing anything with fewer words words so that short scripts don't throw off the modeling."
   ]
  },
  {
   "cell_type": "code",
   "execution_count": 37,
   "metadata": {},
   "outputs": [],
   "source": [
    "screenplays_cut = screenplays.copy().drop(\n",
    "    index=(screenplays[screenplays['word_count'] < 1000].index), axis=0)"
   ]
  },
  {
   "cell_type": "markdown",
   "metadata": {},
   "source": [
    "More columns for punctuation ratios."
   ]
  },
  {
   "cell_type": "code",
   "execution_count": 38,
   "metadata": {},
   "outputs": [],
   "source": [
    "screenplays_cut['colon_ratios'] = screenplays_cut.no_stop.apply(\n",
    "    lambda x: count_punct(x, ':'))\n",
    "screenplays_cut['semi_ratios'] = screenplays_cut.no_stop.apply(\n",
    "    lambda x: count_punct(x, ';'))\n",
    "screenplays_cut['comma_ratios'] = screenplays_cut.no_stop.apply(\n",
    "    lambda x: count_punct(x, ','))\n",
    "screenplays_cut['ellipsis_ratios'] = screenplays_cut.no_stop.apply(\n",
    "    lambda x: count_punct(x, '...'))"
   ]
  },
  {
   "cell_type": "markdown",
   "metadata": {},
   "source": [
    "And sentence length."
   ]
  },
  {
   "cell_type": "code",
   "execution_count": 39,
   "metadata": {},
   "outputs": [
    {
     "data": {
      "application/vnd.jupyter.widget-view+json": {
       "model_id": "f2a422b8b7a44a969d4f49d4d7b78435",
       "version_major": 2,
       "version_minor": 0
      },
      "text/plain": [
       "HBox(children=(IntProgress(value=0, max=2745), HTML(value='')))"
      ]
     },
     "metadata": {},
     "output_type": "display_data"
    },
    {
     "name": "stdout",
     "output_type": "stream",
     "text": [
      "\n"
     ]
    }
   ],
   "source": [
    "screenplays_cut['sentence_length'] = screenplays_cut.no_stop.progress_apply(\n",
    "    sent_len)"
   ]
  },
  {
   "cell_type": "markdown",
   "metadata": {},
   "source": [
    "### Parts of Speech"
   ]
  },
  {
   "cell_type": "markdown",
   "metadata": {},
   "source": [
    "Breaking out both coarse and fine grained approaches to parts of speech, to create a ratio of how many of each is used in each screenplay."
   ]
  },
  {
   "cell_type": "code",
   "execution_count": 40,
   "metadata": {},
   "outputs": [
    {
     "data": {
      "application/vnd.jupyter.widget-view+json": {
       "model_id": "9a920ebb7ab34813bf1494223131307e",
       "version_major": 2,
       "version_minor": 0
      },
      "text/plain": [
       "HBox(children=(IntProgress(value=0, max=2745), HTML(value='')))"
      ]
     },
     "metadata": {},
     "output_type": "display_data"
    },
    {
     "name": "stdout",
     "output_type": "stream",
     "text": [
      "\n"
     ]
    }
   ],
   "source": [
    "screenplays_cut['nlp'] = screenplays_cut.all_together_now.progress_apply(nlp)\n",
    "# screenplays_cut.to_csv('project_resources/screenplays_cut.csv')"
   ]
  },
  {
   "cell_type": "code",
   "execution_count": 41,
   "metadata": {},
   "outputs": [
    {
     "data": {
      "application/vnd.jupyter.widget-view+json": {
       "model_id": "9b89370850a64b9a8e3e0cbcd38b41cb",
       "version_major": 2,
       "version_minor": 0
      },
      "text/plain": [
       "HBox(children=(IntProgress(value=0, max=2745), HTML(value='')))"
      ]
     },
     "metadata": {},
     "output_type": "display_data"
    },
    {
     "name": "stdout",
     "output_type": "stream",
     "text": [
      "\n"
     ]
    },
    {
     "data": {
      "application/vnd.jupyter.widget-view+json": {
       "model_id": "8dce83d15a444e1eb299d0fc1adca268",
       "version_major": 2,
       "version_minor": 0
      },
      "text/plain": [
       "HBox(children=(IntProgress(value=0, max=2745), HTML(value='')))"
      ]
     },
     "metadata": {},
     "output_type": "display_data"
    },
    {
     "name": "stdout",
     "output_type": "stream",
     "text": [
      "\n"
     ]
    }
   ],
   "source": [
    "# Applying the 'progress_apply' function to each row to get the actual words.\n",
    "screenplays_cut['POS_counts'] = screenplays_cut.nlp.progress_apply(count_pos)\n",
    "screenplays_cut['TAG_counts'] = screenplays_cut.nlp.progress_apply(count_tag)\n",
    "\n",
    "# POS_codes and TAG codes will be used to identify unique codes \n",
    "# used throughout vocabulary.\n",
    "POS_codes = set()\n",
    "\n",
    "for i, item in enumerate(screenplays_cut.POS_counts):\n",
    "    POS_codes.update(item.keys())\n",
    "\n",
    "TAG_codes = set()\n",
    "\n",
    "for i, item in enumerate(screenplays_cut.TAG_counts):\n",
    "    TAG_codes.update(item.keys())"
   ]
  },
  {
   "cell_type": "code",
   "execution_count": 42,
   "metadata": {},
   "outputs": [],
   "source": [
    "all_scripts = set()\n",
    "\n",
    "for i, script in enumerate(screenplays_cut.just_words):\n",
    "    all_scripts.update(script.split())\n",
    "\n",
    "all_scripts = [script for script in all_scripts]\n",
    "\n",
    "all_scripts = ' '.join(all_scripts)\n",
    "\n",
    "all_scripts = nlp(all_scripts[:30])"
   ]
  },
  {
   "cell_type": "markdown",
   "metadata": {},
   "source": [
    "Adding POS columns."
   ]
  },
  {
   "cell_type": "code",
   "execution_count": 43,
   "metadata": {},
   "outputs": [],
   "source": [
    "# TAG_lookup will be used for adding POS word to column name.\n",
    "TAG_lookup = {}\n",
    "for code in TAG_codes:\n",
    "    key = code\n",
    "    value = all_scripts.vocab[code].text\n",
    "    TAG_lookup[key] = value\n",
    "\n",
    "POS_lookup = {}\n",
    "for code in POS_codes:\n",
    "    key = code\n",
    "    value = all_scripts.vocab[code].text\n",
    "    POS_lookup[key] = value\n",
    "\n",
    "# Adding POS column and adding POS name as column name.\n",
    "for code, abb in POS_lookup.items():\n",
    "    screenplays_cut[abb] = screenplays_cut.apply(\n",
    "        POS_reverse_lookup_n_ratio, args=[code], axis=1)\n",
    "\n",
    "# Adding TAG column and adding TAG name as column name.\n",
    "for code, abb in TAG_lookup.items():\n",
    "    screenplays_cut[abb] = screenplays_cut.apply(\n",
    "        TAG_reverse_lookup_n_ratio, args=[code], axis=1)"
   ]
  },
  {
   "cell_type": "code",
   "execution_count": 68,
   "metadata": {},
   "outputs": [],
   "source": [
    "screenplays_cut = screenplays_cut.fillna(0)\n",
    "\n",
    "# screenplays_cut.to_csv('project_resources/screenplays_cut.csv')"
   ]
  },
  {
   "cell_type": "markdown",
   "metadata": {},
   "source": [
    "## Rottentomatoes"
   ]
  },
  {
   "cell_type": "markdown",
   "metadata": {},
   "source": [
    "### Feature Engineering"
   ]
  },
  {
   "cell_type": "markdown",
   "metadata": {},
   "source": [
    "As with metacritic, will be creating quite a few new columns filled with script attributes such as word counts, sentiment, and parts of speech."
   ]
  },
  {
   "cell_type": "markdown",
   "metadata": {},
   "source": [
    "Putting in some counts."
   ]
  },
  {
   "cell_type": "code",
   "execution_count": 45,
   "metadata": {},
   "outputs": [],
   "source": [
    "rotten_df['word_count'] = rotten_df.all_together_now.apply(\n",
    "    lambda x: len(x.split()))\n",
    "rotten_df['unique_words'] = rotten_df.no_stop.apply(\n",
    "    lambda x: len(x.split()))"
   ]
  },
  {
   "cell_type": "code",
   "execution_count": 46,
   "metadata": {},
   "outputs": [],
   "source": [
    "rotten_df_cut = rotten_df.copy().drop(\n",
    "    index=(rotten_df[rotten_df['word_count'] < 1000].index), axis=0)"
   ]
  },
  {
   "cell_type": "markdown",
   "metadata": {},
   "source": [
    "Creating columns for sentiment scoring: positive, negative, neutral, and compound."
   ]
  },
  {
   "cell_type": "code",
   "execution_count": 47,
   "metadata": {},
   "outputs": [
    {
     "data": {
      "application/vnd.jupyter.widget-view+json": {
       "model_id": "2b1997f22aa1425b8b041028dff6a285",
       "version_major": 2,
       "version_minor": 0
      },
      "text/plain": [
       "HBox(children=(IntProgress(value=0, max=1536), HTML(value='')))"
      ]
     },
     "metadata": {},
     "output_type": "display_data"
    },
    {
     "name": "stdout",
     "output_type": "stream",
     "text": [
      "\n"
     ]
    }
   ],
   "source": [
    "sid = SentimentIntensityAnalyzer()\n",
    "\n",
    "rotten_df_cut['sentiment_scores'] = rotten_df.no_stop.progress_apply(\n",
    "    lambda x: sid.polarity_scores(x))\n",
    "\n",
    "rotten_df_cut['sentiment_negative'] = rotten_df_cut.sentiment_scores.apply(\n",
    "    lambda x: x['neg'])\n",
    "rotten_df_cut['sentiment_neutral'] = rotten_df_cut.sentiment_scores.apply(\n",
    "    lambda x: x['neu'])\n",
    "rotten_df_cut['sentiment_positive'] = rotten_df_cut.sentiment_scores.apply(\n",
    "    lambda x: x['pos'])\n",
    "rotten_df_cut['sentiment_compound'] = rotten_df_cut.sentiment_scores.apply(\n",
    "    lambda x: x['compound'])"
   ]
  },
  {
   "cell_type": "markdown",
   "metadata": {},
   "source": [
    "Removing anything with fewer words words so that short scripts don't throw off the modeling."
   ]
  },
  {
   "cell_type": "markdown",
   "metadata": {},
   "source": [
    "More columns for punctuation ratios."
   ]
  },
  {
   "cell_type": "code",
   "execution_count": 48,
   "metadata": {},
   "outputs": [],
   "source": [
    "rotten_df_cut['colon_ratios'] = rotten_df_cut.no_stop.apply(\n",
    "    lambda x: count_punct(x, ':'))\n",
    "rotten_df_cut['semi_ratios'] = rotten_df_cut.no_stop.apply(\n",
    "    lambda x: count_punct(x, ';'))\n",
    "rotten_df_cut['comma_ratios'] = rotten_df_cut.no_stop.apply(\n",
    "    lambda x: count_punct(x, ','))\n",
    "rotten_df_cut['ellipsis_ratios'] = rotten_df_cut.no_stop.apply(\n",
    "    lambda x: count_punct(x, '...'))"
   ]
  },
  {
   "cell_type": "markdown",
   "metadata": {},
   "source": [
    "And sentence length."
   ]
  },
  {
   "cell_type": "code",
   "execution_count": 49,
   "metadata": {},
   "outputs": [
    {
     "data": {
      "application/vnd.jupyter.widget-view+json": {
       "model_id": "f7575fc4ddf24951b12ce5ab00a87885",
       "version_major": 2,
       "version_minor": 0
      },
      "text/plain": [
       "HBox(children=(IntProgress(value=0, max=1530), HTML(value='')))"
      ]
     },
     "metadata": {},
     "output_type": "display_data"
    },
    {
     "name": "stdout",
     "output_type": "stream",
     "text": [
      "\n"
     ]
    }
   ],
   "source": [
    "rotten_df_cut['sentence_length'] = rotten_df_cut.no_stop.progress_apply(\n",
    "    sent_len)"
   ]
  },
  {
   "cell_type": "markdown",
   "metadata": {},
   "source": [
    "### Parts of Speech"
   ]
  },
  {
   "cell_type": "markdown",
   "metadata": {},
   "source": [
    "Breaking out both coarse and fine grained approaches to parts of speech, to create a ratio of how many of each is used in each screenplay."
   ]
  },
  {
   "cell_type": "code",
   "execution_count": 50,
   "metadata": {},
   "outputs": [
    {
     "data": {
      "application/vnd.jupyter.widget-view+json": {
       "model_id": "6264198e153845589371cb5fdbe7c915",
       "version_major": 2,
       "version_minor": 0
      },
      "text/plain": [
       "HBox(children=(IntProgress(value=0, max=1530), HTML(value='')))"
      ]
     },
     "metadata": {},
     "output_type": "display_data"
    },
    {
     "name": "stdout",
     "output_type": "stream",
     "text": [
      "\n"
     ]
    }
   ],
   "source": [
    "rotten_df_cut['nlp'] = rotten_df_cut.all_together_now.progress_apply(nlp)"
   ]
  },
  {
   "cell_type": "code",
   "execution_count": 51,
   "metadata": {},
   "outputs": [],
   "source": [
    "# rotten_df_cut.to_csv('project_resources/rotten_df_cut.csv')"
   ]
  },
  {
   "cell_type": "code",
   "execution_count": 52,
   "metadata": {},
   "outputs": [],
   "source": [
    "# rotten_df_cut = pd.read_csv('project_resources/rotten_df_cut.csv')"
   ]
  },
  {
   "cell_type": "code",
   "execution_count": 53,
   "metadata": {},
   "outputs": [
    {
     "data": {
      "application/vnd.jupyter.widget-view+json": {
       "model_id": "403c8c711ab24b0c9775bb0d48aab78a",
       "version_major": 2,
       "version_minor": 0
      },
      "text/plain": [
       "HBox(children=(IntProgress(value=0, max=1530), HTML(value='')))"
      ]
     },
     "metadata": {},
     "output_type": "display_data"
    },
    {
     "name": "stdout",
     "output_type": "stream",
     "text": [
      "\n"
     ]
    },
    {
     "data": {
      "application/vnd.jupyter.widget-view+json": {
       "model_id": "5f87dd0fe6f749c5ba802be4d8108821",
       "version_major": 2,
       "version_minor": 0
      },
      "text/plain": [
       "HBox(children=(IntProgress(value=0, max=1530), HTML(value='')))"
      ]
     },
     "metadata": {},
     "output_type": "display_data"
    },
    {
     "name": "stdout",
     "output_type": "stream",
     "text": [
      "\n"
     ]
    }
   ],
   "source": [
    "# Applying the 'progress_apply' function to each row to get the actual words.\n",
    "rotten_df_cut['POS_counts'] = rotten_df_cut.nlp.progress_apply(count_pos)\n",
    "\n",
    "rotten_df_cut['TAG_counts'] = rotten_df_cut.nlp.progress_apply(count_tag)\n",
    "\n",
    "# POS_codes and TAG codes will be used to identify unique codes \n",
    "# used throughout vocabulary.\n",
    "POS_codes = set()\n",
    "\n",
    "for i, item in enumerate(rotten_df_cut.POS_counts):\n",
    "    POS_codes.update(item.keys())\n",
    "\n",
    "TAG_codes = set()\n",
    "\n",
    "for i, item in enumerate(rotten_df_cut.TAG_counts):\n",
    "    TAG_codes.update(item.keys())"
   ]
  },
  {
   "cell_type": "markdown",
   "metadata": {},
   "source": [
    "Adding POS columns."
   ]
  },
  {
   "cell_type": "code",
   "execution_count": 54,
   "metadata": {},
   "outputs": [],
   "source": [
    "# TAG_lookup will be used for adding POS word to column name.\n",
    "TAG_lookup = {}\n",
    "for code in TAG_codes:\n",
    "    key = code\n",
    "    value = all_scripts.vocab[code].text\n",
    "    TAG_lookup[key] = value\n",
    "    \n",
    "POS_lookup = {}\n",
    "for code in POS_codes:\n",
    "    key = code\n",
    "    value = all_scripts.vocab[code].text\n",
    "    POS_lookup[key] = value\n",
    "\n",
    "# Adding POS column and adding POS name as column name.\n",
    "for code, abb in POS_lookup.items():\n",
    "    rotten_df_cut[abb] = rotten_df_cut.apply(\n",
    "        POS_reverse_lookup_n_ratio, args=[code], axis=1)\n",
    "\n",
    "# Adding TAG column and adding TAG name as column name.\n",
    "for code, abb in TAG_lookup.items():\n",
    "    rotten_df_cut[abb] = rotten_df_cut.apply(\n",
    "        TAG_reverse_lookup_n_ratio, args=[code], axis=1)"
   ]
  },
  {
   "cell_type": "code",
   "execution_count": 55,
   "metadata": {},
   "outputs": [],
   "source": [
    "rotten_df_cut = rotten_df_cut.fillna(0)"
   ]
  },
  {
   "cell_type": "code",
   "execution_count": 67,
   "metadata": {},
   "outputs": [],
   "source": [
    "# rotten_df_cut.to_csv('project_resources/rotten_df_cut.csv')"
   ]
  },
  {
   "cell_type": "markdown",
   "metadata": {},
   "source": [
    "Note that in the original eda.ipynb file, I have an extensive set of scatter matrices, histograms, and correlation matrices at this point in the process. However, they took up too much memory to be efficiently placed in this document, but they can be referred to in eda.ipynb as needed."
   ]
  },
  {
   "cell_type": "markdown",
   "metadata": {},
   "source": [
    "# Classification Modeling"
   ]
  },
  {
   "cell_type": "markdown",
   "metadata": {},
   "source": [
    "## Bring in the data"
   ]
  },
  {
   "cell_type": "markdown",
   "metadata": {},
   "source": [
    "Data previously saved in .csv format from eda.ipynb."
   ]
  },
  {
   "cell_type": "code",
   "execution_count": 69,
   "metadata": {},
   "outputs": [],
   "source": [
    "screenplays_cut = pd.read_csv('project_resources/screenplays_cut.csv', index_col=0)\n",
    "rotten_df_cut = pd.read_csv('project_resources/rotten_df_cut.csv', index_col=0)"
   ]
  },
  {
   "cell_type": "code",
   "execution_count": 70,
   "metadata": {},
   "outputs": [
    {
     "data": {
      "text/html": [
       "<div>\n",
       "<style scoped>\n",
       "    .dataframe tbody tr th:only-of-type {\n",
       "        vertical-align: middle;\n",
       "    }\n",
       "\n",
       "    .dataframe tbody tr th {\n",
       "        vertical-align: top;\n",
       "    }\n",
       "\n",
       "    .dataframe thead th {\n",
       "        text-align: right;\n",
       "    }\n",
       "</style>\n",
       "<table border=\"1\" class=\"dataframe\">\n",
       "  <thead>\n",
       "    <tr style=\"text-align: right;\">\n",
       "      <th></th>\n",
       "      <th>titles</th>\n",
       "      <th>scripts</th>\n",
       "      <th>all_together_now</th>\n",
       "      <th>no_stop</th>\n",
       "      <th>just_words</th>\n",
       "      <th>good_or_bad</th>\n",
       "      <th>category</th>\n",
       "      <th>category_label</th>\n",
       "      <th>word_count</th>\n",
       "      <th>unique_words</th>\n",
       "      <th>sentiment_scores</th>\n",
       "      <th>sentiment_negative</th>\n",
       "      <th>sentiment_neutral</th>\n",
       "      <th>sentiment_positive</th>\n",
       "      <th>sentiment_compound</th>\n",
       "      <th>colon_ratios</th>\n",
       "      <th>semi_ratios</th>\n",
       "      <th>comma_ratios</th>\n",
       "      <th>ellipsis_ratios</th>\n",
       "      <th>sentence_length</th>\n",
       "      <th>nlp</th>\n",
       "      <th>POS_counts</th>\n",
       "      <th>TAG_counts</th>\n",
       "      <th>PROPN</th>\n",
       "      <th>PUNCT</th>\n",
       "      <th>SYM</th>\n",
       "      <th>VERB</th>\n",
       "      <th>X</th>\n",
       "      <th>SPACE</th>\n",
       "      <th>ADJ</th>\n",
       "      <th>ADP</th>\n",
       "      <th>ADV</th>\n",
       "      <th>AUX</th>\n",
       "      <th>CCONJ</th>\n",
       "      <th>DET</th>\n",
       "      <th>INTJ</th>\n",
       "      <th>NOUN</th>\n",
       "      <th>NUM</th>\n",
       "      <th>PART</th>\n",
       "      <th>PRON</th>\n",
       "      <th>HYPH</th>\n",
       "      <th>``</th>\n",
       "      <th>XX</th>\n",
       "      <th>FW</th>\n",
       "      <th>WP</th>\n",
       "      <th>VBG</th>\n",
       "      <th>UH</th>\n",
       "      <th>RBS</th>\n",
       "      <th>-RRB-</th>\n",
       "      <th>NNP</th>\n",
       "      <th>VBZ</th>\n",
       "      <th>-LRB-</th>\n",
       "      <th>MD</th>\n",
       "      <th>:</th>\n",
       "      <th>VBP</th>\n",
       "      <th>NFP</th>\n",
       "      <th>ADD</th>\n",
       "      <th>DT</th>\n",
       "      <th>IN</th>\n",
       "      <th>''</th>\n",
       "      <th>AFX</th>\n",
       "      <th>.</th>\n",
       "      <th>TO</th>\n",
       "      <th>CC</th>\n",
       "      <th>VBN</th>\n",
       "      <th>NN</th>\n",
       "      <th>,</th>\n",
       "      <th>EX</th>\n",
       "      <th>JJR</th>\n",
       "      <th>PRP$</th>\n",
       "      <th>POS</th>\n",
       "      <th>LS</th>\n",
       "      <th>WRB</th>\n",
       "      <th>JJ</th>\n",
       "      <th>RP</th>\n",
       "      <th>CD</th>\n",
       "      <th>PRP</th>\n",
       "      <th>RB</th>\n",
       "      <th>NNPS</th>\n",
       "      <th>VB</th>\n",
       "      <th>PDT</th>\n",
       "      <th>RBR</th>\n",
       "      <th>WDT</th>\n",
       "      <th>JJS</th>\n",
       "      <th>VBD</th>\n",
       "      <th>_SP</th>\n",
       "      <th>WP$</th>\n",
       "      <th>NNS</th>\n",
       "      <th>$</th>\n",
       "    </tr>\n",
       "  </thead>\n",
       "  <tbody>\n",
       "    <tr>\n",
       "      <th>0</th>\n",
       "      <td>101-dalmatians</td>\n",
       "      <td>['\\n\\n                        [ Clock Chiming ...</td>\n",
       "      <td>\\n\\n                        [ Clock Chiming ] ...</td>\n",
       "      <td>[ clock chiming ] [ alarm ] [ groaning ] [ wh...</td>\n",
       "      <td>clock chiming alarm groaning whimpering barki...</td>\n",
       "      <td>1</td>\n",
       "      <td>4</td>\n",
       "      <td>Light-Hearted</td>\n",
       "      <td>8401</td>\n",
       "      <td>6219</td>\n",
       "      <td>{'neg': 0.129, 'neu': 0.643, 'pos': 0.227, 'co...</td>\n",
       "      <td>0.129</td>\n",
       "      <td>0.643</td>\n",
       "      <td>0.227</td>\n",
       "      <td>0.9999</td>\n",
       "      <td>0.000482</td>\n",
       "      <td>0.000322</td>\n",
       "      <td>0.076379</td>\n",
       "      <td>0.015597</td>\n",
       "      <td>5.270339</td>\n",
       "      <td>\\n\\n                        [ Clock Chiming ] ...</td>\n",
       "      <td>{103: 63, 97: 3668, 96: 781, 100: 1512, 92: 12...</td>\n",
       "      <td>{6893682062797376370: 63, 17111077179131903759...</td>\n",
       "      <td>0.092965</td>\n",
       "      <td>0.436615</td>\n",
       "      <td>0.000000</td>\n",
       "      <td>0.179979</td>\n",
       "      <td>0.001666</td>\n",
       "      <td>0.007499</td>\n",
       "      <td>0.043923</td>\n",
       "      <td>0.044995</td>\n",
       "      <td>0.064040</td>\n",
       "      <td>0.005237</td>\n",
       "      <td>0.012499</td>\n",
       "      <td>0.069397</td>\n",
       "      <td>0.035234</td>\n",
       "      <td>0.150815</td>\n",
       "      <td>0.006904</td>\n",
       "      <td>0.018331</td>\n",
       "      <td>0.073920</td>\n",
       "      <td>0.027259</td>\n",
       "      <td>0.000476</td>\n",
       "      <td>0.001666</td>\n",
       "      <td>0.0</td>\n",
       "      <td>0.006428</td>\n",
       "      <td>0.032853</td>\n",
       "      <td>0.035234</td>\n",
       "      <td>0.000238</td>\n",
       "      <td>0.082014</td>\n",
       "      <td>0.089751</td>\n",
       "      <td>0.022854</td>\n",
       "      <td>0.082014</td>\n",
       "      <td>0.013927</td>\n",
       "      <td>0.051065</td>\n",
       "      <td>0.033925</td>\n",
       "      <td>0.005357</td>\n",
       "      <td>0.0</td>\n",
       "      <td>0.053803</td>\n",
       "      <td>0.044995</td>\n",
       "      <td>0.003809</td>\n",
       "      <td>0.0</td>\n",
       "      <td>0.127485</td>\n",
       "      <td>0.009404</td>\n",
       "      <td>0.012499</td>\n",
       "      <td>0.013451</td>\n",
       "      <td>0.120105</td>\n",
       "      <td>0.057136</td>\n",
       "      <td>0.000714</td>\n",
       "      <td>0.001428</td>\n",
       "      <td>0.013094</td>\n",
       "      <td>0.002143</td>\n",
       "      <td>0.0</td>\n",
       "      <td>0.005833</td>\n",
       "      <td>0.041900</td>\n",
       "      <td>0.006785</td>\n",
       "      <td>0.006904</td>\n",
       "      <td>0.067492</td>\n",
       "      <td>0.056422</td>\n",
       "      <td>0.003214</td>\n",
       "      <td>0.054279</td>\n",
       "      <td>0.000833</td>\n",
       "      <td>0.000833</td>\n",
       "      <td>0.001666</td>\n",
       "      <td>0.000595</td>\n",
       "      <td>0.013927</td>\n",
       "      <td>0.007499</td>\n",
       "      <td>0.000000</td>\n",
       "      <td>0.030711</td>\n",
       "      <td>0.000000</td>\n",
       "    </tr>\n",
       "    <tr>\n",
       "      <th>1</th>\n",
       "      <td>12-angry-men</td>\n",
       "      <td>['\\n\\n                        You did a wonder...</td>\n",
       "      <td>\\n\\n                        You did a wonderfu...</td>\n",
       "      <td>wonderful job. wonderful. it. it! continue, y...</td>\n",
       "      <td>wonderful job wonderful continue youve listen...</td>\n",
       "      <td>1</td>\n",
       "      <td>0</td>\n",
       "      <td>Dark &amp; Political</td>\n",
       "      <td>13144</td>\n",
       "      <td>6953</td>\n",
       "      <td>{'neg': 0.168, 'neu': 0.683, 'pos': 0.149, 'co...</td>\n",
       "      <td>0.168</td>\n",
       "      <td>0.683</td>\n",
       "      <td>0.149</td>\n",
       "      <td>-0.9997</td>\n",
       "      <td>0.002445</td>\n",
       "      <td>0.000000</td>\n",
       "      <td>0.083273</td>\n",
       "      <td>0.017259</td>\n",
       "      <td>3.542028</td>\n",
       "      <td>\\n\\n                        You did a wonderfu...</td>\n",
       "      <td>{103: 2, 95: 2116, 100: 3407, 90: 1654, 84: 72...</td>\n",
       "      <td>{6893682062797376370: 2, 13656873538139661788:...</td>\n",
       "      <td>0.007912</td>\n",
       "      <td>0.247337</td>\n",
       "      <td>0.000456</td>\n",
       "      <td>0.259206</td>\n",
       "      <td>0.000000</td>\n",
       "      <td>0.000152</td>\n",
       "      <td>0.055463</td>\n",
       "      <td>0.079808</td>\n",
       "      <td>0.096318</td>\n",
       "      <td>0.008521</td>\n",
       "      <td>0.014836</td>\n",
       "      <td>0.125837</td>\n",
       "      <td>0.017194</td>\n",
       "      <td>0.154976</td>\n",
       "      <td>0.018868</td>\n",
       "      <td>0.030508</td>\n",
       "      <td>0.160986</td>\n",
       "      <td>0.003271</td>\n",
       "      <td>0.001674</td>\n",
       "      <td>0.000000</td>\n",
       "      <td>0.0</td>\n",
       "      <td>0.013847</td>\n",
       "      <td>0.015140</td>\n",
       "      <td>0.017194</td>\n",
       "      <td>0.000304</td>\n",
       "      <td>0.000000</td>\n",
       "      <td>0.007912</td>\n",
       "      <td>0.038497</td>\n",
       "      <td>0.000000</td>\n",
       "      <td>0.020161</td>\n",
       "      <td>0.042605</td>\n",
       "      <td>0.053713</td>\n",
       "      <td>0.002130</td>\n",
       "      <td>0.0</td>\n",
       "      <td>0.106817</td>\n",
       "      <td>0.079808</td>\n",
       "      <td>0.006315</td>\n",
       "      <td>0.0</td>\n",
       "      <td>0.147292</td>\n",
       "      <td>0.017651</td>\n",
       "      <td>0.014836</td>\n",
       "      <td>0.017194</td>\n",
       "      <td>0.127739</td>\n",
       "      <td>0.044051</td>\n",
       "      <td>0.003043</td>\n",
       "      <td>0.001065</td>\n",
       "      <td>0.014912</td>\n",
       "      <td>0.002739</td>\n",
       "      <td>0.0</td>\n",
       "      <td>0.009814</td>\n",
       "      <td>0.053408</td>\n",
       "      <td>0.010119</td>\n",
       "      <td>0.018868</td>\n",
       "      <td>0.147139</td>\n",
       "      <td>0.082775</td>\n",
       "      <td>0.000000</td>\n",
       "      <td>0.078591</td>\n",
       "      <td>0.002206</td>\n",
       "      <td>0.000380</td>\n",
       "      <td>0.001826</td>\n",
       "      <td>0.000989</td>\n",
       "      <td>0.044431</td>\n",
       "      <td>0.000152</td>\n",
       "      <td>0.000076</td>\n",
       "      <td>0.027237</td>\n",
       "      <td>0.000152</td>\n",
       "    </tr>\n",
       "    <tr>\n",
       "      <th>2</th>\n",
       "      <td>12-years-a-slave</td>\n",
       "      <td>['\\n\\n                        All right now.',...</td>\n",
       "      <td>\\n\\n                        All right now. Y'a...</td>\n",
       "      <td>right now. y'all fresh niggers. y'all gonna c...</td>\n",
       "      <td>right yall fresh niggers yall gonna cutting g...</td>\n",
       "      <td>1</td>\n",
       "      <td>5</td>\n",
       "      <td>Unusual Language or Slang</td>\n",
       "      <td>8092</td>\n",
       "      <td>4291</td>\n",
       "      <td>{'neg': 0.163, 'neu': 0.632, 'pos': 0.204, 'co...</td>\n",
       "      <td>0.163</td>\n",
       "      <td>0.632</td>\n",
       "      <td>0.204</td>\n",
       "      <td>0.9992</td>\n",
       "      <td>0.000233</td>\n",
       "      <td>0.000000</td>\n",
       "      <td>0.127709</td>\n",
       "      <td>0.030529</td>\n",
       "      <td>3.116195</td>\n",
       "      <td>\\n\\n                        All right now. Y'a...</td>\n",
       "      <td>{103: 2, 86: 618, 97: 2099, 84: 397, 92: 1255,...</td>\n",
       "      <td>{6893682062797376370: 2, 164681854541413346: 5...</td>\n",
       "      <td>0.079461</td>\n",
       "      <td>0.259392</td>\n",
       "      <td>0.000000</td>\n",
       "      <td>0.237024</td>\n",
       "      <td>0.000000</td>\n",
       "      <td>0.000247</td>\n",
       "      <td>0.049061</td>\n",
       "      <td>0.090213</td>\n",
       "      <td>0.076372</td>\n",
       "      <td>0.006179</td>\n",
       "      <td>0.023604</td>\n",
       "      <td>0.114310</td>\n",
       "      <td>0.017672</td>\n",
       "      <td>0.155091</td>\n",
       "      <td>0.008156</td>\n",
       "      <td>0.029906</td>\n",
       "      <td>0.144834</td>\n",
       "      <td>0.002348</td>\n",
       "      <td>0.001483</td>\n",
       "      <td>0.000000</td>\n",
       "      <td>0.0</td>\n",
       "      <td>0.008774</td>\n",
       "      <td>0.011122</td>\n",
       "      <td>0.017672</td>\n",
       "      <td>0.000741</td>\n",
       "      <td>0.000000</td>\n",
       "      <td>0.078596</td>\n",
       "      <td>0.029412</td>\n",
       "      <td>0.000000</td>\n",
       "      <td>0.022986</td>\n",
       "      <td>0.014706</td>\n",
       "      <td>0.053262</td>\n",
       "      <td>0.005067</td>\n",
       "      <td>0.0</td>\n",
       "      <td>0.079338</td>\n",
       "      <td>0.090213</td>\n",
       "      <td>0.003955</td>\n",
       "      <td>0.0</td>\n",
       "      <td>0.164113</td>\n",
       "      <td>0.014088</td>\n",
       "      <td>0.023604</td>\n",
       "      <td>0.014459</td>\n",
       "      <td>0.126174</td>\n",
       "      <td>0.067721</td>\n",
       "      <td>0.002348</td>\n",
       "      <td>0.003089</td>\n",
       "      <td>0.031142</td>\n",
       "      <td>0.004696</td>\n",
       "      <td>0.0</td>\n",
       "      <td>0.009145</td>\n",
       "      <td>0.044983</td>\n",
       "      <td>0.011122</td>\n",
       "      <td>0.008156</td>\n",
       "      <td>0.136060</td>\n",
       "      <td>0.062531</td>\n",
       "      <td>0.000865</td>\n",
       "      <td>0.088482</td>\n",
       "      <td>0.001359</td>\n",
       "      <td>0.001607</td>\n",
       "      <td>0.002348</td>\n",
       "      <td>0.000989</td>\n",
       "      <td>0.023480</td>\n",
       "      <td>0.000247</td>\n",
       "      <td>0.000124</td>\n",
       "      <td>0.028917</td>\n",
       "      <td>0.000000</td>\n",
       "    </tr>\n",
       "    <tr>\n",
       "      <th>3</th>\n",
       "      <td>127-hours</td>\n",
       "      <td>['\\n\\n                        Hey. Aron here, ...</td>\n",
       "      <td>\\n\\n                        Hey. Aron here, le...</td>\n",
       "      <td>hey. aron here, leave message. hi aron, sonja...</td>\n",
       "      <td>hey aron leave message hi aron sonja hereagai...</td>\n",
       "      <td>1</td>\n",
       "      <td>7</td>\n",
       "      <td>Romance &amp; Light Drama</td>\n",
       "      <td>2191</td>\n",
       "      <td>1233</td>\n",
       "      <td>{'neg': 0.15, 'neu': 0.586, 'pos': 0.264, 'com...</td>\n",
       "      <td>0.150</td>\n",
       "      <td>0.586</td>\n",
       "      <td>0.264</td>\n",
       "      <td>0.9996</td>\n",
       "      <td>0.004866</td>\n",
       "      <td>0.000000</td>\n",
       "      <td>0.078670</td>\n",
       "      <td>0.036496</td>\n",
       "      <td>2.887588</td>\n",
       "      <td>\\n\\n                        Hey. Aron here, le...</td>\n",
       "      <td>{103: 2, 91: 49, 97: 603, 96: 147, 86: 223, 10...</td>\n",
       "      <td>{6893682062797376370: 2, 3252815442139690129: ...</td>\n",
       "      <td>0.067093</td>\n",
       "      <td>0.275217</td>\n",
       "      <td>0.000456</td>\n",
       "      <td>0.266089</td>\n",
       "      <td>0.000000</td>\n",
       "      <td>0.000913</td>\n",
       "      <td>0.045185</td>\n",
       "      <td>0.066636</td>\n",
       "      <td>0.101780</td>\n",
       "      <td>0.009585</td>\n",
       "      <td>0.020082</td>\n",
       "      <td>0.099954</td>\n",
       "      <td>0.022364</td>\n",
       "      <td>0.125057</td>\n",
       "      <td>0.015518</td>\n",
       "      <td>0.033318</td>\n",
       "      <td>0.158375</td>\n",
       "      <td>0.003651</td>\n",
       "      <td>0.000456</td>\n",
       "      <td>0.000000</td>\n",
       "      <td>0.0</td>\n",
       "      <td>0.007303</td>\n",
       "      <td>0.022821</td>\n",
       "      <td>0.022364</td>\n",
       "      <td>0.000000</td>\n",
       "      <td>0.000000</td>\n",
       "      <td>0.066636</td>\n",
       "      <td>0.040621</td>\n",
       "      <td>0.000000</td>\n",
       "      <td>0.021908</td>\n",
       "      <td>0.030580</td>\n",
       "      <td>0.060246</td>\n",
       "      <td>0.007303</td>\n",
       "      <td>0.0</td>\n",
       "      <td>0.080329</td>\n",
       "      <td>0.066636</td>\n",
       "      <td>0.000456</td>\n",
       "      <td>0.0</td>\n",
       "      <td>0.188498</td>\n",
       "      <td>0.019626</td>\n",
       "      <td>0.020082</td>\n",
       "      <td>0.019626</td>\n",
       "      <td>0.106344</td>\n",
       "      <td>0.044272</td>\n",
       "      <td>0.003195</td>\n",
       "      <td>0.002282</td>\n",
       "      <td>0.015062</td>\n",
       "      <td>0.002738</td>\n",
       "      <td>0.0</td>\n",
       "      <td>0.007303</td>\n",
       "      <td>0.041990</td>\n",
       "      <td>0.010954</td>\n",
       "      <td>0.015518</td>\n",
       "      <td>0.151073</td>\n",
       "      <td>0.090370</td>\n",
       "      <td>0.000456</td>\n",
       "      <td>0.084436</td>\n",
       "      <td>0.001369</td>\n",
       "      <td>0.000913</td>\n",
       "      <td>0.003195</td>\n",
       "      <td>0.000913</td>\n",
       "      <td>0.026016</td>\n",
       "      <td>0.000913</td>\n",
       "      <td>0.000000</td>\n",
       "      <td>0.018713</td>\n",
       "      <td>0.000000</td>\n",
       "    </tr>\n",
       "    <tr>\n",
       "      <th>4</th>\n",
       "      <td>13th</td>\n",
       "      <td>[\"\\n\\n                        So let's look at...</td>\n",
       "      <td>\\n\\n                        So let's look at t...</td>\n",
       "      <td>let's look statistics. united states home 5% ...</td>\n",
       "      <td>lets look statistics united states home 5 wor...</td>\n",
       "      <td>1</td>\n",
       "      <td>0</td>\n",
       "      <td>Dark &amp; Political</td>\n",
       "      <td>14231</td>\n",
       "      <td>7138</td>\n",
       "      <td>{'neg': 0.236, 'neu': 0.602, 'pos': 0.162, 'co...</td>\n",
       "      <td>0.236</td>\n",
       "      <td>0.602</td>\n",
       "      <td>0.162</td>\n",
       "      <td>-1.0000</td>\n",
       "      <td>0.000140</td>\n",
       "      <td>0.000000</td>\n",
       "      <td>0.126926</td>\n",
       "      <td>0.009947</td>\n",
       "      <td>6.396057</td>\n",
       "      <td>\\n\\n                        So let's look at t...</td>\n",
       "      <td>{103: 2, 86: 1065, 100: 2996, 95: 1190, 85: 18...</td>\n",
       "      <td>{6893682062797376370: 2, 164681854541413346: 9...</td>\n",
       "      <td>0.053123</td>\n",
       "      <td>0.150727</td>\n",
       "      <td>0.000000</td>\n",
       "      <td>0.210526</td>\n",
       "      <td>0.000000</td>\n",
       "      <td>0.000141</td>\n",
       "      <td>0.069004</td>\n",
       "      <td>0.127890</td>\n",
       "      <td>0.074837</td>\n",
       "      <td>0.005692</td>\n",
       "      <td>0.033167</td>\n",
       "      <td>0.123674</td>\n",
       "      <td>0.007308</td>\n",
       "      <td>0.201040</td>\n",
       "      <td>0.011384</td>\n",
       "      <td>0.031832</td>\n",
       "      <td>0.083620</td>\n",
       "      <td>0.002670</td>\n",
       "      <td>0.004216</td>\n",
       "      <td>0.000000</td>\n",
       "      <td>0.0</td>\n",
       "      <td>0.006254</td>\n",
       "      <td>0.020238</td>\n",
       "      <td>0.007308</td>\n",
       "      <td>0.000632</td>\n",
       "      <td>0.000000</td>\n",
       "      <td>0.049821</td>\n",
       "      <td>0.030145</td>\n",
       "      <td>0.000000</td>\n",
       "      <td>0.014124</td>\n",
       "      <td>0.005200</td>\n",
       "      <td>0.036891</td>\n",
       "      <td>0.001546</td>\n",
       "      <td>0.0</td>\n",
       "      <td>0.100063</td>\n",
       "      <td>0.127890</td>\n",
       "      <td>0.004708</td>\n",
       "      <td>0.0</td>\n",
       "      <td>0.069004</td>\n",
       "      <td>0.020238</td>\n",
       "      <td>0.033167</td>\n",
       "      <td>0.025297</td>\n",
       "      <td>0.142646</td>\n",
       "      <td>0.063383</td>\n",
       "      <td>0.002740</td>\n",
       "      <td>0.002459</td>\n",
       "      <td>0.013421</td>\n",
       "      <td>0.002881</td>\n",
       "      <td>0.0</td>\n",
       "      <td>0.005973</td>\n",
       "      <td>0.064929</td>\n",
       "      <td>0.008713</td>\n",
       "      <td>0.011384</td>\n",
       "      <td>0.077366</td>\n",
       "      <td>0.064437</td>\n",
       "      <td>0.003303</td>\n",
       "      <td>0.050172</td>\n",
       "      <td>0.000913</td>\n",
       "      <td>0.001054</td>\n",
       "      <td>0.009135</td>\n",
       "      <td>0.001616</td>\n",
       "      <td>0.039351</td>\n",
       "      <td>0.000141</td>\n",
       "      <td>0.000141</td>\n",
       "      <td>0.058394</td>\n",
       "      <td>0.000422</td>\n",
       "    </tr>\n",
       "  </tbody>\n",
       "</table>\n",
       "</div>"
      ],
      "text/plain": [
       "             titles                                            scripts  \\\n",
       "0    101-dalmatians  ['\\n\\n                        [ Clock Chiming ...   \n",
       "1      12-angry-men  ['\\n\\n                        You did a wonder...   \n",
       "2  12-years-a-slave  ['\\n\\n                        All right now.',...   \n",
       "3         127-hours  ['\\n\\n                        Hey. Aron here, ...   \n",
       "4              13th  [\"\\n\\n                        So let's look at...   \n",
       "\n",
       "                                    all_together_now  \\\n",
       "0  \\n\\n                        [ Clock Chiming ] ...   \n",
       "1  \\n\\n                        You did a wonderfu...   \n",
       "2  \\n\\n                        All right now. Y'a...   \n",
       "3  \\n\\n                        Hey. Aron here, le...   \n",
       "4  \\n\\n                        So let's look at t...   \n",
       "\n",
       "                                             no_stop  \\\n",
       "0   [ clock chiming ] [ alarm ] [ groaning ] [ wh...   \n",
       "1   wonderful job. wonderful. it. it! continue, y...   \n",
       "2   right now. y'all fresh niggers. y'all gonna c...   \n",
       "3   hey. aron here, leave message. hi aron, sonja...   \n",
       "4   let's look statistics. united states home 5% ...   \n",
       "\n",
       "                                          just_words  good_or_bad  category  \\\n",
       "0   clock chiming alarm groaning whimpering barki...            1         4   \n",
       "1   wonderful job wonderful continue youve listen...            1         0   \n",
       "2   right yall fresh niggers yall gonna cutting g...            1         5   \n",
       "3   hey aron leave message hi aron sonja hereagai...            1         7   \n",
       "4   lets look statistics united states home 5 wor...            1         0   \n",
       "\n",
       "              category_label  word_count  unique_words  \\\n",
       "0              Light-Hearted        8401          6219   \n",
       "1           Dark & Political       13144          6953   \n",
       "2  Unusual Language or Slang        8092          4291   \n",
       "3      Romance & Light Drama        2191          1233   \n",
       "4           Dark & Political       14231          7138   \n",
       "\n",
       "                                    sentiment_scores  sentiment_negative  \\\n",
       "0  {'neg': 0.129, 'neu': 0.643, 'pos': 0.227, 'co...               0.129   \n",
       "1  {'neg': 0.168, 'neu': 0.683, 'pos': 0.149, 'co...               0.168   \n",
       "2  {'neg': 0.163, 'neu': 0.632, 'pos': 0.204, 'co...               0.163   \n",
       "3  {'neg': 0.15, 'neu': 0.586, 'pos': 0.264, 'com...               0.150   \n",
       "4  {'neg': 0.236, 'neu': 0.602, 'pos': 0.162, 'co...               0.236   \n",
       "\n",
       "   sentiment_neutral  sentiment_positive  sentiment_compound  colon_ratios  \\\n",
       "0              0.643               0.227              0.9999      0.000482   \n",
       "1              0.683               0.149             -0.9997      0.002445   \n",
       "2              0.632               0.204              0.9992      0.000233   \n",
       "3              0.586               0.264              0.9996      0.004866   \n",
       "4              0.602               0.162             -1.0000      0.000140   \n",
       "\n",
       "   semi_ratios  comma_ratios  ellipsis_ratios  sentence_length  \\\n",
       "0     0.000322      0.076379         0.015597         5.270339   \n",
       "1     0.000000      0.083273         0.017259         3.542028   \n",
       "2     0.000000      0.127709         0.030529         3.116195   \n",
       "3     0.000000      0.078670         0.036496         2.887588   \n",
       "4     0.000000      0.126926         0.009947         6.396057   \n",
       "\n",
       "                                                 nlp  \\\n",
       "0  \\n\\n                        [ Clock Chiming ] ...   \n",
       "1  \\n\\n                        You did a wonderfu...   \n",
       "2  \\n\\n                        All right now. Y'a...   \n",
       "3  \\n\\n                        Hey. Aron here, le...   \n",
       "4  \\n\\n                        So let's look at t...   \n",
       "\n",
       "                                          POS_counts  \\\n",
       "0  {103: 63, 97: 3668, 96: 781, 100: 1512, 92: 12...   \n",
       "1  {103: 2, 95: 2116, 100: 3407, 90: 1654, 84: 72...   \n",
       "2  {103: 2, 86: 618, 97: 2099, 84: 397, 92: 1255,...   \n",
       "3  {103: 2, 91: 49, 97: 603, 96: 147, 86: 223, 10...   \n",
       "4  {103: 2, 86: 1065, 100: 2996, 95: 1190, 85: 18...   \n",
       "\n",
       "                                          TAG_counts     PROPN     PUNCT  \\\n",
       "0  {6893682062797376370: 63, 17111077179131903759...  0.092965  0.436615   \n",
       "1  {6893682062797376370: 2, 13656873538139661788:...  0.007912  0.247337   \n",
       "2  {6893682062797376370: 2, 164681854541413346: 5...  0.079461  0.259392   \n",
       "3  {6893682062797376370: 2, 3252815442139690129: ...  0.067093  0.275217   \n",
       "4  {6893682062797376370: 2, 164681854541413346: 9...  0.053123  0.150727   \n",
       "\n",
       "        SYM      VERB         X     SPACE       ADJ       ADP       ADV  \\\n",
       "0  0.000000  0.179979  0.001666  0.007499  0.043923  0.044995  0.064040   \n",
       "1  0.000456  0.259206  0.000000  0.000152  0.055463  0.079808  0.096318   \n",
       "2  0.000000  0.237024  0.000000  0.000247  0.049061  0.090213  0.076372   \n",
       "3  0.000456  0.266089  0.000000  0.000913  0.045185  0.066636  0.101780   \n",
       "4  0.000000  0.210526  0.000000  0.000141  0.069004  0.127890  0.074837   \n",
       "\n",
       "        AUX     CCONJ       DET      INTJ      NOUN       NUM      PART  \\\n",
       "0  0.005237  0.012499  0.069397  0.035234  0.150815  0.006904  0.018331   \n",
       "1  0.008521  0.014836  0.125837  0.017194  0.154976  0.018868  0.030508   \n",
       "2  0.006179  0.023604  0.114310  0.017672  0.155091  0.008156  0.029906   \n",
       "3  0.009585  0.020082  0.099954  0.022364  0.125057  0.015518  0.033318   \n",
       "4  0.005692  0.033167  0.123674  0.007308  0.201040  0.011384  0.031832   \n",
       "\n",
       "       PRON      HYPH        ``        XX   FW        WP       VBG        UH  \\\n",
       "0  0.073920  0.027259  0.000476  0.001666  0.0  0.006428  0.032853  0.035234   \n",
       "1  0.160986  0.003271  0.001674  0.000000  0.0  0.013847  0.015140  0.017194   \n",
       "2  0.144834  0.002348  0.001483  0.000000  0.0  0.008774  0.011122  0.017672   \n",
       "3  0.158375  0.003651  0.000456  0.000000  0.0  0.007303  0.022821  0.022364   \n",
       "4  0.083620  0.002670  0.004216  0.000000  0.0  0.006254  0.020238  0.007308   \n",
       "\n",
       "        RBS     -RRB-       NNP       VBZ     -LRB-        MD         :  \\\n",
       "0  0.000238  0.082014  0.089751  0.022854  0.082014  0.013927  0.051065   \n",
       "1  0.000304  0.000000  0.007912  0.038497  0.000000  0.020161  0.042605   \n",
       "2  0.000741  0.000000  0.078596  0.029412  0.000000  0.022986  0.014706   \n",
       "3  0.000000  0.000000  0.066636  0.040621  0.000000  0.021908  0.030580   \n",
       "4  0.000632  0.000000  0.049821  0.030145  0.000000  0.014124  0.005200   \n",
       "\n",
       "        VBP       NFP  ADD        DT        IN        ''  AFX         .  \\\n",
       "0  0.033925  0.005357  0.0  0.053803  0.044995  0.003809  0.0  0.127485   \n",
       "1  0.053713  0.002130  0.0  0.106817  0.079808  0.006315  0.0  0.147292   \n",
       "2  0.053262  0.005067  0.0  0.079338  0.090213  0.003955  0.0  0.164113   \n",
       "3  0.060246  0.007303  0.0  0.080329  0.066636  0.000456  0.0  0.188498   \n",
       "4  0.036891  0.001546  0.0  0.100063  0.127890  0.004708  0.0  0.069004   \n",
       "\n",
       "         TO        CC       VBN        NN         ,        EX       JJR  \\\n",
       "0  0.009404  0.012499  0.013451  0.120105  0.057136  0.000714  0.001428   \n",
       "1  0.017651  0.014836  0.017194  0.127739  0.044051  0.003043  0.001065   \n",
       "2  0.014088  0.023604  0.014459  0.126174  0.067721  0.002348  0.003089   \n",
       "3  0.019626  0.020082  0.019626  0.106344  0.044272  0.003195  0.002282   \n",
       "4  0.020238  0.033167  0.025297  0.142646  0.063383  0.002740  0.002459   \n",
       "\n",
       "       PRP$       POS   LS       WRB        JJ        RP        CD       PRP  \\\n",
       "0  0.013094  0.002143  0.0  0.005833  0.041900  0.006785  0.006904  0.067492   \n",
       "1  0.014912  0.002739  0.0  0.009814  0.053408  0.010119  0.018868  0.147139   \n",
       "2  0.031142  0.004696  0.0  0.009145  0.044983  0.011122  0.008156  0.136060   \n",
       "3  0.015062  0.002738  0.0  0.007303  0.041990  0.010954  0.015518  0.151073   \n",
       "4  0.013421  0.002881  0.0  0.005973  0.064929  0.008713  0.011384  0.077366   \n",
       "\n",
       "         RB      NNPS        VB       PDT       RBR       WDT       JJS  \\\n",
       "0  0.056422  0.003214  0.054279  0.000833  0.000833  0.001666  0.000595   \n",
       "1  0.082775  0.000000  0.078591  0.002206  0.000380  0.001826  0.000989   \n",
       "2  0.062531  0.000865  0.088482  0.001359  0.001607  0.002348  0.000989   \n",
       "3  0.090370  0.000456  0.084436  0.001369  0.000913  0.003195  0.000913   \n",
       "4  0.064437  0.003303  0.050172  0.000913  0.001054  0.009135  0.001616   \n",
       "\n",
       "        VBD       _SP       WP$       NNS         $  \n",
       "0  0.013927  0.007499  0.000000  0.030711  0.000000  \n",
       "1  0.044431  0.000152  0.000076  0.027237  0.000152  \n",
       "2  0.023480  0.000247  0.000124  0.028917  0.000000  \n",
       "3  0.026016  0.000913  0.000000  0.018713  0.000000  \n",
       "4  0.039351  0.000141  0.000141  0.058394  0.000422  "
      ]
     },
     "execution_count": 70,
     "metadata": {},
     "output_type": "execute_result"
    }
   ],
   "source": [
    "screenplays_cut.head()"
   ]
  },
  {
   "cell_type": "code",
   "execution_count": 71,
   "metadata": {},
   "outputs": [
    {
     "data": {
      "text/html": [
       "<div>\n",
       "<style scoped>\n",
       "    .dataframe tbody tr th:only-of-type {\n",
       "        vertical-align: middle;\n",
       "    }\n",
       "\n",
       "    .dataframe tbody tr th {\n",
       "        vertical-align: top;\n",
       "    }\n",
       "\n",
       "    .dataframe thead th {\n",
       "        text-align: right;\n",
       "    }\n",
       "</style>\n",
       "<table border=\"1\" class=\"dataframe\">\n",
       "  <thead>\n",
       "    <tr style=\"text-align: right;\">\n",
       "      <th></th>\n",
       "      <th>titles</th>\n",
       "      <th>scripts</th>\n",
       "      <th>all_together_now</th>\n",
       "      <th>no_stop</th>\n",
       "      <th>just_words</th>\n",
       "      <th>good_or_bad</th>\n",
       "      <th>rotten_scores</th>\n",
       "      <th>category</th>\n",
       "      <th>category_label</th>\n",
       "      <th>word_count</th>\n",
       "      <th>unique_words</th>\n",
       "      <th>sentiment_scores</th>\n",
       "      <th>sentiment_negative</th>\n",
       "      <th>sentiment_neutral</th>\n",
       "      <th>sentiment_positive</th>\n",
       "      <th>sentiment_compound</th>\n",
       "      <th>colon_ratios</th>\n",
       "      <th>semi_ratios</th>\n",
       "      <th>comma_ratios</th>\n",
       "      <th>ellipsis_ratios</th>\n",
       "      <th>sentence_length</th>\n",
       "      <th>nlp</th>\n",
       "      <th>POS_counts</th>\n",
       "      <th>TAG_counts</th>\n",
       "      <th>PROPN</th>\n",
       "      <th>PUNCT</th>\n",
       "      <th>SYM</th>\n",
       "      <th>VERB</th>\n",
       "      <th>X</th>\n",
       "      <th>SPACE</th>\n",
       "      <th>ADJ</th>\n",
       "      <th>ADP</th>\n",
       "      <th>ADV</th>\n",
       "      <th>AUX</th>\n",
       "      <th>CCONJ</th>\n",
       "      <th>DET</th>\n",
       "      <th>INTJ</th>\n",
       "      <th>NOUN</th>\n",
       "      <th>NUM</th>\n",
       "      <th>PART</th>\n",
       "      <th>PRON</th>\n",
       "      <th>HYPH</th>\n",
       "      <th>``</th>\n",
       "      <th>XX</th>\n",
       "      <th>FW</th>\n",
       "      <th>WP</th>\n",
       "      <th>VBG</th>\n",
       "      <th>UH</th>\n",
       "      <th>RBS</th>\n",
       "      <th>-LRB-</th>\n",
       "      <th>NNP</th>\n",
       "      <th>VBZ</th>\n",
       "      <th>MD</th>\n",
       "      <th>NFP</th>\n",
       "      <th>:</th>\n",
       "      <th>VBP</th>\n",
       "      <th>-RRB-</th>\n",
       "      <th>ADD</th>\n",
       "      <th>DT</th>\n",
       "      <th>''</th>\n",
       "      <th>IN</th>\n",
       "      <th>AFX</th>\n",
       "      <th>.</th>\n",
       "      <th>TO</th>\n",
       "      <th>CC</th>\n",
       "      <th>VBN</th>\n",
       "      <th>NN</th>\n",
       "      <th>,</th>\n",
       "      <th>EX</th>\n",
       "      <th>JJR</th>\n",
       "      <th>PRP$</th>\n",
       "      <th>POS</th>\n",
       "      <th>LS</th>\n",
       "      <th>WRB</th>\n",
       "      <th>JJ</th>\n",
       "      <th>RP</th>\n",
       "      <th>CD</th>\n",
       "      <th>PRP</th>\n",
       "      <th>RB</th>\n",
       "      <th>NNPS</th>\n",
       "      <th>VB</th>\n",
       "      <th>PDT</th>\n",
       "      <th>RBR</th>\n",
       "      <th>WDT</th>\n",
       "      <th>JJS</th>\n",
       "      <th>VBD</th>\n",
       "      <th>_SP</th>\n",
       "      <th>WP$</th>\n",
       "      <th>NNS</th>\n",
       "      <th>$</th>\n",
       "    </tr>\n",
       "  </thead>\n",
       "  <tbody>\n",
       "    <tr>\n",
       "      <th>0</th>\n",
       "      <td>gallows-act-ii-the</td>\n",
       "      <td>['\\n\\n                        1', ' - Do it.',...</td>\n",
       "      <td>['\\n\\n                        1', ' - Do it.',...</td>\n",
       "      <td>['\\n\\n 1', ' - it.', ' - right.', ' oh, gosh....</td>\n",
       "      <td>nn 1 right oh gosh oh gosh bro charlie mexica...</td>\n",
       "      <td>0</td>\n",
       "      <td>0</td>\n",
       "      <td>8</td>\n",
       "      <td>Life Stories</td>\n",
       "      <td>6246</td>\n",
       "      <td>4372</td>\n",
       "      <td>{'neg': 0.1, 'neu': 0.749, 'pos': 0.151, 'comp...</td>\n",
       "      <td>0.100</td>\n",
       "      <td>0.749</td>\n",
       "      <td>0.151</td>\n",
       "      <td>0.9995</td>\n",
       "      <td>0.000457</td>\n",
       "      <td>0.0</td>\n",
       "      <td>0.421089</td>\n",
       "      <td>0.019671</td>\n",
       "      <td>10.409524</td>\n",
       "      <td>['\\n\\n                        1', ' - Do it.',...</td>\n",
       "      <td>{97: 5781, 93: 40, 103: 2, 100: 1208, 95: 820,...</td>\n",
       "      <td>{17111077179131903759: 1, 4969857429396651903:...</td>\n",
       "      <td>0.044989</td>\n",
       "      <td>0.925552</td>\n",
       "      <td>0.000000</td>\n",
       "      <td>0.193404</td>\n",
       "      <td>0.000320</td>\n",
       "      <td>0.000320</td>\n",
       "      <td>0.044348</td>\n",
       "      <td>0.047070</td>\n",
       "      <td>0.066923</td>\n",
       "      <td>0.006244</td>\n",
       "      <td>0.013609</td>\n",
       "      <td>0.073967</td>\n",
       "      <td>0.053474</td>\n",
       "      <td>0.096382</td>\n",
       "      <td>0.006404</td>\n",
       "      <td>0.021934</td>\n",
       "      <td>0.131284</td>\n",
       "      <td>0.001921</td>\n",
       "      <td>0.049472</td>\n",
       "      <td>0.000320</td>\n",
       "      <td>0.000000</td>\n",
       "      <td>0.011848</td>\n",
       "      <td>0.016170</td>\n",
       "      <td>0.053474</td>\n",
       "      <td>0.000000</td>\n",
       "      <td>0.000160</td>\n",
       "      <td>0.043868</td>\n",
       "      <td>0.028818</td>\n",
       "      <td>0.014569</td>\n",
       "      <td>0.004483</td>\n",
       "      <td>0.038264</td>\n",
       "      <td>0.041627</td>\n",
       "      <td>0.000320</td>\n",
       "      <td>0.0</td>\n",
       "      <td>0.056196</td>\n",
       "      <td>0.384886</td>\n",
       "      <td>0.047070</td>\n",
       "      <td>0.0</td>\n",
       "      <td>0.151297</td>\n",
       "      <td>0.012008</td>\n",
       "      <td>0.013609</td>\n",
       "      <td>0.008325</td>\n",
       "      <td>0.082293</td>\n",
       "      <td>0.294749</td>\n",
       "      <td>0.001121</td>\n",
       "      <td>0.002241</td>\n",
       "      <td>0.015050</td>\n",
       "      <td>0.003042</td>\n",
       "      <td>0.000000</td>\n",
       "      <td>0.004323</td>\n",
       "      <td>0.041627</td>\n",
       "      <td>0.006884</td>\n",
       "      <td>0.006404</td>\n",
       "      <td>0.119436</td>\n",
       "      <td>0.061319</td>\n",
       "      <td>0.001121</td>\n",
       "      <td>0.062280</td>\n",
       "      <td>0.000640</td>\n",
       "      <td>0.000160</td>\n",
       "      <td>0.002081</td>\n",
       "      <td>0.000480</td>\n",
       "      <td>0.027858</td>\n",
       "      <td>0.000320</td>\n",
       "      <td>0.000000</td>\n",
       "      <td>0.014089</td>\n",
       "      <td>0.000000</td>\n",
       "    </tr>\n",
       "    <tr>\n",
       "      <th>1</th>\n",
       "      <td>portals</td>\n",
       "      <td>['\\n\\n                        1', ' [boulderli...</td>\n",
       "      <td>['\\n\\n                        1', ' [boulderli...</td>\n",
       "      <td>['\\n\\n 1', ' [boulderlight pictures theme]', ...</td>\n",
       "      <td>nn 1 boulderlight pictures theme bloody disgu...</td>\n",
       "      <td>0</td>\n",
       "      <td>0</td>\n",
       "      <td>9</td>\n",
       "      <td>Straight Up Horror</td>\n",
       "      <td>6690</td>\n",
       "      <td>4734</td>\n",
       "      <td>{'neg': 0.099, 'neu': 0.801, 'pos': 0.1, 'comp...</td>\n",
       "      <td>0.099</td>\n",
       "      <td>0.801</td>\n",
       "      <td>0.100</td>\n",
       "      <td>-0.9688</td>\n",
       "      <td>0.016688</td>\n",
       "      <td>0.0</td>\n",
       "      <td>0.400507</td>\n",
       "      <td>0.016054</td>\n",
       "      <td>13.186630</td>\n",
       "      <td>['\\n\\n                        1', ' [boulderli...</td>\n",
       "      <td>{97: 6554, 93: 50, 103: 2, 92: 724, 84: 270, 1...</td>\n",
       "      <td>{17111077179131903759: 185, 496985742939665190...</td>\n",
       "      <td>0.052317</td>\n",
       "      <td>0.979671</td>\n",
       "      <td>0.002840</td>\n",
       "      <td>0.214200</td>\n",
       "      <td>0.000299</td>\n",
       "      <td>0.000299</td>\n",
       "      <td>0.040359</td>\n",
       "      <td>0.044395</td>\n",
       "      <td>0.070852</td>\n",
       "      <td>0.007175</td>\n",
       "      <td>0.014948</td>\n",
       "      <td>0.068610</td>\n",
       "      <td>0.039761</td>\n",
       "      <td>0.108221</td>\n",
       "      <td>0.007474</td>\n",
       "      <td>0.027504</td>\n",
       "      <td>0.128849</td>\n",
       "      <td>0.000897</td>\n",
       "      <td>0.075336</td>\n",
       "      <td>0.000149</td>\n",
       "      <td>0.000149</td>\n",
       "      <td>0.013453</td>\n",
       "      <td>0.025561</td>\n",
       "      <td>0.039761</td>\n",
       "      <td>0.000299</td>\n",
       "      <td>0.027653</td>\n",
       "      <td>0.052317</td>\n",
       "      <td>0.030344</td>\n",
       "      <td>0.015546</td>\n",
       "      <td>0.005232</td>\n",
       "      <td>0.018685</td>\n",
       "      <td>0.051121</td>\n",
       "      <td>0.027205</td>\n",
       "      <td>0.0</td>\n",
       "      <td>0.053064</td>\n",
       "      <td>0.384903</td>\n",
       "      <td>0.044395</td>\n",
       "      <td>0.0</td>\n",
       "      <td>0.156353</td>\n",
       "      <td>0.016442</td>\n",
       "      <td>0.014948</td>\n",
       "      <td>0.008072</td>\n",
       "      <td>0.090732</td>\n",
       "      <td>0.283259</td>\n",
       "      <td>0.001943</td>\n",
       "      <td>0.001046</td>\n",
       "      <td>0.014200</td>\n",
       "      <td>0.003587</td>\n",
       "      <td>0.000149</td>\n",
       "      <td>0.006577</td>\n",
       "      <td>0.038714</td>\n",
       "      <td>0.007474</td>\n",
       "      <td>0.007474</td>\n",
       "      <td>0.115396</td>\n",
       "      <td>0.061136</td>\n",
       "      <td>0.000000</td>\n",
       "      <td>0.068909</td>\n",
       "      <td>0.000598</td>\n",
       "      <td>0.000897</td>\n",
       "      <td>0.000747</td>\n",
       "      <td>0.000598</td>\n",
       "      <td>0.021824</td>\n",
       "      <td>0.000299</td>\n",
       "      <td>0.000000</td>\n",
       "      <td>0.017489</td>\n",
       "      <td>0.000149</td>\n",
       "    </tr>\n",
       "    <tr>\n",
       "      <th>2</th>\n",
       "      <td>mob-town</td>\n",
       "      <td>['\\n\\n                        1', ' Police rai...</td>\n",
       "      <td>['\\n\\n                        1', ' Police rai...</td>\n",
       "      <td>['\\n\\n 1', ' police raid organized crime meet...</td>\n",
       "      <td>nn 1 police raid organized crime meeting home...</td>\n",
       "      <td>0</td>\n",
       "      <td>0</td>\n",
       "      <td>6</td>\n",
       "      <td>Violence &amp; Gangster</td>\n",
       "      <td>11256</td>\n",
       "      <td>7649</td>\n",
       "      <td>{'neg': 0.057, 'neu': 0.787, 'pos': 0.156, 'co...</td>\n",
       "      <td>0.057</td>\n",
       "      <td>0.787</td>\n",
       "      <td>0.156</td>\n",
       "      <td>0.9999</td>\n",
       "      <td>0.000915</td>\n",
       "      <td>0.0</td>\n",
       "      <td>0.403190</td>\n",
       "      <td>0.005229</td>\n",
       "      <td>7.885567</td>\n",
       "      <td>['\\n\\n                        1', ' Police rai...</td>\n",
       "      <td>{97: 9595, 93: 117, 103: 2, 92: 1262, 90: 897,...</td>\n",
       "      <td>{17111077179131903759: 1, 4969857429396651903:...</td>\n",
       "      <td>0.054282</td>\n",
       "      <td>0.852434</td>\n",
       "      <td>0.000800</td>\n",
       "      <td>0.195096</td>\n",
       "      <td>0.000178</td>\n",
       "      <td>0.000178</td>\n",
       "      <td>0.042022</td>\n",
       "      <td>0.052861</td>\n",
       "      <td>0.082889</td>\n",
       "      <td>0.006397</td>\n",
       "      <td>0.010394</td>\n",
       "      <td>0.079691</td>\n",
       "      <td>0.047353</td>\n",
       "      <td>0.112118</td>\n",
       "      <td>0.010394</td>\n",
       "      <td>0.030650</td>\n",
       "      <td>0.135572</td>\n",
       "      <td>0.002132</td>\n",
       "      <td>0.071784</td>\n",
       "      <td>0.000178</td>\n",
       "      <td>0.000000</td>\n",
       "      <td>0.013859</td>\n",
       "      <td>0.011105</td>\n",
       "      <td>0.047353</td>\n",
       "      <td>0.000178</td>\n",
       "      <td>0.000089</td>\n",
       "      <td>0.054016</td>\n",
       "      <td>0.030917</td>\n",
       "      <td>0.012438</td>\n",
       "      <td>0.001421</td>\n",
       "      <td>0.001866</td>\n",
       "      <td>0.053483</td>\n",
       "      <td>0.000089</td>\n",
       "      <td>0.0</td>\n",
       "      <td>0.065299</td>\n",
       "      <td>0.336976</td>\n",
       "      <td>0.052861</td>\n",
       "      <td>0.0</td>\n",
       "      <td>0.164268</td>\n",
       "      <td>0.015192</td>\n",
       "      <td>0.010394</td>\n",
       "      <td>0.009328</td>\n",
       "      <td>0.090441</td>\n",
       "      <td>0.273810</td>\n",
       "      <td>0.001777</td>\n",
       "      <td>0.000977</td>\n",
       "      <td>0.011194</td>\n",
       "      <td>0.003554</td>\n",
       "      <td>0.000000</td>\n",
       "      <td>0.009328</td>\n",
       "      <td>0.039979</td>\n",
       "      <td>0.011905</td>\n",
       "      <td>0.010394</td>\n",
       "      <td>0.121713</td>\n",
       "      <td>0.071162</td>\n",
       "      <td>0.000267</td>\n",
       "      <td>0.065299</td>\n",
       "      <td>0.001866</td>\n",
       "      <td>0.000444</td>\n",
       "      <td>0.001155</td>\n",
       "      <td>0.001066</td>\n",
       "      <td>0.018923</td>\n",
       "      <td>0.000178</td>\n",
       "      <td>0.000178</td>\n",
       "      <td>0.021677</td>\n",
       "      <td>0.000355</td>\n",
       "    </tr>\n",
       "    <tr>\n",
       "      <th>3</th>\n",
       "      <td>solis</td>\n",
       "      <td>['\\n\\n                        1', ' [EERIE]', ...</td>\n",
       "      <td>['\\n\\n                        1', ' [EERIE]', ...</td>\n",
       "      <td>['\\n\\n 1', ' [eerie]', ' woman: come in, 2024...</td>\n",
       "      <td>nn 1 eerie woman come 2024 hathor 18 confirmi...</td>\n",
       "      <td>0</td>\n",
       "      <td>0</td>\n",
       "      <td>2</td>\n",
       "      <td>Conflict</td>\n",
       "      <td>7357</td>\n",
       "      <td>5111</td>\n",
       "      <td>{'neg': 0.087, 'neu': 0.803, 'pos': 0.109, 'co...</td>\n",
       "      <td>0.087</td>\n",
       "      <td>0.803</td>\n",
       "      <td>0.109</td>\n",
       "      <td>0.9953</td>\n",
       "      <td>0.018979</td>\n",
       "      <td>0.0</td>\n",
       "      <td>0.384661</td>\n",
       "      <td>0.008609</td>\n",
       "      <td>14.602857</td>\n",
       "      <td>['\\n\\n                        1', ' [EERIE]', ...</td>\n",
       "      <td>{97: 6597, 93: 125, 103: 2, 92: 1032, 100: 140...</td>\n",
       "      <td>{17111077179131903759: 88, 4969857429396651903...</td>\n",
       "      <td>0.046079</td>\n",
       "      <td>0.896697</td>\n",
       "      <td>0.000136</td>\n",
       "      <td>0.190431</td>\n",
       "      <td>0.000000</td>\n",
       "      <td>0.000272</td>\n",
       "      <td>0.048661</td>\n",
       "      <td>0.057496</td>\n",
       "      <td>0.065244</td>\n",
       "      <td>0.007476</td>\n",
       "      <td>0.014408</td>\n",
       "      <td>0.073264</td>\n",
       "      <td>0.020253</td>\n",
       "      <td>0.140275</td>\n",
       "      <td>0.016991</td>\n",
       "      <td>0.031399</td>\n",
       "      <td>0.104119</td>\n",
       "      <td>0.002311</td>\n",
       "      <td>0.052331</td>\n",
       "      <td>0.000000</td>\n",
       "      <td>0.000000</td>\n",
       "      <td>0.006117</td>\n",
       "      <td>0.020117</td>\n",
       "      <td>0.020253</td>\n",
       "      <td>0.000408</td>\n",
       "      <td>0.011961</td>\n",
       "      <td>0.046079</td>\n",
       "      <td>0.026098</td>\n",
       "      <td>0.018758</td>\n",
       "      <td>0.001903</td>\n",
       "      <td>0.026234</td>\n",
       "      <td>0.037923</td>\n",
       "      <td>0.011961</td>\n",
       "      <td>0.0</td>\n",
       "      <td>0.058720</td>\n",
       "      <td>0.387658</td>\n",
       "      <td>0.057496</td>\n",
       "      <td>0.0</td>\n",
       "      <td>0.135109</td>\n",
       "      <td>0.017262</td>\n",
       "      <td>0.014408</td>\n",
       "      <td>0.012233</td>\n",
       "      <td>0.120022</td>\n",
       "      <td>0.267228</td>\n",
       "      <td>0.002175</td>\n",
       "      <td>0.003534</td>\n",
       "      <td>0.012777</td>\n",
       "      <td>0.004893</td>\n",
       "      <td>0.000000</td>\n",
       "      <td>0.004214</td>\n",
       "      <td>0.044447</td>\n",
       "      <td>0.009243</td>\n",
       "      <td>0.016991</td>\n",
       "      <td>0.098002</td>\n",
       "      <td>0.058040</td>\n",
       "      <td>0.000000</td>\n",
       "      <td>0.063477</td>\n",
       "      <td>0.000680</td>\n",
       "      <td>0.000408</td>\n",
       "      <td>0.001087</td>\n",
       "      <td>0.000680</td>\n",
       "      <td>0.019301</td>\n",
       "      <td>0.000272</td>\n",
       "      <td>0.000000</td>\n",
       "      <td>0.020253</td>\n",
       "      <td>0.000000</td>\n",
       "    </tr>\n",
       "    <tr>\n",
       "      <th>4</th>\n",
       "      <td>welcome-to-curiosity</td>\n",
       "      <td>['\\n\\n                        Help!', ' Someon...</td>\n",
       "      <td>['\\n\\n                        Help!', ' Someon...</td>\n",
       "      <td>['\\n\\n help!', ' help!', ' help!', ' paging d...</td>\n",
       "      <td>nn help help help paging dr jones paging dr j...</td>\n",
       "      <td>0</td>\n",
       "      <td>0</td>\n",
       "      <td>6</td>\n",
       "      <td>Violence &amp; Gangster</td>\n",
       "      <td>8242</td>\n",
       "      <td>5321</td>\n",
       "      <td>{'neg': 0.163, 'neu': 0.702, 'pos': 0.136, 'co...</td>\n",
       "      <td>0.163</td>\n",
       "      <td>0.702</td>\n",
       "      <td>0.136</td>\n",
       "      <td>-0.9994</td>\n",
       "      <td>0.000000</td>\n",
       "      <td>0.0</td>\n",
       "      <td>0.392220</td>\n",
       "      <td>0.014471</td>\n",
       "      <td>11.273305</td>\n",
       "      <td>['\\n\\n                        Help!', ' Someon...</td>\n",
       "      <td>{97: 6279, 93: 62, 103: 2, 92: 998, 100: 1681,...</td>\n",
       "      <td>{17111077179131903759: 1, 4969857429396651903:...</td>\n",
       "      <td>0.035064</td>\n",
       "      <td>0.761830</td>\n",
       "      <td>0.000000</td>\n",
       "      <td>0.203955</td>\n",
       "      <td>0.000485</td>\n",
       "      <td>0.000243</td>\n",
       "      <td>0.043800</td>\n",
       "      <td>0.065275</td>\n",
       "      <td>0.081048</td>\n",
       "      <td>0.006552</td>\n",
       "      <td>0.017593</td>\n",
       "      <td>0.088935</td>\n",
       "      <td>0.034458</td>\n",
       "      <td>0.121087</td>\n",
       "      <td>0.007522</td>\n",
       "      <td>0.029362</td>\n",
       "      <td>0.133827</td>\n",
       "      <td>0.001577</td>\n",
       "      <td>0.057996</td>\n",
       "      <td>0.000000</td>\n",
       "      <td>0.000485</td>\n",
       "      <td>0.012861</td>\n",
       "      <td>0.012497</td>\n",
       "      <td>0.034458</td>\n",
       "      <td>0.000364</td>\n",
       "      <td>0.000121</td>\n",
       "      <td>0.034822</td>\n",
       "      <td>0.032274</td>\n",
       "      <td>0.013832</td>\n",
       "      <td>0.001941</td>\n",
       "      <td>0.019534</td>\n",
       "      <td>0.045741</td>\n",
       "      <td>0.000121</td>\n",
       "      <td>0.0</td>\n",
       "      <td>0.069886</td>\n",
       "      <td>0.296773</td>\n",
       "      <td>0.065275</td>\n",
       "      <td>0.0</td>\n",
       "      <td>0.130551</td>\n",
       "      <td>0.013953</td>\n",
       "      <td>0.017593</td>\n",
       "      <td>0.013468</td>\n",
       "      <td>0.097549</td>\n",
       "      <td>0.253215</td>\n",
       "      <td>0.001456</td>\n",
       "      <td>0.001213</td>\n",
       "      <td>0.016865</td>\n",
       "      <td>0.004125</td>\n",
       "      <td>0.000000</td>\n",
       "      <td>0.008857</td>\n",
       "      <td>0.040767</td>\n",
       "      <td>0.011284</td>\n",
       "      <td>0.007522</td>\n",
       "      <td>0.120966</td>\n",
       "      <td>0.069279</td>\n",
       "      <td>0.000243</td>\n",
       "      <td>0.068430</td>\n",
       "      <td>0.001213</td>\n",
       "      <td>0.001092</td>\n",
       "      <td>0.000849</td>\n",
       "      <td>0.001820</td>\n",
       "      <td>0.024266</td>\n",
       "      <td>0.000243</td>\n",
       "      <td>0.000121</td>\n",
       "      <td>0.023538</td>\n",
       "      <td>0.000000</td>\n",
       "    </tr>\n",
       "  </tbody>\n",
       "</table>\n",
       "</div>"
      ],
      "text/plain": [
       "                 titles                                            scripts  \\\n",
       "0    gallows-act-ii-the  ['\\n\\n                        1', ' - Do it.',...   \n",
       "1               portals  ['\\n\\n                        1', ' [boulderli...   \n",
       "2              mob-town  ['\\n\\n                        1', ' Police rai...   \n",
       "3                 solis  ['\\n\\n                        1', ' [EERIE]', ...   \n",
       "4  welcome-to-curiosity  ['\\n\\n                        Help!', ' Someon...   \n",
       "\n",
       "                                    all_together_now  \\\n",
       "0  ['\\n\\n                        1', ' - Do it.',...   \n",
       "1  ['\\n\\n                        1', ' [boulderli...   \n",
       "2  ['\\n\\n                        1', ' Police rai...   \n",
       "3  ['\\n\\n                        1', ' [EERIE]', ...   \n",
       "4  ['\\n\\n                        Help!', ' Someon...   \n",
       "\n",
       "                                             no_stop  \\\n",
       "0   ['\\n\\n 1', ' - it.', ' - right.', ' oh, gosh....   \n",
       "1   ['\\n\\n 1', ' [boulderlight pictures theme]', ...   \n",
       "2   ['\\n\\n 1', ' police raid organized crime meet...   \n",
       "3   ['\\n\\n 1', ' [eerie]', ' woman: come in, 2024...   \n",
       "4   ['\\n\\n help!', ' help!', ' help!', ' paging d...   \n",
       "\n",
       "                                          just_words  good_or_bad  \\\n",
       "0   nn 1 right oh gosh oh gosh bro charlie mexica...            0   \n",
       "1   nn 1 boulderlight pictures theme bloody disgu...            0   \n",
       "2   nn 1 police raid organized crime meeting home...            0   \n",
       "3   nn 1 eerie woman come 2024 hathor 18 confirmi...            0   \n",
       "4   nn help help help paging dr jones paging dr j...            0   \n",
       "\n",
       "   rotten_scores  category       category_label  word_count  unique_words  \\\n",
       "0              0         8         Life Stories        6246          4372   \n",
       "1              0         9   Straight Up Horror        6690          4734   \n",
       "2              0         6  Violence & Gangster       11256          7649   \n",
       "3              0         2             Conflict        7357          5111   \n",
       "4              0         6  Violence & Gangster        8242          5321   \n",
       "\n",
       "                                    sentiment_scores  sentiment_negative  \\\n",
       "0  {'neg': 0.1, 'neu': 0.749, 'pos': 0.151, 'comp...               0.100   \n",
       "1  {'neg': 0.099, 'neu': 0.801, 'pos': 0.1, 'comp...               0.099   \n",
       "2  {'neg': 0.057, 'neu': 0.787, 'pos': 0.156, 'co...               0.057   \n",
       "3  {'neg': 0.087, 'neu': 0.803, 'pos': 0.109, 'co...               0.087   \n",
       "4  {'neg': 0.163, 'neu': 0.702, 'pos': 0.136, 'co...               0.163   \n",
       "\n",
       "   sentiment_neutral  sentiment_positive  sentiment_compound  colon_ratios  \\\n",
       "0              0.749               0.151              0.9995      0.000457   \n",
       "1              0.801               0.100             -0.9688      0.016688   \n",
       "2              0.787               0.156              0.9999      0.000915   \n",
       "3              0.803               0.109              0.9953      0.018979   \n",
       "4              0.702               0.136             -0.9994      0.000000   \n",
       "\n",
       "   semi_ratios  comma_ratios  ellipsis_ratios  sentence_length  \\\n",
       "0          0.0      0.421089         0.019671        10.409524   \n",
       "1          0.0      0.400507         0.016054        13.186630   \n",
       "2          0.0      0.403190         0.005229         7.885567   \n",
       "3          0.0      0.384661         0.008609        14.602857   \n",
       "4          0.0      0.392220         0.014471        11.273305   \n",
       "\n",
       "                                                 nlp  \\\n",
       "0  ['\\n\\n                        1', ' - Do it.',...   \n",
       "1  ['\\n\\n                        1', ' [boulderli...   \n",
       "2  ['\\n\\n                        1', ' Police rai...   \n",
       "3  ['\\n\\n                        1', ' [EERIE]', ...   \n",
       "4  ['\\n\\n                        Help!', ' Someon...   \n",
       "\n",
       "                                          POS_counts  \\\n",
       "0  {97: 5781, 93: 40, 103: 2, 100: 1208, 95: 820,...   \n",
       "1  {97: 6554, 93: 50, 103: 2, 92: 724, 84: 270, 1...   \n",
       "2  {97: 9595, 93: 117, 103: 2, 92: 1262, 90: 897,...   \n",
       "3  {97: 6597, 93: 125, 103: 2, 92: 1032, 100: 140...   \n",
       "4  {97: 6279, 93: 62, 103: 2, 92: 998, 100: 1681,...   \n",
       "\n",
       "                                          TAG_counts     PROPN     PUNCT  \\\n",
       "0  {17111077179131903759: 1, 4969857429396651903:...  0.044989  0.925552   \n",
       "1  {17111077179131903759: 185, 496985742939665190...  0.052317  0.979671   \n",
       "2  {17111077179131903759: 1, 4969857429396651903:...  0.054282  0.852434   \n",
       "3  {17111077179131903759: 88, 4969857429396651903...  0.046079  0.896697   \n",
       "4  {17111077179131903759: 1, 4969857429396651903:...  0.035064  0.761830   \n",
       "\n",
       "        SYM      VERB         X     SPACE       ADJ       ADP       ADV  \\\n",
       "0  0.000000  0.193404  0.000320  0.000320  0.044348  0.047070  0.066923   \n",
       "1  0.002840  0.214200  0.000299  0.000299  0.040359  0.044395  0.070852   \n",
       "2  0.000800  0.195096  0.000178  0.000178  0.042022  0.052861  0.082889   \n",
       "3  0.000136  0.190431  0.000000  0.000272  0.048661  0.057496  0.065244   \n",
       "4  0.000000  0.203955  0.000485  0.000243  0.043800  0.065275  0.081048   \n",
       "\n",
       "        AUX     CCONJ       DET      INTJ      NOUN       NUM      PART  \\\n",
       "0  0.006244  0.013609  0.073967  0.053474  0.096382  0.006404  0.021934   \n",
       "1  0.007175  0.014948  0.068610  0.039761  0.108221  0.007474  0.027504   \n",
       "2  0.006397  0.010394  0.079691  0.047353  0.112118  0.010394  0.030650   \n",
       "3  0.007476  0.014408  0.073264  0.020253  0.140275  0.016991  0.031399   \n",
       "4  0.006552  0.017593  0.088935  0.034458  0.121087  0.007522  0.029362   \n",
       "\n",
       "       PRON      HYPH        ``        XX        FW        WP       VBG  \\\n",
       "0  0.131284  0.001921  0.049472  0.000320  0.000000  0.011848  0.016170   \n",
       "1  0.128849  0.000897  0.075336  0.000149  0.000149  0.013453  0.025561   \n",
       "2  0.135572  0.002132  0.071784  0.000178  0.000000  0.013859  0.011105   \n",
       "3  0.104119  0.002311  0.052331  0.000000  0.000000  0.006117  0.020117   \n",
       "4  0.133827  0.001577  0.057996  0.000000  0.000485  0.012861  0.012497   \n",
       "\n",
       "         UH       RBS     -LRB-       NNP       VBZ        MD       NFP  \\\n",
       "0  0.053474  0.000000  0.000160  0.043868  0.028818  0.014569  0.004483   \n",
       "1  0.039761  0.000299  0.027653  0.052317  0.030344  0.015546  0.005232   \n",
       "2  0.047353  0.000178  0.000089  0.054016  0.030917  0.012438  0.001421   \n",
       "3  0.020253  0.000408  0.011961  0.046079  0.026098  0.018758  0.001903   \n",
       "4  0.034458  0.000364  0.000121  0.034822  0.032274  0.013832  0.001941   \n",
       "\n",
       "          :       VBP     -RRB-  ADD        DT        ''        IN  AFX  \\\n",
       "0  0.038264  0.041627  0.000320  0.0  0.056196  0.384886  0.047070  0.0   \n",
       "1  0.018685  0.051121  0.027205  0.0  0.053064  0.384903  0.044395  0.0   \n",
       "2  0.001866  0.053483  0.000089  0.0  0.065299  0.336976  0.052861  0.0   \n",
       "3  0.026234  0.037923  0.011961  0.0  0.058720  0.387658  0.057496  0.0   \n",
       "4  0.019534  0.045741  0.000121  0.0  0.069886  0.296773  0.065275  0.0   \n",
       "\n",
       "          .        TO        CC       VBN        NN         ,        EX  \\\n",
       "0  0.151297  0.012008  0.013609  0.008325  0.082293  0.294749  0.001121   \n",
       "1  0.156353  0.016442  0.014948  0.008072  0.090732  0.283259  0.001943   \n",
       "2  0.164268  0.015192  0.010394  0.009328  0.090441  0.273810  0.001777   \n",
       "3  0.135109  0.017262  0.014408  0.012233  0.120022  0.267228  0.002175   \n",
       "4  0.130551  0.013953  0.017593  0.013468  0.097549  0.253215  0.001456   \n",
       "\n",
       "        JJR      PRP$       POS        LS       WRB        JJ        RP  \\\n",
       "0  0.002241  0.015050  0.003042  0.000000  0.004323  0.041627  0.006884   \n",
       "1  0.001046  0.014200  0.003587  0.000149  0.006577  0.038714  0.007474   \n",
       "2  0.000977  0.011194  0.003554  0.000000  0.009328  0.039979  0.011905   \n",
       "3  0.003534  0.012777  0.004893  0.000000  0.004214  0.044447  0.009243   \n",
       "4  0.001213  0.016865  0.004125  0.000000  0.008857  0.040767  0.011284   \n",
       "\n",
       "         CD       PRP        RB      NNPS        VB       PDT       RBR  \\\n",
       "0  0.006404  0.119436  0.061319  0.001121  0.062280  0.000640  0.000160   \n",
       "1  0.007474  0.115396  0.061136  0.000000  0.068909  0.000598  0.000897   \n",
       "2  0.010394  0.121713  0.071162  0.000267  0.065299  0.001866  0.000444   \n",
       "3  0.016991  0.098002  0.058040  0.000000  0.063477  0.000680  0.000408   \n",
       "4  0.007522  0.120966  0.069279  0.000243  0.068430  0.001213  0.001092   \n",
       "\n",
       "        WDT       JJS       VBD       _SP       WP$       NNS         $  \n",
       "0  0.002081  0.000480  0.027858  0.000320  0.000000  0.014089  0.000000  \n",
       "1  0.000747  0.000598  0.021824  0.000299  0.000000  0.017489  0.000149  \n",
       "2  0.001155  0.001066  0.018923  0.000178  0.000178  0.021677  0.000355  \n",
       "3  0.001087  0.000680  0.019301  0.000272  0.000000  0.020253  0.000000  \n",
       "4  0.000849  0.001820  0.024266  0.000243  0.000121  0.023538  0.000000  "
      ]
     },
     "execution_count": 71,
     "metadata": {},
     "output_type": "execute_result"
    }
   ],
   "source": [
    "rotten_df_cut.head()"
   ]
  },
  {
   "cell_type": "markdown",
   "metadata": {},
   "source": [
    "Shuffling columns  for ease of use when modeling."
   ]
  },
  {
   "cell_type": "code",
   "execution_count": 72,
   "metadata": {},
   "outputs": [],
   "source": [
    "screen_cols = list(screenplays_cut.columns)\n",
    "screen_cols.remove('good_or_bad')\n",
    "screen_cols.append('good_or_bad')\n",
    "screenplays_model = screenplays_cut[screen_cols].copy()\n",
    "\n",
    "rotten_cols = list(rotten_df_cut.columns)\n",
    "rotten_cols.remove('good_or_bad')\n",
    "rotten_cols.append('good_or_bad')\n",
    "rotten_cols.remove('rotten_scores')\n",
    "rotten_cols.append('rotten_scores')\n",
    "rotten_model = rotten_df_cut[rotten_cols].copy()"
   ]
  },
  {
   "cell_type": "code",
   "execution_count": 73,
   "metadata": {},
   "outputs": [],
   "source": [
    "# sort_cols = list(rotten_model.columns[:38])\n",
    "# sort_cols.extend(sorted(list(rotten_model.columns[38:-2])))\n",
    "# sort_cols.extend(list(rotten_model.columns[-2:]))"
   ]
  },
  {
   "cell_type": "markdown",
   "metadata": {},
   "source": [
    "I will be using three categories of classification models:\n",
    "    \n",
    "- TFIDF Vectorization will focus only on the word vectors and using those for modeling.\n",
    "- Script attributes will focus only on the screenplays structures, using parts of speech, word counts etc.\n",
    "- Comined TDIF and Script Attributes will put both the above together in a single dataframe for modeling."
   ]
  },
  {
   "cell_type": "markdown",
   "metadata": {},
   "source": [
    "## TFIDF Vectorization"
   ]
  },
  {
   "cell_type": "markdown",
   "metadata": {},
   "source": [
    "My first set of models will employ TFIDF Vectorization using a variety of classifiers.m"
   ]
  },
  {
   "cell_type": "markdown",
   "metadata": {},
   "source": [
    "Showing my main function for doing these classifications, which can also be found in the file functions.py."
   ]
  },
  {
   "cell_type": "code",
   "execution_count": 74,
   "metadata": {},
   "outputs": [
    {
     "data": {
      "text/markdown": [
       "```python\n",
       "def hybrid_classifiers(X_train, X_test, y_train, y_test, classifier, \n",
       "                       cmap=plt.cm.Reds, use_tfidf=True):\n",
       "    \"\"\"This function takes in values for a classifier and runs them through\n",
       "    a pipe. Generates scores and a confusion matrix plot.\n",
       "    \n",
       "    Parameters:\n",
       "        \n",
       "        X: DataFrame\n",
       "            Features and values to be used in model.\n",
       "            \n",
       "        y: Series\n",
       "            Target variable for classifying.\n",
       "            \n",
       "        Classifier: Classifier\n",
       "            Which classifier to be used for training the model.\n",
       "        \n",
       "        cmap: pyplot color map\n",
       "            Which color map to use for the confusion matrix plot.\n",
       "            \n",
       "        use_tfidf: bool\n",
       "            Whether to use tfidf on feature data prior to running model.\"\"\"\n",
       "    \n",
       "    # Typical train test split to retain data for validation.\n",
       "#     X_train, X_test, y_train, y_test = train_test_split(X, y,\n",
       "#                                                     test_size=.3,\n",
       "#                                                     random_state=42)\n",
       "    \n",
       "    # There a few more bad scripts than good ones, so I'll make them even.\n",
       "    rus = RandomUnderSampler(random_state=42)\n",
       "    X_resampled, y_resampled = rus.fit_resample(pd.DataFrame(X_train), y_train)\n",
       "    \n",
       "    # This is necessary for putting X into the correct format if there is only \n",
       "    # one column, as it comes out of the resampler a DataFrame when the\n",
       "    # classifier actuallyl wants a series if its only one column.\n",
       "    if len(X_resampled.columns) < 2:\n",
       "        X_resampled = X_resampled.iloc[:, 0]\n",
       "    \n",
       "    # Provides the option of using tfidf in case this is just using scripts \n",
       "    # attributes and not text embedding or vectorization\n",
       "    if use_tfidf == False:\n",
       "        pipe = Pipeline([('clf', classifier)])\n",
       "    else:\n",
       "        \n",
       "        # These tfidf hyper-parameters have been tested via grid-search\n",
       "        # elsewhere and found to be optimal.\n",
       "        pipe = Pipeline([('tfidf', TfidfVectorizer(max_df=.95, min_df=.1,\n",
       "                                                  max_features=5000,\n",
       "                                                  ngram_range=(1,2))), \n",
       "                         ('clf', classifier)])\n",
       "        \n",
       "#     scaler = StandardScaler\n",
       "#     X_resampled_scaled = scaler.fit_transform(X_resampled)\n",
       "#     X_test_scaled = scaler.transform(X_test)\n",
       "    \n",
       "    # Fitting the pipeline containing the tfidf processor and classifier.\n",
       "    pipe.fit(X_resampled, y_resampled)\n",
       "    \n",
       "    # Creating predicted data.\n",
       "    y_pred = pipe.predict(X_test)\n",
       "    \n",
       "    # Running metrics and creating a confusion matrix visual.\n",
       "    print(classification_report(y_test, y_pred))\n",
       "\n",
       "    confusion = confusion_matrix(y_test, y_pred)\n",
       "    \n",
       "    plot_confusion_matrix(confusion, figsize=(7,7), colorbar=True,\n",
       "                      show_normed=True, cmap=cmap);\n",
       "    plt.show();\n",
       "    \n",
       "    # If there is a decision function in this classifier, we'll use it \n",
       "    # to create an ROC AUC graph.\n",
       "    try:\n",
       "        y_score = pipe.decision_function(X_test)\n",
       "        fpr, tpr, thresholds = roc_curve(y_test, y_score)\n",
       "        roc_auc = auc(fpr, tpr)\n",
       "        print('roc_auc score: ', roc_auc)\n",
       "\n",
       "        plt.plot(fpr, tpr, color='darkorange', lw=2)\n",
       "        plt.title('Receiver Operating Characteristic (ROC) Curve')\n",
       "        plt.ylabel('True Positive Rate')\n",
       "        plt.xlabel('False Positive Rate')\n",
       "        plt.show();\n",
       "    except:\n",
       "        pass\n",
       "\n",
       "    return y_pred\n",
       "\n",
       "```"
      ],
      "text/plain": [
       "<IPython.core.display.Markdown object>"
      ]
     },
     "execution_count": 74,
     "metadata": {},
     "output_type": "execute_result"
    }
   ],
   "source": [
    "txt = inspect.getsource(fun.hybrid_classifiers)\n",
    "md =\"```python\\n\"+ txt +\"\\n```\"\n",
    "Markdown(md)"
   ]
  },
  {
   "cell_type": "markdown",
   "metadata": {},
   "source": [
    "### Setup"
   ]
  },
  {
   "cell_type": "markdown",
   "metadata": {},
   "source": [
    "For the modeling, I'm going to use the extreme ratings I got from metacritic.com for training the models, then use the rottentomatoes data, which is uniformly distributed from bad movies to good movies, to test the modeling."
   ]
  },
  {
   "cell_type": "code",
   "execution_count": 75,
   "metadata": {},
   "outputs": [],
   "source": [
    "X_train = screenplays_cut.no_stop\n",
    "X_test = rotten_df_cut.no_stop\n",
    "\n",
    "y_train = screenplays_cut.good_or_bad\n",
    "y_test = rotten_df_cut.good_or_bad"
   ]
  },
  {
   "cell_type": "markdown",
   "metadata": {},
   "source": [
    "### Linear SVC"
   ]
  },
  {
   "cell_type": "code",
   "execution_count": 76,
   "metadata": {},
   "outputs": [
    {
     "name": "stdout",
     "output_type": "stream",
     "text": [
      "              precision    recall  f1-score   support\n",
      "\n",
      "           0       0.64      0.77      0.70       811\n",
      "           1       0.67      0.52      0.58       719\n",
      "\n",
      "    accuracy                           0.65      1530\n",
      "   macro avg       0.65      0.64      0.64      1530\n",
      "weighted avg       0.65      0.65      0.65      1530\n",
      "\n"
     ]
    },
    {
     "data": {
      "image/png": "[encoded data removed]",
      "text/plain": [
       "<Figure size 504x504 with 2 Axes>"
      ]
     },
     "metadata": {
      "needs_background": "light"
     },
     "output_type": "display_data"
    },
    {
     "name": "stdout",
     "output_type": "stream",
     "text": [
      "roc_auc score:  0.7007231924048506\n"
     ]
    },
    {
     "data": {
      "image/png": "[encoded data removed]",
      "text/plain": [
       "<Figure size 432x288 with 1 Axes>"
      ]
     },
     "metadata": {
      "needs_background": "light"
     },
     "output_type": "display_data"
    },
    {
     "data": {
      "text/plain": [
       "array([0, 0, 1, ..., 1, 0, 0])"
      ]
     },
     "execution_count": 76,
     "metadata": {},
     "output_type": "execute_result"
    }
   ],
   "source": [
    "fun.hybrid_classifiers(X_train, X_test, y_train, y_test, LinearSVC())"
   ]
  },
  {
   "cell_type": "markdown",
   "metadata": {},
   "source": [
    "### SVC"
   ]
  },
  {
   "cell_type": "code",
   "execution_count": 77,
   "metadata": {},
   "outputs": [
    {
     "name": "stdout",
     "output_type": "stream",
     "text": [
      "              precision    recall  f1-score   support\n",
      "\n",
      "           0       0.65      0.77      0.71       811\n",
      "           1       0.67      0.54      0.60       719\n",
      "\n",
      "    accuracy                           0.66      1530\n",
      "   macro avg       0.66      0.65      0.65      1530\n",
      "weighted avg       0.66      0.66      0.66      1530\n",
      "\n"
     ]
    },
    {
     "data": {
      "image/png": "[encoded data removed]",
      "text/plain": [
       "<Figure size 504x504 with 2 Axes>"
      ]
     },
     "metadata": {
      "needs_background": "light"
     },
     "output_type": "display_data"
    },
    {
     "name": "stdout",
     "output_type": "stream",
     "text": [
      "roc_auc score:  0.714379301297013\n"
     ]
    },
    {
     "data": {
      "image/png": "[encoded data removed]",
      "text/plain": [
       "<Figure size 432x288 with 1 Axes>"
      ]
     },
     "metadata": {
      "needs_background": "light"
     },
     "output_type": "display_data"
    },
    {
     "data": {
      "text/plain": [
       "array([0, 0, 1, ..., 1, 1, 0])"
      ]
     },
     "execution_count": 77,
     "metadata": {},
     "output_type": "execute_result"
    }
   ],
   "source": [
    "fun.hybrid_classifiers(X_train, X_test, y_train, y_test, SVC())"
   ]
  },
  {
   "cell_type": "markdown",
   "metadata": {},
   "source": [
    "### XGBoost Classifier"
   ]
  },
  {
   "cell_type": "code",
   "execution_count": 78,
   "metadata": {},
   "outputs": [
    {
     "name": "stdout",
     "output_type": "stream",
     "text": [
      "              precision    recall  f1-score   support\n",
      "\n",
      "           0       0.65      0.80      0.72       811\n",
      "           1       0.69      0.52      0.59       719\n",
      "\n",
      "    accuracy                           0.67      1530\n",
      "   macro avg       0.67      0.66      0.66      1530\n",
      "weighted avg       0.67      0.67      0.66      1530\n",
      "\n"
     ]
    },
    {
     "data": {
      "image/png": "[encoded data removed]",
      "text/plain": [
       "<Figure size 504x504 with 2 Axes>"
      ]
     },
     "metadata": {
      "needs_background": "light"
     },
     "output_type": "display_data"
    },
    {
     "data": {
      "text/plain": [
       "array([0, 0, 0, ..., 1, 1, 0])"
      ]
     },
     "execution_count": 78,
     "metadata": {},
     "output_type": "execute_result"
    }
   ],
   "source": [
    "fun.hybrid_classifiers(X_train, X_test, y_train, y_test, \n",
    "                   XGBClassifier(max_depth=8,\n",
    "                                    criterion='entropy',\n",
    "                                    min_samples_split=14,\n",
    "                                    min_samples_leaf=1,\n",
    "                                    max_features=160))"
   ]
  },
  {
   "cell_type": "markdown",
   "metadata": {},
   "source": [
    "### Neural Network"
   ]
  },
  {
   "cell_type": "markdown",
   "metadata": {},
   "source": [
    "Because the neural network works so differently from the other classifiers, I haven't used a function, and the main code is all here."
   ]
  },
  {
   "cell_type": "markdown",
   "metadata": {},
   "source": [
    "Starting to put the data together."
   ]
  },
  {
   "cell_type": "code",
   "execution_count": 79,
   "metadata": {},
   "outputs": [],
   "source": [
    "X_train = pd.DataFrame(X_train)\n",
    "\n",
    "# Undersampling to get things even just for ease of use.\n",
    "rus = RandomUnderSampler(random_state=42)\n",
    "X_resampled, y_resampled = rus.fit_resample(pd.DataFrame(X_train), y_train)\n",
    "\n",
    "X_resampled = X_resampled.iloc[:, 0]"
   ]
  },
  {
   "cell_type": "markdown",
   "metadata": {},
   "source": [
    "Create the vector from the full batch of scripts."
   ]
  },
  {
   "cell_type": "code",
   "execution_count": 80,
   "metadata": {},
   "outputs": [],
   "source": [
    "tfidf = TfidfVectorizer(max_features=5000, max_df=.95, min_df=.1, \n",
    "                        ngram_range=(1,2))\n",
    "X_t_train = tfidf.fit_transform(X_resampled)\n",
    "X_t_test = tfidf.transform(X_test)"
   ]
  },
  {
   "cell_type": "markdown",
   "metadata": {},
   "source": [
    "Getting the data into the format it will need to be in for the network."
   ]
  },
  {
   "cell_type": "code",
   "execution_count": 81,
   "metadata": {},
   "outputs": [],
   "source": [
    "X_t_train = pd.SparseDataFrame(X_t_train, columns=tfidf.get_feature_names(),\n",
    "                           default_fill_value=0)\n",
    "X_t_test = pd.SparseDataFrame(X_t_test, columns=tfidf.get_feature_names(),\n",
    "                           default_fill_value=0)\n",
    "\n",
    "X_t_num = np.array(X_t_train)\n",
    "X_t_test_num = np.array(X_t_test)\n",
    "\n",
    "y_t_num = np.array(y_resampled)\n",
    "y_t_test_num = np.array(y_test)\n",
    "\n",
    "layer_input = X_t_train.shape[1]"
   ]
  },
  {
   "cell_type": "markdown",
   "metadata": {},
   "source": [
    "I played manually with a lot of different layers, neurons, drop layers, and regularization. Simple seemed to work best."
   ]
  },
  {
   "cell_type": "code",
   "execution_count": 82,
   "metadata": {},
   "outputs": [],
   "source": [
    "model = Sequential()\n",
    "\n",
    "model.add(Dense(layer_input, input_dim=layer_input, activation='relu'))\n",
    "model.add(Dense(50, input_dim=layer_input, activation='relu'))\n",
    "model.add(Dense(50, input_dim=50, activation='relu'))\n",
    "model.add(Dense(1, activation='sigmoid'))"
   ]
  },
  {
   "cell_type": "code",
   "execution_count": 83,
   "metadata": {},
   "outputs": [
    {
     "name": "stdout",
     "output_type": "stream",
     "text": [
      "Train on 2006 samples, validate on 502 samples\n",
      "Epoch 1/10\n",
      "2006/2006 [==============================] - 6s 3ms/step - loss: 0.1876 - accuracy: 0.7218 - val_loss: 0.1930 - val_accuracy: 0.7171\n",
      "Epoch 2/10\n",
      "2006/2006 [==============================] - 6s 3ms/step - loss: 0.1018 - accuracy: 0.8684 - val_loss: 0.1415 - val_accuracy: 0.8127\n",
      "Epoch 3/10\n",
      "2006/2006 [==============================] - 6s 3ms/step - loss: 0.0550 - accuracy: 0.9352 - val_loss: 0.2076 - val_accuracy: 0.7291\n",
      "Epoch 4/10\n",
      "2006/2006 [==============================] - 6s 3ms/step - loss: 0.0258 - accuracy: 0.9731 - val_loss: 0.3552 - val_accuracy: 0.5657\n",
      "Epoch 5/10\n",
      "2006/2006 [==============================] - 6s 3ms/step - loss: 0.0162 - accuracy: 0.9811 - val_loss: 0.2262 - val_accuracy: 0.7211\n",
      "Epoch 6/10\n",
      "2006/2006 [==============================] - 6s 3ms/step - loss: 0.0116 - accuracy: 0.9875 - val_loss: 0.2435 - val_accuracy: 0.6992\n",
      "Epoch 7/10\n",
      "2006/2006 [==============================] - 6s 3ms/step - loss: 0.0097 - accuracy: 0.9905 - val_loss: 0.2989 - val_accuracy: 0.6534\n",
      "Epoch 8/10\n",
      "2006/2006 [==============================] - 6s 3ms/step - loss: 0.0076 - accuracy: 0.9920 - val_loss: 0.3000 - val_accuracy: 0.6514\n",
      "Epoch 9/10\n",
      "2006/2006 [==============================] - 6s 3ms/step - loss: 0.0073 - accuracy: 0.9920 - val_loss: 0.2348 - val_accuracy: 0.7271\n",
      "Epoch 10/10\n",
      "2006/2006 [==============================] - 6s 3ms/step - loss: 0.0104 - accuracy: 0.9870 - val_loss: 0.1054 - val_accuracy: 0.8685\n"
     ]
    },
    {
     "data": {
      "text/plain": [
       "<keras.callbacks.callbacks.History at 0xa6136ee80>"
      ]
     },
     "execution_count": 83,
     "metadata": {},
     "output_type": "execute_result"
    }
   ],
   "source": [
    "model.compile(loss='mean_squared_error',\n",
    "              optimizer='adam', \n",
    "              metrics=['accuracy'])\n",
    "\n",
    "model.fit(X_t_num, y_t_num, epochs=10, batch_size=50, validation_split=0.2)"
   ]
  },
  {
   "cell_type": "code",
   "execution_count": 84,
   "metadata": {},
   "outputs": [],
   "source": [
    "# y_t_test = y_test"
   ]
  },
  {
   "cell_type": "code",
   "execution_count": 85,
   "metadata": {},
   "outputs": [
    {
     "name": "stdout",
     "output_type": "stream",
     "text": [
      "1530/1530 [==============================] - 0s 305us/step\n"
     ]
    },
    {
     "data": {
      "text/plain": [
       "[0.31813733408264083, 0.6287581920623779]"
      ]
     },
     "execution_count": 85,
     "metadata": {},
     "output_type": "execute_result"
    }
   ],
   "source": [
    "model.evaluate(X_t_test_num, y_t_test_num, verbose=1)"
   ]
  },
  {
   "cell_type": "code",
   "execution_count": 86,
   "metadata": {
    "scrolled": false
   },
   "outputs": [
    {
     "name": "stdout",
     "output_type": "stream",
     "text": [
      "              precision    recall  f1-score   support\n",
      "\n",
      "           0       0.68      0.58      0.62       811\n",
      "           1       0.59      0.69      0.63       719\n",
      "\n",
      "    accuracy                           0.63      1530\n",
      "   macro avg       0.63      0.63      0.63      1530\n",
      "weighted avg       0.64      0.63      0.63      1530\n",
      "\n"
     ]
    },
    {
     "data": {
      "image/png": "[encoded data removed]",
      "text/plain": [
       "<Figure size 504x504 with 2 Axes>"
      ]
     },
     "metadata": {
      "needs_background": "light"
     },
     "output_type": "display_data"
    }
   ],
   "source": [
    "y_pred = model.predict_classes(X_t_test_num)\n",
    "\n",
    "print(classification_report(y_test, y_pred))\n",
    "\n",
    "confusion = confusion_matrix(y_test, y_pred)\n",
    "plot_confusion_matrix(confusion, figsize=(7,7), colorbar=True,\n",
    "                  show_normed=True, cmap=plt.cm.Reds);\n",
    "plt.show();"
   ]
  },
  {
   "cell_type": "markdown",
   "metadata": {},
   "source": [
    "Overall, a pretty positive model."
   ]
  },
  {
   "cell_type": "markdown",
   "metadata": {},
   "source": [
    "### TFIDF Summary"
   ]
  },
  {
   "cell_type": "markdown",
   "metadata": {},
   "source": [
    "The models here were strong, overall. Most of them had accuracy of around 65%, with poor true positive rate of around 50, which means they were quite good at predicting which scripts were bad but not great at predicting which scripts were good. The decision tree had good true positive rate at 61%, but the accuracy wasn't as good at 58%. XG Boost had the best accuracy at 66, but the true positive rate of precisely 50%, with true negative rate 80%."
   ]
  },
  {
   "cell_type": "markdown",
   "metadata": {},
   "source": [
    "## Script Attributes"
   ]
  },
  {
   "cell_type": "markdown",
   "metadata": {},
   "source": [
    "Script attributes are defined here as structural aspects of the screenplay, such as:\n",
    "- Parts of speech\n",
    "- word counts\n",
    "- sentence length\n",
    "- sentiment\n",
    "- script groupings by linguistic similarity"
   ]
  },
  {
   "cell_type": "markdown",
   "metadata": {},
   "source": [
    "### Setup"
   ]
  },
  {
   "cell_type": "markdown",
   "metadata": {},
   "source": [
    "For this set of modeling, I'm using only the script attributes from the dataframe, so basically word counts, punctuation ratios, sentence length, sentiment, and parts of speech."
   ]
  },
  {
   "cell_type": "code",
   "execution_count": 87,
   "metadata": {},
   "outputs": [],
   "source": [
    "screen_dummies = pd.get_dummies(screenplays_model['category'])\n",
    "rotten_dummies = pd.get_dummies(rotten_model['category'])"
   ]
  },
  {
   "cell_type": "code",
   "execution_count": 88,
   "metadata": {},
   "outputs": [],
   "source": [
    "columns = list(screenplays_model.columns[7:9])\n",
    "columns.extend(list(screenplays_model.columns[10:19]))\n",
    "start = list(screenplays_model.columns).index('PROPN')\n",
    "columns.extend(list(screenplays_model.columns[start:-1]))\n",
    "    \n",
    "X = screenplays_model[columns]\n",
    "X_train = pd.merge(screenplays_model[columns], screen_dummies, left_index=True, \n",
    "             right_index=True)\n",
    "X_test = pd.merge(rotten_model[columns], rotten_dummies, left_index=True, \n",
    "             right_index=True)\n",
    "\n",
    "y_train = screenplays_model.good_or_bad\n",
    "y_test = rotten_model.good_or_bad"
   ]
  },
  {
   "cell_type": "markdown",
   "metadata": {},
   "source": [
    "### XG Boost Classifier"
   ]
  },
  {
   "cell_type": "code",
   "execution_count": 89,
   "metadata": {},
   "outputs": [
    {
     "name": "stdout",
     "output_type": "stream",
     "text": [
      "              precision    recall  f1-score   support\n",
      "\n",
      "           0       0.61      0.43      0.50       811\n",
      "           1       0.52      0.69      0.59       719\n",
      "\n",
      "    accuracy                           0.55      1530\n",
      "   macro avg       0.57      0.56      0.55      1530\n",
      "weighted avg       0.57      0.55      0.55      1530\n",
      "\n"
     ]
    },
    {
     "data": {
      "image/png": "[encoded data removed]",
      "text/plain": [
       "<Figure size 504x504 with 2 Axes>"
      ]
     },
     "metadata": {
      "needs_background": "light"
     },
     "output_type": "display_data"
    },
    {
     "data": {
      "text/plain": [
       "array([0, 0, 1, ..., 1, 1, 1])"
      ]
     },
     "execution_count": 89,
     "metadata": {},
     "output_type": "execute_result"
    }
   ],
   "source": [
    "fun.hybrid_classifiers(X_train, X_test, y_train, y_test, \n",
    "                   classifier=XGBClassifier(),use_tfidf=False)"
   ]
  },
  {
   "cell_type": "markdown",
   "metadata": {},
   "source": [
    "### Random Forest Classifier"
   ]
  },
  {
   "cell_type": "code",
   "execution_count": 90,
   "metadata": {
    "scrolled": false
   },
   "outputs": [
    {
     "name": "stdout",
     "output_type": "stream",
     "text": [
      "              precision    recall  f1-score   support\n",
      "\n",
      "           0       0.60      0.39      0.48       811\n",
      "           1       0.51      0.71      0.59       719\n",
      "\n",
      "    accuracy                           0.54      1530\n",
      "   macro avg       0.55      0.55      0.53      1530\n",
      "weighted avg       0.56      0.54      0.53      1530\n",
      "\n"
     ]
    },
    {
     "data": {
      "image/png": "[encoded data removed]",
      "text/plain": [
       "<Figure size 504x504 with 2 Axes>"
      ]
     },
     "metadata": {
      "needs_background": "light"
     },
     "output_type": "display_data"
    },
    {
     "data": {
      "text/plain": [
       "array([0, 1, 1, ..., 0, 1, 0])"
      ]
     },
     "execution_count": 90,
     "metadata": {},
     "output_type": "execute_result"
    }
   ],
   "source": [
    "fun.hybrid_classifiers(X_train, X_test, y_train, y_test, \n",
    "                   classifier=RandomForestClassifier(random_state=42,\n",
    "                                                    max_depth=8,\n",
    "                                                    criterion='entropy',\n",
    "                                                    min_samples_split=14,\n",
    "                                                    min_samples_leaf=1,\n",
    "#                                                     max_features=10),\n",
    "                                                    ),\n",
    "                  use_tfidf=False)"
   ]
  },
  {
   "cell_type": "markdown",
   "metadata": {},
   "source": [
    "### Scripts Attributes Summary"
   ]
  },
  {
   "cell_type": "markdown",
   "metadata": {},
   "source": [
    "This set was much lower than the TFIDF, with scores that were only a little above random chance. The neural network simply classified everything as positive. I'm sure I could have done something to improve this batch given time, but for now, as it was so much lower than the TFIDF set, I chose to let it go."
   ]
  },
  {
   "cell_type": "markdown",
   "metadata": {},
   "source": [
    "## Combined TDIF & Attributes"
   ]
  },
  {
   "cell_type": "markdown",
   "metadata": {},
   "source": [
    "### Setup"
   ]
  },
  {
   "cell_type": "markdown",
   "metadata": {},
   "source": [
    "For this more experimental bunch, I thought I would try merging the TFIDF vecctorization matrix with the attributes from the original dataframe, wondering if more information might be better, and how the engineered features might play against the word matrix."
   ]
  },
  {
   "cell_type": "markdown",
   "metadata": {},
   "source": [
    "Showing my main function for doing these classifications, which can also be found in the file functions.py."
   ]
  },
  {
   "cell_type": "code",
   "execution_count": 91,
   "metadata": {
    "scrolled": false
   },
   "outputs": [
    {
     "data": {
      "text/markdown": [
       "```python\n",
       "def hybrid_classifier_combo(X_train, X_test, X2_train, X2_test,\n",
       "                            y_train, y_test, classifier,\n",
       "                            cmap=plt.cm.Reds, feature_importance=False):\n",
       "    \"\"\"This function takes in values for a classifier and runs them through\n",
       "    a pipe. Generates scores and a confusion matrix plot. As opposed with \n",
       "    the above 'script_classifiers' function, this one does not use a pipe,\n",
       "    lending some additional flexibility between vectorization and modeling.\n",
       "    Generally to be used with combining features and word vectors.\n",
       "    \n",
       "    Parameters:\n",
       "        \n",
       "        X: DataFrame\n",
       "            Features and values to be used in model.\n",
       "            \n",
       "        y: Series\n",
       "            Target variable for classifying.\n",
       "            \n",
       "        text_to_vec: word vector matrix\n",
       "            In addition to features, adds a word vector matrix to join with\n",
       "            the other features for modeling.\n",
       "            \n",
       "        Classifier: Classifier\n",
       "            Which classifier to be used for training the model.\n",
       "        \n",
       "        cmap: pyplot color map\n",
       "            Which color map to use for the confusion matrix plot.\"\"\"\n",
       "\n",
       "#     if text_to_vec:\n",
       "    # Putting the TfidfVectorizer up front so I can fiddle with things\n",
       "    # before the classifier.\n",
       "    tfidf = TfidfVectorizer(max_df=.95, min_df=.1, max_features=5000,\n",
       "                             ngram_range=(1,2))\n",
       "    X2_train = tfidf.fit_transform(X2_train)\n",
       "    X2_test = tfidf.transform(X2_test)    \n",
       "\n",
       "    # Creating a sparse DataFrame to house both the features and the \n",
       "    # processed text.\n",
       "    X_temp = pd.SparseDataFrame(X2_train, columns=tfidf.get_feature_names(),\n",
       "                               default_fill_value=0)\n",
       "                                                        \n",
       "    X_temp2 = pd.SparseDataFrame(X2_test, columns=tfidf.get_feature_names(),\n",
       "                               default_fill_value=0)\n",
       "    \n",
       "    # Necessary for next step.\n",
       "#     X_train = X_train.reset_index(drop=True)\n",
       "#     X_test = X_test.reset_index(drop=True)\n",
       "    \n",
       "    # Combining text matrix with script attributes.\n",
       "    for column in X_train:\n",
       "        X_temp[column] = X_train[column]\n",
       "        X_temp2[column] = X_test[column]\n",
       "    X_train = X_temp\n",
       "    X_test = X_temp2\n",
       "\n",
       "    # I really wish I knew why this was necessary. I really do. But for whatever\n",
       "    # reason, I keep getting just a few null values at this point in the function.\n",
       "    X_test.fillna(0,inplace=True)\n",
       "    X_train.fillna(0,inplace=True)\n",
       "    \n",
       "#     temp = pd.DataFrame(X2_train, columns=['temp'])\n",
       "#     display(X_train.iloc[[40, 69, 101, 106, 147, 175, 264, 303, 343, 371, 392,\n",
       "#              464, 656, 811, 963, 1099, 2024, 2044, 2066, 2265, 2554,2560]])\n",
       "    \n",
       "    X_train.fillna(0,inplace=True)\n",
       "    # Standard train-test split.\n",
       "#     X_train, X_test, y_train, y_test = train_test_split(X, y,\n",
       "#                                                     test_size=.3,\n",
       "#                                                     random_state=42)\n",
       "    \n",
       "    # There a few more bad scripts than good ones, so I'll make them even.\n",
       "    rus = RandomUnderSampler(random_state=42)\n",
       "    X_resampled, y_resampled = rus.fit_resample(pd.DataFrame(X_train), y_train)\n",
       "   \n",
       "    # This is necessary for putting X into the correct format if there is only \n",
       "    # one column, as it comes out of the resampler a DataFrame when the\n",
       "    # classifier actuallyl wants a series if its only one column.\n",
       "#     if type(X_resampled) == pd.core.series.Series:\n",
       "#         X_resampled = X_resampled.iloc[:, 0]\n",
       "    \n",
       "    # Classifier can be whatever the user has entered as an argument. \n",
       "    clf = classifier\n",
       "    clf.fit(X_resampled, y_resampled)\n",
       "    \n",
       "#     # The below is for creating the train scores.\n",
       "#     y_train_pred = clf.predict(X_train)\n",
       "    \n",
       "#     # Printing out metrics and confusion matrix visual for training.\n",
       "#     print(classification_report(y_train, y_train_pred))\n",
       "#     print('Accuracy: ', accuracy_score(y_train, y_train_pred))\n",
       "\n",
       "#     confusion = confusion_matrix(y_train, y_train_pred)\n",
       "#     plot_confusion_matrix(confusion, figsize=(7,7), colorbar=True,\n",
       "#                   show_normed=True, cmap=cmap);\n",
       "#     plt.show();\n",
       "\n",
       "#     temp = pd.DataFrame(X_test, columns=['temp'])\n",
       "#     print(temp[temp['temp'].isna() == True].index)\n",
       "\n",
       "    # temp = X_test.CCONJ.isna() == True\n",
       "    # display(temp)\n",
       "    \n",
       "    # The below is for creating the test scores.\n",
       "    y_pred = clf.predict(X_test)\n",
       "    \n",
       "    # Printing out metrics and confusion matrix visual for testing.\n",
       "    print(classification_report(y_test, y_pred))\n",
       "    print('Accuracy: ', accuracy_score(y_test, y_pred))\n",
       "\n",
       "    confusion = confusion_matrix(y_test, y_pred)\n",
       "    plot_confusion_matrix(confusion, figsize=(7,7), colorbar=True,\n",
       "                      show_normed=True, cmap=cmap);\n",
       "    plt.show();\n",
       "    \n",
       "    # If there is a decision function in this classifier, we'll use it \n",
       "    # to create an ROC AUC graph.\n",
       "    try:\n",
       "        y_score = classifier.decision_function(X_test)\n",
       "        fpr, tpr, thresholds = roc_curve(y_test, y_score)\n",
       "        roc_auc = auc(fpr, tpr)\n",
       "        print('roc_auc score: ', roc_auc)\n",
       "\n",
       "        plt.plot(fpr, tpr, color='darkorange', lw=2)\n",
       "        plt.title('Receiver Operating Characteristic (ROC) Curve')\n",
       "        plt.ylabel('True Positive Rate')\n",
       "        plt.xlabel('False Positive Rate')\n",
       "        plt.show();\n",
       "    except:\n",
       "        pass\n",
       "    \n",
       "    if feature_importance:  \n",
       "        try:\n",
       "            print(pd.Series(clf.feature_importances_,\n",
       "                      index=X_train.columns).sort_values(ascending=False).head(200))\n",
       "            df_importance = pd.Series(clf.feature_importances_, \n",
       "                                      index=X_train.columns)\n",
       "            df_imp_export = df_importance.sort_values(ascending=False)\n",
       "            df_importance = df_importance.sort_values(ascending=True).tail(200)\n",
       "        #         df_importance.index = [labels[x] for x,y in df_importance]\n",
       "            df_importance.plot(kind='barh', figsize=(8,50))\n",
       "            plt.title('Most Important Features')\n",
       "            plt.ylabel('Feature Name')\n",
       "            plt.xlabel('Feature Importance')\n",
       "            plt.show()\n",
       "        except: \n",
       "            pass\n",
       "\n",
       "```"
      ],
      "text/plain": [
       "<IPython.core.display.Markdown object>"
      ]
     },
     "execution_count": 91,
     "metadata": {},
     "output_type": "execute_result"
    }
   ],
   "source": [
    "txt = inspect.getsource(fun.hybrid_classifier_combo)\n",
    "md =\"```python\\n\"+ txt +\"\\n```\"\n",
    "Markdown(md)"
   ]
  },
  {
   "cell_type": "code",
   "execution_count": 92,
   "metadata": {},
   "outputs": [],
   "source": [
    "screen_dummies = pd.get_dummies(screenplays_model['category'])\n",
    "rotten_dummies = pd.get_dummies(rotten_model['category'])"
   ]
  },
  {
   "cell_type": "code",
   "execution_count": 93,
   "metadata": {},
   "outputs": [],
   "source": [
    "columns = list(screenplays_model.columns[7:9])\n",
    "columns.extend(list(screenplays_model.columns[10:19]))\n",
    "start = list(screenplays_model.columns).index('PROPN')\n",
    "columns.extend(list(screenplays_model.columns[start:-1]))\n",
    "\n",
    "X_train = screenplays_model[columns].copy()\n",
    "X_test = rotten_model[columns].copy()\n",
    "\n",
    "y_train = screenplays_model.good_or_bad.copy()\n",
    "y_test = rotten_model.good_or_bad.copy()"
   ]
  },
  {
   "cell_type": "code",
   "execution_count": 94,
   "metadata": {},
   "outputs": [],
   "source": [
    "X2_train = screenplays_model.no_stop\n",
    "X2_test = rotten_model.no_stop\n",
    "y_train = screenplays_model.good_or_bad\n",
    "y_test = rotten_model.good_or_bad"
   ]
  },
  {
   "cell_type": "markdown",
   "metadata": {},
   "source": [
    "### Linear Support Vector Classifier"
   ]
  },
  {
   "cell_type": "code",
   "execution_count": 95,
   "metadata": {},
   "outputs": [],
   "source": [
    "# temp = pd.DataFrame(X2_train, columns=['temp'])\n",
    "# temp[temp['temp'].isna() == True].index"
   ]
  },
  {
   "cell_type": "code",
   "execution_count": 96,
   "metadata": {},
   "outputs": [],
   "source": [
    "# screenplays_model.iloc[[40, 69, 101, 106, 147, 175, 264, 303, 343, 371, 392,\n",
    "#              464, 656, 811, 963, 1099, 2024, 2044, 2066, 2265, 2554, 2600]]"
   ]
  },
  {
   "cell_type": "code",
   "execution_count": 97,
   "metadata": {
    "scrolled": false
   },
   "outputs": [
    {
     "name": "stderr",
     "output_type": "stream",
     "text": [
      "//anaconda3/lib/python3.7/site-packages/sklearn/svm/_base.py:947: ConvergenceWarning:\n",
      "\n",
      "Liblinear failed to converge, increase the number of iterations.\n",
      "\n"
     ]
    },
    {
     "name": "stdout",
     "output_type": "stream",
     "text": [
      "              precision    recall  f1-score   support\n",
      "\n",
      "           0       0.53      0.99      0.69       811\n",
      "           1       0.67      0.02      0.04       719\n",
      "\n",
      "    accuracy                           0.53      1530\n",
      "   macro avg       0.60      0.51      0.37      1530\n",
      "weighted avg       0.60      0.53      0.39      1530\n",
      "\n",
      "Accuracy:  0.534640522875817\n"
     ]
    },
    {
     "data": {
      "image/png": "[encoded data removed]",
      "text/plain": [
       "<Figure size 504x504 with 2 Axes>"
      ]
     },
     "metadata": {
      "needs_background": "light"
     },
     "output_type": "display_data"
    },
    {
     "name": "stdout",
     "output_type": "stream",
     "text": [
      "roc_auc score:  0.47892418055629393\n"
     ]
    },
    {
     "data": {
      "image/png": "[encoded data removed]",
      "text/plain": [
       "<Figure size 432x288 with 1 Axes>"
      ]
     },
     "metadata": {
      "needs_background": "light"
     },
     "output_type": "display_data"
    }
   ],
   "source": [
    "fun.hybrid_classifier_combo(X_train, X_test, X2_train, X2_test,\n",
    "                        y_train, y_test, LinearSVC(C=.6))"
   ]
  },
  {
   "cell_type": "markdown",
   "metadata": {},
   "source": [
    "### Logistic Regression Classifier"
   ]
  },
  {
   "cell_type": "code",
   "execution_count": 98,
   "metadata": {},
   "outputs": [
    {
     "name": "stdout",
     "output_type": "stream",
     "text": [
      "              precision    recall  f1-score   support\n",
      "\n",
      "           0       0.53      0.99      0.69       811\n",
      "           1       0.61      0.02      0.04       719\n",
      "\n",
      "    accuracy                           0.53      1530\n",
      "   macro avg       0.57      0.50      0.36      1530\n",
      "weighted avg       0.57      0.53      0.38      1530\n",
      "\n",
      "Accuracy:  0.5333333333333333\n"
     ]
    },
    {
     "data": {
      "image/png": "[encoded data removed]",
      "text/plain": [
       "<Figure size 504x504 with 2 Axes>"
      ]
     },
     "metadata": {
      "needs_background": "light"
     },
     "output_type": "display_data"
    },
    {
     "name": "stdout",
     "output_type": "stream",
     "text": [
      "roc_auc score:  0.4984179630223509\n"
     ]
    },
    {
     "data": {
      "image/png": "[encoded data removed]",
      "text/plain": [
       "<Figure size 432x288 with 1 Axes>"
      ]
     },
     "metadata": {
      "needs_background": "light"
     },
     "output_type": "display_data"
    }
   ],
   "source": [
    "fun.hybrid_classifier_combo(X_train, X_test, X2_train, X2_test,\n",
    "                        y_train, y_test, LogisticRegression(C=10))"
   ]
  },
  {
   "cell_type": "markdown",
   "metadata": {},
   "source": [
    "### Random Forest Classifier"
   ]
  },
  {
   "cell_type": "code",
   "execution_count": 99,
   "metadata": {
    "scrolled": false
   },
   "outputs": [
    {
     "name": "stdout",
     "output_type": "stream",
     "text": [
      "              precision    recall  f1-score   support\n",
      "\n",
      "           0       0.66      0.76      0.71       811\n",
      "           1       0.67      0.55      0.60       719\n",
      "\n",
      "    accuracy                           0.66      1530\n",
      "   macro avg       0.66      0.65      0.65      1530\n",
      "weighted avg       0.66      0.66      0.66      1530\n",
      "\n",
      "Accuracy:  0.661437908496732\n"
     ]
    },
    {
     "data": {
      "image/png": "[encoded data removed]",
      "text/plain": [
       "<Figure size 504x504 with 2 Axes>"
      ]
     },
     "metadata": {
      "needs_background": "light"
     },
     "output_type": "display_data"
    }
   ],
   "source": [
    "fun.hybrid_classifier_combo(X_train, X_test, X2_train, X2_test,\n",
    "                        y_train, y_test, \n",
    "                        RandomForestClassifier(random_state=42, \n",
    "                                               n_jobs=-1),\n",
    "                        feature_importance=False)"
   ]
  },
  {
   "cell_type": "markdown",
   "metadata": {},
   "source": [
    "## Stacked Modeling"
   ]
  },
  {
   "cell_type": "markdown",
   "metadata": {},
   "source": [
    "This is one of my top models from the TFIDF modeling section. I'll use it as the first phase of a two-part modeling scenario.\n",
    "\n",
    "First, I'm going to send in the movies from metacritic to train the first model, using the rottentomatoes data for testing. Then I'll marry the test predictions to the rottentomatoes (test) data, and send it through the second model, where it will get split into a proper train-test split."
   ]
  },
  {
   "cell_type": "code",
   "execution_count": 100,
   "metadata": {},
   "outputs": [],
   "source": [
    "X_train = screenplays_cut.no_stop\n",
    "X_test = rotten_df_cut.no_stop\n",
    "\n",
    "y_train = screenplays_cut.good_or_bad\n",
    "y_test = rotten_df_cut.good_or_bad"
   ]
  },
  {
   "cell_type": "code",
   "execution_count": 101,
   "metadata": {},
   "outputs": [
    {
     "name": "stdout",
     "output_type": "stream",
     "text": [
      "              precision    recall  f1-score   support\n",
      "\n",
      "           0       0.65      0.77      0.71       811\n",
      "           1       0.67      0.54      0.60       719\n",
      "\n",
      "    accuracy                           0.66      1530\n",
      "   macro avg       0.66      0.65      0.65      1530\n",
      "weighted avg       0.66      0.66      0.66      1530\n",
      "\n"
     ]
    },
    {
     "data": {
      "image/png": "[encoded data removed]",
      "text/plain": [
       "<Figure size 504x504 with 2 Axes>"
      ]
     },
     "metadata": {
      "needs_background": "light"
     },
     "output_type": "display_data"
    },
    {
     "name": "stdout",
     "output_type": "stream",
     "text": [
      "roc_auc score:  0.714379301297013\n"
     ]
    },
    {
     "data": {
      "image/png": "[encoded data removed]",
      "text/plain": [
       "<Figure size 432x288 with 1 Axes>"
      ]
     },
     "metadata": {
      "needs_background": "light"
     },
     "output_type": "display_data"
    }
   ],
   "source": [
    "model_1_predictions = fun.hybrid_classifiers(X_train, X_test, y_train, y_test, SVC())"
   ]
  },
  {
   "cell_type": "code",
   "execution_count": 102,
   "metadata": {},
   "outputs": [],
   "source": [
    "# X = screenplays_model.no_stop\n",
    "# y = screenplays_model.good_or_bad\n",
    "\n",
    "# model_1_predictions = fun.stacked_classifier(X, y, SVC())"
   ]
  },
  {
   "cell_type": "markdown",
   "metadata": {},
   "source": [
    "Below I'm getting the dummies and putting them all in one dataframe to be joined later."
   ]
  },
  {
   "cell_type": "code",
   "execution_count": 103,
   "metadata": {},
   "outputs": [],
   "source": [
    "screen_dummies = pd.get_dummies(screenplays_model['category'])\n",
    "rotten_dummies = pd.get_dummies(rotten_model['category'])"
   ]
  },
  {
   "cell_type": "code",
   "execution_count": 104,
   "metadata": {},
   "outputs": [],
   "source": [
    "# columns = ['sentiment_neutral', 'sentence_length', 'PRON', 'CCONJ', 'PUNCT', 'NNS',\n",
    "#  '_SP', 'VBD', 'WDT', 'VB', 'PRP', 'RP', 'PRP$', 'CC', '.', 'IN', '-RRB-',\n",
    "#  'VBP', 'WP', 'HYPH']\n",
    "\n",
    "columns = ['word_count', 'unique_words']\n",
    "columns.extend(rotten_model.columns[10:19])\n",
    "columns.extend(rotten_model.columns[23:-2])\n",
    "\n",
    "X = pd.merge(rotten_model[columns].copy(), rotten_dummies, left_index=True, \n",
    "             right_index=True)\n",
    "\n",
    "y = rotten_model.good_or_bad.copy()"
   ]
  },
  {
   "cell_type": "code",
   "execution_count": 105,
   "metadata": {},
   "outputs": [],
   "source": [
    "X['predictions'] = model_1_predictions"
   ]
  },
  {
   "cell_type": "markdown",
   "metadata": {},
   "source": [
    "Using the test data from previously, since it had not yet seen the overfit training model."
   ]
  },
  {
   "cell_type": "code",
   "execution_count": 106,
   "metadata": {},
   "outputs": [
    {
     "name": "stdout",
     "output_type": "stream",
     "text": [
      "              precision    recall  f1-score   support\n",
      "\n",
      "           0       0.66      0.70      0.68       152\n",
      "           1       0.68      0.65      0.67       154\n",
      "\n",
      "    accuracy                           0.67       306\n",
      "   macro avg       0.67      0.67      0.67       306\n",
      "weighted avg       0.67      0.67      0.67       306\n",
      "\n"
     ]
    },
    {
     "data": {
      "image/png": "[encoded data removed]",
      "text/plain": [
       "<Figure size 504x504 with 2 Axes>"
      ]
     },
     "metadata": {
      "needs_background": "light"
     },
     "output_type": "display_data"
    }
   ],
   "source": [
    "fun.script_classifiers(X, y,\n",
    "                   classifier=RandomForestClassifier(random_state=42,\n",
    "                                                    max_depth=9,\n",
    "                                                    criterion='entropy',\n",
    "                                                    min_samples_split=14,\n",
    "                                                    min_samples_leaf=1,\n",
    "                                                    n_estimators=103),\n",
    "                      use_tfidf=False, test_size=.2)"
   ]
  },
  {
   "cell_type": "markdown",
   "metadata": {},
   "source": [
    "## Classification Summary"
   ]
  },
  {
   "cell_type": "markdown",
   "metadata": {},
   "source": [
    "This turned out to be my best model: SVC using TFIDF, then take the predictions from that, add them as a feature (to test data that has not been modeled) and run that data again through a random forest classifier: 68% accuracy, with a true positive rate of 64% and a true negative rate of 72%. Besides having the greatest accuracy, this model also turned out to be the most balanced.\n",
    "\n",
    "TFIDF with XG Boost had a strong true negative ratio at 80%, and overall accuracy of 67%.\n",
    "\n",
    "In the interest of space, this notebook does not show all 27 classification models I performed. The full list is:\n",
    "\n",
    "TFIDF\n",
    "- Linear Support Vector Classifier\n",
    "- Support Vector Classifier\n",
    "- Logistic Regression\n",
    "- Decision Tree Classifier\n",
    "- Random Forest Classifier\n",
    "- XG Boost Classifier\n",
    "- Multinomial Bayes\n",
    "- Neural Network\n",
    "\n",
    "Script Attributes\n",
    "- Support Vector Classifier\n",
    "- Decision Tree Classifier\n",
    "- Random Forest Classifier\n",
    "- XG Boost Classifier\n",
    "- Neural Network\n",
    "\n",
    "Combined TFIDF with Script Attributes\n",
    "- Linear Support Vector Classifier\n",
    "- Support Vector Classifier\n",
    "- Logistic Regression\n",
    "- Decision Tree Classifier\n",
    "- Random Forest Classifier\n",
    "- Neural Network"
   ]
  },
  {
   "cell_type": "markdown",
   "metadata": {},
   "source": [
    "# Linear Regression Modeling"
   ]
  },
  {
   "cell_type": "markdown",
   "metadata": {},
   "source": [
    "Next I attempted some regression models using data from rottontomatoes.\n",
    "\n",
    "The models here are only the ones I kept. The others had results that were basically no better than chance."
   ]
  },
  {
   "cell_type": "markdown",
   "metadata": {},
   "source": [
    "### TFIDF with XGBoost Regressor"
   ]
  },
  {
   "cell_type": "markdown",
   "metadata": {},
   "source": [
    "I grid searched the hell out of this one, only to find that none of it mattered. So I removed the grid search function."
   ]
  },
  {
   "cell_type": "code",
   "execution_count": 107,
   "metadata": {},
   "outputs": [
    {
     "name": "stderr",
     "output_type": "stream",
     "text": [
      "//anaconda3/lib/python3.7/site-packages/xgboost/core.py:587: FutureWarning:\n",
      "\n",
      "Series.base is deprecated and will be removed in a future version\n",
      "\n"
     ]
    },
    {
     "data": {
      "text/plain": [
       "XGBRegressor(base_score=0.5, booster='gbtree', colsample_bylevel=1,\n",
       "             colsample_bynode=1, colsample_bytree=1, gamma=0,\n",
       "             importance_type='gain', learning_rate=0.1, max_delta_step=0,\n",
       "             max_depth=3, min_child_weight=1, missing=None, n_estimators=100,\n",
       "             n_jobs=1, nthread=None, objective='reg:squarederror',\n",
       "             random_state=42, reg_alpha=0, reg_lambda=1, scale_pos_weight=1,\n",
       "             seed=None, silent=None, subsample=1, verbosity=1)"
      ]
     },
     "execution_count": 107,
     "metadata": {},
     "output_type": "execute_result"
    }
   ],
   "source": [
    "X_train, X_test, y_train, y_test = train_test_split(rotten_model.no_stop,\n",
    "                                                    rotten_model.rotten_scores,\n",
    "                                                    test_size=.3,\n",
    "                                                    random_state=42)\n",
    "\n",
    "tfidf = TfidfVectorizer(max_features=5000, max_df=.9, min_df=.1, \n",
    "                        ngram_range=(1,2))\n",
    "word_predictors = tfidf.fit_transform(X_train)\n",
    "word_test = tfidf.transform(X_test)\n",
    "\n",
    "model = XGBRegressor(random_state=42, n_estimators=100, \n",
    "                     objective='reg:squarederror')\n",
    "model.fit(word_predictors, y_train)"
   ]
  },
  {
   "cell_type": "markdown",
   "metadata": {},
   "source": [
    "r^2 and mse for train and test."
   ]
  },
  {
   "cell_type": "code",
   "execution_count": 108,
   "metadata": {},
   "outputs": [],
   "source": [
    "def get_regression_scores(X_train, X_test, y_train_y_test, model):\n",
    "    y_hat_train = model.predict(word_predictors)\n",
    "    y_hat_test = model.predict(word_test)\n",
    "    print('train MSE score: ', mse(y_train, y_hat_train))\n",
    "    print('train r2_score: ', r2_score(y_train, y_hat_train))\n",
    "    print('Test MSE score:', mse(y_test, y_hat_test))\n",
    "    print('Test R-sq score:', r2_score(y_test, y_hat_test))"
   ]
  },
  {
   "cell_type": "code",
   "execution_count": 109,
   "metadata": {},
   "outputs": [
    {
     "name": "stdout",
     "output_type": "stream",
     "text": [
      "train MSE score:  169.995391951505\n",
      "train r2_score:  0.7976318013144681\n",
      "Test MSE score: 786.8399855309698\n",
      "Test R-sq score: 0.03388834695151299\n"
     ]
    }
   ],
   "source": [
    "y_hat_train = model.predict(word_predictors)\n",
    "y_hat_test = model.predict(word_test)\n",
    "print('train MSE score: ', mse(y_train, y_hat_train))\n",
    "print('train r2_score: ', r2_score(y_train, y_hat_train))\n",
    "print('Test MSE score:', mse(y_test, y_hat_test))\n",
    "print('Test R-sq score:', r2_score(y_test, y_hat_test))"
   ]
  },
  {
   "cell_type": "code",
   "execution_count": 110,
   "metadata": {},
   "outputs": [
    {
     "name": "stdout",
     "output_type": "stream",
     "text": [
      "Ave deviation from actual:  23.79\n"
     ]
    }
   ],
   "source": [
    "train_residuals = y_hat_train - list(y_train)\n",
    "test_residuals = y_hat_test - list(y_test)\n",
    "print('Ave deviation from actual: ', round(sum(abs(test_residuals)) / len(test_residuals),2))"
   ]
  },
  {
   "cell_type": "markdown",
   "metadata": {},
   "source": [
    "Creating a dataframe comparing predicted scores to actual scores."
   ]
  },
  {
   "cell_type": "code",
   "execution_count": 111,
   "metadata": {},
   "outputs": [],
   "source": [
    "actual_v_predicted = X_test.to_frame()\n",
    "\n",
    "pred_scores = list(y_hat_test)\n",
    "\n",
    "actual_v_predicted['predicted_scores'] = pred_scores\n",
    "\n",
    "to_merge = rotten_model[['titles', 'rotten_scores']]\n",
    "\n",
    "actual_v_predicted = actual_v_predicted.merge(to_merge, left_index=True,\n",
    "                                              right_index=True)\n",
    "\n",
    "actual_v_predicted = actual_v_predicted[['titles','rotten_scores',\n",
    "                                         'predicted_scores']]\n",
    "\n",
    "actual_v_predicted['predicted_scores'] = actual_v_predicted.predicted_scores.\\\n",
    "    apply(lambda x: int(x))"
   ]
  },
  {
   "cell_type": "code",
   "execution_count": 112,
   "metadata": {},
   "outputs": [
    {
     "data": {
      "text/html": [
       "<div>\n",
       "<style scoped>\n",
       "    .dataframe tbody tr th:only-of-type {\n",
       "        vertical-align: middle;\n",
       "    }\n",
       "\n",
       "    .dataframe tbody tr th {\n",
       "        vertical-align: top;\n",
       "    }\n",
       "\n",
       "    .dataframe thead th {\n",
       "        text-align: right;\n",
       "    }\n",
       "</style>\n",
       "<table border=\"1\" class=\"dataframe\">\n",
       "  <thead>\n",
       "    <tr style=\"text-align: right;\">\n",
       "      <th></th>\n",
       "      <th>titles</th>\n",
       "      <th>rotten_scores</th>\n",
       "      <th>predicted_scores</th>\n",
       "    </tr>\n",
       "  </thead>\n",
       "  <tbody>\n",
       "    <tr>\n",
       "      <th>655</th>\n",
       "      <td>a-cure-for-wellness</td>\n",
       "      <td>41</td>\n",
       "      <td>46</td>\n",
       "    </tr>\n",
       "    <tr>\n",
       "      <th>76</th>\n",
       "      <td>big-mommas-like-father-like-son</td>\n",
       "      <td>4</td>\n",
       "      <td>38</td>\n",
       "    </tr>\n",
       "    <tr>\n",
       "      <th>316</th>\n",
       "      <td>all-eyez-on-me</td>\n",
       "      <td>18</td>\n",
       "      <td>28</td>\n",
       "    </tr>\n",
       "    <tr>\n",
       "      <th>1352</th>\n",
       "      <td>pavarotti</td>\n",
       "      <td>86</td>\n",
       "      <td>61</td>\n",
       "    </tr>\n",
       "    <tr>\n",
       "      <th>572</th>\n",
       "      <td>state-like-sleep</td>\n",
       "      <td>35</td>\n",
       "      <td>49</td>\n",
       "    </tr>\n",
       "  </tbody>\n",
       "</table>\n",
       "</div>"
      ],
      "text/plain": [
       "                               titles  rotten_scores  predicted_scores\n",
       "655               a-cure-for-wellness             41                46\n",
       "76    big-mommas-like-father-like-son              4                38\n",
       "316                    all-eyez-on-me             18                28\n",
       "1352                        pavarotti             86                61\n",
       "572                  state-like-sleep             35                49"
      ]
     },
     "execution_count": 112,
     "metadata": {},
     "output_type": "execute_result"
    }
   ],
   "source": [
    "actual_v_predicted.head()"
   ]
  },
  {
   "cell_type": "code",
   "execution_count": 113,
   "metadata": {},
   "outputs": [
    {
     "name": "stdout",
     "output_type": "stream",
     "text": [
      "Scores captured in same half (upper vs lower):  0.579520697167756\n"
     ]
    }
   ],
   "source": [
    "upside = len(actual_v_predicted[(actual_v_predicted.rotten_scores > 50) \\\n",
    "                   & (actual_v_predicted.predicted_scores > 50)])\n",
    "upside\n",
    "\n",
    "downside = len(actual_v_predicted[(actual_v_predicted.rotten_scores < 50) \\\n",
    "                   & (actual_v_predicted.predicted_scores < 50)])\n",
    "downside\n",
    "\n",
    "all_sides = len(actual_v_predicted)\n",
    "all_sides\n",
    "\n",
    "capture_in_half = (upside + downside) / len(actual_v_predicted)\n",
    "print('Scores captured in same half (upper vs lower): ', capture_in_half)"
   ]
  },
  {
   "cell_type": "code",
   "execution_count": 114,
   "metadata": {},
   "outputs": [
    {
     "data": {
      "text/plain": [
       "Text(0.5, 1.0, 'Source Data Distribution')"
      ]
     },
     "execution_count": 114,
     "metadata": {},
     "output_type": "execute_result"
    },
    {
     "data": {
      "image/png": "[encoded data removed]",
      "text/plain": [
       "<Figure size 432x288 with 1 Axes>"
      ]
     },
     "metadata": {
      "needs_background": "light"
     },
     "output_type": "display_data"
    }
   ],
   "source": [
    "ax = actual_v_predicted.rotten_scores.hist();\n",
    "ax.set_title('Source Data Distribution')"
   ]
  },
  {
   "cell_type": "code",
   "execution_count": 115,
   "metadata": {},
   "outputs": [
    {
     "data": {
      "text/plain": [
       "Text(0.5, 1.0, 'Prediction Distribution')"
      ]
     },
     "execution_count": 115,
     "metadata": {},
     "output_type": "execute_result"
    },
    {
     "data": {
      "image/png": "[encoded data removed]",
      "text/plain": [
       "<Figure size 432x288 with 1 Axes>"
      ]
     },
     "metadata": {
      "needs_background": "light"
     },
     "output_type": "display_data"
    }
   ],
   "source": [
    "ax = actual_v_predicted.predicted_scores.hist();\n",
    "ax.set_title('Prediction Distribution')"
   ]
  },
  {
   "cell_type": "code",
   "execution_count": 117,
   "metadata": {},
   "outputs": [
    {
     "name": "stderr",
     "output_type": "stream",
     "text": [
      "//anaconda3/lib/python3.7/site-packages/ipykernel_launcher.py:3: UserWarning:\n",
      "\n",
      "Matplotlib is currently using module://ipykernel.pylab.backend_inline, which is a non-GUI backend, so cannot show the figure.\n",
      "\n"
     ]
    },
    {
     "data": {
      "image/png": "[encoded data removed]",
      "text/plain": [
       "<Figure size 432x288 with 1 Axes>"
      ]
     },
     "metadata": {
      "needs_background": "light"
     },
     "output_type": "display_data"
    }
   ],
   "source": [
    "fig = sm.graphics.qqplot(test_residuals, dist=stats.norm, line='45', fit=True)\n",
    "plt.title('QQ Plot')\n",
    "fig.show();"
   ]
  },
  {
   "cell_type": "code",
   "execution_count": 120,
   "metadata": {},
   "outputs": [
    {
     "data": {
      "text/html": [
       "<div>\n",
       "<style scoped>\n",
       "    .dataframe tbody tr th:only-of-type {\n",
       "        vertical-align: middle;\n",
       "    }\n",
       "\n",
       "    .dataframe tbody tr th {\n",
       "        vertical-align: top;\n",
       "    }\n",
       "\n",
       "    .dataframe thead th {\n",
       "        text-align: right;\n",
       "    }\n",
       "</style>\n",
       "<table border=\"1\" class=\"dataframe\">\n",
       "  <thead>\n",
       "    <tr style=\"text-align: right;\">\n",
       "      <th></th>\n",
       "      <th>titles</th>\n",
       "      <th>rotten_scores</th>\n",
       "      <th>predicted_scores</th>\n",
       "    </tr>\n",
       "  </thead>\n",
       "  <tbody>\n",
       "    <tr>\n",
       "      <th>655</th>\n",
       "      <td>a-cure-for-wellness</td>\n",
       "      <td>41</td>\n",
       "      <td>46</td>\n",
       "    </tr>\n",
       "    <tr>\n",
       "      <th>76</th>\n",
       "      <td>big-mommas-like-father-like-son</td>\n",
       "      <td>4</td>\n",
       "      <td>38</td>\n",
       "    </tr>\n",
       "    <tr>\n",
       "      <th>316</th>\n",
       "      <td>all-eyez-on-me</td>\n",
       "      <td>18</td>\n",
       "      <td>28</td>\n",
       "    </tr>\n",
       "    <tr>\n",
       "      <th>1352</th>\n",
       "      <td>pavarotti</td>\n",
       "      <td>86</td>\n",
       "      <td>61</td>\n",
       "    </tr>\n",
       "    <tr>\n",
       "      <th>572</th>\n",
       "      <td>state-like-sleep</td>\n",
       "      <td>35</td>\n",
       "      <td>49</td>\n",
       "    </tr>\n",
       "  </tbody>\n",
       "</table>\n",
       "</div>"
      ],
      "text/plain": [
       "                               titles  rotten_scores  predicted_scores\n",
       "655               a-cure-for-wellness             41                46\n",
       "76    big-mommas-like-father-like-son              4                38\n",
       "316                    all-eyez-on-me             18                28\n",
       "1352                        pavarotti             86                61\n",
       "572                  state-like-sleep             35                49"
      ]
     },
     "execution_count": 120,
     "metadata": {},
     "output_type": "execute_result"
    }
   ],
   "source": [
    "actual_v_predicted.head()"
   ]
  },
  {
   "cell_type": "markdown",
   "metadata": {},
   "source": [
    "### Features Only with XG Boost Regressor"
   ]
  },
  {
   "cell_type": "markdown",
   "metadata": {},
   "source": [
    "Setting up all the features for a features-only (non-tfidf) regression model."
   ]
  },
  {
   "cell_type": "code",
   "execution_count": 121,
   "metadata": {},
   "outputs": [],
   "source": [
    "# Need to change this as the model chokes on the period.\n",
    "rotten_model.rename(columns={'.':'PER'}, inplace=True)\n",
    "\n",
    "# Dropping out the unnecessary columns.\n",
    "to_drop = list(rotten_model.columns[:7])\n",
    "to_drop.append(rotten_model.columns[9])\n",
    "to_drop.extend(rotten_model.columns[19:22])\n",
    "to_drop.extend(rotten_model.columns[-2:])\n",
    "\n",
    "to_drop_2 = ['sentiment_compound', 'unique_words', 'X', 'JJ', 'NNP', 'DET',\n",
    "             'semi_ratios', 'ADJ']\n",
    "\n",
    "predictors_all = rotten_df_cut.copy()\n",
    "predictors_all.drop(to_drop, axis=1, inplace=True)\n",
    "predictors_all.drop(to_drop_2, axis=1,inplace=True)\n",
    "\n",
    "# Adding dummy categories.\n",
    "# rotten_dummies = pd.get_dummies(rotten_model['category'])\n",
    "# predictors_all = pd.merge(predictors_all, rotten_dummies, left_index=True, \n",
    "#              right_index=True)"
   ]
  },
  {
   "cell_type": "code",
   "execution_count": 122,
   "metadata": {},
   "outputs": [],
   "source": [
    "X_train, X_test, y_train, y_test = train_test_split(predictors_all,\n",
    "                                                    rotten_model.rotten_scores,\n",
    "                                                    test_size=.3)"
   ]
  },
  {
   "cell_type": "code",
   "execution_count": 123,
   "metadata": {},
   "outputs": [],
   "source": [
    "scaler = StandardScaler()\n",
    "scaled_X_train = pd.DataFrame(scaler.fit_transform(X_train), \n",
    "                          columns = X_train.columns)\n",
    "scaled_X_test = pd.DataFrame(scaler.transform(X_test), \n",
    "                            columns=X_test.columns)"
   ]
  },
  {
   "cell_type": "code",
   "execution_count": 124,
   "metadata": {},
   "outputs": [],
   "source": [
    "scaled_y_train = scaler.fit_transform(np.array(y_train).reshape(-1,1))\n",
    "scaled_y_test = scaler.transform(np.array(y_test).reshape(-1,1))\n",
    "scaled_y_train = pd.Series(scaled_y_train.reshape(-1,), name='rotten_scores')\n",
    "scaled_y_test = pd.Series(scaled_y_test.reshape(-1,), name='rotten_scores')"
   ]
  },
  {
   "cell_type": "code",
   "execution_count": 125,
   "metadata": {},
   "outputs": [],
   "source": [
    "scaled_X_train.fillna(0, inplace=True)\n",
    "scaled_X_test.fillna(0, inplace=True)"
   ]
  },
  {
   "cell_type": "code",
   "execution_count": 126,
   "metadata": {},
   "outputs": [],
   "source": [
    "def test(x):\n",
    "    if x == 0:\n",
    "        return math.log((X + 1) / 100)\n",
    "    else:\n",
    "        return math.log(x / 100)"
   ]
  },
  {
   "cell_type": "code",
   "execution_count": 127,
   "metadata": {},
   "outputs": [
    {
     "name": "stderr",
     "output_type": "stream",
     "text": [
      "//anaconda3/lib/python3.7/site-packages/xgboost/core.py:587: FutureWarning:\n",
      "\n",
      "Series.base is deprecated and will be removed in a future version\n",
      "\n"
     ]
    },
    {
     "data": {
      "text/plain": [
       "XGBRegressor(base_score=0.5, booster='gbtree', colsample_bylevel=1,\n",
       "             colsample_bynode=1, colsample_bytree=1, gamma=0,\n",
       "             importance_type='gain', learning_rate=0.1, max_delta_step=0,\n",
       "             max_depth=3, min_child_weight=1, missing=None, n_estimators=100,\n",
       "             n_jobs=1, nthread=None, objective='reg:squarederror',\n",
       "             random_state=42, reg_alpha=0, reg_lambda=1, scale_pos_weight=1,\n",
       "             seed=None, silent=None, subsample=1, verbosity=1)"
      ]
     },
     "execution_count": 127,
     "metadata": {},
     "output_type": "execute_result"
    }
   ],
   "source": [
    "model = XGBRegressor(random_state=42, n_estimators=100, \n",
    "                     objective='reg:squarederror')\n",
    "model.fit(scaled_X_train, y_train)"
   ]
  },
  {
   "cell_type": "markdown",
   "metadata": {},
   "source": [
    "Making predictions and calculating residuals"
   ]
  },
  {
   "cell_type": "code",
   "execution_count": 128,
   "metadata": {},
   "outputs": [],
   "source": [
    "y_hat_train = model.predict(pd.DataFrame(scaled_X_train))\n",
    "y_hat_test = model.predict(pd.DataFrame(scaled_X_test))\n",
    "\n",
    "train_residuals = y_hat_train - list(y_train)\n",
    "test_residuals = y_hat_test - list(y_test)"
   ]
  },
  {
   "cell_type": "code",
   "execution_count": 129,
   "metadata": {},
   "outputs": [
    {
     "name": "stdout",
     "output_type": "stream",
     "text": [
      "Ave deviation from actual:  22.92\n"
     ]
    }
   ],
   "source": [
    "print('Ave deviation from actual: ', round(sum(abs(test_residuals)) / len(test_residuals),2))"
   ]
  },
  {
   "cell_type": "code",
   "execution_count": 130,
   "metadata": {},
   "outputs": [
    {
     "name": "stdout",
     "output_type": "stream",
     "text": [
      "Train Mean Squarred Error: 339.62556533729054\n",
      "Test Mean Squarred Error: 741.7408720478055\n"
     ]
    }
   ],
   "source": [
    "mse_train = np.sum((y_train-y_hat_train)**2)/len(y_train)\n",
    "mse_test = np.sum((y_test-y_hat_test)**2)/len(y_test)\n",
    "print('Train Mean Squarred Error:', mse_train)\n",
    "print('Test Mean Squarred Error:', mse_test)"
   ]
  },
  {
   "cell_type": "code",
   "execution_count": 131,
   "metadata": {},
   "outputs": [
    {
     "name": "stdout",
     "output_type": "stream",
     "text": [
      "R^2 score: 0.07655088038626878\n"
     ]
    }
   ],
   "source": [
    "print('R^2 score:', r2_score(y_test,y_hat_test))"
   ]
  },
  {
   "cell_type": "code",
   "execution_count": 132,
   "metadata": {},
   "outputs": [],
   "source": [
    "y_pred = model.predict(scaled_X_test)"
   ]
  },
  {
   "cell_type": "markdown",
   "metadata": {},
   "source": [
    "Creating dataframe of predicted scores vs. actual"
   ]
  },
  {
   "cell_type": "code",
   "execution_count": 133,
   "metadata": {},
   "outputs": [],
   "source": [
    "actual_v_predicted = X_test.copy()\n",
    "\n",
    "pred_scores = list(y_pred)\n",
    "\n",
    "actual_v_predicted['predicted_scores'] = pred_scores\n",
    "\n",
    "to_merge = rotten_model[['titles', 'rotten_scores']]\n",
    "\n",
    "actual_v_predicted = actual_v_predicted.merge(to_merge, left_index=True,\n",
    "                                              right_index=True)\n",
    "\n",
    "actual_v_predicted = actual_v_predicted[['titles','rotten_scores',\n",
    "                                         'predicted_scores']]\n",
    "\n",
    "actual_v_predicted['predicted_scores'] = actual_v_predicted.predicted_scores.\\\n",
    "    apply(lambda x: int(x))\n",
    "\n",
    "actual_v_predicted = actual_v_predicted[actual_v_predicted['predicted_scores'] <= 100]"
   ]
  },
  {
   "cell_type": "code",
   "execution_count": 134,
   "metadata": {},
   "outputs": [
    {
     "data": {
      "text/plain": [
       "Text(0.5, 1.0, 'Prediction Distribution')"
      ]
     },
     "execution_count": 134,
     "metadata": {},
     "output_type": "execute_result"
    },
    {
     "data": {
      "image/png": "[encoded data removed]",
      "text/plain": [
       "<Figure size 432x288 with 1 Axes>"
      ]
     },
     "metadata": {
      "needs_background": "light"
     },
     "output_type": "display_data"
    }
   ],
   "source": [
    "ax = actual_v_predicted.predicted_scores.hist();\n",
    "ax.set_title('Prediction Distribution')"
   ]
  },
  {
   "cell_type": "code",
   "execution_count": 138,
   "metadata": {
    "scrolled": true
   },
   "outputs": [
    {
     "data": {
      "text/html": [
       "<div>\n",
       "<style scoped>\n",
       "    .dataframe tbody tr th:only-of-type {\n",
       "        vertical-align: middle;\n",
       "    }\n",
       "\n",
       "    .dataframe tbody tr th {\n",
       "        vertical-align: top;\n",
       "    }\n",
       "\n",
       "    .dataframe thead th {\n",
       "        text-align: right;\n",
       "    }\n",
       "</style>\n",
       "<table border=\"1\" class=\"dataframe\">\n",
       "  <thead>\n",
       "    <tr style=\"text-align: right;\">\n",
       "      <th></th>\n",
       "      <th>titles</th>\n",
       "      <th>rotten_scores</th>\n",
       "      <th>predicted_scores</th>\n",
       "    </tr>\n",
       "  </thead>\n",
       "  <tbody>\n",
       "    <tr>\n",
       "      <th>1124</th>\n",
       "      <td>haunt</td>\n",
       "      <td>70</td>\n",
       "      <td>39</td>\n",
       "    </tr>\n",
       "    <tr>\n",
       "      <th>498</th>\n",
       "      <td>war-room</td>\n",
       "      <td>31</td>\n",
       "      <td>64</td>\n",
       "    </tr>\n",
       "    <tr>\n",
       "      <th>1133</th>\n",
       "      <td>gwen</td>\n",
       "      <td>71</td>\n",
       "      <td>50</td>\n",
       "    </tr>\n",
       "    <tr>\n",
       "      <th>1024</th>\n",
       "      <td>public-the</td>\n",
       "      <td>64</td>\n",
       "      <td>35</td>\n",
       "    </tr>\n",
       "    <tr>\n",
       "      <th>575</th>\n",
       "      <td>flock-of-dudes</td>\n",
       "      <td>35</td>\n",
       "      <td>55</td>\n",
       "    </tr>\n",
       "  </tbody>\n",
       "</table>\n",
       "</div>"
      ],
      "text/plain": [
       "              titles  rotten_scores  predicted_scores\n",
       "1124           haunt             70                39\n",
       "498         war-room             31                64\n",
       "1133            gwen             71                50\n",
       "1024      public-the             64                35\n",
       "575   flock-of-dudes             35                55"
      ]
     },
     "execution_count": 138,
     "metadata": {},
     "output_type": "execute_result"
    }
   ],
   "source": [
    "actual_v_predicted.head()"
   ]
  },
  {
   "cell_type": "code",
   "execution_count": 137,
   "metadata": {
    "scrolled": false
   },
   "outputs": [
    {
     "name": "stderr",
     "output_type": "stream",
     "text": [
      "//anaconda3/lib/python3.7/site-packages/ipykernel_launcher.py:3: UserWarning:\n",
      "\n",
      "Matplotlib is currently using module://ipykernel.pylab.backend_inline, which is a non-GUI backend, so cannot show the figure.\n",
      "\n"
     ]
    },
    {
     "data": {
      "image/png": "[encoded data removed]",
      "text/plain": [
       "<Figure size 432x288 with 1 Axes>"
      ]
     },
     "metadata": {
      "needs_background": "light"
     },
     "output_type": "display_data"
    }
   ],
   "source": [
    "fig = sm.graphics.qqplot(test_residuals, dist=stats.norm, line='45', fit=True)\n",
    "plt.title('QQ Plot')\n",
    "fig.show();"
   ]
  },
  {
   "cell_type": "markdown",
   "metadata": {},
   "source": [
    "### TFIDF with Features with XG Boost Regressor"
   ]
  },
  {
   "cell_type": "code",
   "execution_count": 139,
   "metadata": {},
   "outputs": [],
   "source": [
    "X = predictors_all"
   ]
  },
  {
   "cell_type": "code",
   "execution_count": 140,
   "metadata": {},
   "outputs": [],
   "source": [
    "tfidf = TfidfVectorizer(max_features=5000, max_df=.9, min_df=.1, \n",
    "                        ngram_range=(1,2))\n",
    "X2 = tfidf.fit_transform(rotten_model.no_stop)"
   ]
  },
  {
   "cell_type": "code",
   "execution_count": 141,
   "metadata": {},
   "outputs": [],
   "source": [
    "# Creating a sparse DataFrame to house both the features and the \n",
    "# processed text.\n",
    "X_temp = pd.SparseDataFrame(X2, columns=tfidf.get_feature_names(),\n",
    "                           default_fill_value=0)\n",
    "# Necessary for next step.\n",
    "X = X.reset_index(drop=True)\n",
    "\n",
    "# Combining text matrix with script attributes.\n",
    "for column in X:\n",
    "    X_temp[column] = X[column]\n",
    "X = X_temp"
   ]
  },
  {
   "cell_type": "code",
   "execution_count": 142,
   "metadata": {},
   "outputs": [],
   "source": [
    "X_train, X_test, y_train, y_test = train_test_split(pd.DataFrame(X), y, random_state=42,\n",
    "                                                    test_size=.3)"
   ]
  },
  {
   "cell_type": "code",
   "execution_count": 143,
   "metadata": {},
   "outputs": [],
   "source": [
    "scaler = StandardScaler()\n",
    "scaled_X_train = pd.DataFrame(scaler.fit_transform(X_train), \n",
    "                          columns = X_train.columns)\n",
    "scaled_X_test = pd.DataFrame(scaler.transform(X_test), \n",
    "                            columns=X_test.columns)"
   ]
  },
  {
   "cell_type": "code",
   "execution_count": 144,
   "metadata": {},
   "outputs": [],
   "source": [
    "scaled_y_train = scaler.fit_transform(np.array(y_train).reshape(-1,1))\n",
    "scaled_y_test = scaler.transform(np.array(y_test).reshape(-1,1))\n",
    "scaled_y_train = pd.Series(scaled_y_train.reshape(-1,), name='rotten_scores')\n",
    "scaled_y_test = pd.Series(scaled_y_test.reshape(-1,), name='rotten_scores')"
   ]
  },
  {
   "cell_type": "code",
   "execution_count": 145,
   "metadata": {},
   "outputs": [],
   "source": [
    "scaled_X_train.fillna(0, inplace=True)\n",
    "scaled_X_test.fillna(0, inplace=True)"
   ]
  },
  {
   "cell_type": "code",
   "execution_count": 146,
   "metadata": {},
   "outputs": [],
   "source": [
    "def test(x):\n",
    "    if x == 0:\n",
    "        return math.log((X + 1) / 100)\n",
    "    else:\n",
    "        return math.log(x / 100)"
   ]
  },
  {
   "cell_type": "code",
   "execution_count": 147,
   "metadata": {},
   "outputs": [
    {
     "name": "stderr",
     "output_type": "stream",
     "text": [
      "//anaconda3/lib/python3.7/site-packages/xgboost/core.py:587: FutureWarning:\n",
      "\n",
      "Series.base is deprecated and will be removed in a future version\n",
      "\n"
     ]
    },
    {
     "data": {
      "text/plain": [
       "XGBRegressor(base_score=0.5, booster='gbtree', colsample_bylevel=1,\n",
       "             colsample_bynode=1, colsample_bytree=1, gamma=0,\n",
       "             importance_type='gain', learning_rate=0.1, max_delta_step=0,\n",
       "             max_depth=3, min_child_weight=1, missing=None, n_estimators=100,\n",
       "             n_jobs=1, nthread=None, objective='reg:squarederror',\n",
       "             random_state=42, reg_alpha=0, reg_lambda=1, scale_pos_weight=1,\n",
       "             seed=None, silent=None, subsample=1, verbosity=1)"
      ]
     },
     "execution_count": 147,
     "metadata": {},
     "output_type": "execute_result"
    }
   ],
   "source": [
    "model = XGBRegressor(random_state=42, n_estimators=100, \n",
    "                     objective='reg:squarederror')\n",
    "model.fit(scaled_X_train, y_train)"
   ]
  },
  {
   "cell_type": "code",
   "execution_count": 148,
   "metadata": {},
   "outputs": [],
   "source": [
    "y_hat_train = model.predict(pd.DataFrame(scaled_X_train))\n",
    "y_hat_test = model.predict(pd.DataFrame(scaled_X_test))"
   ]
  },
  {
   "cell_type": "code",
   "execution_count": 149,
   "metadata": {},
   "outputs": [],
   "source": [
    "train_residuals = y_hat_train - list(y_train)\n",
    "test_residuals = y_hat_test - list(y_test)"
   ]
  },
  {
   "cell_type": "code",
   "execution_count": 150,
   "metadata": {},
   "outputs": [
    {
     "name": "stdout",
     "output_type": "stream",
     "text": [
      "Train Mean Squarred Error: 0.054401228515797505\n",
      "Test Mean Squarred Error: 0.23082222104931627\n"
     ]
    }
   ],
   "source": [
    "mse_train = np.sum((y_train-y_hat_train)**2)/len(y_train)\n",
    "mse_test = np.sum((y_test-y_hat_test)**2)/len(y_test)\n",
    "print('Train Mean Squarred Error:', mse_train)\n",
    "print('Test Mean Squarred Error:', mse_test)"
   ]
  },
  {
   "cell_type": "code",
   "execution_count": 151,
   "metadata": {},
   "outputs": [
    {
     "name": "stdout",
     "output_type": "stream",
     "text": [
      "r^2 score: 0.07667167249770279\n"
     ]
    }
   ],
   "source": [
    "print('r^2 score:', r2_score(y_test,y_hat_test))"
   ]
  },
  {
   "cell_type": "markdown",
   "metadata": {},
   "source": [
    "Overall, the regression didn't work out that well. I probably could have done more with it with more time, and it would be interesting to get deeper into it. "
   ]
  },
  {
   "cell_type": "markdown",
   "metadata": {},
   "source": [
    "# Interpretation"
   ]
  },
  {
   "cell_type": "markdown",
   "metadata": {},
   "source": [
    "Using the above attributes and more, I was able to create a predictive models that would ascertain whether a script was from a top-rated movie or a bottom-rated movie about 65% of the time. Within that models was some flexibility, however. Some models were better at predicting whether a movie would be 'good' (a true positive), while others were better at predicting whether a movie would be 'bad' (a true negative). The purpose of the prediction would dictate which model to employ.\n",
    "\n",
    "Some recommendations on what can be done with this information:\n",
    "\n",
    "Studios looking to cull out poor scripts from their stock should use the TFIDF with neural network model, which has an 81% rating for correctly predicting a bad scripts, and a 64% accuracy rating overall.\n",
    "\n",
    "Filmmakers looking create the largest set of good scripts from the total should use the random boost with script attributes model, which has a 69% chance of correctly predicting a good script, though only a 55% accuracy score overall.\n",
    "\n",
    "Filmmakers and screenwriters looking to find the most balanced filter for finding good screenplays and culling out the bad should look to the stacked model with support vector classifier using TFIDF followed by a random forest classifier using script attributes, which had the highest overall accuracy rate of 68%. If you're a screenwriter seeing your work coming up on the bad side, and especially if it contains a number of the \"thumbs down\" words noted above, you might want to start rethinking your life choices.\n",
    "\n",
    "\n",
    "The scope of this idea is large, and there are numerous opportunities for further study. A few I would like to peruse are:\n",
    "\n",
    "Using TFIDF on the word clouds to get a different, possibly more accurate take on what words are realistically more prevalent throughout a large body of texts.\n",
    "\n",
    "Continue modeling with neural networks, especially with GloVe or other existing word embedding libraries.\n",
    "\n",
    "Continue further work on regression analysis to predict no just whether a scripts is good or bad, but to predict the actual score it will receive on a scale of 0 to 100.\n",
    "\n",
    "In the dashboard, provide a text entry or upload option where a script could be entered and a 'good' or 'bad' rating could be assigned, to easily determine where a given script might lie."
   ]
  },
  {
   "cell_type": "markdown",
   "metadata": {},
   "source": [
    "# Appendix: Functions"
   ]
  },
  {
   "cell_type": "code",
   "execution_count": 152,
   "metadata": {
    "scrolled": false
   },
   "outputs": [
    {
     "data": {
      "text/markdown": [
       "```python\n",
       "import matplotlib.pyplot as plt\n",
       "import plotly.graph_objects as go\n",
       "import plotly.offline as pyo\n",
       "import seaborn as sns\n",
       "import pandas as pd\n",
       "import numpy as np\n",
       "import requests\n",
       "import spacy\n",
       "from sklearn.feature_extraction.text import TfidfVectorizer\n",
       "from sklearn.feature_extraction.text import CountVectorizer\n",
       "from sklearn.model_selection import train_test_split\n",
       "from sklearn.metrics import mean_squared_error as mse\n",
       "from sklearn.metrics import r2_score\n",
       "from sklearn.pipeline import Pipeline\n",
       "from sklearn.linear_model import LogisticRegression\n",
       "from sklearn.tree import DecisionTreeClassifier\n",
       "from sklearn.ensemble import RandomForestClassifier\n",
       "from sklearn.model_selection import GridSearchCV\n",
       "from sklearn.neighbors import KNeighborsClassifier\n",
       "from sklearn.naive_bayes import MultinomialNB\n",
       "from sklearn.tree import DecisionTreeRegressor\n",
       "from sklearn.svm import LinearSVC\n",
       "from sklearn.svm import SVC\n",
       "from sklearn.metrics import confusion_matrix, classification_report\n",
       "from sklearn.metrics import accuracy_score, roc_curve, auc\n",
       "from imblearn.under_sampling import RandomUnderSampler\n",
       "from mlxtend.plotting import plot_confusion_matrix\n",
       "from xgboost import XGBClassifier\n",
       "from xgboost import XGBRegressor\n",
       "from keras.preprocessing.sequence import pad_sequences\n",
       "from keras.layers import Input, Dense, LSTM, Embedding\n",
       "from keras.layers import Dropout, Activation, Bidirectional, GlobalMaxPool1D\n",
       "from keras.models import Sequential\n",
       "from keras import initializers, regularizers, constraints, optimizers, layers\n",
       "from keras.preprocessing import text, sequence\n",
       "\n",
       "nlp = spacy.load('en_core_web_sm')\n",
       "\n",
       "def format_titles(title_list):\n",
       "    \"\"\"This function formats the movie titles in such a way that they can be\n",
       "    discerned by the web site where the screenplays will be taken from.\n",
       "    \n",
       "    Parameter:\n",
       "    \n",
       "        title_list: list\n",
       "        list of titles to be formatted, generally from metacritic.\n",
       "        \n",
       "    Returns: \n",
       "    \n",
       "        list containing titles in the proper format for scraping screenplays from\n",
       "        springfieldspringfield.co.uk.\"\"\"\n",
       "    \n",
       "    # Initializing list for later\n",
       "    titles_formatted = []\n",
       "    \n",
       "    # Will cycle through all titles and leave them in the correct format for\n",
       "    # later use.\n",
       "    for title in title_list:\n",
       "        title = title.lower()\n",
       "        \n",
       "        # Titles on this site have ', the' at the end.\n",
       "        if title[:3] == 'the':\n",
       "            title = title[4:] + ', the'\n",
       "        \n",
       "        # Getting rid of punctuation that wouldn't be in the url.\n",
       "        punctuations = \"\"\"!()-[]{};:'\"\\,<>./?@#$%^&*~\"\"\"\n",
       "        for x in title: \n",
       "            if x in punctuations: \n",
       "                title = title.replace(x, '')\n",
       "        \n",
       "        # In the url, the spaces are hyphens.\n",
       "        for x in title:\n",
       "            title = title.replace('  ', '-')\n",
       "            title = title.replace(' ', '-')\n",
       "            title = title.replace('_', '-')\n",
       "            \n",
       "        titles_formatted.append(title)\n",
       "\n",
       "    return titles_formatted\n",
       "\n",
       "def grab_screenplays(formatted_titles):\n",
       "    \"\"\"Function takes correctly formatted titles and scrapes the associated\n",
       "    screenplays from http://www.springfieldspringfield.co.uk.\n",
       "    \n",
       "    Parameter:\n",
       "    \n",
       "        formatted_titles: list\n",
       "            Takes titles formatted by the fomatted_titles function and \n",
       "            retrieves screenplays from springfieldspringfield.\n",
       " \n",
       "     Returns:\n",
       "         \n",
       "         list containing screenplays from argument title list.\n",
       "         \n",
       "         list conaining list of movies for which screenplays could not be\n",
       "         found.\"\"\"\n",
       "         \n",
       "    # scrs will hold the screenplays themselves. errors will house the titles\n",
       "    # of the movies we couldn't retrieve scripts for.\n",
       "    scrs = {}\n",
       "    errors = []\n",
       "    \n",
       "    for title in formatted_titles:\n",
       "        print(title)\n",
       "        \n",
       "        # Beginning the web scraping by opening the connection to the site,\n",
       "        # putting the title into the url, and and copying the html into local variables.\n",
       "        # Note the titles are pre-formatted as word-word-word-the (if there is a 'the.'\n",
       "        html_page = requests.get(\n",
       "            'https://www.springfieldspringfield.co.uk/movie_script.php?movie={}'.format(title))\n",
       "        soup = BeautifulSoup(html_page.content, 'html.parser')\n",
       "        \n",
       "        # Getting the container for the screenplay.\n",
       "        scr = soup.find('div', class_ = 'scrolling-script-container')\n",
       "        \n",
       "        # Several conditionals here to cycle through the various possibilities\n",
       "        # of title formatting to find if there is a page at all.\n",
       "        if scr:\n",
       "            scr = scr.contents\n",
       "        if not scr:\n",
       "            \n",
       "            # The formatting function puts 'the' at the end if there is one. \n",
       "            # Sometimes 'the' is simply removed. This will catch those.\n",
       "            no_the = title[:-4]\n",
       "            html_page = requests.get(\n",
       "                'https://www.springfieldspringfield.co.uk/movie_script.php?movie={}'.format(no_the))\n",
       "            soup = BeautifulSoup(html_page.content, 'html.parser')\n",
       "            scr = soup.find('div', class_ = 'scrolling-script-container')\n",
       "            if scr:\n",
       "                scr = scr.contents\n",
       "                \n",
       "            \n",
       "        if not scr:\n",
       "            \n",
       "            # A few movies keep 'the' at the beginning. This will catch those.\n",
       "            pre_the = 'the-' + title[:-4]\n",
       "            html_page = requests.get(\n",
       "                'https://www.springfieldspringfield.co.uk/movie_script.php?movie={}'.format(pre_the))\n",
       "            soup = BeautifulSoup(html_page.content, 'html.parser')\n",
       "            scr = soup.find('div', class_ = 'scrolling-script-container')\n",
       "            if scr:\n",
       "                scr = scr.contents\n",
       "                \n",
       "            # If we still can't find the script, return a message that we couldn't\n",
       "            # and put the title in an error list.\n",
       "        if not scr:\n",
       "            print('***The following screenplay could not be retrieved: ', title)\n",
       "            errors.append(title)\n",
       "        if scr:\n",
       "            \n",
       "            # Pulling out the unnecessary line html line breaks.\n",
       "            scr = [i for i in scr if str(i) not in ['<br/>']] \n",
       "        scrs[title] = scr\n",
       "        \n",
       "        # Sleeping between each loop so the site server doesn't think we're \n",
       "        # trying to do anything malicious.\n",
       "        time.sleep(1)\n",
       "        \n",
       "    return scrs, errors\n",
       "    \n",
       "def clean(word_list):\n",
       "    \"\"\"Combines each script into one long string and removes punctuation and\n",
       "    html tags from the scripts. Note that this function is not always used,\n",
       "    depending on what is needed from the data.\n",
       "    \n",
       "    Parameters:\n",
       "    \n",
       "        word_list: list\n",
       "            List of words from one screenplay, usually in raw format\n",
       "            \n",
       "    Returns:\n",
       "    \n",
       "        A complete screenplay made of one long string with symbols and html\n",
       "        breaks removed.\"\"\"\n",
       "    \n",
       "    result = ''\n",
       "    \n",
       "    # Each line of the scipt is broken into a separate string. This combines\n",
       "    # them into one long string.\n",
       "    for line in word_list:\n",
       "        result += str(line)\n",
       "        \n",
       "    # This removes the line breaks. They should have already been removed \n",
       "    # above but this is a backup.\n",
       "    while '<br/>' in result:\n",
       "        result = result.replace('<br/>', '')\n",
       "        \n",
       "    # Removing punctuations.\n",
       "    punctuations = \"\"\"!()-[]{};:\"\\,<>./?@#$%^&*_~\"\"\"\n",
       "    for char in result: \n",
       "        if char in punctuations: \n",
       "            result = result.replace(char, '')\n",
       "    \n",
       "    return result\n",
       "\n",
       "def script_classifiers(X, y, classifier, test_size=.3, cmap=plt.cm.Reds, use_tfidf=True,\n",
       "                       use_split_resample=True):\n",
       "    \"\"\"This function takes in values for a classifier and runs them through\n",
       "    a pipe. Generates scores and a confusion matrix plot.\n",
       "    \n",
       "    Parameters:\n",
       "        \n",
       "        X: DataFrame\n",
       "            Features and values to be used in model.\n",
       "            \n",
       "        y: Series\n",
       "            Target variable for classifying.\n",
       "            \n",
       "        Classifier: Classifier\n",
       "            Which classifier to be used for training the model.\n",
       "        \n",
       "        cmap: pyplot color map\n",
       "            Which color map to use for the confusion matrix plot.\n",
       "            \n",
       "        use_tfidf: bool\n",
       "            Whether to use tfidf on feature data prior to running model.\"\"\"\n",
       "    \n",
       "    # Typical train test split to retain data for validation.\n",
       "    X_train, X_test, y_train, y_test = train_test_split(X, y,\n",
       "                                                    test_size=test_size,\n",
       "                                                    random_state=42)\n",
       "    \n",
       "    # There a few more bad scripts than good ones, so I'll make them even.\n",
       "    rus = RandomUnderSampler(random_state=42)\n",
       "    X_resampled, y_resampled = rus.fit_resample(pd.DataFrame(X_train), y_train)\n",
       "\n",
       "    # This is necessary for putting X into the correct format if there is only \n",
       "    # one column, as it comes out of the resampler a DataFrame when the\n",
       "    # classifier actuallyl wants a series if its only one column.\n",
       "    if len(X_resampled.columns) < 2:\n",
       "        X_resampled = X_resampled.iloc[:, 0]\n",
       "    \n",
       "    # Provides the option of using tfidf in case this is just using scripts \n",
       "    # attributes and not text embedding or vectorization\n",
       "    if use_tfidf == False:\n",
       "        pipe = Pipeline([('clf', classifier)])\n",
       "    else:\n",
       "        \n",
       "        # These tfidf hyper-parameters have been tested via grid-search\n",
       "        # elsewhere and found to be optimal.\n",
       "        pipe = Pipeline([('tfidf', TfidfVectorizer(max_df=.95, min_df=.1,\n",
       "                                                  max_features=5000,\n",
       "                                                  ngram_range=(1,2))), \n",
       "                         ('clf', classifier)])\n",
       "        \n",
       "#     scaler = StandardScaler\n",
       "#     X_resampled_scaled = scaler.fit_transform(X_resampled)\n",
       "#     X_test_scaled = scaler.transform(X_test)\n",
       "\n",
       "    # Fitting the pipeline containing the tfidf processor and classifier.\n",
       "    pipe.fit(X_resampled, y_resampled)\n",
       "    \n",
       "    # Creating predicted data.\n",
       "    y_pred = pipe.predict(X_test)\n",
       "    \n",
       "    # Running metrics and creating a confusion matrix visual.\n",
       "    print(classification_report(y_test, y_pred))\n",
       "\n",
       "    confusion = confusion_matrix(y_test, y_pred)\n",
       "    \n",
       "    plot_confusion_matrix(confusion, figsize=(7,7), colorbar=True,\n",
       "                      show_normed=True, cmap=cmap);\n",
       "    plt.show();\n",
       "    \n",
       "    # If there is a decision function in this classifier, we'll use it \n",
       "    # to create an ROC AUC graph.\n",
       "    try:\n",
       "        y_score = pipe.decision_function(X_test)\n",
       "        fpr, tpr, thresholds = roc_curve(y_test, y_score)\n",
       "        roc_auc = auc(fpr, tpr)\n",
       "        print('roc_auc score: ', roc_auc)\n",
       "\n",
       "        plt.plot(fpr, tpr, color='darkorange', lw=2)\n",
       "        plt.title('Receiver Operating Characteristic (ROC) Curve')\n",
       "        plt.ylabel('True Positive Rate')\n",
       "        plt.xlabel('False Positive Rate')\n",
       "        plt.show();\n",
       "    except:\n",
       "        pass\n",
       "    \n",
       "#     # Creating a decision tree classifier tree graph because it's cool.\n",
       "# #     if classifier == DecisionTreeClassifier():\n",
       "#     dot_data = export_graphviz(classifier, out_file=None, \n",
       "# #                                    feature_names=X.columns, \n",
       "#                                class_names=np.unique(y).astype('str'), \n",
       "#                                filled=True, rounded=True, \n",
       "#                                special_characters=True)\n",
       "\n",
       "#     # Draw graph\n",
       "#     graph = graph_from_dot_data(dot_data)  \n",
       "#     # Show graph\n",
       "#     Image(graph.create_png()) \n",
       "#     return Image(graph.create_png()) \n",
       "\n",
       "def stacked_classifier(X, y, classifier, cmap=plt.cm.Reds, use_tfidf=True):\n",
       "    \"\"\"This function takes in values for a classifier and runs them through\n",
       "    a pipe. Used specifically to geenrate the first model for a stacked set.\n",
       "    \n",
       "    Parameters:\n",
       "        \n",
       "        X: DataFrame\n",
       "            Features and values to be used in model.\n",
       "            \n",
       "        y: Series\n",
       "            Target variable for classifying.\n",
       "            \n",
       "        Classifier: Classifier\n",
       "            Which classifier to be used for training the model.\n",
       "        \n",
       "        cmap: pyplot color map\n",
       "            Which color map to use for the confusion matrix plot.\n",
       "            \n",
       "        use_tfidf: bool\n",
       "            Whether to use tfidf on feature data prior to running model.\n",
       "            \n",
       "    Returns:\n",
       "        numpy array of predictions.\"\"\"\n",
       "    \n",
       "    # Provides the option of using tfidf in case this is just using scripts \n",
       "    # attributes and not text embedding or vectorization\n",
       "    if use_tfidf == False:\n",
       "        pipe = Pipeline([('clf', classifier)])\n",
       "    else:\n",
       "        \n",
       "        # These tfidf hyper-parameters have been tested via grid-search\n",
       "        # elsewhere and found to be optimal.\n",
       "        pipe = Pipeline([('tfidf', TfidfVectorizer(max_df=.95, min_df=.1,\n",
       "                                                  max_features=5000,\n",
       "                                                  ngram_range=(1,2))), \n",
       "                         ('clf', classifier)])\n",
       "    \n",
       "    # Fitting the pipeline containing the tfidf processor and classifier.\n",
       "    pipe.fit(X, y)\n",
       "    \n",
       "    # Creating predicted data.\n",
       "    y_pred = pipe.predict(X)\n",
       "    \n",
       "    # Running metrics and creating a confusion matrix visual of training data.\n",
       "    print(classification_report(y, y_pred))\n",
       "\n",
       "    confusion = confusion_matrix(y, y_pred)\n",
       "    \n",
       "    plot_confusion_matrix(confusion, figsize=(7,7), colorbar=True,\n",
       "                      show_normed=True, cmap=cmap);\n",
       "    plt.show();\n",
       "    \n",
       "    # If there is a decision function in this classifier, we'll use it \n",
       "    # to create an ROC AUC graph.\n",
       "    try:\n",
       "        y_score = pipe.decision_function(X)\n",
       "        fpr, tpr, thresholds = roc_curve(y, y_score)\n",
       "        roc_auc = auc(fpr, tpr)\n",
       "        print('roc_auc score: ', roc_auc)\n",
       "\n",
       "        plt.plot(fpr, tpr, color='darkorange', lw=2)\n",
       "        plt.title('Receiver Operating Characteristic (ROC) Curve')\n",
       "        plt.ylabel('True Positive Rate')\n",
       "        plt.xlabel('False Positive Rate')\n",
       "        plt.show();\n",
       "    except:\n",
       "        pass\n",
       "\n",
       "    return y_pred\n",
       "\n",
       "def hybrid_classifiers(X_train, X_test, y_train, y_test, classifier, \n",
       "                       cmap=plt.cm.Reds, use_tfidf=True):\n",
       "    \"\"\"This function takes in values for a classifier and runs them through\n",
       "    a pipe. Generates scores and a confusion matrix plot.\n",
       "    \n",
       "    Parameters:\n",
       "        \n",
       "        X: DataFrame\n",
       "            Features and values to be used in model.\n",
       "            \n",
       "        y: Series\n",
       "            Target variable for classifying.\n",
       "            \n",
       "        Classifier: Classifier\n",
       "            Which classifier to be used for training the model.\n",
       "        \n",
       "        cmap: pyplot color map\n",
       "            Which color map to use for the confusion matrix plot.\n",
       "            \n",
       "        use_tfidf: bool\n",
       "            Whether to use tfidf on feature data prior to running model.\"\"\"\n",
       "    \n",
       "    # Typical train test split to retain data for validation.\n",
       "#     X_train, X_test, y_train, y_test = train_test_split(X, y,\n",
       "#                                                     test_size=.3,\n",
       "#                                                     random_state=42)\n",
       "    \n",
       "    # There a few more bad scripts than good ones, so I'll make them even.\n",
       "    rus = RandomUnderSampler(random_state=42)\n",
       "    X_resampled, y_resampled = rus.fit_resample(pd.DataFrame(X_train), y_train)\n",
       "    \n",
       "    # This is necessary for putting X into the correct format if there is only \n",
       "    # one column, as it comes out of the resampler a DataFrame when the\n",
       "    # classifier actuallyl wants a series if its only one column.\n",
       "    if len(X_resampled.columns) < 2:\n",
       "        X_resampled = X_resampled.iloc[:, 0]\n",
       "    \n",
       "    # Provides the option of using tfidf in case this is just using scripts \n",
       "    # attributes and not text embedding or vectorization\n",
       "    if use_tfidf == False:\n",
       "        pipe = Pipeline([('clf', classifier)])\n",
       "    else:\n",
       "        \n",
       "        # These tfidf hyper-parameters have been tested via grid-search\n",
       "        # elsewhere and found to be optimal.\n",
       "        pipe = Pipeline([('tfidf', TfidfVectorizer(max_df=.95, min_df=.1,\n",
       "                                                  max_features=5000,\n",
       "                                                  ngram_range=(1,2))), \n",
       "                         ('clf', classifier)])\n",
       "        \n",
       "#     scaler = StandardScaler\n",
       "#     X_resampled_scaled = scaler.fit_transform(X_resampled)\n",
       "#     X_test_scaled = scaler.transform(X_test)\n",
       "    \n",
       "    # Fitting the pipeline containing the tfidf processor and classifier.\n",
       "    pipe.fit(X_resampled, y_resampled)\n",
       "    \n",
       "    # Creating predicted data.\n",
       "    y_pred = pipe.predict(X_test)\n",
       "    \n",
       "    # Running metrics and creating a confusion matrix visual.\n",
       "    print(classification_report(y_test, y_pred))\n",
       "\n",
       "    confusion = confusion_matrix(y_test, y_pred)\n",
       "    \n",
       "    plot_confusion_matrix(confusion, figsize=(7,7), colorbar=True,\n",
       "                      show_normed=True, cmap=cmap);\n",
       "    plt.show();\n",
       "    \n",
       "    # If there is a decision function in this classifier, we'll use it \n",
       "    # to create an ROC AUC graph.\n",
       "    try:\n",
       "        y_score = pipe.decision_function(X_test)\n",
       "        fpr, tpr, thresholds = roc_curve(y_test, y_score)\n",
       "        roc_auc = auc(fpr, tpr)\n",
       "        print('roc_auc score: ', roc_auc)\n",
       "\n",
       "        plt.plot(fpr, tpr, color='darkorange', lw=2)\n",
       "        plt.title('Receiver Operating Characteristic (ROC) Curve')\n",
       "        plt.ylabel('True Positive Rate')\n",
       "        plt.xlabel('False Positive Rate')\n",
       "        plt.show();\n",
       "    except:\n",
       "        pass\n",
       "\n",
       "    return y_pred\n",
       "    \n",
       "#     # Creating a decision tree classifier tree graph because it's cool.\n",
       "# #     if classifier == DecisionTreeClassifier():\n",
       "#     dot_data = export_graphviz(classifier, out_file=None, \n",
       "# #                                    feature_names=X.columns, \n",
       "#                                class_names=np.unique(y).astype('str'), \n",
       "#                                filled=True, rounded=True, \n",
       "#                                special_characters=True)\n",
       "\n",
       "#     # Draw graph\n",
       "#     graph = graph_from_dot_data(dot_data)  \n",
       "#     # Show graph\n",
       "#     Image(graph.create_png()) \n",
       "#     return Image(graph.create_png()) \n",
       "\n",
       "\n",
       "def ceci_nest_pas_une_pipe(X, y, text_to_vec, classifier, \n",
       "                           cmap=plt.cm.Reds):\n",
       "    \"\"\"This function takes in values for a classifier and runs them through\n",
       "    a pipe. Generates scores and a confusion matrix plot. As opposed with \n",
       "    the above 'script_classifiers' function, this one does not use a pipe,\n",
       "    lending some additional flexibility between vectorization and modeling.\n",
       "    Generally to be used with combining features and word vectors.\n",
       "    \n",
       "    Parameters:\n",
       "        \n",
       "        X: DataFrame\n",
       "            Features and values to be used in model.\n",
       "            \n",
       "        y: Series\n",
       "            Target variable for classifying.\n",
       "            \n",
       "        text_to_vec: word vector matrix\n",
       "            In addition to features, adds a word vector matrix to join with\n",
       "            the other features for modeling.\n",
       "            \n",
       "        Classifier: Classifier\n",
       "            Which classifier to be used for training the model.\n",
       "        \n",
       "        cmap: pyplot color map\n",
       "            Which color map to use for the confusion matrix plot.\"\"\"\n",
       "\n",
       "#     if text_to_vec:\n",
       "    # Putting the TfidfVectorizer up front so I can fiddle with things\n",
       "    # before the classifier.\n",
       "    tfidf = TfidfVectorizer(max_df=.95, min_df=.1, max_features=5000,\n",
       "                             ngram_range=(1,2))\n",
       "    X2 = tfidf.fit_transform(text_to_vec)\n",
       "\n",
       "    # Creating a sparse DataFrame to house both the features and the \n",
       "    # processed text.\n",
       "    X_temp = pd.SparseDataFrame(X2, columns=tfidf.get_feature_names(),\n",
       "                               default_fill_value=0)\n",
       "\n",
       "    # Necessary for next step.\n",
       "    X = X.reset_index(drop=True)\n",
       "\n",
       "    # Combining text matrix with script attributes.\n",
       "    for column in X:\n",
       "        X_temp[column] = X[column]\n",
       "    X = X_temp\n",
       "    \n",
       "    # Standard train-test split.\n",
       "    X_train, X_test, y_train, y_test = train_test_split(X, y,\n",
       "                                                    test_size=.3,\n",
       "                                                    random_state=42)\n",
       "    \n",
       "    # There a few more bad scripts than good ones, so I'll make them even.\n",
       "    rus = RandomUnderSampler(random_state=42)\n",
       "    X_resampled, y_resampled = rus.fit_resample(pd.DataFrame(X_train), y_train)\n",
       "   \n",
       "    # This is necessary for putting X into the correct format if there is only \n",
       "    # one column, as it comes out of the resampler a DataFrame when the\n",
       "    # classifier actually wants a series if its only one column.\n",
       "    if type(X_resampled) == pd.core.series.Series:\n",
       "        X_resampled = X_resampled.iloc[:, 0]\n",
       "    \n",
       "    # Classifier can be whatever the user has entered as an argument. \n",
       "    clf = classifier\n",
       "    clf.fit(X_resampled, y_resampled)\n",
       "    \n",
       "#     # The below is for creating the train scores.\n",
       "#     y_train_pred = clf.predict(X_train)\n",
       "    \n",
       "#     # Printing out metrics and confusion matrix visual for training.\n",
       "#     print(classification_report(y_train, y_train_pred))\n",
       "#     print('Accuracy: ', accuracy_score(y_train, y_train_pred))\n",
       "\n",
       "#     confusion = confusion_matrix(y_train, y_train_pred)\n",
       "#     plot_confusion_matrix(confusion, figsize=(7,7), colorbar=True,\n",
       "#                   show_normed=True, cmap=cmap);\n",
       "#     plt.show();\n",
       "    \n",
       "    # The below is for creating the test scores.\n",
       "    y_pred = clf.predict(X_test)\n",
       "    \n",
       "    # Printing out metrics and confusion matrix visual for testing.\n",
       "    print(classification_report(y_test, y_pred))\n",
       "    print('Accuracy: ', accuracy_score(y_test, y_pred))\n",
       "\n",
       "    confusion = confusion_matrix(y_test, y_pred)\n",
       "    plot_confusion_matrix(confusion, figsize=(7,7), colorbar=True,\n",
       "                      show_normed=True, cmap=cmap);\n",
       "    plt.show();\n",
       "    \n",
       "    # If there is a decision function in this classifier, we'll use it \n",
       "    # to create an ROC AUC graph.\n",
       "    try:\n",
       "        y_score = classifier.decision_function(X_test)\n",
       "        fpr, tpr, thresholds = roc_curve(y_test, y_score)\n",
       "        roc_auc = auc(fpr, tpr)\n",
       "        print('roc_auc score: ', roc_auc)\n",
       "\n",
       "        plt.plot(fpr, tpr, color='darkorange', lw=2)\n",
       "        plt.title('Receiver Operating Characteristic (ROC) Curve')\n",
       "        plt.ylabel('True Positive Rate')\n",
       "        plt.xlabel('False Positive Rate')\n",
       "        plt.show();\n",
       "    except:\n",
       "        pass\n",
       "    \n",
       "    if feature_importance:  \n",
       "        try:\n",
       "            print(pd.Series(clf.feature_importances_,\n",
       "                      index=X_train.columns).sort_values(ascending=False).head(200))\n",
       "            df_importance = pd.Series(clf.feature_importances_, \n",
       "                                      index=X_train.columns)\n",
       "            df_imp_export = df_importance.sort_values(ascending=False)\n",
       "            df_importance = df_importance.sort_values(ascending=True).tail(200)\n",
       "        #         df_importance.index = [labels[x] for x,y in df_importance]\n",
       "            df_importance.plot(kind='barh', figsize=(8,50))\n",
       "            plt.title('Most Important Features')\n",
       "            plt.ylabel('Feature Name')\n",
       "            plt.xlabel('Feature Importance')\n",
       "            plt.show()\n",
       "        except: \n",
       "            pass\n",
       "    \n",
       "    \n",
       "#     # Creating a decision tree classifier tree graph because it's cool.\n",
       "# #     if classifier == DecisionTreeClassifier():\n",
       "#     dot_data = export_graphviz(classifier, out_file=None, \n",
       "# #                                    feature_names=X.columns, \n",
       "#                                class_names=np.unique(y).astype('str'), \n",
       "#                                filled=True, rounded=True, \n",
       "#                                special_characters=True)\n",
       "\n",
       "#     # Draw graph\n",
       "#     graph = graph_from_dot_data(dot_data)  \n",
       "#     # Show graph\n",
       "#     Image(graph.create_png()) \n",
       "#     return Image(graph.create_png()) \n",
       "\n",
       "def hybrid_classifier_combo(X_train, X_test, X2_train, X2_test,\n",
       "                            y_train, y_test, classifier,\n",
       "                            cmap=plt.cm.Reds, feature_importance=False):\n",
       "    \"\"\"This function takes in values for a classifier and runs them through\n",
       "    a pipe. Generates scores and a confusion matrix plot. As opposed with \n",
       "    the above 'script_classifiers' function, this one does not use a pipe,\n",
       "    lending some additional flexibility between vectorization and modeling.\n",
       "    Generally to be used with combining features and word vectors.\n",
       "    \n",
       "    Parameters:\n",
       "        \n",
       "        X: DataFrame\n",
       "            Features and values to be used in model.\n",
       "            \n",
       "        y: Series\n",
       "            Target variable for classifying.\n",
       "            \n",
       "        text_to_vec: word vector matrix\n",
       "            In addition to features, adds a word vector matrix to join with\n",
       "            the other features for modeling.\n",
       "            \n",
       "        Classifier: Classifier\n",
       "            Which classifier to be used for training the model.\n",
       "        \n",
       "        cmap: pyplot color map\n",
       "            Which color map to use for the confusion matrix plot.\"\"\"\n",
       "\n",
       "#     if text_to_vec:\n",
       "    # Putting the TfidfVectorizer up front so I can fiddle with things\n",
       "    # before the classifier.\n",
       "    tfidf = TfidfVectorizer(max_df=.95, min_df=.1, max_features=5000,\n",
       "                             ngram_range=(1,2))\n",
       "    X2_train = tfidf.fit_transform(X2_train)\n",
       "    X2_test = tfidf.transform(X2_test)    \n",
       "\n",
       "    # Creating a sparse DataFrame to house both the features and the \n",
       "    # processed text.\n",
       "    X_temp = pd.SparseDataFrame(X2_train, columns=tfidf.get_feature_names(),\n",
       "                               default_fill_value=0)\n",
       "                                                        \n",
       "    X_temp2 = pd.SparseDataFrame(X2_test, columns=tfidf.get_feature_names(),\n",
       "                               default_fill_value=0)\n",
       "    \n",
       "    # Necessary for next step.\n",
       "#     X_train = X_train.reset_index(drop=True)\n",
       "#     X_test = X_test.reset_index(drop=True)\n",
       "    \n",
       "    # Combining text matrix with script attributes.\n",
       "    for column in X_train:\n",
       "        X_temp[column] = X_train[column]\n",
       "        X_temp2[column] = X_test[column]\n",
       "    X_train = X_temp\n",
       "    X_test = X_temp2\n",
       "\n",
       "    # I really wish I knew why this was necessary. I really do. But for whatever\n",
       "    # reason, I keep getting just a few null values at this point in the function.\n",
       "    X_test.fillna(0,inplace=True)\n",
       "    X_train.fillna(0,inplace=True)\n",
       "    \n",
       "#     temp = pd.DataFrame(X2_train, columns=['temp'])\n",
       "#     display(X_train.iloc[[40, 69, 101, 106, 147, 175, 264, 303, 343, 371, 392,\n",
       "#              464, 656, 811, 963, 1099, 2024, 2044, 2066, 2265, 2554,2560]])\n",
       "    \n",
       "    X_train.fillna(0,inplace=True)\n",
       "    # Standard train-test split.\n",
       "#     X_train, X_test, y_train, y_test = train_test_split(X, y,\n",
       "#                                                     test_size=.3,\n",
       "#                                                     random_state=42)\n",
       "    \n",
       "    # There a few more bad scripts than good ones, so I'll make them even.\n",
       "    rus = RandomUnderSampler(random_state=42)\n",
       "    X_resampled, y_resampled = rus.fit_resample(pd.DataFrame(X_train), y_train)\n",
       "   \n",
       "    # This is necessary for putting X into the correct format if there is only \n",
       "    # one column, as it comes out of the resampler a DataFrame when the\n",
       "    # classifier actuallyl wants a series if its only one column.\n",
       "#     if type(X_resampled) == pd.core.series.Series:\n",
       "#         X_resampled = X_resampled.iloc[:, 0]\n",
       "    \n",
       "    # Classifier can be whatever the user has entered as an argument. \n",
       "    clf = classifier\n",
       "    clf.fit(X_resampled, y_resampled)\n",
       "    \n",
       "#     # The below is for creating the train scores.\n",
       "#     y_train_pred = clf.predict(X_train)\n",
       "    \n",
       "#     # Printing out metrics and confusion matrix visual for training.\n",
       "#     print(classification_report(y_train, y_train_pred))\n",
       "#     print('Accuracy: ', accuracy_score(y_train, y_train_pred))\n",
       "\n",
       "#     confusion = confusion_matrix(y_train, y_train_pred)\n",
       "#     plot_confusion_matrix(confusion, figsize=(7,7), colorbar=True,\n",
       "#                   show_normed=True, cmap=cmap);\n",
       "#     plt.show();\n",
       "\n",
       "#     temp = pd.DataFrame(X_test, columns=['temp'])\n",
       "#     print(temp[temp['temp'].isna() == True].index)\n",
       "\n",
       "    # temp = X_test.CCONJ.isna() == True\n",
       "    # display(temp)\n",
       "    \n",
       "    # The below is for creating the test scores.\n",
       "    y_pred = clf.predict(X_test)\n",
       "    \n",
       "    # Printing out metrics and confusion matrix visual for testing.\n",
       "    print(classification_report(y_test, y_pred))\n",
       "    print('Accuracy: ', accuracy_score(y_test, y_pred))\n",
       "\n",
       "    confusion = confusion_matrix(y_test, y_pred)\n",
       "    plot_confusion_matrix(confusion, figsize=(7,7), colorbar=True,\n",
       "                      show_normed=True, cmap=cmap);\n",
       "    plt.show();\n",
       "    \n",
       "    # If there is a decision function in this classifier, we'll use it \n",
       "    # to create an ROC AUC graph.\n",
       "    try:\n",
       "        y_score = classifier.decision_function(X_test)\n",
       "        fpr, tpr, thresholds = roc_curve(y_test, y_score)\n",
       "        roc_auc = auc(fpr, tpr)\n",
       "        print('roc_auc score: ', roc_auc)\n",
       "\n",
       "        plt.plot(fpr, tpr, color='darkorange', lw=2)\n",
       "        plt.title('Receiver Operating Characteristic (ROC) Curve')\n",
       "        plt.ylabel('True Positive Rate')\n",
       "        plt.xlabel('False Positive Rate')\n",
       "        plt.show();\n",
       "    except:\n",
       "        pass\n",
       "    \n",
       "    if feature_importance:  \n",
       "        try:\n",
       "            print(pd.Series(clf.feature_importances_,\n",
       "                      index=X_train.columns).sort_values(ascending=False).head(200))\n",
       "            df_importance = pd.Series(clf.feature_importances_, \n",
       "                                      index=X_train.columns)\n",
       "            df_imp_export = df_importance.sort_values(ascending=False)\n",
       "            df_importance = df_importance.sort_values(ascending=True).tail(200)\n",
       "        #         df_importance.index = [labels[x] for x,y in df_importance]\n",
       "            df_importance.plot(kind='barh', figsize=(8,50))\n",
       "            plt.title('Most Important Features')\n",
       "            plt.ylabel('Feature Name')\n",
       "            plt.xlabel('Feature Importance')\n",
       "            plt.show()\n",
       "        except: \n",
       "            pass\n",
       "\n",
       "def grid_search_a(X, y, classifier, param_grid, use_tfidf=True):\n",
       "    \"\"\"Performs a grid search to optimize parameters for classification models.\n",
       "    \n",
       "    Parameters:\n",
       "    \n",
       "        X: DataFrame\n",
       "            Features and values to be used in model.\n",
       "            \n",
       "        y: Series\n",
       "            Target variable for classifying.\n",
       "            \n",
       "        Classifier: Classifier\n",
       "            Which classifier to be used for training the model.\n",
       "        \n",
       "        cmap: pyplot color map\n",
       "            Which color map to use for the confusion matrix plot.\n",
       "            \n",
       "        use_tfidf: bool\n",
       "            Whether to use tfidf on feature data prior to running model.\n",
       "            \n",
       "        Returns:\n",
       "            dictionary of best parameters.\"\"\"\n",
       "\n",
       "    # Standard train-test split.\n",
       "    X_train, X_test, y_train, y_test = train_test_split(X, y,\n",
       "                                                    test_size=.3,\n",
       "                                                    random_state=42)\n",
       "    \n",
       "    # Under-sampling to even out the field.\n",
       "    rus = RandomUnderSampler(random_state=42)\n",
       "    X_resampled, y_resampled = rus.fit_resample(pd.DataFrame(X_train), y_train)\n",
       "\n",
       "    # If only one column, the classifier wants it as a series.\n",
       "    if len(X_resampled.columns) < 2:\n",
       "        X_resampled = X_resampled.iloc[:, 0]\n",
       "    \n",
       "    # User has a choice to use a tfidf classifier or not.\n",
       "    if use_tfidf == False:\n",
       "        pipe = Pipeline([('clf', classifier)])\n",
       "    else:\n",
       "        pipe = Pipeline([('tfidf', TfidfVectorizer(max_df=.95, min_df=.1,\n",
       "                                                  max_features=5000,\n",
       "                                                  ngram_range=(1,2))), \n",
       "                         ('clf', classifier)])\n",
       "    \n",
       "    # Performs a grid search and generates the best parameter set.\n",
       "    grid_search = GridSearchCV(pipe, cv=None,\n",
       "                               return_train_score=True, verbose=10,\n",
       "                               scoring='accuracy', param_grid=param_grid,\n",
       "                               n_jobs=-1)\n",
       "\n",
       "    grid_search.fit(X_resampled, y_resampled)\n",
       "\n",
       "    # Create mean training and test scores.\n",
       "    training_score = np.mean(grid_search.cv_results_['mean_train_score'])\n",
       "    testing_score = grid_search.score(X_test, y_test)\n",
       "\n",
       "    # Spit out the results.\n",
       "    print(f\"Mean Training Score: {training_score :.2%}\")\n",
       "    print(f\"Mean Test Score: {testing_score :.2%}\")\n",
       "    print(\"Best Parameter Combination Found During Grid Search:\")\n",
       "    print(grid_search.best_params_)\n",
       "\n",
       "    # Return the parameters so they can be seen and contemplated.\n",
       "    return grid_search.best_params_\n",
       "            \n",
       "def feature_graphics(df, col_start, col_end, add_columns=None, scatterdim=(1600,1600), \n",
       "                       figsize=(20,20), browser=False):\n",
       "    \"\"\"Creates scatter matrix, histograms, and corrolation matrix for \n",
       "    supplied dataframe and columns.\n",
       "    \n",
       "    Parameters:\n",
       "        \n",
       "        df: DataFrame\n",
       "            DataFrame of movie information, probably from either rotten_df_cut\n",
       "            or screenplays_cut.\n",
       "            \n",
       "        col_start: string\n",
       "            Name of column in sequence to start with.\n",
       "            \n",
       "        col_end: string\n",
       "            Name of column in sequence to end with.\n",
       "            \n",
       "        scatterdim: tuple\n",
       "            dimensions in pixels for scatter matrix\n",
       "            \n",
       "        figsize: tuple\n",
       "            dimensions in inches for histograms and hamburgers.\n",
       "            \n",
       "        browser: bool\n",
       "            Indicates whether scatter matrix also opens in browser.\"\"\"\n",
       "\n",
       "    # Create subset DataFrame using start & end columns.\n",
       "    temp = df[df.columns[\\\n",
       "        list(df.columns).index(col_start):list(df.columns)\\\n",
       "                                               .index(col_end)+1]].copy()\n",
       "    \n",
       "    # If the DataFrame is rotten_df_cut, we should add the rotten_scores column.\n",
       "    temp['RottenScore'] = df.rotten_scores\n",
       "    color = df.rotten_scores/100\n",
       "    \n",
       "    # Moving data to format Plotly will understand for scatter matrix.\n",
       "    dimensions = []\n",
       "    for column in temp.columns:\n",
       "        dimensions.append({'label':column,'values':temp[column]})\n",
       "\n",
       "    # Creating scatter matrix.\n",
       "    data = [go.Splom(\n",
       "        dimensions=dimensions,\n",
       "        marker={'size':2,\n",
       "                'color':color,\n",
       "                'colorbar':{'thickness':20}\n",
       "               }\n",
       "    )]\n",
       "    layout = go.Layout(height=scatterdim[1],\n",
       "                       width=scatterdim[0])\n",
       "    fig = go.Figure(data, layout)\n",
       "    fig.show();   \n",
       "    \n",
       "    # Plotly can send the graph to a browser; useful for dashboards.\n",
       "    if browser == True:\n",
       "        pyo.plot(fig);\n",
       "    \n",
       "    # Create histogram of the same data.\n",
       "    temp.hist(figsize=figsize);\n",
       "    \n",
       "    # Create corrolation heatmap of the same data.\n",
       "    plt.subplots(figsize=figsize)\n",
       "    sns.heatmap(temp.corr(), annot = True);\n",
       "    \n",
       "def stop_it(text, punct=False):\n",
       "    \"\"\"Removes stop words and punctuation.\n",
       "    \n",
       "    Arguments:\n",
       "    \n",
       "        text: string\n",
       "            Text to have stop words and punctuation removed from..\n",
       "            \n",
       "        punct: bool\n",
       "            If set to true, will also remove punctuation.\n",
       "            \n",
       "    Returns:\n",
       "        String of words with stop words removed, and punctuation removed if\n",
       "        selected.\"\"\"\n",
       "    \n",
       "    text=text\n",
       "    \n",
       "    # Remove punctuation if indicated in arguments to do so.\n",
       "    if punct == True:\n",
       "        punctuations = \"\"\"!()-[]{};:'\"\\,<>./?@#$%^&*_~\"\"\"\n",
       "        for x in text: \n",
       "            if x in punctuations: \n",
       "                text = text.replace(x, '')\n",
       "    \n",
       "    # Split the string into a list of words to compare against the\n",
       "    # spacy nlp.Defaults.stop_words list.\n",
       "    split_it = text.split()\n",
       "    stopped = [word.lower() for word in split_it \\\n",
       "               if word.lower() not in nlp.Defaults.stop_words]\n",
       "    \n",
       "    # Converting list back into a continuous string.\n",
       "    last_word = ''\n",
       "    for word in stopped:\n",
       "        last_word += (' ' + word)\n",
       "        \n",
       "    return last_word\n",
       "    \n",
       "def cut_down_dist(data1, data2, std_level, label_1, label_2):\n",
       "    std = data1.mean() \\\n",
       "        + data1.std()*std_level\n",
       "    \n",
       "    plot_info_1 = data1.drop(data1[lambda x: x > std].index)\n",
       "    \n",
       "    std2 = data2.mean() \\\n",
       "        + data2.std()*std_level\n",
       "    \n",
       "    plot_info_2 = data2.drop(data2[lambda x: x > std].index)\n",
       "\n",
       "    fig = plt.figure(figsize=(10,8))\n",
       "    sns.distplot(plot_info_1, label=label_1, bins=100, norm_hist=False)\n",
       "    sns.distplot(plot_info_2, label=label_2, bins=100, norm_hist=False)\n",
       "    plt.legend()\n",
       "    plt.show();    \n",
       "\n",
       "def top_words(words, max_features, min_df, max_df):\n",
       "    \"\"\"Takes in a series of documents and returns an ordered list of \n",
       "    how frequently words appear as calculated by sum vs count.\n",
       "    \n",
       "    Parameters:\n",
       "    \n",
       "        words: Series\n",
       "            A series of documents with words to be counted.\n",
       "            \n",
       "        max_features: int\n",
       "            Populates max_features value in vectorizer. Ceiling for how many\n",
       "            words to use.\n",
       "            \n",
       "        min_df: float or int\n",
       "            Populates min_df value in vectorizer. Minimum documents a word\n",
       "            must appear in to be counted.\n",
       "            \n",
       "        max_df: float or int\n",
       "            Populates max_df value in vectorizer. Maximum documents a word\n",
       "            must appear in to be counted.\n",
       "        \n",
       "    returns: \n",
       "        List of tuples with word and ratio calculated by sum / count:\n",
       "        (word, ratio), sorted by ratio.\"\"\"\n",
       "    \n",
       "    # Initialize vectorizor and fit\n",
       "    victor = CountVectorizer(max_features=max_features, \n",
       "                             min_df=min_df, max_df=max_df)\n",
       "    movies_victor = victor.fit_transform(words)\n",
       "    \n",
       "    # Transform into SparceDataFrame.\n",
       "    sdf = pd.SparseDataFrame(movies_victor, \n",
       "                                     columns=victor.get_feature_names())\n",
       "    \n",
       "    sdf.fillna(0, inplace=True)\n",
       "    \n",
       "    # Ave_word_count will house the tuples data to be sorted.\n",
       "    ave_word_count = []\n",
       "    for col in sdf.columns:\n",
       "        key = col\n",
       "        \n",
       "        # Calculate the ratio and add tuple to list.\n",
       "        value = sum(sdf[col]) / len(sdf[col])\n",
       "        ave_word_count.append((key, value))\n",
       "        \n",
       "    # Return sorted tuple with word and ratio.\n",
       "    return sorted(ave_word_count, key=lambda x: x[1], reverse=True)\n",
       "```"
      ],
      "text/plain": [
       "<IPython.core.display.Markdown object>"
      ]
     },
     "execution_count": 152,
     "metadata": {},
     "output_type": "execute_result"
    }
   ],
   "source": [
    "with open('functions.py','r') as f:\n",
    "    txt = f.read()\n",
    "md =\"```python\\n\"+ txt +\"\\n```\"\n",
    "Markdown(md)"
   ]
  }
 ],
 "metadata": {
  "kernelspec": {
   "display_name": "Python 3",
   "language": "python",
   "name": "python3"
  },
  "language_info": {
   "codemirror_mode": {
    "name": "ipython",
    "version": 3
   },
   "file_extension": ".py",
   "mimetype": "text/x-python",
   "name": "python",
   "nbconvert_exporter": "python",
   "pygments_lexer": "ipython3",
   "version": "3.7.3"
  },
  "toc": {
   "base_numbering": 1,
   "nav_menu": {},
   "number_sections": true,
   "sideBar": true,
   "skip_h1_title": false,
   "title_cell": "Table of Contents",
   "title_sidebar": "Contents",
   "toc_cell": false,
   "toc_position": {
    "height": "calc(100% - 180px)",
    "left": "10px",
    "top": "150px",
    "width": "292.797px"
   },
   "toc_section_display": true,
   "toc_window_display": true
  }
 },
 "nbformat": 4,
 "nbformat_minor": 2
}
