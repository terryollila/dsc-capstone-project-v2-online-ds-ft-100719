{
 "cells": [
  {
   "cell_type": "markdown",
   "metadata": {},
   "source": [
    "# Imports"
   ]
  },
  {
   "cell_type": "code",
   "execution_count": 1,
   "metadata": {},
   "outputs": [
    {
     "name": "stderr",
     "output_type": "stream",
     "text": [
      "Using TensorFlow backend.\n"
     ]
    }
   ],
   "source": [
    "import matplotlib.pyplot as plt\n",
    "import plotly.figure_factory as ff\n",
    "import plotly.graph_objects as go\n",
    "import plotly.offline as pyo\n",
    "import plotly.express as px\n",
    "import dash\n",
    "import dash_core_components as dcc\n",
    "import dash_html_components as html\n",
    "import plotly.express as px\n",
    "import seaborn as sns\n",
    "import pandas as pd\n",
    "import numpy as np\n",
    "import base64\n",
    "import inspect\n",
    "\n",
    "from ast import literal_eval\n",
    "from sklearn.feature_extraction.text import TfidfVectorizer\n",
    "from sklearn.feature_extraction.text import CountVectorizer\n",
    "from imblearn.under_sampling import RandomUnderSampler\n",
    "from mlxtend.plotting import plot_confusion_matrix\n",
    "from xgboost import XGBClassifier\n",
    "from dash.dependencies import Input, Output\n",
    "from wordcloud import WordCloud\n",
    "from PIL import Image\n",
    "from os import path\n",
    "from jupyter_plotly_dash import JupyterDash\n",
    "from importlib import reload"
   ]
  },
  {
   "cell_type": "markdown",
   "metadata": {},
   "source": [
    "```\n",
    "def format_titles(title_list):\n",
    "    \"\"\"This function formats the movie titles in such a way that they can be\n",
    "    discerned by the web site where the screenplays will be taken from.\n",
    "    \n",
    "    Parameter:\n",
    "    \n",
    "        title_list: list\n",
    "        list of titles to be formatted, generally from metacritic.\n",
    "        \n",
    "    Returns: \n",
    "    \n",
    "        list containing titles in the proper format for scraping screenplays from\n",
    "        springfieldspringfield.co.uk.\"\"\"\n",
    "    \n",
    "    # Initializing list for later\n",
    "    titles_formatted = []\n",
    "    \n",
    "    # Will cycle through all titles and leave them in the correct format for\n",
    "    # later use.\n",
    "    for title in title_list:\n",
    "        title = title.lower()\n",
    "        \n",
    "        # Titles on this site have ', the' at the end.\n",
    "        if title[:3] == 'the':\n",
    "            title = title[4:] + ', the'\n",
    "        \n",
    "        # Getting rid of punctuation that wouldn't be in the url.\n",
    "        punctuations = \"\"\"!()-[]{};:'\"\\,<>./?@#$%^&*~\"\"\"\n",
    "        for x in title: \n",
    "            if x in punctuations: \n",
    "                title = title.replace(x, '')\n",
    "        \n",
    "        # In the url, the spaces are hyphens.\n",
    "        for x in title:\n",
    "            title = title.replace('  ', '-')\n",
    "            title = title.replace(' ', '-')\n",
    "            title = title.replace('_', '-')\n",
    "            \n",
    "        titles_formatted.append(title)\n",
    "\n",
    "    return titles_formatted\n",
    "```"
   ]
  },
  {
   "cell_type": "code",
   "execution_count": 2,
   "metadata": {},
   "outputs": [],
   "source": [
    "import functions as fun"
   ]
  },
  {
   "cell_type": "code",
   "execution_count": 5,
   "metadata": {},
   "outputs": [],
   "source": [
    "pd.set_option('display.max_columns', None)\n",
    "pd.set_option('display.max_rows', None)"
   ]
  },
  {
   "cell_type": "code",
   "execution_count": 6,
   "metadata": {},
   "outputs": [],
   "source": [
    "rotten_df_cut = pd.read_csv('project_resources/rotten_df_cut.csv', index_col=0)\n",
    "screenplays_cut = pd.read_csv('project_resources/screenplays_cut.csv', index_col=0)"
   ]
  },
  {
   "cell_type": "markdown",
   "metadata": {},
   "source": [
    "# Visuals"
   ]
  },
  {
   "cell_type": "markdown",
   "metadata": {},
   "source": [
    "These visuals will be assembled for the purpose of the project dashboard, which will be run on an html page, ultimately to be hosted publicly. "
   ]
  },
  {
   "cell_type": "markdown",
   "metadata": {},
   "source": [
    "## Word Clouds"
   ]
  },
  {
   "cell_type": "markdown",
   "metadata": {},
   "source": [
    "Separating out the good movies from the bad and finding the most frequently used words."
   ]
  },
  {
   "cell_type": "code",
   "execution_count": 9,
   "metadata": {},
   "outputs": [
    {
     "data": {
      "text/plain": [
       "[('president', 1.222488038277512),\n",
       " ('film', 1.1754385964912282),\n",
       " ('la', 0.9792663476874003),\n",
       " ('general', 0.9577352472089314),\n",
       " ('18', 0.9043062200956937),\n",
       " ('government', 0.8875598086124402),\n",
       " ('16', 0.8046251993620415),\n",
       " ('17', 0.7910685805422647),\n",
       " ('500', 0.766347687400319),\n",
       " ('chief', 0.7639553429027113),\n",
       " ('bloody', 0.7304625199362041),\n",
       " ('ought', 0.7256778309409888),\n",
       " ('tea', 0.7192982456140351),\n",
       " ('24', 0.7169059011164274),\n",
       " ('united', 0.6507177033492823),\n",
       " ('river', 0.6467304625199362),\n",
       " ('states', 0.6347687400318979),\n",
       " ('200', 0.5629984051036683),\n",
       " ('stage', 0.5598086124401914),\n",
       " ('guilty', 0.5470494417862839),\n",
       " ('brown', 0.5358851674641149),\n",
       " ('papers', 0.507177033492823),\n",
       " ('pray', 0.4944178628389155),\n",
       " ('fellow', 0.48883572567783096),\n",
       " ('memory', 0.48325358851674644),\n",
       " ('teacher', 0.47527910685805425),\n",
       " ('streets', 0.47208931419457734),\n",
       " ('began', 0.4696969696969697),\n",
       " ('study', 0.46411483253588515),\n",
       " ('interest', 0.4625199362041467),\n",
       " ('orders', 0.46172248803827753),\n",
       " ('national', 0.4569377990430622),\n",
       " ('pardon', 0.45055821371610844),\n",
       " ('chair', 0.44976076555023925),\n",
       " ('animals', 0.4473684210526316),\n",
       " ('cook', 0.4409888357256778),\n",
       " ('plays', 0.4409888357256778),\n",
       " ('note', 0.43460925039872406),\n",
       " ('stars', 0.43460925039872406),\n",
       " ('knife', 0.43301435406698563),\n",
       " ('sunday', 0.4298245614035088),\n",
       " ('simply', 0.4274322169059011),\n",
       " ('milk', 0.4218500797448166),\n",
       " ('beg', 0.41866028708133973),\n",
       " ('flowers', 0.41706539074960125),\n",
       " ('bless', 0.41228070175438597),\n",
       " ('natural', 0.41148325358851673),\n",
       " ('friday', 0.40669856459330145),\n",
       " ('post', 0.4059011164274322),\n",
       " ('health', 0.40271132376395535),\n",
       " ('hardly', 0.4011164274322169),\n",
       " ('roof', 0.39553429027113235),\n",
       " ('coat', 0.3939393939393939),\n",
       " ('lonely', 0.3939393939393939),\n",
       " ('trees', 0.39314194577352474),\n",
       " ('market', 0.39074960127591707),\n",
       " ('concerned', 0.38915470494417864),\n",
       " ('arrived', 0.3883572567783094),\n",
       " ('correct', 0.3883572567783094),\n",
       " ('character', 0.3875598086124402),\n",
       " ('strength', 0.38516746411483255),\n",
       " ('aware', 0.3843700159489633),\n",
       " ('selling', 0.3843700159489633),\n",
       " ('wash', 0.3843700159489633),\n",
       " ('nearly', 0.3835725677830941),\n",
       " ('downstairs', 0.3827751196172249),\n",
       " ('stayed', 0.3827751196172249),\n",
       " ('telephone', 0.3827751196172249),\n",
       " ('energy', 0.38197767145135564),\n",
       " ('ideas', 0.3803827751196172),\n",
       " ('saturday', 0.37559808612440193),\n",
       " ('bright', 0.3748006379585327),\n",
       " ('opinion', 0.3740031897926635),\n",
       " ('ended', 0.372408293460925),\n",
       " ('block', 0.37161084529505584),\n",
       " ('cards', 0.37161084529505584),\n",
       " ('forgotten', 0.37161084529505584),\n",
       " ('noise', 0.3708133971291866),\n",
       " ('weather', 0.3668261562998405),\n",
       " ('subject', 0.36443381180223283),\n",
       " ('pieces', 0.3628389154704944),\n",
       " ('sat', 0.361244019138756),\n",
       " ('ten', 0.361244019138756),\n",
       " ('perfectly', 0.36044657097288674),\n",
       " ('property', 0.35964912280701755),\n",
       " ('example', 0.3580542264752791),\n",
       " ('legal', 0.35566188197767146),\n",
       " ('has', 0.3548644338118022),\n",
       " ('practice', 0.3548644338118022),\n",
       " ('lines', 0.3532695374800638),\n",
       " ('responsibility', 0.34768740031897927),\n",
       " ('opened', 0.34688995215311),\n",
       " ('any', 0.3437001594896332),\n",
       " ('growing', 0.34290271132376393),\n",
       " ('brilliant', 0.3405103668261563),\n",
       " ('account', 0.33891547049441784),\n",
       " ('60', 0.33811802232854865),\n",
       " ('monday', 0.33811802232854865),\n",
       " ('distance', 0.3373205741626794),\n",
       " ('draw', 0.3365231259968102),\n",
       " ('discuss', 0.3349282296650718),\n",
       " ('serve', 0.3317384370015949),\n",
       " ('agreed', 0.3309409888357257),\n",
       " ('slowly', 0.3309409888357257),\n",
       " ('meaning', 0.33014354066985646),\n",
       " ('ears', 0.32854864433811803),\n",
       " ('understood', 0.32854864433811803),\n",
       " ('sudden', 0.32615629984051037),\n",
       " ('weak', 0.3253588516746411),\n",
       " ('prepared', 0.32456140350877194),\n",
       " ('stops', 0.32456140350877194),\n",
       " ('many', 0.3237639553429027),\n",
       " ('pair', 0.3229665071770335),\n",
       " ('runs', 0.3229665071770335),\n",
       " ('fancy', 0.32216905901116427),\n",
       " ('particular', 0.3197767145135566),\n",
       " ('signed', 0.3189792663476874),\n",
       " ('also', 0.3149920255183413),\n",
       " ('prefer', 0.3149920255183413),\n",
       " ('condition', 0.3141945773524721),\n",
       " ('behind', 0.3133971291866029),\n",
       " ('laid', 0.3118022328548644),\n",
       " ('invited', 0.310207336523126),\n",
       " ('member', 0.310207336523126),\n",
       " ('weight', 0.310207336523126),\n",
       " ('reasons', 0.3054226475279107),\n",
       " ('tiny', 0.3038277511961722),\n",
       " ('remain', 0.30303030303030304),\n",
       " ('cheap', 0.29984051036682613),\n",
       " ('exist', 0.29984051036682613),\n",
       " ('harder', 0.2974481658692185),\n",
       " ('tall', 0.2974481658692185),\n",
       " ('drove', 0.2942583732057416),\n",
       " ('expected', 0.2942583732057416),\n",
       " ('full', 0.29106858054226475),\n",
       " ('pleased', 0.2886762360446571),\n",
       " ('eventually', 0.2878787878787879),\n",
       " ('recognize', 0.2878787878787879),\n",
       " ('themselves', 0.2878787878787879),\n",
       " ('being', 0.2862838915470494),\n",
       " ('followed', 0.2862838915470494),\n",
       " ('regular', 0.28309409888357256),\n",
       " ('herself', 0.2822966507177033),\n",
       " ('suggest', 0.2822966507177033),\n",
       " ('sooner', 0.2799043062200957),\n",
       " ('thoughts', 0.2799043062200957),\n",
       " ('passing', 0.27751196172248804),\n",
       " ('watched', 0.2767145135566188),\n",
       " ('nights', 0.2719298245614035),\n",
       " ('covered', 0.2703349282296651),\n",
       " ('usual', 0.2703349282296651),\n",
       " ('spread', 0.26953748006379585),\n",
       " ('sending', 0.2623604465709729),\n",
       " ('ourselves', 0.25757575757575757),\n",
       " ('least', 0.2551834130781499)]"
      ]
     },
     "execution_count": 9,
     "metadata": {},
     "output_type": "execute_result"
    }
   ],
   "source": [
    "# Creating dataframes for good and bad movies, then getting the top words.\n",
    "good_movies_nostop = screenplays_cut[\n",
    "    screenplays_cut.good_or_bad == 1]['no_stop']\n",
    "\n",
    "good_top_words = fun.top_words(words=good_movies_nostop, max_features=5000, \n",
    "          min_df=.2, max_df=1.0)\n",
    "\n",
    "bad_movies_nostop = screenplays_cut[\n",
    "    screenplays_cut.good_or_bad == 0]['no_stop']\n",
    "\n",
    "bad_top_words = fun.top_words(words=bad_movies_nostop, max_features=5000, \n",
    "          min_df=.2, max_df=1.0)\n",
    "\n",
    "# Creating list to separate words from tuples\n",
    "just_bad_words = [wordpair[0] for wordpair in bad_top_words]\n",
    "\n",
    "good_not_bad = [(wordpair[0], wordpair[1]) for wordpair in good_top_words\n",
    "                if wordpair[0] not in just_bad_words]\n",
    "\n",
    "good_not_bad"
   ]
  },
  {
   "cell_type": "markdown",
   "metadata": {},
   "source": [
    "I'm going to get the top words from bad and good that are exclusive from the other side. So, only the top good words than are not in the bad films, and for the bad film list, only the top words that are not in the good film list."
   ]
  },
  {
   "cell_type": "code",
   "execution_count": 10,
   "metadata": {
    "scrolled": true
   },
   "outputs": [
    {
     "data": {
      "text/plain": [
       "[('dude', 1.602280348759222),\n",
       " ('yo', 1.3313212608987257),\n",
       " ('whoo', 1.017437961099933),\n",
       " ('ow', 1.010731052984574),\n",
       " ('cop', 0.8048289738430584),\n",
       " ('agent', 0.778001341381623),\n",
       " ('mommy', 0.7518443997317237),\n",
       " ('sweetie', 0.681421864520456),\n",
       " ('cell', 0.6794097920858484),\n",
       " ('outta', 0.6606304493628438),\n",
       " ('awesome', 0.6264252179745138),\n",
       " ('video', 0.6130114017437961),\n",
       " ('balls', 0.5928906773977196),\n",
       " ('engine', 0.5774647887323944),\n",
       " ('killer', 0.5620389000670691),\n",
       " ('computer', 0.5472837022132797),\n",
       " ('flight', 0.5258215962441315),\n",
       " ('magic', 0.5238095238095238),\n",
       " ('babe', 0.5083836351441985),\n",
       " ('nuts', 0.500335345405768),\n",
       " ('freak', 0.4869215291750503),\n",
       " ('code', 0.4768611670020121),\n",
       " ('super', 0.47283702213279677),\n",
       " ('aw', 0.4708249496981891),\n",
       " ('games', 0.4681421864520456),\n",
       " ('drugs', 0.46680080482897385),\n",
       " ('suck', 0.460093896713615),\n",
       " ('ex', 0.4540576794097921),\n",
       " ('butt', 0.443326626425218),\n",
       " ('bucks', 0.4413145539906103),\n",
       " ('weapon', 0.42521797451374915),\n",
       " ('gosh', 0.4245472837022133),\n",
       " ('insane', 0.41851106639839036),\n",
       " ('pool', 0.41851106639839036),\n",
       " ('pal', 0.4164989939637827),\n",
       " ('kinda', 0.40778001341381626),\n",
       " ('medical', 0.40308517773306507),\n",
       " ('focus', 0.39436619718309857),\n",
       " ('numbers', 0.3856472166331321),\n",
       " ('arrest', 0.3829644533869886),\n",
       " ('ticket', 0.37759892689470154),\n",
       " ('credit', 0.3715627095908786),\n",
       " ('shower', 0.36217303822937624),\n",
       " ('lied', 0.3608316566063045),\n",
       " ('match', 0.3594902749832327),\n",
       " ('screw', 0.35546613011401745),\n",
       " ('career', 0.3534540576794098),\n",
       " ('naked', 0.3534540576794098),\n",
       " ('nope', 0.335345405767941),\n",
       " ('genius', 0.32930918846411805),\n",
       " ('hook', 0.32461435278336687),\n",
       " ('opening', 0.3205902079141516),\n",
       " ('piss', 0.317907444668008),\n",
       " ('cares', 0.31388329979879276),\n",
       " ('headed', 0.31388329979879276),\n",
       " ('screwed', 0.2977867203219316),\n",
       " ('unbelievable', 0.2977867203219316),\n",
       " ('checked', 0.2944332662642522),\n",
       " ('smells', 0.29107981220657275),\n",
       " ('ate', 0.2883970489604292),\n",
       " ('believed', 0.2870556673373575),\n",
       " ('brings', 0.27699530516431925),\n",
       " ('barely', 0.26156941649899396),\n",
       " ('planning', 0.2608987256874581),\n",
       " ('unfortunately', 0.2602280348759222),\n",
       " ('personally', 0.25486250838363517),\n",
       " ('finding', 0.2515090543259557)]"
      ]
     },
     "execution_count": 10,
     "metadata": {},
     "output_type": "execute_result"
    }
   ],
   "source": [
    "# Creating list to separate words from tuples\n",
    "just_good_words = [wordpair[0] for wordpair in good_top_words]\n",
    "\n",
    "bad_not_good = [(wordpair[0], wordpair[1]) for wordpair in bad_top_words\n",
    "                if wordpair[0] not in just_good_words]\n",
    "\n",
    "bad_not_good"
   ]
  },
  {
   "cell_type": "markdown",
   "metadata": {},
   "source": [
    "To get this information into a word cloud, I'm actually going to de-tokenize the words and put them all in a string."
   ]
  },
  {
   "cell_type": "code",
   "execution_count": 11,
   "metadata": {},
   "outputs": [],
   "source": [
    "good_string = ''\n",
    "\n",
    "for wordpair in good_not_bad:\n",
    "    mul = wordpair[1] * 20\n",
    "    word_rep = (wordpair[0] + ' the ')*int(mul)\n",
    "    good_string += word_rep"
   ]
  },
  {
   "cell_type": "markdown",
   "metadata": {},
   "source": [
    "Using image masks found from http://www.clker.com/."
   ]
  },
  {
   "cell_type": "code",
   "execution_count": 12,
   "metadata": {},
   "outputs": [],
   "source": [
    "thumbs_down_mask = np.array(Image.open('images/thumbs-dwn-icon-black-th.svg.hi.png'))\n",
    "thumbs_up_mask = np.array(Image.open('images/thumbs-up-icon-black-hi.png'))"
   ]
  },
  {
   "cell_type": "code",
   "execution_count": 13,
   "metadata": {},
   "outputs": [
    {
     "data": {
      "image/png": "[encoded data removed]",
      "text/plain": [
       "<Figure size 576x576 with 1 Axes>"
      ]
     },
     "metadata": {
      "needs_background": "light"
     },
     "output_type": "display_data"
    }
   ],
   "source": [
    "wordcloud = WordCloud(width=800, height=800, \n",
    "                      min_font_size=10,\n",
    "                      background_color='white',\n",
    "                      collocations=False,\n",
    "                      mask=thumbs_up_mask,\n",
    "                      contour_width=1,\n",
    "                      contour_color='yellow').generate(good_string)\n",
    "\n",
    "plt.figure(figsize=(8, 8), facecolor=None)\n",
    "plt.imshow(wordcloud)\n",
    "plt.axis('off')\n",
    "plt.tight_layout(pad=0)\n",
    "plt.savefig('images/good_cloud.png')\n",
    "plt.show()"
   ]
  },
  {
   "cell_type": "markdown",
   "metadata": {},
   "source": [
    "Same code used for the thumbs down word cloud for the bad films."
   ]
  },
  {
   "cell_type": "code",
   "execution_count": 14,
   "metadata": {},
   "outputs": [],
   "source": [
    "bad_string = ''\n",
    "\n",
    "for wordpair in bad_not_good:\n",
    "    # 20 is an arbitrary number; just need something to break them apart.\n",
    "    mul = wordpair[1] * 20\n",
    "    word_rep = (wordpair[0] + ' the ')*int(mul)\n",
    "    bad_string += word_rep"
   ]
  },
  {
   "cell_type": "code",
   "execution_count": 15,
   "metadata": {},
   "outputs": [
    {
     "data": {
      "image/png": "[encoded data removed]",
      "text/plain": [
       "<Figure size 576x576 with 1 Axes>"
      ]
     },
     "metadata": {
      "needs_background": "light"
     },
     "output_type": "display_data"
    }
   ],
   "source": [
    "wordcloud = WordCloud(width=800, height=800, \n",
    "                      min_font_size=10,\n",
    "                      background_color='white',\n",
    "                      collocations=False,\n",
    "                      mask=thumbs_down_mask,\n",
    "                      contour_width=1,\n",
    "                      contour_color='yellow').generate(bad_string)\n",
    "\n",
    "plt.figure(figsize=(8, 8), facecolor=None)\n",
    "plt.imshow(wordcloud)\n",
    "plt.axis('off')\n",
    "plt.tight_layout(pad=0)\n",
    "plt.savefig('images/bad_cloud.png')\n",
    "plt.show()"
   ]
  },
  {
   "cell_type": "markdown",
   "metadata": {},
   "source": [
    "Some definite patterns emerge."
   ]
  },
  {
   "cell_type": "markdown",
   "metadata": {},
   "source": [
    "# Dashboard"
   ]
  },
  {
   "cell_type": "markdown",
   "metadata": {},
   "source": [
    "## POS Histogram"
   ]
  },
  {
   "cell_type": "markdown",
   "metadata": {},
   "source": [
    "For the histogram/distplot dropdown, I'll need to create materials to tell the dashboard what to show and options to choose from.\n",
    "\n",
    "Note that the actual code for the graph has been moved below so that it can appear in the dash callback."
   ]
  },
  {
   "cell_type": "code",
   "execution_count": 167,
   "metadata": {},
   "outputs": [],
   "source": [
    "POS_abb = screenplays_cut.columns[list(screenplays_cut.columns).index(\n",
    "    'word_count'):\n",
    "                                  list(screenplays_cut.columns).index(\n",
    "                                      'sentence_length')+1]\n",
    "POS_abb = POS_abb.append(screenplays_cut.columns[list(screenplays_cut.columns).index(\n",
    "    'PROPN'):\n",
    "                                   list(screenplays_cut.columns).index(\n",
    "                                       'PRON')+1])\n",
    "\n",
    "# Removing items that just weren't helpful.\n",
    "POS_abb = list(POS_abb)\n",
    "POS_abb.remove('sentiment_scores')\n",
    "POS_abb.remove('sentiment_compound')\n",
    "POS_abb.remove('colon_ratios')\n",
    "POS_abb.remove('semi_ratios')\n",
    "POS_abb.remove('SYM')\n",
    "POS_abb.remove('X')\n",
    "POS_abb.remove('SPACE')"
   ]
  },
  {
   "cell_type": "code",
   "execution_count": 168,
   "metadata": {},
   "outputs": [],
   "source": [
    "# List of items to include in the dropdown. Even though I refer to the list\n",
    "# as POS, there are a few more attributes than just parts of speech.\n",
    "POS_desc = ['WORD COUNT', 'UNIQUE WORDS', 'NEGATIVE SENTIMENT', \n",
    "            'NEUTRAL SENTIMENT', 'POSITIVE SENTIMENT',\n",
    "            'COMMAS', 'ELLIPSES', 'SENTENCE LENGTH',\n",
    "            'PROPER NOUN', 'PUNCTUATION', 'SYMBOL', 'VERB', 'OTHER',\n",
    "            'SPACE', 'ADJECTIVE', 'ADPOSITION', 'ADVERB', \n",
    "            'AUXILLIARY', 'COORDINATING CONJUNCTION', 'DETERMINER',\n",
    "            'INTERJECTION', 'NOUN', 'NUMERICAL', 'PARTICIPLE',\n",
    "            'PRONOUN']\n",
    "\n",
    "# This will marry the label (viewer-facing) to the value (data-facing).\n",
    "POS_hist_dict = dict(zip(POS_abb, POS_desc))\n",
    "\n",
    "# This will Put everything into its final format needed by dash.\n",
    "POS_hist_selector_list = []\n",
    "\n",
    "for k,v in POS_hist_dict.items():\n",
    "    temp = dict()\n",
    "    temp['label'] = v\n",
    "    temp['value'] = k\n",
    "    POS_hist_selector_list.append(temp)"
   ]
  },
  {
   "cell_type": "markdown",
   "metadata": {},
   "source": [
    "## Correlation Graph"
   ]
  },
  {
   "cell_type": "markdown",
   "metadata": {},
   "source": [
    "Using XG Boost model to create feature importances to graph later on."
   ]
  },
  {
   "cell_type": "code",
   "execution_count": 169,
   "metadata": {
    "scrolled": false
   },
   "outputs": [
    {
     "name": "stdout",
     "output_type": "stream",
     "text": [
      "hey          0.009930\n",
      "alive        0.003899\n",
      "fuck it      0.003676\n",
      "how going    0.003661\n",
      "cat          0.003245\n",
      "coat         0.003184\n",
      "need help    0.002784\n",
      "trust me     0.002781\n",
      "oh god       0.002777\n",
      "happy you    0.002714\n",
      "out we       0.002694\n",
      "sound        0.002683\n",
      "wine         0.002604\n",
      "suppose      0.002511\n",
      "saturday     0.002471\n",
      "dtype: float32\n"
     ]
    }
   ],
   "source": [
    "# The usual classification setup. I won't need test sets since all I'm looking\n",
    "# for is the feature importance, and not the actual scoring or predictions.\n",
    "\n",
    "X_train = screenplays_cut.no_stop\n",
    "y_train = screenplays_cut.good_or_bad\n",
    "\n",
    "# This will be the TFIDF version of the classification, since it was the most\n",
    "# accurate.\n",
    "tfidf = TfidfVectorizer(max_df=.95, min_df=.1, max_features=5000,\n",
    "                         ngram_range=(1,2))\n",
    "X2 = tfidf.fit_transform(X_train)\n",
    "\n",
    "# There a few more bad scripts than good ones, so I'll make them even.\n",
    "rus = RandomUnderSampler(random_state=42)\n",
    "X_resampled, y_resampled = rus.fit_resample(pd.DataFrame(X2), y_train)\n",
    "\n",
    "clf = XGBClassifier(max_depth=8,\n",
    "                    criterion='entropy',\n",
    "                    min_samples_split=14,\n",
    "                    min_samples_leaf=1,\n",
    "                    max_features=160)\n",
    "\n",
    "clf.fit(X2, y_train)\n",
    "\n",
    "columns = tfidf.get_feature_names()\n",
    "\n",
    "# Printing and plotting.\n",
    "print(pd.Series(clf.feature_importances_,\n",
    "              index=columns).sort_values(ascending=False).head(15))\n",
    "df_importance = pd.Series(clf.feature_importances_, \n",
    "                          index=columns)\n",
    "df_importance = df_importance.sort_values(ascending=True).tail(60)\n",
    "# df_importance.plot(kind='barh', figsize=(8,15))\n",
    "# plt.title('Most Important Features')\n",
    "# plt.ylabel('Feature Name')\n",
    "# plt.xlabel('Feature Importance')\n",
    "plt.show()"
   ]
  },
  {
   "cell_type": "markdown",
   "metadata": {},
   "source": [
    "Once I have the impoirtant features, I'll sort them and marry them up to a correlation matrix so that I can show how much the goood and bad movies are correlated to each top feature (word)."
   ]
  },
  {
   "cell_type": "code",
   "execution_count": 170,
   "metadata": {},
   "outputs": [],
   "source": [
    "df_importance.sort_values(ascending=False, inplace=True)\n",
    "\n",
    "important_df = pd.SparseDataFrame(X2, columns=tfidf.get_feature_names(),\n",
    "                               default_fill_value=0 )\n",
    "\n",
    "important_df = important_df[list(df_importance.index)]\n",
    "important_df['good_or_bad'] = y_train\n",
    "\n",
    "important_corr = important_df.corr()"
   ]
  },
  {
   "cell_type": "code",
   "execution_count": 171,
   "metadata": {},
   "outputs": [
    {
     "name": "stderr",
     "output_type": "stream",
     "text": [
      "//anaconda3/lib/python3.7/site-packages/ipykernel_launcher.py:12: FutureWarning:\n",
      "\n",
      "set_value is deprecated and will be removed in a future release. Please use .at[] or .iat[] accessors instead\n",
      "\n"
     ]
    }
   ],
   "source": [
    "# I have to get rid of the rating column itself since it's not part of the \n",
    "# actual word list.\n",
    "feature_corr = important_corr.good_or_bad.drop('good_or_bad', axis=0)\n",
    "\n",
    "# Then separate out the good and the bad.\n",
    "good_corr = important_corr[important_corr['good_or_bad'] > 0]['good_or_bad']\n",
    "bad_corr = important_corr[important_corr['good_or_bad'] <= 0]['good_or_bad']\n",
    "\n",
    "# Putting it all together\n",
    "for i,v in bad_corr.items():\n",
    "    value = v + abs(v*2)\n",
    "    bad_corr.set_value(i,value) \n",
    "features_for_graph = pd.DataFrame([feature_corr, good_corr, bad_corr], \n",
    "                                  columns=['features', 'awesome', 'awful'])"
   ]
  },
  {
   "cell_type": "markdown",
   "metadata": {},
   "source": [
    "Creating the information that the dash will need to toggle the 3 bar graphs."
   ]
  },
  {
   "cell_type": "code",
   "execution_count": 172,
   "metadata": {},
   "outputs": [],
   "source": [
    "features_for_graph = {'features':df_importance, 'awesome':good_corr,\n",
    "                          'awful':bad_corr}\n",
    "\n",
    "features_for_graph = pd.DataFrame.from_dict(features_for_graph)\n",
    "#     .drop('good_or_bad', axis=0)\n",
    "\n",
    "# Carving out the class column.\n",
    "# good_corr = good_corr.drop('good_or_bad')\n",
    "# bad_corr = bad_corr.drop('good_or_bad')"
   ]
  },
  {
   "cell_type": "code",
   "execution_count": null,
   "metadata": {},
   "outputs": [],
   "source": []
  },
  {
   "cell_type": "markdown",
   "metadata": {},
   "source": [
    "Test graphic"
   ]
  },
  {
   "cell_type": "code",
   "execution_count": 173,
   "metadata": {},
   "outputs": [
    {
     "data": {
      "application/vnd.plotly.v1+json": {
       "config": {
        "plotlyServerURL": "https://plot.ly"
       },
       "data": [
        {
         "marker": {
          "color": "rgba(250, 250, 0, .5)",
          "line": {
           "color": "rgba(0,0,0,1)",
           "width": 1
          }
         },
         "orientation": "h",
         "type": "bar",
         "x": [
          0.25145993877066497,
          0.059897967017587525,
          0.01867867095917472,
          0.00761660909920505,
          0.019595335950220217,
          0.13327913581515546,
          0.1756179220363524,
          0.2655391674495407,
          0.0542969603824465,
          0.1713471383550096,
          0.00803801057849964,
          0.003392126340996992,
          0.07509853127259408,
          0.03612106296890301,
          0.041766600551668684,
          0.011526486268434919,
          0.009716949939200751,
          0.06752974669951914,
          0.07238135192285124,
          0.07982433825784342,
          0.02958981974733287,
          0.004030854101638077,
          0.0623073240748036,
          0.04766896482713068,
          0.07328083372803611,
          0.01130273165013579,
          0.02220175668174516
         ],
         "y": [
          "hey",
          "alive",
          "fuck it",
          "how going",
          "cat",
          "need help",
          "trust me",
          "oh god",
          "help you",
          "go go",
          "protection",
          "know say",
          "breathe",
          "high school",
          "tickets",
          "piss",
          "mistake",
          "chick",
          "closet",
          "hang",
          "can hear",
          "it way",
          "makes sense",
          "okay good",
          "protect",
          "hit me",
          "training"
         ]
        }
       ],
       "layout": {
        "height": 600,
        "template": {
         "data": {
          "bar": [
           {
            "error_x": {
             "color": "#2a3f5f"
            },
            "error_y": {
             "color": "#2a3f5f"
            },
            "marker": {
             "line": {
              "color": "#E5ECF6",
              "width": 0.5
             }
            },
            "type": "bar"
           }
          ],
          "barpolar": [
           {
            "marker": {
             "line": {
              "color": "#E5ECF6",
              "width": 0.5
             }
            },
            "type": "barpolar"
           }
          ],
          "carpet": [
           {
            "aaxis": {
             "endlinecolor": "#2a3f5f",
             "gridcolor": "white",
             "linecolor": "white",
             "minorgridcolor": "white",
             "startlinecolor": "#2a3f5f"
            },
            "baxis": {
             "endlinecolor": "#2a3f5f",
             "gridcolor": "white",
             "linecolor": "white",
             "minorgridcolor": "white",
             "startlinecolor": "#2a3f5f"
            },
            "type": "carpet"
           }
          ],
          "choropleth": [
           {
            "colorbar": {
             "outlinewidth": 0,
             "ticks": ""
            },
            "type": "choropleth"
           }
          ],
          "contour": [
           {
            "colorbar": {
             "outlinewidth": 0,
             "ticks": ""
            },
            "colorscale": [
             [
              0,
              "#0d0887"
             ],
             [
              0.1111111111111111,
              "#46039f"
             ],
             [
              0.2222222222222222,
              "#7201a8"
             ],
             [
              0.3333333333333333,
              "#9c179e"
             ],
             [
              0.4444444444444444,
              "#bd3786"
             ],
             [
              0.5555555555555556,
              "#d8576b"
             ],
             [
              0.6666666666666666,
              "#ed7953"
             ],
             [
              0.7777777777777778,
              "#fb9f3a"
             ],
             [
              0.8888888888888888,
              "#fdca26"
             ],
             [
              1,
              "#f0f921"
             ]
            ],
            "type": "contour"
           }
          ],
          "contourcarpet": [
           {
            "colorbar": {
             "outlinewidth": 0,
             "ticks": ""
            },
            "type": "contourcarpet"
           }
          ],
          "heatmap": [
           {
            "colorbar": {
             "outlinewidth": 0,
             "ticks": ""
            },
            "colorscale": [
             [
              0,
              "#0d0887"
             ],
             [
              0.1111111111111111,
              "#46039f"
             ],
             [
              0.2222222222222222,
              "#7201a8"
             ],
             [
              0.3333333333333333,
              "#9c179e"
             ],
             [
              0.4444444444444444,
              "#bd3786"
             ],
             [
              0.5555555555555556,
              "#d8576b"
             ],
             [
              0.6666666666666666,
              "#ed7953"
             ],
             [
              0.7777777777777778,
              "#fb9f3a"
             ],
             [
              0.8888888888888888,
              "#fdca26"
             ],
             [
              1,
              "#f0f921"
             ]
            ],
            "type": "heatmap"
           }
          ],
          "heatmapgl": [
           {
            "colorbar": {
             "outlinewidth": 0,
             "ticks": ""
            },
            "colorscale": [
             [
              0,
              "#0d0887"
             ],
             [
              0.1111111111111111,
              "#46039f"
             ],
             [
              0.2222222222222222,
              "#7201a8"
             ],
             [
              0.3333333333333333,
              "#9c179e"
             ],
             [
              0.4444444444444444,
              "#bd3786"
             ],
             [
              0.5555555555555556,
              "#d8576b"
             ],
             [
              0.6666666666666666,
              "#ed7953"
             ],
             [
              0.7777777777777778,
              "#fb9f3a"
             ],
             [
              0.8888888888888888,
              "#fdca26"
             ],
             [
              1,
              "#f0f921"
             ]
            ],
            "type": "heatmapgl"
           }
          ],
          "histogram": [
           {
            "marker": {
             "colorbar": {
              "outlinewidth": 0,
              "ticks": ""
             }
            },
            "type": "histogram"
           }
          ],
          "histogram2d": [
           {
            "colorbar": {
             "outlinewidth": 0,
             "ticks": ""
            },
            "colorscale": [
             [
              0,
              "#0d0887"
             ],
             [
              0.1111111111111111,
              "#46039f"
             ],
             [
              0.2222222222222222,
              "#7201a8"
             ],
             [
              0.3333333333333333,
              "#9c179e"
             ],
             [
              0.4444444444444444,
              "#bd3786"
             ],
             [
              0.5555555555555556,
              "#d8576b"
             ],
             [
              0.6666666666666666,
              "#ed7953"
             ],
             [
              0.7777777777777778,
              "#fb9f3a"
             ],
             [
              0.8888888888888888,
              "#fdca26"
             ],
             [
              1,
              "#f0f921"
             ]
            ],
            "type": "histogram2d"
           }
          ],
          "histogram2dcontour": [
           {
            "colorbar": {
             "outlinewidth": 0,
             "ticks": ""
            },
            "colorscale": [
             [
              0,
              "#0d0887"
             ],
             [
              0.1111111111111111,
              "#46039f"
             ],
             [
              0.2222222222222222,
              "#7201a8"
             ],
             [
              0.3333333333333333,
              "#9c179e"
             ],
             [
              0.4444444444444444,
              "#bd3786"
             ],
             [
              0.5555555555555556,
              "#d8576b"
             ],
             [
              0.6666666666666666,
              "#ed7953"
             ],
             [
              0.7777777777777778,
              "#fb9f3a"
             ],
             [
              0.8888888888888888,
              "#fdca26"
             ],
             [
              1,
              "#f0f921"
             ]
            ],
            "type": "histogram2dcontour"
           }
          ],
          "mesh3d": [
           {
            "colorbar": {
             "outlinewidth": 0,
             "ticks": ""
            },
            "type": "mesh3d"
           }
          ],
          "parcoords": [
           {
            "line": {
             "colorbar": {
              "outlinewidth": 0,
              "ticks": ""
             }
            },
            "type": "parcoords"
           }
          ],
          "pie": [
           {
            "automargin": true,
            "type": "pie"
           }
          ],
          "scatter": [
           {
            "marker": {
             "colorbar": {
              "outlinewidth": 0,
              "ticks": ""
             }
            },
            "type": "scatter"
           }
          ],
          "scatter3d": [
           {
            "line": {
             "colorbar": {
              "outlinewidth": 0,
              "ticks": ""
             }
            },
            "marker": {
             "colorbar": {
              "outlinewidth": 0,
              "ticks": ""
             }
            },
            "type": "scatter3d"
           }
          ],
          "scattercarpet": [
           {
            "marker": {
             "colorbar": {
              "outlinewidth": 0,
              "ticks": ""
             }
            },
            "type": "scattercarpet"
           }
          ],
          "scattergeo": [
           {
            "marker": {
             "colorbar": {
              "outlinewidth": 0,
              "ticks": ""
             }
            },
            "type": "scattergeo"
           }
          ],
          "scattergl": [
           {
            "marker": {
             "colorbar": {
              "outlinewidth": 0,
              "ticks": ""
             }
            },
            "type": "scattergl"
           }
          ],
          "scattermapbox": [
           {
            "marker": {
             "colorbar": {
              "outlinewidth": 0,
              "ticks": ""
             }
            },
            "type": "scattermapbox"
           }
          ],
          "scatterpolar": [
           {
            "marker": {
             "colorbar": {
              "outlinewidth": 0,
              "ticks": ""
             }
            },
            "type": "scatterpolar"
           }
          ],
          "scatterpolargl": [
           {
            "marker": {
             "colorbar": {
              "outlinewidth": 0,
              "ticks": ""
             }
            },
            "type": "scatterpolargl"
           }
          ],
          "scatterternary": [
           {
            "marker": {
             "colorbar": {
              "outlinewidth": 0,
              "ticks": ""
             }
            },
            "type": "scatterternary"
           }
          ],
          "surface": [
           {
            "colorbar": {
             "outlinewidth": 0,
             "ticks": ""
            },
            "colorscale": [
             [
              0,
              "#0d0887"
             ],
             [
              0.1111111111111111,
              "#46039f"
             ],
             [
              0.2222222222222222,
              "#7201a8"
             ],
             [
              0.3333333333333333,
              "#9c179e"
             ],
             [
              0.4444444444444444,
              "#bd3786"
             ],
             [
              0.5555555555555556,
              "#d8576b"
             ],
             [
              0.6666666666666666,
              "#ed7953"
             ],
             [
              0.7777777777777778,
              "#fb9f3a"
             ],
             [
              0.8888888888888888,
              "#fdca26"
             ],
             [
              1,
              "#f0f921"
             ]
            ],
            "type": "surface"
           }
          ],
          "table": [
           {
            "cells": {
             "fill": {
              "color": "#EBF0F8"
             },
             "line": {
              "color": "white"
             }
            },
            "header": {
             "fill": {
              "color": "#C8D4E3"
             },
             "line": {
              "color": "white"
             }
            },
            "type": "table"
           }
          ]
         },
         "layout": {
          "annotationdefaults": {
           "arrowcolor": "#2a3f5f",
           "arrowhead": 0,
           "arrowwidth": 1
          },
          "coloraxis": {
           "colorbar": {
            "outlinewidth": 0,
            "ticks": ""
           }
          },
          "colorscale": {
           "diverging": [
            [
             0,
             "#8e0152"
            ],
            [
             0.1,
             "#c51b7d"
            ],
            [
             0.2,
             "#de77ae"
            ],
            [
             0.3,
             "#f1b6da"
            ],
            [
             0.4,
             "#fde0ef"
            ],
            [
             0.5,
             "#f7f7f7"
            ],
            [
             0.6,
             "#e6f5d0"
            ],
            [
             0.7,
             "#b8e186"
            ],
            [
             0.8,
             "#7fbc41"
            ],
            [
             0.9,
             "#4d9221"
            ],
            [
             1,
             "#276419"
            ]
           ],
           "sequential": [
            [
             0,
             "#0d0887"
            ],
            [
             0.1111111111111111,
             "#46039f"
            ],
            [
             0.2222222222222222,
             "#7201a8"
            ],
            [
             0.3333333333333333,
             "#9c179e"
            ],
            [
             0.4444444444444444,
             "#bd3786"
            ],
            [
             0.5555555555555556,
             "#d8576b"
            ],
            [
             0.6666666666666666,
             "#ed7953"
            ],
            [
             0.7777777777777778,
             "#fb9f3a"
            ],
            [
             0.8888888888888888,
             "#fdca26"
            ],
            [
             1,
             "#f0f921"
            ]
           ],
           "sequentialminus": [
            [
             0,
             "#0d0887"
            ],
            [
             0.1111111111111111,
             "#46039f"
            ],
            [
             0.2222222222222222,
             "#7201a8"
            ],
            [
             0.3333333333333333,
             "#9c179e"
            ],
            [
             0.4444444444444444,
             "#bd3786"
            ],
            [
             0.5555555555555556,
             "#d8576b"
            ],
            [
             0.6666666666666666,
             "#ed7953"
            ],
            [
             0.7777777777777778,
             "#fb9f3a"
            ],
            [
             0.8888888888888888,
             "#fdca26"
            ],
            [
             1,
             "#f0f921"
            ]
           ]
          },
          "colorway": [
           "#636efa",
           "#EF553B",
           "#00cc96",
           "#ab63fa",
           "#FFA15A",
           "#19d3f3",
           "#FF6692",
           "#B6E880",
           "#FF97FF",
           "#FECB52"
          ],
          "font": {
           "color": "#2a3f5f"
          },
          "geo": {
           "bgcolor": "white",
           "lakecolor": "white",
           "landcolor": "#E5ECF6",
           "showlakes": true,
           "showland": true,
           "subunitcolor": "white"
          },
          "hoverlabel": {
           "align": "left"
          },
          "hovermode": "closest",
          "mapbox": {
           "style": "light"
          },
          "paper_bgcolor": "white",
          "plot_bgcolor": "#E5ECF6",
          "polar": {
           "angularaxis": {
            "gridcolor": "white",
            "linecolor": "white",
            "ticks": ""
           },
           "bgcolor": "#E5ECF6",
           "radialaxis": {
            "gridcolor": "white",
            "linecolor": "white",
            "ticks": ""
           }
          },
          "scene": {
           "xaxis": {
            "backgroundcolor": "#E5ECF6",
            "gridcolor": "white",
            "gridwidth": 2,
            "linecolor": "white",
            "showbackground": true,
            "ticks": "",
            "zerolinecolor": "white"
           },
           "yaxis": {
            "backgroundcolor": "#E5ECF6",
            "gridcolor": "white",
            "gridwidth": 2,
            "linecolor": "white",
            "showbackground": true,
            "ticks": "",
            "zerolinecolor": "white"
           },
           "zaxis": {
            "backgroundcolor": "#E5ECF6",
            "gridcolor": "white",
            "gridwidth": 2,
            "linecolor": "white",
            "showbackground": true,
            "ticks": "",
            "zerolinecolor": "white"
           }
          },
          "shapedefaults": {
           "line": {
            "color": "#2a3f5f"
           }
          },
          "ternary": {
           "aaxis": {
            "gridcolor": "white",
            "linecolor": "white",
            "ticks": ""
           },
           "baxis": {
            "gridcolor": "white",
            "linecolor": "white",
            "ticks": ""
           },
           "bgcolor": "#E5ECF6",
           "caxis": {
            "gridcolor": "white",
            "linecolor": "white",
            "ticks": ""
           }
          },
          "title": {
           "x": 0.05
          },
          "xaxis": {
           "automargin": true,
           "gridcolor": "white",
           "linecolor": "white",
           "ticks": "",
           "title": {
            "standoff": 15
           },
           "zerolinecolor": "white",
           "zerolinewidth": 2
          },
          "yaxis": {
           "automargin": true,
           "gridcolor": "white",
           "linecolor": "white",
           "ticks": "",
           "title": {
            "standoff": 15
           },
           "zerolinecolor": "white",
           "zerolinewidth": 2
          }
         }
        },
        "width": 400,
        "yaxis": {
         "autorange": "reversed"
        }
       }
      },
      "text/html": [
       "<div>\n",
       "        \n",
       "        \n",
       "            <div id=\"2446e2db-4676-4397-93ff-6c5afc6ff296\" class=\"plotly-graph-div\" style=\"height:600px; width:400px;\"></div>\n",
       "            <script type=\"text/javascript\">\n",
       "                require([\"plotly\"], function(Plotly) {\n",
       "                    window.PLOTLYENV=window.PLOTLYENV || {};\n",
       "                    \n",
       "                if (document.getElementById(\"2446e2db-4676-4397-93ff-6c5afc6ff296\")) {\n",
       "                    Plotly.newPlot(\n",
       "                        '2446e2db-4676-4397-93ff-6c5afc6ff296',\n",
       "                        [{\"marker\": {\"color\": \"rgba(250, 250, 0, .5)\", \"line\": {\"color\": \"rgba(0,0,0,1)\", \"width\": 1}}, \"orientation\": \"h\", \"type\": \"bar\", \"x\": [0.25145993877066497, 0.059897967017587525, 0.01867867095917472, 0.00761660909920505, 0.019595335950220217, 0.13327913581515546, 0.1756179220363524, 0.2655391674495407, 0.0542969603824465, 0.1713471383550096, 0.00803801057849964, 0.003392126340996992, 0.07509853127259408, 0.03612106296890301, 0.041766600551668684, 0.011526486268434919, 0.009716949939200751, 0.06752974669951914, 0.07238135192285124, 0.07982433825784342, 0.02958981974733287, 0.004030854101638077, 0.0623073240748036, 0.04766896482713068, 0.07328083372803611, 0.01130273165013579, 0.02220175668174516], \"y\": [\"hey\", \"alive\", \"fuck it\", \"how going\", \"cat\", \"need help\", \"trust me\", \"oh god\", \"help you\", \"go go\", \"protection\", \"know say\", \"breathe\", \"high school\", \"tickets\", \"piss\", \"mistake\", \"chick\", \"closet\", \"hang\", \"can hear\", \"it way\", \"makes sense\", \"okay good\", \"protect\", \"hit me\", \"training\"]}],\n",
       "                        {\"height\": 600, \"template\": {\"data\": {\"bar\": [{\"error_x\": {\"color\": \"#2a3f5f\"}, \"error_y\": {\"color\": \"#2a3f5f\"}, \"marker\": {\"line\": {\"color\": \"#E5ECF6\", \"width\": 0.5}}, \"type\": \"bar\"}], \"barpolar\": [{\"marker\": {\"line\": {\"color\": \"#E5ECF6\", \"width\": 0.5}}, \"type\": \"barpolar\"}], \"carpet\": [{\"aaxis\": {\"endlinecolor\": \"#2a3f5f\", \"gridcolor\": \"white\", \"linecolor\": \"white\", \"minorgridcolor\": \"white\", \"startlinecolor\": \"#2a3f5f\"}, \"baxis\": {\"endlinecolor\": \"#2a3f5f\", \"gridcolor\": \"white\", \"linecolor\": \"white\", \"minorgridcolor\": \"white\", \"startlinecolor\": \"#2a3f5f\"}, \"type\": \"carpet\"}], \"choropleth\": [{\"colorbar\": {\"outlinewidth\": 0, \"ticks\": \"\"}, \"type\": \"choropleth\"}], \"contour\": [{\"colorbar\": {\"outlinewidth\": 0, \"ticks\": \"\"}, \"colorscale\": [[0.0, \"#0d0887\"], [0.1111111111111111, \"#46039f\"], [0.2222222222222222, \"#7201a8\"], [0.3333333333333333, \"#9c179e\"], [0.4444444444444444, \"#bd3786\"], [0.5555555555555556, \"#d8576b\"], [0.6666666666666666, \"#ed7953\"], [0.7777777777777778, \"#fb9f3a\"], [0.8888888888888888, \"#fdca26\"], [1.0, \"#f0f921\"]], \"type\": \"contour\"}], \"contourcarpet\": [{\"colorbar\": {\"outlinewidth\": 0, \"ticks\": \"\"}, \"type\": \"contourcarpet\"}], \"heatmap\": [{\"colorbar\": {\"outlinewidth\": 0, \"ticks\": \"\"}, \"colorscale\": [[0.0, \"#0d0887\"], [0.1111111111111111, \"#46039f\"], [0.2222222222222222, \"#7201a8\"], [0.3333333333333333, \"#9c179e\"], [0.4444444444444444, \"#bd3786\"], [0.5555555555555556, \"#d8576b\"], [0.6666666666666666, \"#ed7953\"], [0.7777777777777778, \"#fb9f3a\"], [0.8888888888888888, \"#fdca26\"], [1.0, \"#f0f921\"]], \"type\": \"heatmap\"}], \"heatmapgl\": [{\"colorbar\": {\"outlinewidth\": 0, \"ticks\": \"\"}, \"colorscale\": [[0.0, \"#0d0887\"], [0.1111111111111111, \"#46039f\"], [0.2222222222222222, \"#7201a8\"], [0.3333333333333333, \"#9c179e\"], [0.4444444444444444, \"#bd3786\"], [0.5555555555555556, \"#d8576b\"], [0.6666666666666666, \"#ed7953\"], [0.7777777777777778, \"#fb9f3a\"], [0.8888888888888888, \"#fdca26\"], [1.0, \"#f0f921\"]], \"type\": \"heatmapgl\"}], \"histogram\": [{\"marker\": {\"colorbar\": {\"outlinewidth\": 0, \"ticks\": \"\"}}, \"type\": \"histogram\"}], \"histogram2d\": [{\"colorbar\": {\"outlinewidth\": 0, \"ticks\": \"\"}, \"colorscale\": [[0.0, \"#0d0887\"], [0.1111111111111111, \"#46039f\"], [0.2222222222222222, \"#7201a8\"], [0.3333333333333333, \"#9c179e\"], [0.4444444444444444, \"#bd3786\"], [0.5555555555555556, \"#d8576b\"], [0.6666666666666666, \"#ed7953\"], [0.7777777777777778, \"#fb9f3a\"], [0.8888888888888888, \"#fdca26\"], [1.0, \"#f0f921\"]], \"type\": \"histogram2d\"}], \"histogram2dcontour\": [{\"colorbar\": {\"outlinewidth\": 0, \"ticks\": \"\"}, \"colorscale\": [[0.0, \"#0d0887\"], [0.1111111111111111, \"#46039f\"], [0.2222222222222222, \"#7201a8\"], [0.3333333333333333, \"#9c179e\"], [0.4444444444444444, \"#bd3786\"], [0.5555555555555556, \"#d8576b\"], [0.6666666666666666, \"#ed7953\"], [0.7777777777777778, \"#fb9f3a\"], [0.8888888888888888, \"#fdca26\"], [1.0, \"#f0f921\"]], \"type\": \"histogram2dcontour\"}], \"mesh3d\": [{\"colorbar\": {\"outlinewidth\": 0, \"ticks\": \"\"}, \"type\": \"mesh3d\"}], \"parcoords\": [{\"line\": {\"colorbar\": {\"outlinewidth\": 0, \"ticks\": \"\"}}, \"type\": \"parcoords\"}], \"pie\": [{\"automargin\": true, \"type\": \"pie\"}], \"scatter\": [{\"marker\": {\"colorbar\": {\"outlinewidth\": 0, \"ticks\": \"\"}}, \"type\": \"scatter\"}], \"scatter3d\": [{\"line\": {\"colorbar\": {\"outlinewidth\": 0, \"ticks\": \"\"}}, \"marker\": {\"colorbar\": {\"outlinewidth\": 0, \"ticks\": \"\"}}, \"type\": \"scatter3d\"}], \"scattercarpet\": [{\"marker\": {\"colorbar\": {\"outlinewidth\": 0, \"ticks\": \"\"}}, \"type\": \"scattercarpet\"}], \"scattergeo\": [{\"marker\": {\"colorbar\": {\"outlinewidth\": 0, \"ticks\": \"\"}}, \"type\": \"scattergeo\"}], \"scattergl\": [{\"marker\": {\"colorbar\": {\"outlinewidth\": 0, \"ticks\": \"\"}}, \"type\": \"scattergl\"}], \"scattermapbox\": [{\"marker\": {\"colorbar\": {\"outlinewidth\": 0, \"ticks\": \"\"}}, \"type\": \"scattermapbox\"}], \"scatterpolar\": [{\"marker\": {\"colorbar\": {\"outlinewidth\": 0, \"ticks\": \"\"}}, \"type\": \"scatterpolar\"}], \"scatterpolargl\": [{\"marker\": {\"colorbar\": {\"outlinewidth\": 0, \"ticks\": \"\"}}, \"type\": \"scatterpolargl\"}], \"scatterternary\": [{\"marker\": {\"colorbar\": {\"outlinewidth\": 0, \"ticks\": \"\"}}, \"type\": \"scatterternary\"}], \"surface\": [{\"colorbar\": {\"outlinewidth\": 0, \"ticks\": \"\"}, \"colorscale\": [[0.0, \"#0d0887\"], [0.1111111111111111, \"#46039f\"], [0.2222222222222222, \"#7201a8\"], [0.3333333333333333, \"#9c179e\"], [0.4444444444444444, \"#bd3786\"], [0.5555555555555556, \"#d8576b\"], [0.6666666666666666, \"#ed7953\"], [0.7777777777777778, \"#fb9f3a\"], [0.8888888888888888, \"#fdca26\"], [1.0, \"#f0f921\"]], \"type\": \"surface\"}], \"table\": [{\"cells\": {\"fill\": {\"color\": \"#EBF0F8\"}, \"line\": {\"color\": \"white\"}}, \"header\": {\"fill\": {\"color\": \"#C8D4E3\"}, \"line\": {\"color\": \"white\"}}, \"type\": \"table\"}]}, \"layout\": {\"annotationdefaults\": {\"arrowcolor\": \"#2a3f5f\", \"arrowhead\": 0, \"arrowwidth\": 1}, \"coloraxis\": {\"colorbar\": {\"outlinewidth\": 0, \"ticks\": \"\"}}, \"colorscale\": {\"diverging\": [[0, \"#8e0152\"], [0.1, \"#c51b7d\"], [0.2, \"#de77ae\"], [0.3, \"#f1b6da\"], [0.4, \"#fde0ef\"], [0.5, \"#f7f7f7\"], [0.6, \"#e6f5d0\"], [0.7, \"#b8e186\"], [0.8, \"#7fbc41\"], [0.9, \"#4d9221\"], [1, \"#276419\"]], \"sequential\": [[0.0, \"#0d0887\"], [0.1111111111111111, \"#46039f\"], [0.2222222222222222, \"#7201a8\"], [0.3333333333333333, \"#9c179e\"], [0.4444444444444444, \"#bd3786\"], [0.5555555555555556, \"#d8576b\"], [0.6666666666666666, \"#ed7953\"], [0.7777777777777778, \"#fb9f3a\"], [0.8888888888888888, \"#fdca26\"], [1.0, \"#f0f921\"]], \"sequentialminus\": [[0.0, \"#0d0887\"], [0.1111111111111111, \"#46039f\"], [0.2222222222222222, \"#7201a8\"], [0.3333333333333333, \"#9c179e\"], [0.4444444444444444, \"#bd3786\"], [0.5555555555555556, \"#d8576b\"], [0.6666666666666666, \"#ed7953\"], [0.7777777777777778, \"#fb9f3a\"], [0.8888888888888888, \"#fdca26\"], [1.0, \"#f0f921\"]]}, \"colorway\": [\"#636efa\", \"#EF553B\", \"#00cc96\", \"#ab63fa\", \"#FFA15A\", \"#19d3f3\", \"#FF6692\", \"#B6E880\", \"#FF97FF\", \"#FECB52\"], \"font\": {\"color\": \"#2a3f5f\"}, \"geo\": {\"bgcolor\": \"white\", \"lakecolor\": \"white\", \"landcolor\": \"#E5ECF6\", \"showlakes\": true, \"showland\": true, \"subunitcolor\": \"white\"}, \"hoverlabel\": {\"align\": \"left\"}, \"hovermode\": \"closest\", \"mapbox\": {\"style\": \"light\"}, \"paper_bgcolor\": \"white\", \"plot_bgcolor\": \"#E5ECF6\", \"polar\": {\"angularaxis\": {\"gridcolor\": \"white\", \"linecolor\": \"white\", \"ticks\": \"\"}, \"bgcolor\": \"#E5ECF6\", \"radialaxis\": {\"gridcolor\": \"white\", \"linecolor\": \"white\", \"ticks\": \"\"}}, \"scene\": {\"xaxis\": {\"backgroundcolor\": \"#E5ECF6\", \"gridcolor\": \"white\", \"gridwidth\": 2, \"linecolor\": \"white\", \"showbackground\": true, \"ticks\": \"\", \"zerolinecolor\": \"white\"}, \"yaxis\": {\"backgroundcolor\": \"#E5ECF6\", \"gridcolor\": \"white\", \"gridwidth\": 2, \"linecolor\": \"white\", \"showbackground\": true, \"ticks\": \"\", \"zerolinecolor\": \"white\"}, \"zaxis\": {\"backgroundcolor\": \"#E5ECF6\", \"gridcolor\": \"white\", \"gridwidth\": 2, \"linecolor\": \"white\", \"showbackground\": true, \"ticks\": \"\", \"zerolinecolor\": \"white\"}}, \"shapedefaults\": {\"line\": {\"color\": \"#2a3f5f\"}}, \"ternary\": {\"aaxis\": {\"gridcolor\": \"white\", \"linecolor\": \"white\", \"ticks\": \"\"}, \"baxis\": {\"gridcolor\": \"white\", \"linecolor\": \"white\", \"ticks\": \"\"}, \"bgcolor\": \"#E5ECF6\", \"caxis\": {\"gridcolor\": \"white\", \"linecolor\": \"white\", \"ticks\": \"\"}}, \"title\": {\"x\": 0.05}, \"xaxis\": {\"automargin\": true, \"gridcolor\": \"white\", \"linecolor\": \"white\", \"ticks\": \"\", \"title\": {\"standoff\": 15}, \"zerolinecolor\": \"white\", \"zerolinewidth\": 2}, \"yaxis\": {\"automargin\": true, \"gridcolor\": \"white\", \"linecolor\": \"white\", \"ticks\": \"\", \"title\": {\"standoff\": 15}, \"zerolinecolor\": \"white\", \"zerolinewidth\": 2}}}, \"width\": 400, \"yaxis\": {\"autorange\": \"reversed\"}},\n",
       "                        {\"responsive\": true}\n",
       "                    ).then(function(){\n",
       "                            \n",
       "var gd = document.getElementById('2446e2db-4676-4397-93ff-6c5afc6ff296');\n",
       "var x = new MutationObserver(function (mutations, observer) {{\n",
       "        var display = window.getComputedStyle(gd).display;\n",
       "        if (!display || display === 'none') {{\n",
       "            console.log([gd, 'removed!']);\n",
       "            Plotly.purge(gd);\n",
       "            observer.disconnect();\n",
       "        }}\n",
       "}});\n",
       "\n",
       "// Listen for the removal of the full notebook cells\n",
       "var notebookContainer = gd.closest('#notebook-container');\n",
       "if (notebookContainer) {{\n",
       "    x.observe(notebookContainer, {childList: true});\n",
       "}}\n",
       "\n",
       "// Listen for the clearing of the current output cell\n",
       "var outputEl = gd.closest('.output');\n",
       "if (outputEl) {{\n",
       "    x.observe(outputEl, {childList: true});\n",
       "}}\n",
       "\n",
       "                        })\n",
       "                };\n",
       "                });\n",
       "            </script>\n",
       "        </div>"
      ]
     },
     "metadata": {},
     "output_type": "display_data"
    }
   ],
   "source": [
    "data = go.Bar(x=bad_corr, y=bad_corr.index, orientation='h', \n",
    "              marker={'color':'rgba(250, 250, 0, .5)',\n",
    "                                 'line':{'color':'rgba(0,0,0,1)',\n",
    "                                         'width':1}})\n",
    "layout = go.Layout(width=400, height=600, yaxis={'autorange':\"reversed\"})\n",
    "\n",
    "fig = go.Figure(data, layout)\n",
    "\n",
    "fig.show()"
   ]
  },
  {
   "cell_type": "markdown",
   "metadata": {},
   "source": [
    "Creating the bar charts that will show the top 25 words of their respective type."
   ]
  },
  {
   "cell_type": "code",
   "execution_count": 207,
   "metadata": {},
   "outputs": [],
   "source": [
    "# Need to wipe out a few naughty words.\n",
    "df_importance = df_importance[:25]\n",
    "indi = list(df_importance.index)\n",
    "for index, word in enumerate(indi):\n",
    "    if word.find('fuck') >= 0:\n",
    "        indi[index] = word.replace('fuck','f**k')\n",
    "df_importance.index = indi\n",
    "\n",
    "good_corr = good_corr[:25]\n",
    "indi = list(good_corr.index)\n",
    "for index, word in enumerate(indi):\n",
    "    if word.find('fuck') >= 0:\n",
    "        indi[index] = word.replace('fuck','f**k')\n",
    "good_corr.index = indi\n",
    "\n",
    "bad_corr = bad_corr[:25]\n",
    "indi = list(bad_corr.index)\n",
    "for index, word in enumerate(indi):\n",
    "    if word.find('fuck') >= 0:\n",
    "        indi[index] = word.replace('fuck','f**k')\n",
    "bad_corr.index = indi\n",
    "\n",
    "# for index, word in df_importance.items():\n",
    "#     print(index)\n",
    "#     if index.find('fuck') >= 0:\n",
    "#         df_importance.index[index] = 'f**k'\n",
    "\n",
    "# These are for the html.radio element.\n",
    "feature_selector_dicts = [{'label': 'Word Importance', 'value': 'df_importance'},\n",
    "                          {'label': 'Awesome Film Words', 'value': 'good_corr'},\n",
    "                          {'label': 'Awful Film Words', 'value': 'bad_corr'}]\n",
    "\n",
    "# These are to line up the data inside the function.\n",
    "feature_selector_data = {'df_importance': df_importance, 'good_corr': good_corr,\n",
    "                         'bad_corr': bad_corr}\n",
    "\n",
    "# This will assign different colors to the different graphs.\n",
    "feature_color_dicts = {'df_importance': 'rgba(250, 250, 0, .5)',\n",
    "                       'good_corr': 'rgba(35,220,90,.75)',\n",
    "                       'bad_corr': 'rgba(35,0,75,.5)'}"
   ]
  },
  {
   "cell_type": "code",
   "execution_count": 208,
   "metadata": {},
   "outputs": [
    {
     "data": {
      "text/plain": [
       "pandas.core.sparse.series.SparseSeries"
      ]
     },
     "execution_count": 208,
     "metadata": {},
     "output_type": "execute_result"
    }
   ],
   "source": [
    "type(good_corr)"
   ]
  },
  {
   "cell_type": "markdown",
   "metadata": {},
   "source": [
    "## Unsupervised Category Predictions"
   ]
  },
  {
   "cell_type": "markdown",
   "metadata": {},
   "source": [
    "In the EDA section, I used latent derichlet allocation to draw categories from the text and group the movies by those categories. I used ten categories because that's what worked well for modeling, but any number could actually be specified. I'll be showing them on the dashboard now, and allowing the user to select between the category to see what movies are in them."
   ]
  },
  {
   "cell_type": "code",
   "execution_count": 255,
   "metadata": {},
   "outputs": [],
   "source": [
    "# Bringing in the data from the other notebook that I'll need for this.\n",
    "combined_df = pd.read_csv('../project_resources/combined_df.csv', index_col=0)\n",
    "cat_word_df = pd.read_csv('../project_resources/cat_word_df.csv', index_col=0)"
   ]
  },
  {
   "cell_type": "code",
   "execution_count": 256,
   "metadata": {},
   "outputs": [],
   "source": [
    "# Since these need to be in a different format from the work I've already done\n",
    "# on the lda categories, I simply re-pasted them into these dictionaries.\n",
    "lda_cats = [{'label':'Dark & Political', 'value':0,},\n",
    "            {'label':'Sports, Comedy, Silly Horror', 'value':1},\n",
    "            {'label':'Conflict', 'value':2},\n",
    "            {'label':'Holiday, Films I Haven\\'t Seen', 'value':3},\n",
    "            {'label':'Light-Hearted', 'value':4},\n",
    "            {'label':'Unusual Language or Slang', 'value':5},\n",
    "            {'label':'Violence & Gangster', 'value':6},\n",
    "            {'label':'Romance & Light Drama', 'value':7},\n",
    "            {'label':'Life Stories', 'value':8},\n",
    "            {'label':'Straight Up Horror', 'value':9}]"
   ]
  },
  {
   "cell_type": "code",
   "execution_count": 257,
   "metadata": {},
   "outputs": [],
   "source": [
    "for col in cat_word_df.columns:\n",
    "    cat_word_df[col] = cat_word_df[col].str.replace('fuck', 'f**k')\n",
    "    cat_word_df[col] = cat_word_df[col].str.replace('bitch', 'b**ch')\n",
    "    cat_word_df[col] = cat_word_df[col].str.replace('ass', 'a**')"
   ]
  },
  {
   "cell_type": "markdown",
   "metadata": {},
   "source": [
    "## Dashboard Text"
   ]
  },
  {
   "cell_type": "markdown",
   "metadata": {},
   "source": [
    "This is all the text that will be used in the body of the dashboard itself."
   ]
  },
  {
   "cell_type": "code",
   "execution_count": 293,
   "metadata": {},
   "outputs": [],
   "source": [
    "intro_text = \"\"\"The film industry worldwide does upwards of 50 billion dollars \n",
    "    in box office sales, not counting home entertainment revenue, which brings \n",
    "    it up closer to 150 billion dollars. Operating within that brick of cash \n",
    "    comes with a tremendous amount of risk, with major studios \n",
    "    sometimes spending a quarter of a billion dollars or more on a single film. \n",
    "    Decisions made at smaller studios are no less important to them, as they \n",
    "    might be putting their entire livelihoods on the line in the hopes of a hit. \n",
    "    And the value of a movie begins with a script.\"\"\"\n",
    "\n",
    "intro_text_2 = \"\"\"Here is a look at some of the many factors that might \n",
    "    separate a highly-rated screenplay from one that's been critically panned.\n",
    "    Over a thousand examples of each were used to create the below results.\"\"\"\n",
    "\n",
    "thumb_text = \"\"\"Below is a breakout of the most common words among highly \n",
    "    rated films and lowly rated films. Only words that are unique were chosen,\n",
    "    so that for example, the word 'dude', while prominent in bad films, appeared \n",
    "    rarely if at all in good ones. Before you ask, I'm assuming The Big \n",
    "    Lebowski was not included in the sample.\"\"\"\n",
    "\n",
    "thumb_text_2 = \"\"\"If you're attempting to write a screenplay and you find \n",
    "    yourself using a lot of the words on the right, you might think about \n",
    "    taking another writing class or two before continuing on. Either that,\n",
    "    or set aside your idea for Cop Dude Killer for a day when the public is more \n",
    "    ready for it.\"\"\"\n",
    "\n",
    "hist_text = \"\"\"Moving on to breaking up the scripts into their component parts, \n",
    "    below is a selelctable series of distribution plots showing various \n",
    "    attributes such as word count and sentence length, as well as parts of \n",
    "    speech. All of these attributes can be used when creating predictive models \n",
    "    to predicit if a screenplay will be well-received or not.\"\"\"\n",
    "\n",
    "hist_text_2 = \"\"\"The differences for each may seem slight, but in accumulation during \n",
    "    modeling, they can assist with overall prediction.\"\"\"\n",
    "\n",
    "importance_text = \"\"\"Over to the left you'll see the words that featured\n",
    "    most prominently in creating a predictive model to determine if a \n",
    "    movie would be rated high or low. The initial view indicates how significant\n",
    "    those words were in making that prediction, with the most important words\n",
    "    listed higher and on down in descending order. These are then broken out\n",
    "    by good movies and bad movies, with the length of the bars representing \n",
    "    the correlation of that word to the screenplays, still in descending\n",
    "    order of importance in making predictions.\"\"\"\n",
    "\n",
    "category_text = \"\"\"Using latent Derichlet Allocation, the screenplays from\n",
    "    metacritic were grouped according to their linguistic characteristics.\n",
    "    Sometimes, these lined up with a particular genre, and sometimes not.\n",
    "    After reviewing the titles, I labeled the categories as something that\n",
    "    I thought best captured the bulk of the movies, but it wasn't always a \n",
    "    perfect grouping, noting to the right the selecting of Baby Geniuses among\n",
    "    films such as The Murder Of Nicole Brown Simpson and Feardotcom.\n",
    "    Or is it so different after all? Something brought them together here...\"\"\"\n",
    "\n",
    "summary_text = \"\"\"Using the above attributes and more, I was able to create\n",
    "    a predictive models that would ascertain whether a script was from a \n",
    "    top-rated movie or a bottom-rated movie about 65% of the time. Within\n",
    "    that models was some flexibility, however. Some models were better at \n",
    "    predicting whether a movie would be 'good' (a true positive), while others\n",
    "    were better at predicting whether a movie would be 'bad' (a true negative). \n",
    "    The purpose of the prediction would dictate which model to employ.\"\"\"\n",
    "\n",
    "# summary_text_2 = \"\"\"All together, this modeling can lead a studio to sort \n",
    "#     potential screenplays into lists of scripts with higher likelihood of \n",
    "#     success, using modeling to evaluate scripts in process and step back to \n",
    "#     consider if it needs more work if the model doesn't like it, and for the \n",
    "#     screenwriters themselves, to check their scripts against the model and if \n",
    "#     it comes back with a 'bad' rating, potentially rethink their life choices.\n",
    "#     \"\"\"\n",
    "\n",
    "# summary_text_3 = \"\"\"For further research, I would to create a text \n",
    "#     ingestion field and/or upload in the dashboard that allows a user to \n",
    "#     insert a body of text and have a prediction returned evaluating the \n",
    "#     content and assigning a good or bad designation (if the text were a \n",
    "#     screenplay). I would create predictability functionality that would allow \n",
    "#     a user to choose a 'good' or 'bad' setting and have automatically \n",
    "#     generated text returned back in the style of either a good or bad \n",
    "#     script. And I would go deeper into the neural networds when modeling, \n",
    "#     especially toward regression. They showed promise when using them in this \n",
    "#     project, but there was insufficient time to build them out using pre-made \n",
    "#     embedding layers and so on.\"\"\"\n",
    "\n",
    "summary_recommendations_head = html.P(\"\"\"Some recommendations on what can be \n",
    "    done with this information: \"\"\")\n",
    "\n",
    "summary_recommendations = html.Li(children=[\"\"\"Studios looking to cull out \n",
    "    poor scripts from their stock should use the TFIDF with neural network\n",
    "    model, which has an 81% rating for correctly predicting a bad scripts,\n",
    "    and a 64% accuracy rating overall.\"\"\"])\n",
    "    \n",
    "summary_recommendations_2 = html.Li(children=[\"\"\"\n",
    "    Filmmakers looking create the largest set of good scripts from the total\n",
    "    should use the random boost with script attributes model, \n",
    "    which has a 69% chance of correctly predicting a good script,\n",
    "    though only a 55% accuracy score overall.\"\"\"])\n",
    "\n",
    "summary_recommendations_3 = html.Li(children=[\"\"\"\n",
    "    Filmmakers and screenwriters looking to find the most balanced filter\n",
    "    for finding good screenplays and culling out the bad should look to the\n",
    "    stacked model with support vector classifier using TFIDF followed by \n",
    "    a random forest classifier using script attributes, which had the \n",
    "    highest overall accuracy rate of 68%. If you're a screenwriter seeing \n",
    "    your work coming up on the bad side, and especially if it contains a \n",
    "    number of the \"thumbs down\" words noted above, you might want to start \n",
    "    rethinking your life choices.\"\"\"])\n",
    "\n",
    "summary_future_head = html.P(\"\"\"The scope of this idea is large, and \n",
    "    there are numerous opportunities for further study. A few I would like to\n",
    "    puruse are: \"\"\")\n",
    "\n",
    "summary_future = html.Li(\n",
    "    [\"\"\"Using TFIDF on the word clouds to get \n",
    "    a different, possibly more accurate take on what words are realistically\n",
    "    more prevalent throughout a large body of texts.\"\"\"])\n",
    "\n",
    "summary_future_2 = html.Li([ \n",
    "    \"\"\"Continue modeling with neural networks, especially with GloVe or other\n",
    "    existing word embedding libraries.\"\"\"])\n",
    "\n",
    "summary_future_3= html.Li([\n",
    "    \"\"\"Continue further work on regression analysis to predict  no just \n",
    "    whether a scripts is good or bad, but to predict the actual score it will\n",
    "    receive on a scale of 0 to 100.\"\"\"])\n",
    "\n",
    "summary_future_4 = html.Li([\n",
    "    \"\"\"In the dashboard, provide a text entry or upload option where a script\n",
    "    could be entered and a 'good' or 'bad' rating could be assigned, to \n",
    "    easily determine where a given script might lie.\"\"\"])\n",
    "\n",
    "footer = \"\"\"Analysis and Dashboard by: Terry Ollila, terryollila@gmail.com\"\"\""
   ]
  },
  {
   "cell_type": "markdown",
   "metadata": {},
   "source": [
    "## Main Dash Code"
   ]
  },
  {
   "cell_type": "markdown",
   "metadata": {},
   "source": [
    "This is the skeleton for the web page for the dashboard. Interactions will be managed by callbacks, and styles will be managed by a separate style sheet: main.css in the assets folder."
   ]
  },
  {
   "cell_type": "code",
   "execution_count": 319,
   "metadata": {},
   "outputs": [],
   "source": [
    "# app = JupyterDash('POS_histogram')\n",
    "app = dash.Dash()\n",
    "\n",
    "# Reading in the files for the word cloud images.\n",
    "image_filename = 'images/good_cloud.png'\n",
    "encoded_good_cloud = base64.b64encode(\n",
    "    open(image_filename, 'rb').read()).decode('ascii')\n",
    "\n",
    "image_filename = 'images/bad_cloud.png'\n",
    "encoded_bad_cloud = base64.b64encode(\n",
    "    open(image_filename, 'rb').read()).decode('ascii')\n",
    "\n",
    "# The main block of code generating the HTML. Using separate file for \n",
    "# CSS styling.\n",
    "app.layout = html.Div(children=[\n",
    "    html.H1(className='head',\n",
    "            children=['What\\'s a', html.Br(), 'Writer Worth?']\n",
    "           ),\n",
    "    html.H2(className='subHead',\n",
    "            children=[\"\"\"Screenplay Science and \n",
    "                the Value of a Few Good Words\"\"\"]\n",
    "           ),\n",
    "    html.Div(className='mainBox',\n",
    "             children=[\n",
    "        html.Div(className='subBox',\n",
    "                 children=[\n",
    "                     \n",
    "            #Introductory text         \n",
    "            html.Div(\n",
    "                className='textBlock',\n",
    "                children=[\n",
    "                    html.P(intro_text),\n",
    "                    html.P(intro_text_2)\n",
    "                ]),\n",
    "            html.H3('Unique Words'),\n",
    "                     \n",
    "            html.Div(\n",
    "                className='textBlock',\n",
    "                children=[\n",
    "                    html.P(thumb_text)\n",
    "                ]),\n",
    "            \n",
    "            # This is where the word clouds will go.\n",
    "            html.Div(className='thumbBoxLeft',\n",
    "                     children=[\n",
    "                html.Img(className='thumbs',\n",
    "                     src='data:image/png;base64,{}'.format(encoded_good_cloud)\n",
    "                     ),\n",
    "                html.Div(className='thumbDesc',\n",
    "                    children=['The Good']),\n",
    "                 ]),\n",
    "            html.Div(className='thumbBoxRight',\n",
    "                     children=[\n",
    "                html.Div(className='thumbDesc',\n",
    "                          children=['The Bad']),\n",
    "                html.Img(className='thumbs',\n",
    "                         src='data:image/png;base64,{}'.format(encoded_bad_cloud)\n",
    "                        )\n",
    "                 ]),\n",
    "            html.Div(\n",
    "                className='textBlock',\n",
    "                children=[\n",
    "                    html.P(thumb_text_2)\n",
    "                ]),\n",
    "            html.H3('Structure and Parts of Speech'),\n",
    "            html.Div(\n",
    "                className='textBlock',\n",
    "                children=[\n",
    "                    html.P(hist_text),\n",
    "                ]),                    \n",
    "                     \n",
    "            # This is where the histogram will go in from the callback.\n",
    "            html.Div(id='hist', children=[\n",
    "                dcc.Dropdown(id='hist_selector',\n",
    "                         options=POS_hist_selector_list,\n",
    "                         value='word_count'),\n",
    "                dcc.Graph(\n",
    "                    id='hist_graph')\n",
    "                ]),\n",
    "            html.Div(className='textBlock',\n",
    "                     children=[\n",
    "                 html.P(hist_text_2)\n",
    "                ]),\n",
    "            html.H3('Word Importance'),\n",
    "            dcc.RadioItems(\n",
    "                id='feature_radio',\n",
    "                options=feature_selector_dicts,\n",
    "                value='df_importance'),\n",
    "            dcc.Graph(\n",
    "                id='feature_graph'),\n",
    "            html.P(\n",
    "                className='sidebar',\n",
    "                children=[importance_text]),\n",
    "                     \n",
    "            # This is where we will show the LDA category information.\n",
    "            html.H3('Unsupervised Category Creation'),\n",
    "            html.Div(\n",
    "                id='cat_div',\n",
    "                children=[\n",
    "                    dcc.Dropdown(id='cat_drop',\n",
    "                                 options=lda_cats,\n",
    "                                 value=0),\n",
    "                    html.Div(id='cat_box'),\n",
    "                    html.Div(id='cat_box_2'),\n",
    "                ]),\n",
    "            html.P(className='sidebar',\n",
    "                   children=[category_text]),\n",
    "            html.H3('It\\'s a Wrap'),\n",
    "            html.P(className='sidebar',\n",
    "                   children=[summary_text]),\n",
    "#             html.P(className='sidebar',\n",
    "#                    children=[summary_text_2]),\n",
    "#             html.P(className='sidebar',\n",
    "#                    children=[summary_text_3]),\n",
    "            html.P(className='sidebar',\n",
    "                   children=[summary_recommendations_head]),\n",
    "            html.Ul(className='sidebar',\n",
    "                   children=[summary_recommendations,\n",
    "                             summary_recommendations_2,\n",
    "                             summary_recommendations_3\n",
    "                            ]),\n",
    "            html.P(className='sidebar',\n",
    "                   children=[summary_future_head]),\n",
    "            html.Ul(className='sidebar',\n",
    "                   children=[summary_future,\n",
    "                             summary_future_2,\n",
    "                             summary_future_3,\n",
    "                             summary_future_4]),\n",
    "            html.P(className='sidebar',\n",
    "                   children=[footer]),\n",
    "            ]),\n",
    "        ]),         \n",
    "    ])"
   ]
  },
  {
   "cell_type": "markdown",
   "metadata": {},
   "source": [
    "## Callbacks"
   ]
  },
  {
   "cell_type": "markdown",
   "metadata": {},
   "source": [
    "The distplot will select between a number of different script attributes."
   ]
  },
  {
   "cell_type": "code",
   "execution_count": 320,
   "metadata": {},
   "outputs": [],
   "source": [
    "# Callback and function for POS graphs and switching dropdown.\n",
    "@app.callback(Output(component_id='hist_graph', \n",
    "                     component_property='figure'),\n",
    "              [Input(component_id='hist_selector',\n",
    "                     component_property='value')])\n",
    "def insert_hist(POS_label):\n",
    "    \n",
    "    # Separating out the good from the bad.\n",
    "    data1 = screenplays_cut[screenplays_cut.good_or_bad == 1]\\\n",
    "    [POS_label]\n",
    "    \n",
    "    data0 = screenplays_cut[screenplays_cut.good_or_bad == 0]\\\n",
    "    [POS_label]\n",
    "    \n",
    "    # Creating a cutoff at 3 standard deviations so that the graphs don't get \n",
    "    # skewed to one side.\n",
    "    std_high_1 = data1.mean() \\\n",
    "        + data1.std()*3\n",
    "    std_low_1 = data1.mean() \\\n",
    "        - data1.std()*3\n",
    "    \n",
    "    plot_info_1 = data1.drop(data1[lambda x: x > std_high_1].index)\n",
    "    plot_info_1 = plot_info_1.drop(plot_info_1[lambda x: x < std_low_1].index)\n",
    "    \n",
    "    # Same thing for the bad scripts.\n",
    "    std_high_0 = data0.mean() \\\n",
    "        + data0.std()*3\n",
    "    std_low_0 = data0.mean() \\\n",
    "        - data0.std()*3\n",
    "    \n",
    "    plot_info_0 = data0.drop(data0[lambda x: x > std_high_0].index)\n",
    "    plot_info_0 = plot_info_0.drop(plot_info_0[lambda x: x < std_low_0].index)\n",
    "    \n",
    "    # I need to create different bin sizes for various plots, since there is\n",
    "    # such a variety of scales here.\n",
    "    bin_size=0\n",
    "    \n",
    "    if plot_info_1.mean() > 500:\n",
    "        bin_size = 100\n",
    "    elif plot_info_1.mean() > 1:\n",
    "        bin_size = .1\n",
    "    elif plot_info_1.mean() > .1:\n",
    "        bin_size = .005\n",
    "    elif plot_info_1.mean() > .01:\n",
    "        bin_size = .001\n",
    "    else:\n",
    "        bin_size = .0004\n",
    "\n",
    "    fig =  ff.create_distplot([plot_info_1, plot_info_0], \n",
    "                              bin_size=bin_size,\n",
    "                              group_labels=['Awesome Films', 'Awful Films'],\n",
    "                              colors=['rgb(255,20,20)', 'rgb(35,230,90)'],\n",
    "                              )\n",
    "    fig.layout.update(title='Screenplay Metrics',\n",
    "                      yaxis={'title':'Frequency'})\n",
    "    \n",
    "    return fig\n",
    "                    "
   ]
  },
  {
   "cell_type": "markdown",
   "metadata": {},
   "source": [
    "This will create the important word bar graph that will toggle between most important words overall, good film word correlation, and bad film word correlation."
   ]
  },
  {
   "cell_type": "code",
   "execution_count": 321,
   "metadata": {},
   "outputs": [],
   "source": [
    "#Callback and function for feature bar graph and radio buttons.\n",
    "@app.callback(Output(component_id='feature_graph', \n",
    "                     component_property='figure'),\n",
    "              [Input(component_id='feature_radio',\n",
    "                     component_property='value')])\n",
    "def insert_feature(radio_label):\n",
    "    bar_data = [\n",
    "        go.Bar(\n",
    "            x=feature_selector_data[radio_label], \n",
    "            y=feature_selector_data[radio_label].index, \n",
    "            orientation='h', \n",
    "            marker={'color': feature_color_dicts[radio_label],\n",
    "                     'line':{'color':'rgba(150,10,10,1)',\n",
    "                             'width':1}})]\n",
    "    toggle={'df_importance':'Important Overall',\n",
    "            'good_corr':'Awesome Films',\n",
    "            'bad_corr':'Awful Films'}\n",
    "    \n",
    "    imp_corr = 'Importance' if radio_label == 'df_importance' else 'Correlation'\n",
    "\n",
    "    bar_layout = go.Layout(width=400, height=700, \n",
    "                           title=toggle[radio_label],\n",
    "                           xaxis={'title':imp_corr},\n",
    "                           yaxis={'autorange':\"reversed\",\n",
    "                                  'title':'Significant Words'})\n",
    "\n",
    "    return {'data':bar_data, 'layout':bar_layout}"
   ]
  },
  {
   "cell_type": "markdown",
   "metadata": {},
   "source": [
    "This will create the box for displaying titles associated with the categories created using LDA."
   ]
  },
  {
   "cell_type": "code",
   "execution_count": 322,
   "metadata": {},
   "outputs": [],
   "source": [
    "# Callback and function for movies grouped by LDA categories.\n",
    "@app.callback(Output(component_id='cat_box', \n",
    "                     component_property='children'),\n",
    "              [Input(component_id='cat_drop',\n",
    "                     component_property='value')])\n",
    "def insert_titles(cat_id):\n",
    "    \n",
    "    movie_list = combined_df[combined_df.category == cat_id]['titles']\n",
    "    \n",
    "    formatted_titles = []\n",
    "    \n",
    "    # Formatting the titles to look better than the dash format I've been using.\n",
    "    for title in movie_list:\n",
    "        temp = title.title().replace('-', ' ')\n",
    "        if title[-4:] == '-the':\n",
    "            temp = 'The ' + temp[:-4]\n",
    "        \n",
    "        formatted_titles.append(temp)\n",
    "    \n",
    "    # Inserting a line break in every other line.\n",
    "    for i in range(len(formatted_titles)):\n",
    "        formatted_titles.insert(i*2, html.Br())\n",
    "    \n",
    "    # The below is to remove the initial line break that appears to to i*0\n",
    "    formatted_titles.pop(0)\n",
    "    \n",
    "    return formatted_titles"
   ]
  },
  {
   "cell_type": "markdown",
   "metadata": {},
   "source": [
    "This is a separate function for adding in the categories themselves."
   ]
  },
  {
   "cell_type": "code",
   "execution_count": 323,
   "metadata": {},
   "outputs": [],
   "source": [
    "# Callback for the LDA categories themselves.\n",
    "@app.callback(Output(component_id='cat_box_2',\n",
    "                     component_property='children'),\n",
    "             [Input(component_id='cat_drop',\n",
    "                    component_property='value')])\n",
    "def insert_cats(cat_id):\n",
    "    \n",
    "    these_cats = list(cat_word_df[str(cat_id)])\n",
    "    \n",
    "    for i in range(len(these_cats)):\n",
    "        these_cats.insert(i*2, html.Br())   \n",
    "\n",
    "    these_cats.insert(0, html.Br())\n",
    "    these_cats.insert(0, 'Most Significant Words')\n",
    "    these_cats.insert(0, html.Br())\n",
    "    \n",
    "    return these_cats"
   ]
  },
  {
   "cell_type": "markdown",
   "metadata": {},
   "source": [
    "Running the dash."
   ]
  },
  {
   "cell_type": "code",
   "execution_count": null,
   "metadata": {},
   "outputs": [
    {
     "name": "stdout",
     "output_type": "stream",
     "text": [
      " * Serving Flask app \"__main__\" (lazy loading)\n",
      " * Environment: production\n",
      "   WARNING: This is a development server. Do not use it in a production deployment.\n",
      "   Use a production WSGI server instead.\n",
      " * Debug mode: off\n"
     ]
    },
    {
     "name": "stderr",
     "output_type": "stream",
     "text": [
      " * Running on http://127.0.0.1:8050/ (Press CTRL+C to quit)\n",
      "127.0.0.1 - - [16/Mar/2020 16:56:54] \"\u001b[37mGET / HTTP/1.1\u001b[0m\" 200 -\n",
      "127.0.0.1 - - [16/Mar/2020 16:56:54] \"\u001b[37mGET /_dash-dependencies HTTP/1.1\u001b[0m\" 200 -\n",
      "127.0.0.1 - - [16/Mar/2020 16:56:54] \"\u001b[37mGET /_dash-layout HTTP/1.1\u001b[0m\" 200 -\n",
      "127.0.0.1 - - [16/Mar/2020 16:56:54] \"\u001b[37mPOST /_dash-update-component HTTP/1.1\u001b[0m\" 200 -\n",
      "127.0.0.1 - - [16/Mar/2020 16:56:54] \"\u001b[37mPOST /_dash-update-component HTTP/1.1\u001b[0m\" 200 -\n",
      "127.0.0.1 - - [16/Mar/2020 16:56:54] \"\u001b[37mPOST /_dash-update-component HTTP/1.1\u001b[0m\" 200 -\n",
      "127.0.0.1 - - [16/Mar/2020 16:56:54] \"\u001b[37mPOST /_dash-update-component HTTP/1.1\u001b[0m\" 200 -\n",
      "127.0.0.1 - - [16/Mar/2020 16:59:16] \"\u001b[37mPOST /_dash-update-component HTTP/1.1\u001b[0m\" 200 -\n",
      "127.0.0.1 - - [16/Mar/2020 16:59:33] \"\u001b[37mPOST /_dash-update-component HTTP/1.1\u001b[0m\" 200 -\n",
      "127.0.0.1 - - [16/Mar/2020 17:42:14] \"\u001b[37mPOST /_dash-update-component HTTP/1.1\u001b[0m\" 200 -\n",
      "127.0.0.1 - - [16/Mar/2020 17:42:18] \"\u001b[37mPOST /_dash-update-component HTTP/1.1\u001b[0m\" 200 -\n",
      "127.0.0.1 - - [16/Mar/2020 17:42:25] \"\u001b[37mPOST /_dash-update-component HTTP/1.1\u001b[0m\" 200 -\n",
      "127.0.0.1 - - [16/Mar/2020 17:42:29] \"\u001b[37mPOST /_dash-update-component HTTP/1.1\u001b[0m\" 200 -\n",
      "127.0.0.1 - - [16/Mar/2020 18:33:24] \"\u001b[37mPOST /_dash-update-component HTTP/1.1\u001b[0m\" 200 -\n",
      "127.0.0.1 - - [16/Mar/2020 18:33:28] \"\u001b[37mPOST /_dash-update-component HTTP/1.1\u001b[0m\" 200 -\n",
      "127.0.0.1 - - [16/Mar/2020 18:33:31] \"\u001b[37mPOST /_dash-update-component HTTP/1.1\u001b[0m\" 200 -\n",
      "127.0.0.1 - - [16/Mar/2020 18:33:34] \"\u001b[37mPOST /_dash-update-component HTTP/1.1\u001b[0m\" 200 -\n",
      "127.0.0.1 - - [16/Mar/2020 18:33:37] \"\u001b[37mPOST /_dash-update-component HTTP/1.1\u001b[0m\" 200 -\n",
      "127.0.0.1 - - [16/Mar/2020 18:33:41] \"\u001b[37mPOST /_dash-update-component HTTP/1.1\u001b[0m\" 200 -\n",
      "127.0.0.1 - - [16/Mar/2020 18:33:45] \"\u001b[37mPOST /_dash-update-component HTTP/1.1\u001b[0m\" 200 -\n",
      "127.0.0.1 - - [16/Mar/2020 18:33:48] \"\u001b[37mPOST /_dash-update-component HTTP/1.1\u001b[0m\" 200 -\n",
      "127.0.0.1 - - [16/Mar/2020 18:33:51] \"\u001b[37mPOST /_dash-update-component HTTP/1.1\u001b[0m\" 200 -\n",
      "127.0.0.1 - - [16/Mar/2020 18:33:54] \"\u001b[37mPOST /_dash-update-component HTTP/1.1\u001b[0m\" 200 -\n",
      "127.0.0.1 - - [16/Mar/2020 18:33:57] \"\u001b[37mPOST /_dash-update-component HTTP/1.1\u001b[0m\" 200 -\n",
      "127.0.0.1 - - [16/Mar/2020 18:34:00] \"\u001b[37mPOST /_dash-update-component HTTP/1.1\u001b[0m\" 200 -\n",
      "127.0.0.1 - - [16/Mar/2020 18:34:03] \"\u001b[37mPOST /_dash-update-component HTTP/1.1\u001b[0m\" 200 -\n",
      "127.0.0.1 - - [16/Mar/2020 18:34:07] \"\u001b[37mPOST /_dash-update-component HTTP/1.1\u001b[0m\" 200 -\n"
     ]
    }
   ],
   "source": [
    "if __name__ == '__main__':\n",
    "    app.run_server(debug=False)"
   ]
  },
  {
   "cell_type": "code",
   "execution_count": null,
   "metadata": {},
   "outputs": [],
   "source": []
  }
 ],
 "metadata": {
  "kernelspec": {
   "display_name": "Python 3",
   "language": "python",
   "name": "python3"
  },
  "language_info": {
   "codemirror_mode": {
    "name": "ipython",
    "version": 3
   },
   "file_extension": ".py",
   "mimetype": "text/x-python",
   "name": "python",
   "nbconvert_exporter": "python",
   "pygments_lexer": "ipython3",
   "version": "3.7.3"
  },
  "toc": {
   "base_numbering": 1,
   "nav_menu": {},
   "number_sections": true,
   "sideBar": true,
   "skip_h1_title": false,
   "title_cell": "Table of Contents",
   "title_sidebar": "Contents",
   "toc_cell": false,
   "toc_position": {
    "height": "calc(100% - 180px)",
    "left": "10px",
    "top": "150px",
    "width": "174.594px"
   },
   "toc_section_display": true,
   "toc_window_display": true
  }
 },
 "nbformat": 4,
 "nbformat_minor": 2
}
